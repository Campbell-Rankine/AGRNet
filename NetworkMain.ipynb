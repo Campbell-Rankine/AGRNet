{
 "cells": [
  {
   "cell_type": "markdown",
   "id": "a4c0901a-393d-44d3-984e-5a91c421bd38",
   "metadata": {},
   "source": [
    "# Construct GAN and structure\n",
    "---\n",
    "Construct GAN, define training loop with multithreaded approach, and practice using industry standard terminal initialization commands"
   ]
  },
  {
   "cell_type": "code",
   "execution_count": 13,
   "id": "7506e300-805a-45d3-bad0-681763121f9c",
   "metadata": {},
   "outputs": [],
   "source": [
    "### - IMPORTS - ###\n",
    "from PIL import Image\n",
    "import numpy as np\n",
    "import glob\n",
    "from keras.preprocessing.image import ImageDataGenerator\n",
    "from multiprocessing.dummy import Pool as TP\n",
    "import keras.preprocessing.image\n",
    "import cv2 as cv\n",
    "import os\n",
    "import random\n",
    "### - other data augmentation imports - ### (if needed)\n",
    "### - Imports - ###\n",
    "import math\n",
    "import numpy as np\n",
    "import sklearn as sk #general imports, initial data preprocessing/OS stuff\n",
    "import pandas as pd\n",
    "import matplotlib.pyplot as plt\n",
    "import cv2 as cv\n",
    "import os\n",
    "import torch as T\n",
    "import torch.nn as nn\n",
    "import torch.optim as optim #Neural network imports, multiply data etc\n",
    "from torchvision.transforms import ToTensor\n",
    "import torchvision.models as models\n",
    "import torchvision\n",
    "\n",
    "from torchvision import transforms\n",
    "from torch.utils.data import DataLoader,Dataset\n",
    "\n",
    "### - Other global variables - ###\n",
    "LOVTV = [15, 26, 66] ##Training values to leave out\n",
    "\n",
    "img_folder = '/Users/campb/Documents/PersonalProjects/AGRNet/Dataset/'\n",
    "\n",
    "NS = '/Sample-'\n",
    "\n",
    "image_format = 'RGB'\n",
    "\n",
    "imsize = 1024\n",
    "\n",
    "multiplication_factor = 20"
   ]
  },
  {
   "cell_type": "code",
   "execution_count": 18,
   "id": "b0c98949-eda6-42ac-a278-9bb661ca8b51",
   "metadata": {},
   "outputs": [],
   "source": [
    "### - Get image Paths - ###\n",
    "assert(os.path.exists(DFP + str(1) + \".jpg\"))\n",
    "rawimgf = sorted(glob.glob(DFP + '*.jpg', recursive = True))\n",
    "### - image names - ###\n",
    "imnames = [i.split('/')[-1].split(\"t\")[-1][1:] for i in rawimgf]"
   ]
  },
  {
   "cell_type": "code",
   "execution_count": 22,
   "id": "175a67da-9189-42b8-83b0-0e5726b26d8f",
   "metadata": {},
   "outputs": [],
   "source": [
    "class ImageDataset(Dataset):\n",
    "    def __init__(self,img_folder,names):\n",
    "        self.image_names = names #Predetermined dataset\n",
    "        self.img_folder=img_folder\n",
    "        \n",
    "    def __len__(self):\n",
    "        return len(self.image_names)\n",
    "    \n",
    "    def __getitem__(self,index):\n",
    "    \n",
    "        image=cv.imread(self.img_folder+self.image_names[index])\n",
    "        image=cv.cvtColor(image,cv.COLOR_BGR2RGB)\n",
    "\n",
    "        return image\n",
    "\n",
    "    \n",
    "### - Global data loader Vars - ###\n",
    "    \n",
    "train_transform = transforms.Compose([\n",
    "                transforms.ToPILImage(),\n",
    "                transforms.Resize((1024, 1024)),\n",
    "                transforms.RandomHorizontalFlip(p=0.5),\n",
    "                transforms.RandomRotation(degrees=45),\n",
    "                transforms.ToTensor()])\n",
    "\n",
    "\n",
    "train_dataset=ImageDataset(img_folder,imnames)"
   ]
  },
  {
   "cell_type": "code",
   "execution_count": null,
   "id": "35761ff3-ff0f-42ee-98a0-28a8829203a0",
   "metadata": {},
   "outputs": [],
   "source": []
  },
  {
   "cell_type": "code",
   "execution_count": null,
   "id": "34ac2fc0-5bdf-4922-95bf-deb268c997e4",
   "metadata": {},
   "outputs": [],
   "source": []
  }
 ],
 "metadata": {
  "kernelspec": {
   "display_name": "Python 3 (ipykernel)",
   "language": "python",
   "name": "python3"
  },
  "language_info": {
   "codemirror_mode": {
    "name": "ipython",
    "version": 3
   },
   "file_extension": ".py",
   "mimetype": "text/x-python",
   "name": "python",
   "nbconvert_exporter": "python",
   "pygments_lexer": "ipython3",
   "version": "3.9.7"
  }
 },
 "nbformat": 4,
 "nbformat_minor": 5
}
