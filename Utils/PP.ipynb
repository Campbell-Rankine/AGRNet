{
 "cells": [
  {
   "cell_type": "markdown",
   "id": "2c994e9a-0207-4724-9d5d-ab968f750fbb",
   "metadata": {},
   "source": [
    "# Image Preprocessing\n",
    "---\n",
    "Use a multithreaded approach to import dataset library (custom dataset), and preproccess images for GAN training"
   ]
  },
  {
   "cell_type": "code",
   "execution_count": 170,
   "id": "0d73f066-e42c-4204-9b0b-9dd57a82f8c7",
   "metadata": {},
   "outputs": [],
   "source": [
    "### - IMPORTS - ###\n",
    "from PIL import Image\n",
    "import numpy as np\n",
    "import glob\n",
    "from keras.preprocessing.image import ImageDataGenerator\n",
    "from multiprocessing.dummy import Pool as TP\n",
    "import keras.preprocessing.image\n",
    "import cv2 as cv\n",
    "import os\n",
    "import random\n",
    "### - other data augmentation imports - ### (if needed)\n",
    "\n",
    "\n",
    "### - Other global variables - ###\n",
    "LOVTV = [15, 26, 66] ##Training values to leave out\n",
    "\n",
    "DFP = '/Users/campb/Documents/PersonalProjects/AGRNet/Dataset/Sample-'\n",
    "\n",
    "NS = '/Sample-'\n",
    "\n",
    "image_format = 'RGB'\n",
    "\n",
    "imsize = 1024\n",
    "\n",
    "multiplication_factor = 20"
   ]
  },
  {
   "cell_type": "code",
   "execution_count": 171,
   "id": "fe55e40d-f7fe-4c8c-8149-465dda86e543",
   "metadata": {},
   "outputs": [],
   "source": [
    "def threaded_PPImg(imgfs): #Zip\n",
    "    #unpack zip\n",
    "    rawimgf, idx = imgfs\n",
    "    save_id = \"_\" + str(idx)\n",
    "    os.makedirs('/Users/campb/Documents/PersonalProjects/AGRNet/PPDataset', exist_ok=True)\n",
    "    \n",
    "    savepath = '/Users/campb/Documents/PersonalProjects/AGRNet/PPDataset'\n",
    "    \n",
    "    gen = ImageDataGenerator()\n",
    "    \n",
    "    image = np.array(Image.open(rawimgf))\n",
    "    if len(image.shape) < 3:\n",
    "        formatted = np.zeros((image.shape[0], image.shape[1], 3))\n",
    "        formatted[:,:,0] = image\n",
    "        formatted[:,:,1] = image\n",
    "        formatted[:,:,2] = image\n",
    "        image = formatted\n",
    "    #tfd = np.random.choice(range(40))\n",
    "    tfx = np.random.choice(range(20))\n",
    "    tfy = np.random.choice(range(20))\n",
    "    tfzx = random.uniform(0.8, 1.2)\n",
    "    tfzy = random.uniform(0.8, 1.2)\n",
    "    tfbr = random.uniform(0.8, 1.2)\n",
    "    fliphp = random.random()\n",
    "    flipvp = random.random()\n",
    "    fliph = False\n",
    "    flipv = False\n",
    "    if fliphp < 0.4:\n",
    "        fliph = True\n",
    "    if flipvp < 0.4:\n",
    "        flipv = True\n",
    "    PPImg = gen.apply_transform(image, transform_parameters={'tx': tfx,\n",
    "                                                            'ty': tfy, \n",
    "                                                            'zx': tfzx,\n",
    "                                                            'zy': tfzy,\n",
    "                                                            'flip_horizontal': fliph,\n",
    "                                                            'flip_vertical': flipv, \n",
    "                                                            'brightness': tfbr}) #apply general transform\n",
    "    \n",
    "    #Saving structure\n",
    "    to_save = Image.fromarray(PPImg, image_format)\n",
    "    to_save = to_save.resize((imsize, imsize), Image.ANTIALIAS)\n",
    "    to_save.save('/Users/campb/Documents/PersonalProjects/AGRNet/PPDataset' + NS + rawimgf.split('/')[-1].split('-')[-1] + save_id + ext)\n",
    "    \n",
    "    #Reset memory\n",
    "    to_save = None\n",
    "    PPImg = None\n",
    "    "
   ]
  },
  {
   "cell_type": "code",
   "execution_count": 172,
   "id": "9eec413d-e038-485c-975b-227d63d9923c",
   "metadata": {},
   "outputs": [
    {
     "name": "stdout",
     "output_type": "stream",
     "text": [
      "Iteration: 0\n",
      "Iteration: 1\n",
      "Iteration: 2\n",
      "Iteration: 3\n",
      "Iteration: 4\n",
      "Iteration: 5\n",
      "Iteration: 6\n",
      "Iteration: 7\n",
      "Iteration: 8\n",
      "Iteration: 9\n",
      "Iteration: 10\n",
      "Iteration: 11\n",
      "Iteration: 12\n",
      "Iteration: 13\n",
      "Iteration: 14\n",
      "Iteration: 15\n",
      "Iteration: 16\n",
      "Iteration: 17\n",
      "Iteration: 18\n",
      "Iteration: 19\n"
     ]
    }
   ],
   "source": [
    "if __name__ == '__main__':\n",
    "    assert(os.path.exists(DFP + str(1) + \".jpg\"))\n",
    "    rawimgf = sorted(glob.glob(DFP + '*.jpg', recursive = True))\n",
    "    \n",
    "    pool = TP()\n",
    "    \n",
    "    for i in range(multiplication_factor): #10 is selected as that is what we set multR to\n",
    "        print('Iteration: ' + str(i))\n",
    "        indices = [i for x in range(len(rawimgf))]\n",
    "        \n",
    "        pool.map(threaded_PPImg, zip(rawimgf, indices))\n",
    "    pool.close()\n",
    "    pool.join()"
   ]
  },
  {
   "cell_type": "code",
   "execution_count": null,
   "id": "ed2194ba-6240-41f1-a963-c00759fb3d29",
   "metadata": {},
   "outputs": [],
   "source": []
  },
  {
   "cell_type": "code",
   "execution_count": null,
   "id": "8e14580c-1a81-4ae9-a248-c323e2618354",
   "metadata": {},
   "outputs": [],
   "source": []
  }
 ],
 "metadata": {
  "kernelspec": {
   "display_name": "Python 3 (ipykernel)",
   "language": "python",
   "name": "python3"
  },
  "language_info": {
   "codemirror_mode": {
    "name": "ipython",
    "version": 3
   },
   "file_extension": ".py",
   "mimetype": "text/x-python",
   "name": "python",
   "nbconvert_exporter": "python",
   "pygments_lexer": "ipython3",
   "version": "3.9.7"
  }
 },
 "nbformat": 4,
 "nbformat_minor": 5
}
