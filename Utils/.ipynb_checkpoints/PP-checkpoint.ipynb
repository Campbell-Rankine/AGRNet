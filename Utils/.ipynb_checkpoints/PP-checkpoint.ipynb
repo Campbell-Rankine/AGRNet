{
 "cells": [
  {
   "cell_type": "markdown",
   "id": "2c994e9a-0207-4724-9d5d-ab968f750fbb",
   "metadata": {},
   "source": [
    "# Image Preprocessing\n",
    "---\n",
    "Use a multithreaded approach to import dataset library (custom dataset), and preproccess images for GAN training"
   ]
  },
  {
   "cell_type": "code",
   "execution_count": 14,
   "id": "0d73f066-e42c-4204-9b0b-9dd57a82f8c7",
   "metadata": {},
   "outputs": [],
   "source": [
    "### - IMPORTS - ###\n",
    "from PIL import Image\n",
    "import numpy as np\n",
    "import glob\n",
    "from keras.preprocessing.image import ImageDataGenerator\n",
    "from multiprocessing.dummy import Pool as TP\n",
    "import keras.preprocessing.image\n",
    "import cv2 as cv\n",
    "import os\n",
    "### - other data augmentation imports - ### (if needed)\n",
    "\n",
    "\n",
    "### - Other global variables - ###\n",
    "LOVTV = [15, 26, 66] ##Training values to leave out\n",
    "\n",
    "DFP = r\"C:\\Users\\campb\\Documents\\PersonalProjects\\AGRNet\\Dataset\"\n",
    "\n",
    "NS = \"\\Sample_\"\n",
    "\n",
    "ext = \".jpg\"\n",
    "\n",
    "image_format = 'RGB'"
   ]
  },
  {
   "cell_type": "code",
   "execution_count": 16,
   "id": "7346e7fd-5f74-4ef0-8256-5f9bb669b691",
   "metadata": {},
   "outputs": [],
   "source": [
    "def image_PP(ims, files, multR, multC, multJ, smoothing): \n",
    "    \"\"\"\n",
    "    ims: Raw list of PIL images\n",
    "    files: file names for all samples, keep naming consistency when we save\n",
    "    multR: rotation image num scaling factor\n",
    "    multC: random crop image num scaling factor\n",
    "    multJ: Colour jitter image num scaling factor\n",
    "    smoothing: Bilateral, Gaussian or none\n",
    "    \"\"\"\n",
    "    \n",
    "    #Generate PP save file\n",
    "    \n",
    "    os.makedirs(r\"C:\\Users\\campb\\Documents\\PersonalProjects\\AGRNet\\PPDataset\", exist_ok=False)\n",
    "    \n",
    "    gen = ImageDataGenerator()\n",
    "    for i, image in enumerate(ims):\n",
    "        for rot in range(multR):\n",
    "            save_id = \"_\" + str(rot)\n",
    "            tfd = np.random.choice(range(270))\n",
    "            PPImg = gen.apply_transform(image, {'theta': tfd})\n",
    "              "
   ]
  },
  {
   "cell_type": "code",
   "execution_count": null,
   "id": "9eec413d-e038-485c-975b-227d63d9923c",
   "metadata": {},
   "outputs": [],
   "source": []
  }
 ],
 "metadata": {
  "kernelspec": {
   "display_name": "Python 3 (ipykernel)",
   "language": "python",
   "name": "python3"
  },
  "language_info": {
   "codemirror_mode": {
    "name": "ipython",
    "version": 3
   },
   "file_extension": ".py",
   "mimetype": "text/x-python",
   "name": "python",
   "nbconvert_exporter": "python",
   "pygments_lexer": "ipython3",
   "version": "3.9.7"
  }
 },
 "nbformat": 4,
 "nbformat_minor": 5
}
