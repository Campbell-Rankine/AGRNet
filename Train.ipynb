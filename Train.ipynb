{
 "cells": [
  {
   "cell_type": "markdown",
   "id": "d215e447-f153-4454-9e74-0a6ed59bb15c",
   "metadata": {},
   "source": [
    " # Train file \n",
    " ---\n",
    " For the model we will start by showing that we can purely train on depths 1 and 2 as those are the first instances containing every possible block"
   ]
  },
  {
   "cell_type": "markdown",
   "id": "9a3f27e1-e8ec-4db0-b2a2-d7ffc4b8b776",
   "metadata": {},
   "source": [
    "## Shift in the overall goal of this project:\n",
    "---\n",
    "Originally this project started with the goal to combine two networks together to create stereoscopic images based on surrealist art. However, this process, while definitely possible through sets of linear translations and object degmentation, is impractical for real runtime arguments. So here in the notebooks we provide a proof of concept for the network, however we will be turning this into a script for the Blender and Maxwell tools for 3-D modelling\n",
    "\n",
    "Blender: Construct a 3D set of objects in a constrained 3-D domain\n",
    "Maxwell: Render these objects\n",
    "\n",
    "For now we will focus on a proof of concept ProGAN, and from there we repurpose this gan for our script."
   ]
  },
  {
   "cell_type": "code",
   "execution_count": 1,
   "id": "d77657c6-ca7b-4210-89a3-022f21ed9609",
   "metadata": {},
   "outputs": [
    {
     "name": "stdout",
     "output_type": "stream",
     "text": [
      "Random Seed:  999\n"
     ]
    },
    {
     "name": "stderr",
     "output_type": "stream",
     "text": [
      "C:\\Users\\campb\\anaconda3\\lib\\site-packages\\torchvision\\io\\image.py:11: UserWarning: Failed to load image Python extension: Could not find module 'C:\\Users\\campb\\anaconda3\\Lib\\site-packages\\torchvision\\image.pyd' (or one of its dependencies). Try using the full path with constructor syntax.\n",
      "  warn(f\"Failed to load image Python extension: {e}\")\n"
     ]
    }
   ],
   "source": [
    "### - imports - ###\n",
    "from PIL import Image\n",
    "import numpy as np\n",
    "import glob\n",
    "import cv2 as cv\n",
    "import os\n",
    "import random\n",
    "import argparse\n",
    "### - other data augmentation imports - ### (if needed)\n",
    "### - Imports - ###\n",
    "import math\n",
    "import numpy as np\n",
    "import sklearn as sk #general imports, initial data preprocessing/OS stuff\n",
    "import pandas as pd\n",
    "import matplotlib.pyplot as plt\n",
    "import cv2 as cv\n",
    "import os\n",
    "import torch as T\n",
    "import torch.nn as nn\n",
    "import torch.optim as optim #Neural network imports, multiply data etc\n",
    "from torchvision.transforms import ToTensor\n",
    "import torchvision.models as models\n",
    "import torchvision\n",
    "import torch.nn.functional as F #Neural Network used in Comp4660 at ANU\n",
    "\n",
    "from torch.autograd import Variable\n",
    "from torch.optim.lr_scheduler import _LRScheduler\n",
    "\n",
    "from sklearn.preprocessing import MinMaxScaler #normalize data\n",
    "from sklearn.metrics import confusion_matrix #analysis\n",
    "from torchvision import transforms\n",
    "from torchvision.utils import make_grid, save_image\n",
    "import matplotlib.pyplot as plt\n",
    "import torch.optim as optim\n",
    "from torch.utils.data import DataLoader,Dataset\n",
    "\n",
    "from torchvision.datasets import ImageFolder\n",
    "from NetworkMain import D, G\n",
    "from tqdm import tqdm"
   ]
  },
  {
   "cell_type": "code",
   "execution_count": 2,
   "id": "c7179e90-3137-4cf6-9c6b-8e93fe29d356",
   "metadata": {},
   "outputs": [],
   "source": [
    "#This code will be added later when the file is converted to a python file\n",
    "\"\"\"parser = argparse.ArgumentParser()\n",
    "parser.add_argument('--root', type=str, default='./', help='directory contrains the data and outputs')\n",
    "parser.add_argument('--epochs', type=int, default=40, help='training epoch number')\n",
    "parser.add_argument('--out_res', type=int, default=128, help='The resolution of final output image')\n",
    "parser.add_argument('--resume', type=int, default=0, help='continues from epoch number')\n",
    "parser.add_argument('--cuda', action='store_true', help='Using GPU to train')\n",
    "\n",
    "\n",
    "opt = parser.parse_args()\"\"\"\n",
    "\n",
    "root = '/Users/campb/Documents/PersonalProjects/AGRNet/'\n",
    "data_dir = root + 'Dataset/'\n",
    "check_point_dir = root + 'check_points/'\n",
    "output_dir = root + 'output/'\n",
    "weight_dir = root+ 'weight/'\n",
    "if not os.path.exists(check_point_dir):\n",
    "\tos.makedirs(check_point_dir)\n",
    "if not os.path.exists(output_dir):\n",
    "\tos.makedirs(output_dir)\n",
    "if not os.path.exists(weight_dir):\n",
    "\tos.makedirs(weight_dir)"
   ]
  },
  {
   "cell_type": "code",
   "execution_count": 3,
   "id": "c3f28971-e8b5-431e-93b8-d7e0dbbc57e2",
   "metadata": {},
   "outputs": [],
   "source": [
    "### - Global Variables - ###\n",
    "DFP = '/Users/campb/Documents/PersonalProjects/AGRNet/Dataset/Sample-'\n",
    "\n",
    "img_folder = '/Users/campb/Documents/PersonalProjects/AGRNet/Dataset/'\n",
    "\n",
    "NS = '/Sample-'\n",
    "\n",
    "image_format = 'RGB'\n",
    "\n",
    "schedule = [[5, 15, 25 ,35, 40],[3, 5, 5, 5, 4],[5, 5, 5, 1, 1]] #Epochs for each cycle num of epochs\n",
    "\n",
    "batch_size = schedule[1][0]\n",
    "\n",
    "growing = schedule[2][0]\n",
    "\n",
    "epochs = 40\n",
    "\n",
    "latent_size = 512\n",
    "\n",
    "out_res = 1024\n",
    "\n",
    "lr = 1e-5\n",
    "\n",
    "lambd = 10"
   ]
  },
  {
   "cell_type": "code",
   "execution_count": 4,
   "id": "2b0cca62-5f79-4e2b-88a4-cbe713331853",
   "metadata": {},
   "outputs": [
    {
     "name": "stdout",
     "output_type": "stream",
     "text": [
      "cuda:0\n"
     ]
    }
   ],
   "source": [
    "device = T.device('cuda:0' if (T.cuda.is_available())  else 'cpu')\n",
    "\n",
    "transform = transforms.Compose([\n",
    "            transforms.Resize(out_res),\n",
    "            transforms.CenterCrop(out_res),\n",
    "            transforms.ToTensor(),\n",
    "            transforms.Normalize((0.5, 0.5, 0.5), (0.5, 0.5, 0.5))\n",
    "            ])\n",
    "print(device)"
   ]
  },
  {
   "cell_type": "code",
   "execution_count": 5,
   "id": "ab319914-ad8f-4e7d-8277-2c86846b1ba9",
   "metadata": {},
   "outputs": [],
   "source": [
    "#Create networks\n",
    "Disc = None\n",
    "Gen = None\n",
    "Disc = D(latent_size, out_res).to(device)\n",
    "Gen = G(latent_size, out_res).to(device)"
   ]
  },
  {
   "cell_type": "code",
   "execution_count": 6,
   "id": "43b42f5d-48e8-4639-9185-8fd1359519ea",
   "metadata": {},
   "outputs": [],
   "source": [
    "#Noise for discriminator\n",
    "fixed_noise = T.randn(16, latent_size, 1, 1).to(device)\n",
    "#initialize optimizers\n",
    "D_optimizer = optim.Adam(Disc.parameters(), lr=lr, betas=(0, 0.99))\n",
    "G_optimizer = optim.Adam(Gen.parameters(), lr=lr, betas=(0, 0.99))\n",
    "#Metric variables\n",
    "D_running_loss = 0.0\n",
    "G_running_loss = 0.0\n",
    "iter_num = 0\n",
    "\n",
    "D_epoch_losses = []\n",
    "G_epoch_losses = []"
   ]
  },
  {
   "cell_type": "code",
   "execution_count": 7,
   "id": "31937179-b410-4458-a030-578806d24dc8",
   "metadata": {},
   "outputs": [],
   "source": [
    "#Load with ImageFolder wrapper\n",
    "class ImageDataset(Dataset):\n",
    "    def __init__(self,img_folder,names, transform):\n",
    "        self.transform = transform\n",
    "        self.image_names = names #Predetermined dataset\n",
    "        self.img_folder=img_folder\n",
    "        \n",
    "    def __len__(self):\n",
    "        return len(self.image_names)\n",
    "    \n",
    "    def __getitem__(self,index):\n",
    "        image=Image.open(self.img_folder+self.image_names[index]).convert(\"RGB\")\n",
    "        image=self.transform(image)\n",
    "        return image\n",
    "\n",
    "assert(os.path.exists(DFP + str(1) + \".jpg\"))\n",
    "rawimgf = sorted(glob.glob(DFP + '*.jpg', recursive = True))\n",
    "### - image names - ###\n",
    "imnames = [i.split('/')[-1].split(\"t\")[-1][1:] for i in rawimgf]\n",
    "\n",
    "### - Global data loader Vars - ###\n",
    "norms = (0.5,0.5,0.5), (0.5,0.5,0.5)\n",
    "train_transform = transforms.Compose([\n",
    "                transforms.ToTensor(),\n",
    "                transforms.Resize((out_res, out_res))])\n",
    "# Parameters\n",
    "params = {'batch_size': schedule[1][0],\n",
    "          'shuffle': True,\n",
    "         'num_workers': 0}"
   ]
  },
  {
   "cell_type": "code",
   "execution_count": 8,
   "id": "374fa1ea-fc48-4646-83ff-53d980ec488a",
   "metadata": {},
   "outputs": [
    {
     "data": {
      "text/plain": [
       "\"\\nexcept:\\n    print('Fully Grown\\n')\\n    c = -1\\n    batch_size = schedule[1][c]\\n    growing = schedule[2][c]\\n\\n    dataset = ImageDataset(img_folder,imnames, train_transform)\\n    data_loader = DataLoader(dataset, **params)\\n\\n    tot_iter_num = (len(dataset)/batch_size)\\n    print(schedule[0][c], resume)\\n\\n    if Gen.alpha < 1:\\n        Gen.fade_iters = (1-Gen.alpha)/(opt.epochs-opt.resume)/(2*tot_iter_num)\\n        Ddisc.fade_iters = (1-Disc.alpha)/(opt.epochs-opt.resume)/(2*tot_iter_num)\""
      ]
     },
     "execution_count": 8,
     "metadata": {},
     "output_type": "execute_result"
    }
   ],
   "source": [
    "#Control variable\n",
    "resume = 0\n",
    "if resume != 0:\n",
    "    check_point = T.load(check_point_dir+'check_point_epoch_%i.pth' % resume)\n",
    "    fixed_noise = check_point['fixed_noise']\n",
    "    G_net.load_state_dict(check_point['G_net'])\n",
    "    D_net.load_state_dict(check_point['D_net'])\n",
    "    G_optimizer.load_state_dict(check_point['G_optimizer'])\n",
    "    D_optimizer.load_state_dict(check_point['D_optimizer'])\n",
    "    G_epoch_losses = check_point['G_epoch_losses']\n",
    "    D_epoch_losses = check_point['D_epoch_losses']\n",
    "    G_net.depth = check_point['depth']\n",
    "    D_net.depth = check_point['depth']\n",
    "    G_net.alpha = check_point['alpha']\n",
    "    D_net.alpha = check_point['alpha']\n",
    "\n",
    "\n",
    "\n",
    "c = next(x[0] for x in enumerate(schedule[0]) if x[1]>resume)-1\n",
    "batch_size = schedule[1][c]\n",
    "growing = schedule[2][c]\n",
    "dataset = ImageDataset(img_folder, imnames, train_transform)\n",
    "# dataset = datasets.CelebA(data_dir, split='all', transform=transform)\n",
    "data_loader = DataLoader(dataset, **params)\n",
    "\n",
    "tot_iter_num = (len(dataset)/batch_size)\n",
    "Gen.fade_iters = (1-Gen.alpha)/(schedule[0][c+1]-resume)/(2*tot_iter_num)\n",
    "Disc.fade_iters = (1-Disc.alpha)/(schedule[0][c+1]-resume)/(2*tot_iter_num)\n",
    "\n",
    "\"\"\"\n",
    "except:\n",
    "    print('Fully Grown\\n')\n",
    "    c = -1\n",
    "    batch_size = schedule[1][c]\n",
    "    growing = schedule[2][c]\n",
    "\n",
    "    dataset = ImageDataset(img_folder,imnames, train_transform)\n",
    "    data_loader = DataLoader(dataset, **params)\n",
    "\n",
    "    tot_iter_num = (len(dataset)/batch_size)\n",
    "    print(schedule[0][c], resume)\n",
    "\n",
    "    if Gen.alpha < 1:\n",
    "        Gen.fade_iters = (1-Gen.alpha)/(opt.epochs-opt.resume)/(2*tot_iter_num)\n",
    "        Ddisc.fade_iters = (1-Disc.alpha)/(opt.epochs-opt.resume)/(2*tot_iter_num)\"\"\"\n"
   ]
  },
  {
   "cell_type": "code",
   "execution_count": null,
   "id": "f11a8ab5-7099-4387-aa96-99c383b799f7",
   "metadata": {},
   "outputs": [
    {
     "name": "stdout",
     "output_type": "stream",
     "text": [
      "Output Resolution: 4 x 4\n",
      "epoch: 1/40\n"
     ]
    },
    {
     "name": "stderr",
     "output_type": "stream",
     "text": [
      "D_loss: 2.362   G_loss: 0.005:   4%|█▉                                                  | 2/54 [00:02<00:55,  1.06s/it]"
     ]
    },
    {
     "name": "stdout",
     "output_type": "stream",
     "text": [
      "iteration : 0, gp: 2.57\n"
     ]
    },
    {
     "name": "stderr",
     "output_type": "stream",
     "text": [
      "D_loss: 2.188   G_loss: 0.058:   9%|████▊                                               | 5/54 [00:02<00:15,  3.18it/s]"
     ]
    },
    {
     "name": "stdout",
     "output_type": "stream",
     "text": [
      "iteration : 3, gp: 2.43\n"
     ]
    },
    {
     "name": "stderr",
     "output_type": "stream",
     "text": [
      "D_loss: 1.988   G_loss: 0.056:  15%|███████▋                                            | 8/54 [00:03<00:08,  5.60it/s]"
     ]
    },
    {
     "name": "stdout",
     "output_type": "stream",
     "text": [
      "iteration : 6, gp: 2.14\n"
     ]
    },
    {
     "name": "stderr",
     "output_type": "stream",
     "text": [
      "D_loss: 1.655   G_loss: 0.043:  20%|██████████▍                                        | 11/54 [00:03<00:05,  7.18it/s]"
     ]
    },
    {
     "name": "stdout",
     "output_type": "stream",
     "text": [
      "iteration : 9, gp: 1.91\n"
     ]
    },
    {
     "name": "stderr",
     "output_type": "stream",
     "text": [
      "D_loss: 1.918   G_loss: 0.071:  26%|█████████████▏                                     | 14/54 [00:03<00:05,  7.96it/s]"
     ]
    },
    {
     "name": "stdout",
     "output_type": "stream",
     "text": [
      "iteration : 12, gp: 1.92\n"
     ]
    },
    {
     "name": "stderr",
     "output_type": "stream",
     "text": [
      "D_loss: 1.715   G_loss: 0.057:  31%|████████████████                                   | 17/54 [00:04<00:04,  8.43it/s]"
     ]
    },
    {
     "name": "stdout",
     "output_type": "stream",
     "text": [
      "iteration : 15, gp: 2.05\n"
     ]
    },
    {
     "name": "stderr",
     "output_type": "stream",
     "text": [
      "D_loss: 1.414   G_loss: 0.063:  37%|██████████████████▉                                | 20/54 [00:04<00:03,  8.79it/s]"
     ]
    },
    {
     "name": "stdout",
     "output_type": "stream",
     "text": [
      "iteration : 18, gp: 1.67\n"
     ]
    },
    {
     "name": "stderr",
     "output_type": "stream",
     "text": [
      "D_loss: 1.267   G_loss: 0.082:  43%|█████████████████████▋                             | 23/54 [00:04<00:03,  8.74it/s]"
     ]
    },
    {
     "name": "stdout",
     "output_type": "stream",
     "text": [
      "iteration : 21, gp: 1.38\n"
     ]
    },
    {
     "name": "stderr",
     "output_type": "stream",
     "text": [
      "D_loss: 1.058   G_loss: 0.071:  48%|████████████████████████▌                          | 26/54 [00:05<00:03,  8.78it/s]"
     ]
    },
    {
     "name": "stdout",
     "output_type": "stream",
     "text": [
      "iteration : 24, gp: 1.42\n"
     ]
    },
    {
     "name": "stderr",
     "output_type": "stream",
     "text": [
      "D_loss: 1.125   G_loss: 0.093:  54%|███████████████████████████▍                       | 29/54 [00:05<00:02,  8.71it/s]"
     ]
    },
    {
     "name": "stdout",
     "output_type": "stream",
     "text": [
      "iteration : 27, gp: 1.56\n"
     ]
    },
    {
     "name": "stderr",
     "output_type": "stream",
     "text": [
      "D_loss: 0.755   G_loss: 0.094:  59%|██████████████████████████████▏                    | 32/54 [00:05<00:02,  8.73it/s]"
     ]
    },
    {
     "name": "stdout",
     "output_type": "stream",
     "text": [
      "iteration : 30, gp: 1.15\n"
     ]
    },
    {
     "name": "stderr",
     "output_type": "stream",
     "text": [
      "D_loss: 0.429   G_loss: 0.109:  65%|█████████████████████████████████                  | 35/54 [00:06<00:02,  8.32it/s]"
     ]
    },
    {
     "name": "stdout",
     "output_type": "stream",
     "text": [
      "iteration : 33, gp: 1.01\n"
     ]
    },
    {
     "name": "stderr",
     "output_type": "stream",
     "text": [
      "D_loss: 0.485   G_loss: 0.094:  70%|███████████████████████████████████▉               | 38/54 [00:06<00:01,  8.10it/s]"
     ]
    },
    {
     "name": "stdout",
     "output_type": "stream",
     "text": [
      "iteration : 36, gp: 1.00\n"
     ]
    },
    {
     "name": "stderr",
     "output_type": "stream",
     "text": [
      "D_loss: 0.359   G_loss: 0.095:  76%|██████████████████████████████████████▋            | 41/54 [00:07<00:01,  7.34it/s]"
     ]
    },
    {
     "name": "stdout",
     "output_type": "stream",
     "text": [
      "iteration : 39, gp: 0.64\n"
     ]
    },
    {
     "name": "stderr",
     "output_type": "stream",
     "text": [
      "D_loss: 0.162   G_loss: 0.118:  81%|█████████████████████████████████████████▌         | 44/54 [00:07<00:01,  8.41it/s]"
     ]
    },
    {
     "name": "stdout",
     "output_type": "stream",
     "text": [
      "iteration : 42, gp: 0.66\n"
     ]
    },
    {
     "name": "stderr",
     "output_type": "stream",
     "text": [
      "D_loss: 0.305   G_loss: 0.125:  87%|████████████████████████████████████████████▍      | 47/54 [00:07<00:00,  8.38it/s]"
     ]
    },
    {
     "name": "stdout",
     "output_type": "stream",
     "text": [
      "iteration : 45, gp: 0.73\n"
     ]
    },
    {
     "name": "stderr",
     "output_type": "stream",
     "text": [
      "D_loss: 0.207   G_loss: 0.142:  93%|███████████████████████████████████████████████▏   | 50/54 [00:08<00:00,  8.43it/s]"
     ]
    },
    {
     "name": "stdout",
     "output_type": "stream",
     "text": [
      "iteration : 48, gp: 0.59\n"
     ]
    },
    {
     "name": "stderr",
     "output_type": "stream",
     "text": [
      "D_loss: 0.150   G_loss: 0.143: 100%|███████████████████████████████████████████████████| 54/54 [00:08<00:00,  6.28it/s]"
     ]
    },
    {
     "name": "stdout",
     "output_type": "stream",
     "text": [
      "iteration : 51, gp: 0.58\n"
     ]
    },
    {
     "name": "stderr",
     "output_type": "stream",
     "text": [
      "\n"
     ]
    },
    {
     "name": "stdout",
     "output_type": "stream",
     "text": [
      "epoch: 2/40\n"
     ]
    },
    {
     "name": "stderr",
     "output_type": "stream",
     "text": [
      "D_loss: 0.248   G_loss: 0.142:   2%|▉                                                   | 1/54 [00:00<00:07,  7.46it/s]"
     ]
    },
    {
     "name": "stdout",
     "output_type": "stream",
     "text": [
      "iteration : 0, gp: 0.61\n"
     ]
    },
    {
     "name": "stderr",
     "output_type": "stream",
     "text": [
      "D_loss: 0.261   G_loss: 0.155:   9%|████▊                                               | 5/54 [00:00<00:05,  8.73it/s]"
     ]
    },
    {
     "name": "stdout",
     "output_type": "stream",
     "text": [
      "iteration : 3, gp: 0.62\n"
     ]
    },
    {
     "name": "stderr",
     "output_type": "stream",
     "text": [
      "D_loss: 0.418   G_loss: 0.147:  15%|███████▋                                            | 8/54 [00:00<00:05,  8.66it/s]"
     ]
    },
    {
     "name": "stdout",
     "output_type": "stream",
     "text": [
      "iteration : 6, gp: 0.42\n"
     ]
    },
    {
     "name": "stderr",
     "output_type": "stream",
     "text": [
      "D_loss: 0.565   G_loss: 0.166:  20%|██████████▍                                        | 11/54 [00:01<00:05,  8.32it/s]"
     ]
    },
    {
     "name": "stdout",
     "output_type": "stream",
     "text": [
      "iteration : 9, gp: 0.34\n"
     ]
    },
    {
     "name": "stderr",
     "output_type": "stream",
     "text": [
      "D_loss: 0.482   G_loss: 0.174:  26%|█████████████▏                                     | 14/54 [00:01<00:04,  8.53it/s]"
     ]
    },
    {
     "name": "stdout",
     "output_type": "stream",
     "text": [
      "iteration : 12, gp: 0.33\n"
     ]
    },
    {
     "name": "stderr",
     "output_type": "stream",
     "text": [
      "D_loss: 0.431   G_loss: 0.181:  31%|████████████████                                   | 17/54 [00:02<00:04,  8.49it/s]"
     ]
    },
    {
     "name": "stdout",
     "output_type": "stream",
     "text": [
      "iteration : 15, gp: 0.26\n"
     ]
    },
    {
     "name": "stderr",
     "output_type": "stream",
     "text": [
      "D_loss: 0.423   G_loss: 0.226:  37%|██████████████████▉                                | 20/54 [00:02<00:04,  8.36it/s]"
     ]
    },
    {
     "name": "stdout",
     "output_type": "stream",
     "text": [
      "iteration : 18, gp: 0.23\n"
     ]
    },
    {
     "name": "stderr",
     "output_type": "stream",
     "text": [
      "D_loss: 0.540   G_loss: 0.169:  43%|█████████████████████▋                             | 23/54 [00:02<00:03,  8.57it/s]"
     ]
    },
    {
     "name": "stdout",
     "output_type": "stream",
     "text": [
      "iteration : 21, gp: 0.14\n"
     ]
    },
    {
     "name": "stderr",
     "output_type": "stream",
     "text": [
      "D_loss: 1.273   G_loss: 0.217:  48%|████████████████████████▌                          | 26/54 [00:03<00:03,  8.12it/s]"
     ]
    },
    {
     "name": "stdout",
     "output_type": "stream",
     "text": [
      "iteration : 24, gp: 0.09\n"
     ]
    },
    {
     "name": "stderr",
     "output_type": "stream",
     "text": [
      "D_loss: 0.663   G_loss: 0.207:  54%|███████████████████████████▍                       | 29/54 [00:03<00:02,  8.73it/s]"
     ]
    },
    {
     "name": "stdout",
     "output_type": "stream",
     "text": [
      "iteration : 27, gp: 0.28\n"
     ]
    },
    {
     "name": "stderr",
     "output_type": "stream",
     "text": [
      "D_loss: 0.644   G_loss: 0.227:  59%|██████████████████████████████▏                    | 32/54 [00:03<00:02,  8.78it/s]"
     ]
    },
    {
     "name": "stdout",
     "output_type": "stream",
     "text": [
      "iteration : 30, gp: 0.22\n"
     ]
    },
    {
     "name": "stderr",
     "output_type": "stream",
     "text": [
      "D_loss: 0.983   G_loss: 0.222:  65%|█████████████████████████████████                  | 35/54 [00:04<00:02,  8.21it/s]"
     ]
    },
    {
     "name": "stdout",
     "output_type": "stream",
     "text": [
      "iteration : 33, gp: 0.13\n"
     ]
    },
    {
     "name": "stderr",
     "output_type": "stream",
     "text": [
      "D_loss: 0.921   G_loss: 0.204:  70%|███████████████████████████████████▉               | 38/54 [00:04<00:01,  8.14it/s]"
     ]
    },
    {
     "name": "stdout",
     "output_type": "stream",
     "text": [
      "iteration : 36, gp: 0.11\n"
     ]
    },
    {
     "name": "stderr",
     "output_type": "stream",
     "text": [
      "D_loss: 0.658   G_loss: 0.211:  76%|██████████████████████████████████████▋            | 41/54 [00:04<00:01,  8.37it/s]"
     ]
    },
    {
     "name": "stdout",
     "output_type": "stream",
     "text": [
      "iteration : 39, gp: 0.02\n"
     ]
    },
    {
     "name": "stderr",
     "output_type": "stream",
     "text": [
      "D_loss: 0.977   G_loss: 0.247:  81%|█████████████████████████████████████████▌         | 44/54 [00:05<00:01,  8.75it/s]"
     ]
    },
    {
     "name": "stdout",
     "output_type": "stream",
     "text": [
      "iteration : 42, gp: 0.04\n"
     ]
    },
    {
     "name": "stderr",
     "output_type": "stream",
     "text": [
      "D_loss: 1.169   G_loss: 0.247:  87%|████████████████████████████████████████████▍      | 47/54 [00:05<00:00,  8.78it/s]"
     ]
    },
    {
     "name": "stdout",
     "output_type": "stream",
     "text": [
      "iteration : 45, gp: 0.04\n"
     ]
    },
    {
     "name": "stderr",
     "output_type": "stream",
     "text": [
      "D_loss: 1.014   G_loss: 0.244:  93%|███████████████████████████████████████████████▏   | 50/54 [00:05<00:00,  8.85it/s]"
     ]
    },
    {
     "name": "stdout",
     "output_type": "stream",
     "text": [
      "iteration : 48, gp: 0.05\n"
     ]
    },
    {
     "name": "stderr",
     "output_type": "stream",
     "text": [
      "D_loss: 1.589   G_loss: 0.258:  98%|██████████████████████████████████████████████████ | 53/54 [00:06<00:00,  8.70it/s]"
     ]
    },
    {
     "name": "stdout",
     "output_type": "stream",
     "text": [
      "iteration : 51, gp: 0.01\n"
     ]
    },
    {
     "name": "stderr",
     "output_type": "stream",
     "text": [
      "D_loss: 1.589   G_loss: 0.258: 100%|███████████████████████████████████████████████████| 54/54 [00:06<00:00,  8.54it/s]\n"
     ]
    },
    {
     "name": "stdout",
     "output_type": "stream",
     "text": [
      "epoch: 3/40\n"
     ]
    },
    {
     "name": "stderr",
     "output_type": "stream",
     "text": [
      "D_loss: 1.141   G_loss: 0.299:   2%|▉                                                   | 1/54 [00:00<00:07,  7.41it/s]"
     ]
    },
    {
     "name": "stdout",
     "output_type": "stream",
     "text": [
      "iteration : 0, gp: 0.02\n"
     ]
    },
    {
     "name": "stderr",
     "output_type": "stream",
     "text": [
      "D_loss: 1.149   G_loss: 0.284:   9%|████▊                                               | 5/54 [00:00<00:05,  8.21it/s]"
     ]
    },
    {
     "name": "stdout",
     "output_type": "stream",
     "text": [
      "iteration : 3, gp: 0.02\n"
     ]
    },
    {
     "name": "stderr",
     "output_type": "stream",
     "text": [
      "D_loss: 1.382   G_loss: 0.276:  15%|███████▋                                            | 8/54 [00:00<00:05,  8.65it/s]"
     ]
    },
    {
     "name": "stdout",
     "output_type": "stream",
     "text": [
      "iteration : 6, gp: 0.02\n"
     ]
    },
    {
     "name": "stderr",
     "output_type": "stream",
     "text": [
      "D_loss: 1.363   G_loss: 0.299:  20%|██████████▍                                        | 11/54 [00:01<00:04,  8.77it/s]"
     ]
    },
    {
     "name": "stdout",
     "output_type": "stream",
     "text": [
      "iteration : 9, gp: 0.01\n"
     ]
    },
    {
     "name": "stderr",
     "output_type": "stream",
     "text": [
      "D_loss: 1.434   G_loss: 0.303:  26%|█████████████▏                                     | 14/54 [00:01<00:04,  8.83it/s]"
     ]
    },
    {
     "name": "stdout",
     "output_type": "stream",
     "text": [
      "iteration : 12, gp: 0.01\n"
     ]
    },
    {
     "name": "stderr",
     "output_type": "stream",
     "text": [
      "D_loss: 1.642   G_loss: 0.303:  31%|████████████████                                   | 17/54 [00:02<00:04,  8.71it/s]"
     ]
    },
    {
     "name": "stdout",
     "output_type": "stream",
     "text": [
      "iteration : 15, gp: 0.00\n"
     ]
    },
    {
     "name": "stderr",
     "output_type": "stream",
     "text": [
      "D_loss: 1.141   G_loss: 0.341:  37%|██████████████████▉                                | 20/54 [00:02<00:03,  9.01it/s]"
     ]
    },
    {
     "name": "stdout",
     "output_type": "stream",
     "text": [
      "iteration : 18, gp: 0.01\n"
     ]
    },
    {
     "name": "stderr",
     "output_type": "stream",
     "text": [
      "D_loss: 1.509   G_loss: 0.320:  43%|█████████████████████▋                             | 23/54 [00:02<00:03,  9.12it/s]"
     ]
    },
    {
     "name": "stdout",
     "output_type": "stream",
     "text": [
      "iteration : 21, gp: 0.05\n"
     ]
    },
    {
     "name": "stderr",
     "output_type": "stream",
     "text": [
      "D_loss: 1.477   G_loss: 0.344:  48%|████████████████████████▌                          | 26/54 [00:03<00:03,  8.57it/s]"
     ]
    },
    {
     "name": "stdout",
     "output_type": "stream",
     "text": [
      "iteration : 24, gp: 0.01\n"
     ]
    },
    {
     "name": "stderr",
     "output_type": "stream",
     "text": [
      "D_loss: 1.643   G_loss: 0.348:  54%|███████████████████████████▍                       | 29/54 [00:03<00:02,  8.93it/s]"
     ]
    },
    {
     "name": "stdout",
     "output_type": "stream",
     "text": [
      "iteration : 27, gp: 0.01\n"
     ]
    },
    {
     "name": "stderr",
     "output_type": "stream",
     "text": [
      "D_loss: 1.513   G_loss: 0.348:  59%|██████████████████████████████▏                    | 32/54 [00:03<00:02,  8.17it/s]"
     ]
    },
    {
     "name": "stdout",
     "output_type": "stream",
     "text": [
      "iteration : 30, gp: 0.01\n"
     ]
    },
    {
     "name": "stderr",
     "output_type": "stream",
     "text": [
      "D_loss: 1.601   G_loss: 0.353:  65%|█████████████████████████████████                  | 35/54 [00:04<00:02,  8.52it/s]"
     ]
    },
    {
     "name": "stdout",
     "output_type": "stream",
     "text": [
      "iteration : 33, gp: 0.03\n"
     ]
    },
    {
     "name": "stderr",
     "output_type": "stream",
     "text": [
      "D_loss: 1.342   G_loss: 0.347:  70%|███████████████████████████████████▉               | 38/54 [00:04<00:01,  8.69it/s]"
     ]
    },
    {
     "name": "stdout",
     "output_type": "stream",
     "text": [
      "iteration : 36, gp: 0.00\n"
     ]
    },
    {
     "name": "stderr",
     "output_type": "stream",
     "text": [
      "D_loss: 1.558   G_loss: 0.375:  76%|██████████████████████████████████████▋            | 41/54 [00:04<00:01,  8.75it/s]"
     ]
    },
    {
     "name": "stdout",
     "output_type": "stream",
     "text": [
      "iteration : 39, gp: 0.00\n"
     ]
    },
    {
     "name": "stderr",
     "output_type": "stream",
     "text": [
      "D_loss: 1.916   G_loss: 0.405:  81%|█████████████████████████████████████████▌         | 44/54 [00:05<00:01,  8.86it/s]"
     ]
    },
    {
     "name": "stdout",
     "output_type": "stream",
     "text": [
      "iteration : 42, gp: 0.02\n"
     ]
    },
    {
     "name": "stderr",
     "output_type": "stream",
     "text": [
      "D_loss: 1.483   G_loss: 0.423:  87%|████████████████████████████████████████████▍      | 47/54 [00:05<00:00,  9.00it/s]"
     ]
    },
    {
     "name": "stdout",
     "output_type": "stream",
     "text": [
      "iteration : 45, gp: 0.02\n"
     ]
    },
    {
     "name": "stderr",
     "output_type": "stream",
     "text": [
      "D_loss: 1.547   G_loss: 0.390:  93%|███████████████████████████████████████████████▏   | 50/54 [00:05<00:00,  8.83it/s]"
     ]
    },
    {
     "name": "stdout",
     "output_type": "stream",
     "text": [
      "iteration : 48, gp: 0.02\n"
     ]
    },
    {
     "name": "stderr",
     "output_type": "stream",
     "text": [
      "D_loss: 1.393   G_loss: 0.415:  98%|██████████████████████████████████████████████████ | 53/54 [00:06<00:00,  8.40it/s]"
     ]
    },
    {
     "name": "stdout",
     "output_type": "stream",
     "text": [
      "iteration : 51, gp: 0.02\n"
     ]
    },
    {
     "name": "stderr",
     "output_type": "stream",
     "text": [
      "D_loss: 1.393   G_loss: 0.415: 100%|███████████████████████████████████████████████████| 54/54 [00:06<00:00,  8.63it/s]\n"
     ]
    },
    {
     "name": "stdout",
     "output_type": "stream",
     "text": [
      "epoch: 4/40\n"
     ]
    },
    {
     "name": "stderr",
     "output_type": "stream",
     "text": [
      "D_loss: 2.072   G_loss: 0.397:   2%|▉                                                   | 1/54 [00:00<00:06,  7.87it/s]"
     ]
    },
    {
     "name": "stdout",
     "output_type": "stream",
     "text": [
      "iteration : 0, gp: 0.02\n"
     ]
    },
    {
     "name": "stderr",
     "output_type": "stream",
     "text": [
      "D_loss: 2.463   G_loss: 0.419:   9%|████▊                                               | 5/54 [00:00<00:06,  7.64it/s]"
     ]
    },
    {
     "name": "stdout",
     "output_type": "stream",
     "text": [
      "iteration : 3, gp: 0.01\n"
     ]
    },
    {
     "name": "stderr",
     "output_type": "stream",
     "text": [
      "D_loss: 1.645   G_loss: 0.435:  15%|███████▋                                            | 8/54 [00:00<00:05,  8.55it/s]"
     ]
    },
    {
     "name": "stdout",
     "output_type": "stream",
     "text": [
      "iteration : 6, gp: 0.06\n"
     ]
    },
    {
     "name": "stderr",
     "output_type": "stream",
     "text": [
      "D_loss: 1.566   G_loss: 0.432:  20%|██████████▍                                        | 11/54 [00:01<00:04,  8.69it/s]"
     ]
    },
    {
     "name": "stdout",
     "output_type": "stream",
     "text": [
      "iteration : 9, gp: 0.06\n"
     ]
    },
    {
     "name": "stderr",
     "output_type": "stream",
     "text": [
      "D_loss: 1.727   G_loss: 0.461:  26%|█████████████▏                                     | 14/54 [00:01<00:04,  8.89it/s]"
     ]
    },
    {
     "name": "stdout",
     "output_type": "stream",
     "text": [
      "iteration : 12, gp: 0.03\n"
     ]
    },
    {
     "name": "stderr",
     "output_type": "stream",
     "text": [
      "D_loss: 2.295   G_loss: 0.475:  31%|████████████████                                   | 17/54 [00:02<00:04,  8.59it/s]"
     ]
    },
    {
     "name": "stdout",
     "output_type": "stream",
     "text": [
      "iteration : 15, gp: 0.07\n"
     ]
    },
    {
     "name": "stderr",
     "output_type": "stream",
     "text": [
      "D_loss: 1.654   G_loss: 0.465:  37%|██████████████████▉                                | 20/54 [00:02<00:04,  8.48it/s]"
     ]
    },
    {
     "name": "stdout",
     "output_type": "stream",
     "text": [
      "iteration : 18, gp: 0.08\n"
     ]
    },
    {
     "name": "stderr",
     "output_type": "stream",
     "text": [
      "D_loss: 1.814   G_loss: 0.502:  43%|█████████████████████▋                             | 23/54 [00:02<00:03,  8.69it/s]"
     ]
    },
    {
     "name": "stdout",
     "output_type": "stream",
     "text": [
      "iteration : 21, gp: 0.01\n"
     ]
    },
    {
     "name": "stderr",
     "output_type": "stream",
     "text": [
      "D_loss: 1.328   G_loss: 0.502:  48%|████████████████████████▌                          | 26/54 [00:03<00:03,  8.76it/s]"
     ]
    },
    {
     "name": "stdout",
     "output_type": "stream",
     "text": [
      "iteration : 24, gp: 0.03\n"
     ]
    },
    {
     "name": "stderr",
     "output_type": "stream",
     "text": [
      "D_loss: 1.578   G_loss: 0.495:  54%|███████████████████████████▍                       | 29/54 [00:03<00:02,  8.80it/s]"
     ]
    },
    {
     "name": "stdout",
     "output_type": "stream",
     "text": [
      "iteration : 27, gp: 0.06\n"
     ]
    },
    {
     "name": "stderr",
     "output_type": "stream",
     "text": [
      "D_loss: 1.889   G_loss: 0.491:  59%|██████████████████████████████▏                    | 32/54 [00:03<00:02,  8.82it/s]"
     ]
    },
    {
     "name": "stdout",
     "output_type": "stream",
     "text": [
      "iteration : 30, gp: 0.05\n"
     ]
    },
    {
     "name": "stderr",
     "output_type": "stream",
     "text": [
      "D_loss: 1.967   G_loss: 0.531:  65%|█████████████████████████████████                  | 35/54 [00:04<00:02,  8.59it/s]"
     ]
    },
    {
     "name": "stdout",
     "output_type": "stream",
     "text": [
      "iteration : 33, gp: 0.03\n"
     ]
    },
    {
     "name": "stderr",
     "output_type": "stream",
     "text": [
      "D_loss: 1.816   G_loss: 0.539:  70%|███████████████████████████████████▉               | 38/54 [00:04<00:01,  8.76it/s]"
     ]
    },
    {
     "name": "stdout",
     "output_type": "stream",
     "text": [
      "iteration : 36, gp: 0.03\n"
     ]
    },
    {
     "name": "stderr",
     "output_type": "stream",
     "text": [
      "D_loss: 2.059   G_loss: 0.533:  76%|██████████████████████████████████████▋            | 41/54 [00:04<00:01,  8.68it/s]"
     ]
    },
    {
     "name": "stdout",
     "output_type": "stream",
     "text": [
      "iteration : 39, gp: 0.07\n"
     ]
    },
    {
     "name": "stderr",
     "output_type": "stream",
     "text": [
      "D_loss: 2.043   G_loss: 0.560:  81%|█████████████████████████████████████████▌         | 44/54 [00:05<00:01,  8.80it/s]"
     ]
    },
    {
     "name": "stdout",
     "output_type": "stream",
     "text": [
      "iteration : 42, gp: 0.04\n"
     ]
    },
    {
     "name": "stderr",
     "output_type": "stream",
     "text": [
      "D_loss: 1.771   G_loss: 0.502:  87%|████████████████████████████████████████████▍      | 47/54 [00:05<00:00,  8.88it/s]"
     ]
    },
    {
     "name": "stdout",
     "output_type": "stream",
     "text": [
      "iteration : 45, gp: 0.07\n"
     ]
    },
    {
     "name": "stderr",
     "output_type": "stream",
     "text": [
      "D_loss: 2.044   G_loss: 0.540:  93%|███████████████████████████████████████████████▏   | 50/54 [00:05<00:00,  9.06it/s]"
     ]
    },
    {
     "name": "stdout",
     "output_type": "stream",
     "text": [
      "iteration : 48, gp: 0.08\n"
     ]
    },
    {
     "name": "stderr",
     "output_type": "stream",
     "text": [
      "D_loss: 2.043   G_loss: 0.559: 100%|███████████████████████████████████████████████████| 54/54 [00:06<00:00,  8.71it/s]"
     ]
    },
    {
     "name": "stdout",
     "output_type": "stream",
     "text": [
      "iteration : 51, gp: 0.09\n"
     ]
    },
    {
     "name": "stderr",
     "output_type": "stream",
     "text": [
      "\n"
     ]
    },
    {
     "name": "stdout",
     "output_type": "stream",
     "text": [
      "epoch: 5/40\n"
     ]
    },
    {
     "name": "stderr",
     "output_type": "stream",
     "text": [
      "D_loss: 1.688   G_loss: 0.545:   2%|▉                                                   | 1/54 [00:00<00:06,  7.81it/s]"
     ]
    },
    {
     "name": "stdout",
     "output_type": "stream",
     "text": [
      "iteration : 0, gp: 0.08\n"
     ]
    },
    {
     "name": "stderr",
     "output_type": "stream",
     "text": [
      "D_loss: 2.048   G_loss: 0.581:   9%|████▊                                               | 5/54 [00:00<00:05,  9.04it/s]"
     ]
    },
    {
     "name": "stdout",
     "output_type": "stream",
     "text": [
      "iteration : 3, gp: 0.10\n"
     ]
    },
    {
     "name": "stderr",
     "output_type": "stream",
     "text": [
      "D_loss: 2.318   G_loss: 0.571:  13%|██████▋                                             | 7/54 [00:00<00:05,  8.82it/s]"
     ]
    },
    {
     "name": "stdout",
     "output_type": "stream",
     "text": [
      "iteration : 6, gp: 0.05\n"
     ]
    },
    {
     "name": "stderr",
     "output_type": "stream",
     "text": [
      "D_loss: 1.857   G_loss: 0.587:  20%|██████████▍                                        | 11/54 [00:01<00:04,  8.95it/s]"
     ]
    },
    {
     "name": "stdout",
     "output_type": "stream",
     "text": [
      "iteration : 9, gp: 0.06\n"
     ]
    },
    {
     "name": "stderr",
     "output_type": "stream",
     "text": [
      "D_loss: 2.015   G_loss: 0.599:  26%|█████████████▏                                     | 14/54 [00:01<00:04,  8.49it/s]"
     ]
    },
    {
     "name": "stdout",
     "output_type": "stream",
     "text": [
      "iteration : 12, gp: 0.08\n"
     ]
    },
    {
     "name": "stderr",
     "output_type": "stream",
     "text": [
      "D_loss: 2.075   G_loss: 0.590:  31%|████████████████                                   | 17/54 [00:01<00:04,  8.15it/s]"
     ]
    },
    {
     "name": "stdout",
     "output_type": "stream",
     "text": [
      "iteration : 15, gp: 0.15\n"
     ]
    },
    {
     "name": "stderr",
     "output_type": "stream",
     "text": [
      "D_loss: 2.234   G_loss: 0.600:  37%|██████████████████▉                                | 20/54 [00:02<00:03,  8.62it/s]"
     ]
    },
    {
     "name": "stdout",
     "output_type": "stream",
     "text": [
      "iteration : 18, gp: 0.06\n"
     ]
    },
    {
     "name": "stderr",
     "output_type": "stream",
     "text": [
      "D_loss: 1.978   G_loss: 0.643:  43%|█████████████████████▋                             | 23/54 [00:02<00:03,  8.91it/s]"
     ]
    },
    {
     "name": "stdout",
     "output_type": "stream",
     "text": [
      "iteration : 21, gp: 0.05\n"
     ]
    },
    {
     "name": "stderr",
     "output_type": "stream",
     "text": [
      "D_loss: 2.051   G_loss: 0.588:  48%|████████████████████████▌                          | 26/54 [00:02<00:03,  8.94it/s]"
     ]
    },
    {
     "name": "stdout",
     "output_type": "stream",
     "text": [
      "iteration : 24, gp: 0.09\n"
     ]
    },
    {
     "name": "stderr",
     "output_type": "stream",
     "text": [
      "D_loss: 1.919   G_loss: 0.640:  54%|███████████████████████████▍                       | 29/54 [00:03<00:02,  8.62it/s]"
     ]
    },
    {
     "name": "stdout",
     "output_type": "stream",
     "text": [
      "iteration : 27, gp: 0.08\n"
     ]
    },
    {
     "name": "stderr",
     "output_type": "stream",
     "text": [
      "D_loss: 1.668   G_loss: 0.665:  59%|██████████████████████████████▏                    | 32/54 [00:03<00:02,  8.70it/s]"
     ]
    },
    {
     "name": "stdout",
     "output_type": "stream",
     "text": [
      "iteration : 30, gp: 0.05\n"
     ]
    },
    {
     "name": "stderr",
     "output_type": "stream",
     "text": [
      "D_loss: 2.952   G_loss: 0.663:  65%|█████████████████████████████████                  | 35/54 [00:04<00:02,  8.70it/s]"
     ]
    },
    {
     "name": "stdout",
     "output_type": "stream",
     "text": [
      "iteration : 33, gp: 0.09\n"
     ]
    },
    {
     "name": "stderr",
     "output_type": "stream",
     "text": [
      "D_loss: 2.320   G_loss: 0.639:  70%|███████████████████████████████████▉               | 38/54 [00:04<00:01,  8.72it/s]"
     ]
    },
    {
     "name": "stdout",
     "output_type": "stream",
     "text": [
      "iteration : 36, gp: 0.06\n"
     ]
    },
    {
     "name": "stderr",
     "output_type": "stream",
     "text": [
      "D_loss: 1.507   G_loss: 0.636:  76%|██████████████████████████████████████▋            | 41/54 [00:04<00:01,  8.72it/s]"
     ]
    },
    {
     "name": "stdout",
     "output_type": "stream",
     "text": [
      "iteration : 39, gp: 0.08\n"
     ]
    },
    {
     "name": "stderr",
     "output_type": "stream",
     "text": [
      "D_loss: 2.052   G_loss: 0.705:  81%|█████████████████████████████████████████▌         | 44/54 [00:05<00:01,  8.85it/s]"
     ]
    },
    {
     "name": "stdout",
     "output_type": "stream",
     "text": [
      "iteration : 42, gp: 0.07\n"
     ]
    },
    {
     "name": "stderr",
     "output_type": "stream",
     "text": [
      "D_loss: 2.735   G_loss: 0.705:  87%|████████████████████████████████████████████▍      | 47/54 [00:05<00:00,  8.90it/s]"
     ]
    },
    {
     "name": "stdout",
     "output_type": "stream",
     "text": [
      "iteration : 45, gp: 0.10\n"
     ]
    },
    {
     "name": "stderr",
     "output_type": "stream",
     "text": [
      "D_loss: 2.040   G_loss: 0.709:  93%|███████████████████████████████████████████████▏   | 50/54 [00:05<00:00,  8.40it/s]"
     ]
    },
    {
     "name": "stdout",
     "output_type": "stream",
     "text": [
      "iteration : 48, gp: 0.04\n"
     ]
    },
    {
     "name": "stderr",
     "output_type": "stream",
     "text": [
      "D_loss: 1.722   G_loss: 0.703:  98%|██████████████████████████████████████████████████ | 53/54 [00:06<00:00,  8.83it/s]"
     ]
    },
    {
     "name": "stdout",
     "output_type": "stream",
     "text": [
      "iteration : 51, gp: 0.09\n"
     ]
    },
    {
     "name": "stderr",
     "output_type": "stream",
     "text": [
      "D_loss: 1.722   G_loss: 0.703: 100%|███████████████████████████████████████████████████| 54/54 [00:06<00:00,  8.74it/s]\n"
     ]
    },
    {
     "name": "stdout",
     "output_type": "stream",
     "text": [
      "Growing network to size: 8\n",
      "Output Resolution: 8 x 8\n",
      "epoch: 6/40\n"
     ]
    },
    {
     "name": "stderr",
     "output_type": "stream",
     "text": [
      "D_loss: 2.817   G_loss: 0.489:   2%|▉                                                   | 1/54 [00:00<00:37,  1.41it/s]"
     ]
    },
    {
     "name": "stdout",
     "output_type": "stream",
     "text": [
      "iteration : 0, gp: 5.27\n"
     ]
    },
    {
     "name": "stderr",
     "output_type": "stream",
     "text": [
      "D_loss: 4.012   G_loss: 0.146:   9%|████▊                                               | 5/54 [00:01<00:11,  4.16it/s]"
     ]
    },
    {
     "name": "stdout",
     "output_type": "stream",
     "text": [
      "iteration : 3, gp: 4.87\n"
     ]
    },
    {
     "name": "stderr",
     "output_type": "stream",
     "text": [
      "D_loss: 3.230   G_loss: 0.170:  15%|███████▋                                            | 8/54 [00:02<00:09,  4.89it/s]"
     ]
    },
    {
     "name": "stdout",
     "output_type": "stream",
     "text": [
      "iteration : 6, gp: 4.54\n"
     ]
    },
    {
     "name": "stderr",
     "output_type": "stream",
     "text": [
      "D_loss: 3.174   G_loss: 0.206:  20%|██████████▍                                        | 11/54 [00:02<00:08,  5.10it/s]"
     ]
    },
    {
     "name": "stdout",
     "output_type": "stream",
     "text": [
      "iteration : 9, gp: 4.19\n"
     ]
    },
    {
     "name": "stderr",
     "output_type": "stream",
     "text": [
      "D_loss: 2.818   G_loss: 0.201:  26%|█████████████▏                                     | 14/54 [00:03<00:07,  5.28it/s]"
     ]
    },
    {
     "name": "stdout",
     "output_type": "stream",
     "text": [
      "iteration : 12, gp: 3.86\n"
     ]
    },
    {
     "name": "stderr",
     "output_type": "stream",
     "text": [
      "D_loss: 2.252   G_loss: 0.237:  31%|████████████████                                   | 17/54 [00:03<00:07,  4.97it/s]"
     ]
    },
    {
     "name": "stdout",
     "output_type": "stream",
     "text": [
      "iteration : 15, gp: 3.67\n"
     ]
    },
    {
     "name": "stderr",
     "output_type": "stream",
     "text": [
      "D_loss: 1.569   G_loss: 0.246:  35%|█████████████████▉                                 | 19/54 [00:04<00:06,  5.10it/s]"
     ]
    },
    {
     "name": "stdout",
     "output_type": "stream",
     "text": [
      "iteration : 18, gp: 3.49\n"
     ]
    },
    {
     "name": "stderr",
     "output_type": "stream",
     "text": [
      "D_loss: 1.653   G_loss: 0.260:  43%|█████████████████████▋                             | 23/54 [00:04<00:05,  5.30it/s]"
     ]
    },
    {
     "name": "stdout",
     "output_type": "stream",
     "text": [
      "iteration : 21, gp: 3.15\n"
     ]
    },
    {
     "name": "stderr",
     "output_type": "stream",
     "text": [
      "D_loss: 1.081   G_loss: 0.294:  48%|████████████████████████▌                          | 26/54 [00:05<00:05,  5.32it/s]"
     ]
    },
    {
     "name": "stdout",
     "output_type": "stream",
     "text": [
      "iteration : 24, gp: 3.12\n"
     ]
    },
    {
     "name": "stderr",
     "output_type": "stream",
     "text": [
      "D_loss: 0.679   G_loss: 0.312:  54%|███████████████████████████▍                       | 29/54 [00:06<00:04,  5.29it/s]"
     ]
    },
    {
     "name": "stdout",
     "output_type": "stream",
     "text": [
      "iteration : 27, gp: 2.63\n"
     ]
    },
    {
     "name": "stderr",
     "output_type": "stream",
     "text": [
      "D_loss: 0.190   G_loss: 0.335:  59%|██████████████████████████████▏                    | 32/54 [00:06<00:04,  5.18it/s]"
     ]
    },
    {
     "name": "stdout",
     "output_type": "stream",
     "text": [
      "iteration : 30, gp: 2.41\n"
     ]
    },
    {
     "name": "stderr",
     "output_type": "stream",
     "text": [
      "D_loss: 0.523   G_loss: 0.349:  65%|█████████████████████████████████                  | 35/54 [00:07<00:03,  5.25it/s]"
     ]
    },
    {
     "name": "stdout",
     "output_type": "stream",
     "text": [
      "iteration : 33, gp: 2.23\n"
     ]
    },
    {
     "name": "stderr",
     "output_type": "stream",
     "text": [
      "D_loss: 0.271   G_loss: 0.388:  70%|███████████████████████████████████▉               | 38/54 [00:07<00:02,  5.35it/s]"
     ]
    },
    {
     "name": "stdout",
     "output_type": "stream",
     "text": [
      "iteration : 36, gp: 2.08\n"
     ]
    },
    {
     "name": "stderr",
     "output_type": "stream",
     "text": [
      "D_loss: 0.756   G_loss: 0.401:  76%|██████████████████████████████████████▋            | 41/54 [00:08<00:02,  5.22it/s]"
     ]
    },
    {
     "name": "stdout",
     "output_type": "stream",
     "text": [
      "iteration : 39, gp: 2.11\n"
     ]
    },
    {
     "name": "stderr",
     "output_type": "stream",
     "text": [
      "D_loss: 0.492   G_loss: 0.460:  81%|█████████████████████████████████████████▌         | 44/54 [00:08<00:01,  5.21it/s]"
     ]
    },
    {
     "name": "stdout",
     "output_type": "stream",
     "text": [
      "iteration : 42, gp: 1.73\n"
     ]
    },
    {
     "name": "stderr",
     "output_type": "stream",
     "text": [
      "D_loss: 0.514   G_loss: 0.454:  85%|███████████████████████████████████████████▍       | 46/54 [00:09<00:01,  5.17it/s]"
     ]
    },
    {
     "name": "stdout",
     "output_type": "stream",
     "text": [
      "iteration : 45, gp: 1.62\n"
     ]
    },
    {
     "name": "stderr",
     "output_type": "stream",
     "text": [
      "D_loss: 0.725   G_loss: 0.465:  93%|███████████████████████████████████████████████▏   | 50/54 [00:10<00:00,  5.13it/s]"
     ]
    },
    {
     "name": "stdout",
     "output_type": "stream",
     "text": [
      "iteration : 48, gp: 1.38\n"
     ]
    },
    {
     "name": "stderr",
     "output_type": "stream",
     "text": [
      "D_loss: 0.759   G_loss: 0.515:  96%|█████████████████████████████████████████████████  | 52/54 [00:10<00:00,  5.23it/s]"
     ]
    },
    {
     "name": "stdout",
     "output_type": "stream",
     "text": [
      "iteration : 51, gp: 1.25\n"
     ]
    },
    {
     "name": "stderr",
     "output_type": "stream",
     "text": [
      "D_loss: 0.759   G_loss: 0.515: 100%|███████████████████████████████████████████████████| 54/54 [00:10<00:00,  4.95it/s]\n"
     ]
    },
    {
     "name": "stdout",
     "output_type": "stream",
     "text": [
      "epoch: 7/40\n"
     ]
    },
    {
     "name": "stderr",
     "output_type": "stream",
     "text": [
      "D_loss: 1.159   G_loss: 0.532:   0%|                                                            | 0/54 [00:00<?, ?it/s]"
     ]
    },
    {
     "name": "stdout",
     "output_type": "stream",
     "text": [
      "iteration : 0, gp: 1.19\n"
     ]
    },
    {
     "name": "stderr",
     "output_type": "stream",
     "text": [
      "D_loss: 1.301   G_loss: 0.582:   9%|████▊                                               | 5/54 [00:00<00:09,  5.22it/s]"
     ]
    },
    {
     "name": "stdout",
     "output_type": "stream",
     "text": [
      "iteration : 3, gp: 1.46\n"
     ]
    },
    {
     "name": "stderr",
     "output_type": "stream",
     "text": [
      "D_loss: 1.376   G_loss: 0.587:  15%|███████▋                                            | 8/54 [00:01<00:09,  4.96it/s]"
     ]
    },
    {
     "name": "stdout",
     "output_type": "stream",
     "text": [
      "iteration : 6, gp: 1.09\n"
     ]
    },
    {
     "name": "stderr",
     "output_type": "stream",
     "text": [
      "D_loss: 1.283   G_loss: 0.635:  20%|██████████▍                                        | 11/54 [00:02<00:08,  5.15it/s]"
     ]
    },
    {
     "name": "stdout",
     "output_type": "stream",
     "text": [
      "iteration : 9, gp: 0.90\n"
     ]
    },
    {
     "name": "stderr",
     "output_type": "stream",
     "text": [
      "D_loss: 2.222   G_loss: 0.653:  26%|█████████████▏                                     | 14/54 [00:02<00:07,  5.15it/s]"
     ]
    },
    {
     "name": "stdout",
     "output_type": "stream",
     "text": [
      "iteration : 12, gp: 0.79\n"
     ]
    },
    {
     "name": "stderr",
     "output_type": "stream",
     "text": [
      "D_loss: 2.497   G_loss: 0.699:  30%|███████████████                                    | 16/54 [00:03<00:07,  5.05it/s]"
     ]
    },
    {
     "name": "stdout",
     "output_type": "stream",
     "text": [
      "iteration : 15, gp: 0.61\n"
     ]
    },
    {
     "name": "stderr",
     "output_type": "stream",
     "text": [
      "D_loss: 1.822   G_loss: 0.703:  37%|██████████████████▉                                | 20/54 [00:03<00:06,  5.25it/s]"
     ]
    },
    {
     "name": "stdout",
     "output_type": "stream",
     "text": [
      "iteration : 18, gp: 0.79\n"
     ]
    },
    {
     "name": "stderr",
     "output_type": "stream",
     "text": [
      "D_loss: 2.526   G_loss: 0.704:  43%|█████████████████████▋                             | 23/54 [00:04<00:05,  5.32it/s]"
     ]
    },
    {
     "name": "stdout",
     "output_type": "stream",
     "text": [
      "iteration : 21, gp: 0.69\n"
     ]
    },
    {
     "name": "stderr",
     "output_type": "stream",
     "text": [
      "D_loss: 2.367   G_loss: 0.793:  48%|████████████████████████▌                          | 26/54 [00:05<00:05,  5.16it/s]"
     ]
    },
    {
     "name": "stdout",
     "output_type": "stream",
     "text": [
      "iteration : 24, gp: 0.48\n"
     ]
    },
    {
     "name": "stderr",
     "output_type": "stream",
     "text": [
      "D_loss: 2.919   G_loss: 0.780:  54%|███████████████████████████▍                       | 29/54 [00:05<00:04,  5.30it/s]"
     ]
    },
    {
     "name": "stdout",
     "output_type": "stream",
     "text": [
      "iteration : 27, gp: 0.49\n"
     ]
    },
    {
     "name": "stderr",
     "output_type": "stream",
     "text": [
      "D_loss: 2.358   G_loss: 0.838:  57%|█████████████████████████████▎                     | 31/54 [00:06<00:04,  5.28it/s]"
     ]
    },
    {
     "name": "stdout",
     "output_type": "stream",
     "text": [
      "iteration : 30, gp: 0.36\n"
     ]
    },
    {
     "name": "stderr",
     "output_type": "stream",
     "text": [
      "D_loss: 2.784   G_loss: 0.863:  65%|█████████████████████████████████                  | 35/54 [00:06<00:03,  5.12it/s]"
     ]
    },
    {
     "name": "stdout",
     "output_type": "stream",
     "text": [
      "iteration : 33, gp: 0.37\n"
     ]
    },
    {
     "name": "stderr",
     "output_type": "stream",
     "text": [
      "D_loss: 3.486   G_loss: 0.914:  70%|███████████████████████████████████▉               | 38/54 [00:07<00:03,  5.21it/s]"
     ]
    },
    {
     "name": "stdout",
     "output_type": "stream",
     "text": [
      "iteration : 36, gp: 0.30\n"
     ]
    },
    {
     "name": "stderr",
     "output_type": "stream",
     "text": [
      "D_loss: 2.723   G_loss: 0.937:  76%|██████████████████████████████████████▋            | 41/54 [00:07<00:02,  5.24it/s]"
     ]
    },
    {
     "name": "stdout",
     "output_type": "stream",
     "text": [
      "iteration : 39, gp: 0.26\n"
     ]
    },
    {
     "name": "stderr",
     "output_type": "stream",
     "text": [
      "D_loss: 4.043   G_loss: 0.978:  81%|█████████████████████████████████████████▌         | 44/54 [00:08<00:01,  5.31it/s]"
     ]
    },
    {
     "name": "stdout",
     "output_type": "stream",
     "text": [
      "iteration : 42, gp: 0.22\n"
     ]
    },
    {
     "name": "stderr",
     "output_type": "stream",
     "text": [
      "D_loss: 3.108   G_loss: 1.020:  87%|████████████████████████████████████████████▍      | 47/54 [00:09<00:01,  5.40it/s]"
     ]
    },
    {
     "name": "stdout",
     "output_type": "stream",
     "text": [
      "iteration : 45, gp: 0.23\n"
     ]
    },
    {
     "name": "stderr",
     "output_type": "stream",
     "text": [
      "D_loss: 3.485   G_loss: 1.035:  93%|███████████████████████████████████████████████▏   | 50/54 [00:09<00:00,  5.35it/s]"
     ]
    },
    {
     "name": "stdout",
     "output_type": "stream",
     "text": [
      "iteration : 48, gp: 0.12\n"
     ]
    },
    {
     "name": "stderr",
     "output_type": "stream",
     "text": [
      "D_loss: 3.256   G_loss: 1.071:  98%|██████████████████████████████████████████████████ | 53/54 [00:10<00:00,  5.27it/s]"
     ]
    },
    {
     "name": "stdout",
     "output_type": "stream",
     "text": [
      "iteration : 51, gp: 0.08\n"
     ]
    },
    {
     "name": "stderr",
     "output_type": "stream",
     "text": [
      "D_loss: 3.256   G_loss: 1.071: 100%|███████████████████████████████████████████████████| 54/54 [00:10<00:00,  5.19it/s]\n"
     ]
    },
    {
     "name": "stdout",
     "output_type": "stream",
     "text": [
      "epoch: 8/40\n"
     ]
    },
    {
     "name": "stderr",
     "output_type": "stream",
     "text": [
      "D_loss: 3.349   G_loss: 1.109:   4%|█▉                                                  | 2/54 [00:00<00:13,  3.86it/s]"
     ]
    },
    {
     "name": "stdout",
     "output_type": "stream",
     "text": [
      "iteration : 0, gp: 0.09\n"
     ]
    },
    {
     "name": "stderr",
     "output_type": "stream",
     "text": [
      "D_loss: 3.073   G_loss: 1.124:   9%|████▊                                               | 5/54 [00:01<00:10,  4.86it/s]"
     ]
    },
    {
     "name": "stdout",
     "output_type": "stream",
     "text": [
      "iteration : 3, gp: 0.08\n"
     ]
    },
    {
     "name": "stderr",
     "output_type": "stream",
     "text": [
      "D_loss: 3.526   G_loss: 1.169:  15%|███████▋                                            | 8/54 [00:01<00:08,  5.16it/s]"
     ]
    },
    {
     "name": "stdout",
     "output_type": "stream",
     "text": [
      "iteration : 6, gp: 0.15\n"
     ]
    },
    {
     "name": "stderr",
     "output_type": "stream",
     "text": [
      "D_loss: 2.751   G_loss: 1.224:  20%|██████████▍                                        | 11/54 [00:02<00:08,  5.29it/s]"
     ]
    },
    {
     "name": "stdout",
     "output_type": "stream",
     "text": [
      "iteration : 9, gp: 0.02\n"
     ]
    },
    {
     "name": "stderr",
     "output_type": "stream",
     "text": [
      "D_loss: 2.702   G_loss: 1.250:  26%|█████████████▏                                     | 14/54 [00:02<00:07,  5.27it/s]"
     ]
    },
    {
     "name": "stdout",
     "output_type": "stream",
     "text": [
      "iteration : 12, gp: 0.07\n"
     ]
    },
    {
     "name": "stderr",
     "output_type": "stream",
     "text": [
      "D_loss: 3.955   G_loss: 1.242:  31%|████████████████                                   | 17/54 [00:03<00:07,  5.23it/s]"
     ]
    },
    {
     "name": "stdout",
     "output_type": "stream",
     "text": [
      "iteration : 15, gp: 0.07\n"
     ]
    },
    {
     "name": "stderr",
     "output_type": "stream",
     "text": [
      "D_loss: 3.784   G_loss: 1.271:  37%|██████████████████▉                                | 20/54 [00:03<00:06,  5.30it/s]"
     ]
    },
    {
     "name": "stdout",
     "output_type": "stream",
     "text": [
      "iteration : 18, gp: 0.01\n"
     ]
    },
    {
     "name": "stderr",
     "output_type": "stream",
     "text": [
      "D_loss: 4.758   G_loss: 1.364:  41%|████████████████████▊                              | 22/54 [00:04<00:06,  5.27it/s]"
     ]
    },
    {
     "name": "stdout",
     "output_type": "stream",
     "text": [
      "iteration : 21, gp: 0.04\n"
     ]
    },
    {
     "name": "stderr",
     "output_type": "stream",
     "text": [
      "D_loss: 3.863   G_loss: 1.359:  48%|████████████████████████▌                          | 26/54 [00:05<00:05,  5.04it/s]"
     ]
    },
    {
     "name": "stdout",
     "output_type": "stream",
     "text": [
      "iteration : 24, gp: 0.00\n"
     ]
    },
    {
     "name": "stderr",
     "output_type": "stream",
     "text": [
      "D_loss: 3.753   G_loss: 1.421:  54%|███████████████████████████▍                       | 29/54 [00:05<00:04,  5.25it/s]"
     ]
    },
    {
     "name": "stdout",
     "output_type": "stream",
     "text": [
      "iteration : 27, gp: 0.00\n"
     ]
    },
    {
     "name": "stderr",
     "output_type": "stream",
     "text": [
      "D_loss: 3.201   G_loss: 1.445:  59%|██████████████████████████████▏                    | 32/54 [00:06<00:04,  5.19it/s]"
     ]
    },
    {
     "name": "stdout",
     "output_type": "stream",
     "text": [
      "iteration : 30, gp: 0.00\n"
     ]
    },
    {
     "name": "stderr",
     "output_type": "stream",
     "text": [
      "D_loss: 4.121   G_loss: 1.438:  65%|█████████████████████████████████                  | 35/54 [00:06<00:03,  5.08it/s]"
     ]
    },
    {
     "name": "stdout",
     "output_type": "stream",
     "text": [
      "iteration : 33, gp: 0.01\n"
     ]
    },
    {
     "name": "stderr",
     "output_type": "stream",
     "text": [
      "D_loss: 3.580   G_loss: 1.491:  70%|███████████████████████████████████▉               | 38/54 [00:07<00:03,  5.08it/s]"
     ]
    },
    {
     "name": "stdout",
     "output_type": "stream",
     "text": [
      "iteration : 36, gp: 0.00\n"
     ]
    },
    {
     "name": "stderr",
     "output_type": "stream",
     "text": [
      "D_loss: 4.058   G_loss: 1.512:  76%|██████████████████████████████████████▋            | 41/54 [00:08<00:02,  5.11it/s]"
     ]
    },
    {
     "name": "stdout",
     "output_type": "stream",
     "text": [
      "iteration : 39, gp: 0.00\n"
     ]
    },
    {
     "name": "stderr",
     "output_type": "stream",
     "text": [
      "D_loss: 3.916   G_loss: 1.622:  80%|████████████████████████████████████████▌          | 43/54 [00:08<00:02,  5.09it/s]"
     ]
    },
    {
     "name": "stdout",
     "output_type": "stream",
     "text": [
      "iteration : 42, gp: 0.02\n"
     ]
    },
    {
     "name": "stderr",
     "output_type": "stream",
     "text": [
      "D_loss: 4.382   G_loss: 1.593:  85%|███████████████████████████████████████████▍       | 46/54 [00:09<00:01,  5.21it/s]"
     ]
    },
    {
     "name": "stdout",
     "output_type": "stream",
     "text": [
      "iteration : 45, gp: 0.03\n"
     ]
    },
    {
     "name": "stderr",
     "output_type": "stream",
     "text": [
      "D_loss: 4.602   G_loss: 1.662:  91%|██████████████████████████████████████████████▎    | 49/54 [00:09<00:00,  5.29it/s]"
     ]
    },
    {
     "name": "stdout",
     "output_type": "stream",
     "text": [
      "iteration : 48, gp: 0.03\n"
     ]
    },
    {
     "name": "stderr",
     "output_type": "stream",
     "text": [
      "D_loss: 3.243   G_loss: 1.639:  98%|██████████████████████████████████████████████████ | 53/54 [00:10<00:00,  5.25it/s]"
     ]
    },
    {
     "name": "stdout",
     "output_type": "stream",
     "text": [
      "iteration : 51, gp: 0.04\n"
     ]
    },
    {
     "name": "stderr",
     "output_type": "stream",
     "text": [
      "D_loss: 3.243   G_loss: 1.639: 100%|███████████████████████████████████████████████████| 54/54 [00:10<00:00,  5.11it/s]\n"
     ]
    },
    {
     "name": "stdout",
     "output_type": "stream",
     "text": [
      "epoch: 9/40\n"
     ]
    },
    {
     "name": "stderr",
     "output_type": "stream",
     "text": [
      "D_loss: 4.642   G_loss: 1.702:   0%|                                                            | 0/54 [00:00<?, ?it/s]"
     ]
    },
    {
     "name": "stdout",
     "output_type": "stream",
     "text": [
      "iteration : 0, gp: 0.05\n"
     ]
    },
    {
     "name": "stderr",
     "output_type": "stream",
     "text": [
      "D_loss: 3.134   G_loss: 1.707:   9%|████▊                                               | 5/54 [00:01<00:09,  5.12it/s]"
     ]
    },
    {
     "name": "stdout",
     "output_type": "stream",
     "text": [
      "iteration : 3, gp: 0.03\n"
     ]
    },
    {
     "name": "stderr",
     "output_type": "stream",
     "text": [
      "D_loss: 4.235   G_loss: 1.760:  13%|██████▋                                             | 7/54 [00:01<00:09,  5.13it/s]"
     ]
    },
    {
     "name": "stdout",
     "output_type": "stream",
     "text": [
      "iteration : 6, gp: 0.07\n"
     ]
    },
    {
     "name": "stderr",
     "output_type": "stream",
     "text": [
      "D_loss: 3.836   G_loss: 1.799:  20%|██████████▍                                        | 11/54 [00:02<00:08,  5.21it/s]"
     ]
    },
    {
     "name": "stdout",
     "output_type": "stream",
     "text": [
      "iteration : 9, gp: 0.06\n"
     ]
    },
    {
     "name": "stderr",
     "output_type": "stream",
     "text": [
      "D_loss: 3.426   G_loss: 1.810:  26%|█████████████▏                                     | 14/54 [00:02<00:07,  5.24it/s]"
     ]
    },
    {
     "name": "stdout",
     "output_type": "stream",
     "text": [
      "iteration : 12, gp: 0.10\n"
     ]
    },
    {
     "name": "stderr",
     "output_type": "stream",
     "text": [
      "D_loss: 4.237   G_loss: 1.834:  31%|████████████████                                   | 17/54 [00:03<00:07,  5.26it/s]"
     ]
    },
    {
     "name": "stdout",
     "output_type": "stream",
     "text": [
      "iteration : 15, gp: 0.09\n"
     ]
    },
    {
     "name": "stderr",
     "output_type": "stream",
     "text": [
      "D_loss: 3.775   G_loss: 1.825:  37%|██████████████████▉                                | 20/54 [00:03<00:06,  5.24it/s]"
     ]
    },
    {
     "name": "stdout",
     "output_type": "stream",
     "text": [
      "iteration : 18, gp: 0.06\n"
     ]
    },
    {
     "name": "stderr",
     "output_type": "stream",
     "text": [
      "D_loss: 3.929   G_loss: 1.908:  43%|█████████████████████▋                             | 23/54 [00:04<00:05,  5.25it/s]"
     ]
    },
    {
     "name": "stdout",
     "output_type": "stream",
     "text": [
      "iteration : 21, gp: 0.14\n"
     ]
    },
    {
     "name": "stderr",
     "output_type": "stream",
     "text": [
      "D_loss: 3.993   G_loss: 1.870:  48%|████████████████████████▌                          | 26/54 [00:05<00:05,  5.21it/s]"
     ]
    },
    {
     "name": "stdout",
     "output_type": "stream",
     "text": [
      "iteration : 24, gp: 0.08\n"
     ]
    },
    {
     "name": "stderr",
     "output_type": "stream",
     "text": [
      "D_loss: 4.586   G_loss: 1.922:  54%|███████████████████████████▍                       | 29/54 [00:05<00:04,  5.29it/s]"
     ]
    },
    {
     "name": "stdout",
     "output_type": "stream",
     "text": [
      "iteration : 27, gp: 0.14\n"
     ]
    },
    {
     "name": "stderr",
     "output_type": "stream",
     "text": [
      "D_loss: 4.009   G_loss: 2.019:  59%|██████████████████████████████▏                    | 32/54 [00:06<00:04,  5.27it/s]"
     ]
    },
    {
     "name": "stdout",
     "output_type": "stream",
     "text": [
      "iteration : 30, gp: 0.09\n"
     ]
    },
    {
     "name": "stderr",
     "output_type": "stream",
     "text": [
      "D_loss: 4.537   G_loss: 2.007:  65%|█████████████████████████████████                  | 35/54 [00:06<00:03,  5.26it/s]"
     ]
    },
    {
     "name": "stdout",
     "output_type": "stream",
     "text": [
      "iteration : 33, gp: 0.17\n"
     ]
    },
    {
     "name": "stderr",
     "output_type": "stream",
     "text": [
      "D_loss: 3.522   G_loss: 2.014:  69%|██████████████████████████████████▉                | 37/54 [00:07<00:03,  5.10it/s]"
     ]
    },
    {
     "name": "stdout",
     "output_type": "stream",
     "text": [
      "iteration : 36, gp: 0.12\n"
     ]
    },
    {
     "name": "stderr",
     "output_type": "stream",
     "text": [
      "D_loss: 3.254   G_loss: 2.051:  76%|██████████████████████████████████████▋            | 41/54 [00:07<00:02,  5.27it/s]"
     ]
    },
    {
     "name": "stdout",
     "output_type": "stream",
     "text": [
      "iteration : 39, gp: 0.10\n"
     ]
    },
    {
     "name": "stderr",
     "output_type": "stream",
     "text": [
      "D_loss: 5.245   G_loss: 2.171:  81%|█████████████████████████████████████████▌         | 44/54 [00:08<00:01,  5.33it/s]"
     ]
    },
    {
     "name": "stdout",
     "output_type": "stream",
     "text": [
      "iteration : 42, gp: 0.17\n"
     ]
    },
    {
     "name": "stderr",
     "output_type": "stream",
     "text": [
      "D_loss: 3.788   G_loss: 2.108:  87%|████████████████████████████████████████████▍      | 47/54 [00:09<00:01,  5.19it/s]"
     ]
    },
    {
     "name": "stdout",
     "output_type": "stream",
     "text": [
      "iteration : 45, gp: 0.18\n"
     ]
    },
    {
     "name": "stderr",
     "output_type": "stream",
     "text": [
      "D_loss: 3.166   G_loss: 2.154:  93%|███████████████████████████████████████████████▏   | 50/54 [00:09<00:00,  5.30it/s]"
     ]
    },
    {
     "name": "stdout",
     "output_type": "stream",
     "text": [
      "iteration : 48, gp: 0.12\n"
     ]
    },
    {
     "name": "stderr",
     "output_type": "stream",
     "text": [
      "D_loss: 4.013   G_loss: 2.140:  98%|██████████████████████████████████████████████████ | 53/54 [00:10<00:00,  5.15it/s]"
     ]
    },
    {
     "name": "stdout",
     "output_type": "stream",
     "text": [
      "iteration : 51, gp: 0.15\n"
     ]
    },
    {
     "name": "stderr",
     "output_type": "stream",
     "text": [
      "D_loss: 4.013   G_loss: 2.140: 100%|███████████████████████████████████████████████████| 54/54 [00:10<00:00,  5.20it/s]\n"
     ]
    },
    {
     "name": "stdout",
     "output_type": "stream",
     "text": [
      "epoch: 10/40\n"
     ]
    },
    {
     "name": "stderr",
     "output_type": "stream",
     "text": [
      "D_loss: 3.191   G_loss: 2.187:   0%|                                                            | 0/54 [00:00<?, ?it/s]"
     ]
    },
    {
     "name": "stdout",
     "output_type": "stream",
     "text": [
      "iteration : 0, gp: 0.17\n"
     ]
    },
    {
     "name": "stderr",
     "output_type": "stream",
     "text": [
      "D_loss: 4.058   G_loss: 2.217:   9%|████▊                                               | 5/54 [00:00<00:09,  5.25it/s]"
     ]
    },
    {
     "name": "stdout",
     "output_type": "stream",
     "text": [
      "iteration : 3, gp: 0.19\n"
     ]
    },
    {
     "name": "stderr",
     "output_type": "stream",
     "text": [
      "D_loss: 2.665   G_loss: 2.222:  15%|███████▋                                            | 8/54 [00:01<00:08,  5.12it/s]"
     ]
    },
    {
     "name": "stdout",
     "output_type": "stream",
     "text": [
      "iteration : 6, gp: 0.22\n"
     ]
    },
    {
     "name": "stderr",
     "output_type": "stream",
     "text": [
      "D_loss: 3.612   G_loss: 2.260:  20%|██████████▍                                        | 11/54 [00:02<00:08,  5.14it/s]"
     ]
    },
    {
     "name": "stdout",
     "output_type": "stream",
     "text": [
      "iteration : 9, gp: 0.23\n"
     ]
    },
    {
     "name": "stderr",
     "output_type": "stream",
     "text": [
      "D_loss: 3.693   G_loss: 2.288:  26%|█████████████▏                                     | 14/54 [00:02<00:08,  4.75it/s]"
     ]
    },
    {
     "name": "stdout",
     "output_type": "stream",
     "text": [
      "iteration : 12, gp: 0.17\n"
     ]
    },
    {
     "name": "stderr",
     "output_type": "stream",
     "text": [
      "D_loss: 3.694   G_loss: 2.307:  31%|████████████████                                   | 17/54 [00:03<00:07,  5.07it/s]"
     ]
    },
    {
     "name": "stdout",
     "output_type": "stream",
     "text": [
      "iteration : 15, gp: 0.18\n"
     ]
    },
    {
     "name": "stderr",
     "output_type": "stream",
     "text": [
      "D_loss: 3.235   G_loss: 2.292:  37%|██████████████████▉                                | 20/54 [00:03<00:06,  5.23it/s]"
     ]
    },
    {
     "name": "stdout",
     "output_type": "stream",
     "text": [
      "iteration : 18, gp: 0.26\n"
     ]
    },
    {
     "name": "stderr",
     "output_type": "stream",
     "text": [
      "D_loss: 3.516   G_loss: 2.292:  41%|████████████████████▊                              | 22/54 [00:04<00:06,  5.28it/s]"
     ]
    },
    {
     "name": "stdout",
     "output_type": "stream",
     "text": [
      "iteration : 21, gp: 0.13\n"
     ]
    },
    {
     "name": "stderr",
     "output_type": "stream",
     "text": [
      "D_loss: 3.054   G_loss: 2.325:  46%|███████████████████████▌                           | 25/54 [00:04<00:05,  4.95it/s]"
     ]
    },
    {
     "name": "stdout",
     "output_type": "stream",
     "text": [
      "iteration : 24, gp: 0.21\n"
     ]
    },
    {
     "name": "stderr",
     "output_type": "stream",
     "text": [
      "D_loss: 3.695   G_loss: 2.338:  52%|██████████████████████████▍                        | 28/54 [00:05<00:05,  5.13it/s]"
     ]
    },
    {
     "name": "stdout",
     "output_type": "stream",
     "text": [
      "iteration : 27, gp: 0.22\n"
     ]
    },
    {
     "name": "stderr",
     "output_type": "stream",
     "text": [
      "D_loss: 3.423   G_loss: 2.334:  57%|█████████████████████████████▎                     | 31/54 [00:06<00:04,  5.17it/s]"
     ]
    },
    {
     "name": "stdout",
     "output_type": "stream",
     "text": [
      "iteration : 30, gp: 0.20\n"
     ]
    },
    {
     "name": "stderr",
     "output_type": "stream",
     "text": [
      "D_loss: 4.605   G_loss: 2.391:  65%|█████████████████████████████████                  | 35/54 [00:06<00:03,  5.19it/s]"
     ]
    },
    {
     "name": "stdout",
     "output_type": "stream",
     "text": [
      "iteration : 33, gp: 0.24\n"
     ]
    },
    {
     "name": "stderr",
     "output_type": "stream",
     "text": [
      "D_loss: 3.783   G_loss: 2.441:  70%|███████████████████████████████████▉               | 38/54 [00:07<00:03,  5.31it/s]"
     ]
    },
    {
     "name": "stdout",
     "output_type": "stream",
     "text": [
      "iteration : 36, gp: 0.21\n"
     ]
    },
    {
     "name": "stderr",
     "output_type": "stream",
     "text": [
      "D_loss: 3.613   G_loss: 2.461:  76%|██████████████████████████████████████▋            | 41/54 [00:08<00:02,  5.29it/s]"
     ]
    },
    {
     "name": "stdout",
     "output_type": "stream",
     "text": [
      "iteration : 39, gp: 0.19\n"
     ]
    },
    {
     "name": "stderr",
     "output_type": "stream",
     "text": [
      "D_loss: 4.212   G_loss: 2.470:  81%|█████████████████████████████████████████▌         | 44/54 [00:08<00:01,  5.30it/s]"
     ]
    },
    {
     "name": "stdout",
     "output_type": "stream",
     "text": [
      "iteration : 42, gp: 0.25\n"
     ]
    },
    {
     "name": "stderr",
     "output_type": "stream",
     "text": [
      "D_loss: 4.106   G_loss: 2.504:  87%|████████████████████████████████████████████▍      | 47/54 [00:09<00:01,  5.19it/s]"
     ]
    },
    {
     "name": "stdout",
     "output_type": "stream",
     "text": [
      "iteration : 45, gp: 0.21\n"
     ]
    },
    {
     "name": "stderr",
     "output_type": "stream",
     "text": [
      "D_loss: 4.498   G_loss: 2.562:  93%|███████████████████████████████████████████████▏   | 50/54 [00:09<00:00,  5.31it/s]"
     ]
    },
    {
     "name": "stdout",
     "output_type": "stream",
     "text": [
      "iteration : 48, gp: 0.24\n"
     ]
    },
    {
     "name": "stderr",
     "output_type": "stream",
     "text": [
      "D_loss: 4.305   G_loss: 2.561:  98%|██████████████████████████████████████████████████ | 53/54 [00:10<00:00,  5.21it/s]"
     ]
    },
    {
     "name": "stdout",
     "output_type": "stream",
     "text": [
      "iteration : 51, gp: 0.26\n"
     ]
    },
    {
     "name": "stderr",
     "output_type": "stream",
     "text": [
      "D_loss: 4.305   G_loss: 2.561: 100%|███████████████████████████████████████████████████| 54/54 [00:10<00:00,  5.15it/s]\n"
     ]
    },
    {
     "name": "stdout",
     "output_type": "stream",
     "text": [
      "epoch: 11/40\n"
     ]
    },
    {
     "name": "stderr",
     "output_type": "stream",
     "text": [
      "D_loss: 3.345   G_loss: 2.579:   0%|                                                            | 0/54 [00:00<?, ?it/s]"
     ]
    },
    {
     "name": "stdout",
     "output_type": "stream",
     "text": [
      "iteration : 0, gp: 0.19\n"
     ]
    },
    {
     "name": "stderr",
     "output_type": "stream",
     "text": [
      "D_loss: 2.408   G_loss: 2.553:   9%|████▊                                               | 5/54 [00:00<00:09,  5.24it/s]"
     ]
    },
    {
     "name": "stdout",
     "output_type": "stream",
     "text": [
      "iteration : 3, gp: 0.19\n"
     ]
    },
    {
     "name": "stderr",
     "output_type": "stream",
     "text": [
      "D_loss: 4.129   G_loss: 2.564:  15%|███████▋                                            | 8/54 [00:01<00:08,  5.15it/s]"
     ]
    },
    {
     "name": "stdout",
     "output_type": "stream",
     "text": [
      "iteration : 6, gp: 0.23\n"
     ]
    },
    {
     "name": "stderr",
     "output_type": "stream",
     "text": [
      "D_loss: 4.956   G_loss: 2.597:  20%|██████████▍                                        | 11/54 [00:02<00:08,  5.07it/s]"
     ]
    },
    {
     "name": "stdout",
     "output_type": "stream",
     "text": [
      "iteration : 9, gp: 0.28\n"
     ]
    },
    {
     "name": "stderr",
     "output_type": "stream",
     "text": [
      "D_loss: 3.578   G_loss: 2.662:  26%|█████████████▏                                     | 14/54 [00:02<00:07,  5.09it/s]"
     ]
    },
    {
     "name": "stdout",
     "output_type": "stream",
     "text": [
      "iteration : 12, gp: 0.23\n"
     ]
    },
    {
     "name": "stderr",
     "output_type": "stream",
     "text": [
      "D_loss: 4.207   G_loss: 2.650:  30%|███████████████                                    | 16/54 [00:03<00:07,  5.19it/s]"
     ]
    },
    {
     "name": "stdout",
     "output_type": "stream",
     "text": [
      "iteration : 15, gp: 0.28\n"
     ]
    },
    {
     "name": "stderr",
     "output_type": "stream",
     "text": [
      "D_loss: 3.711   G_loss: 2.648:  37%|██████████████████▉                                | 20/54 [00:03<00:06,  5.19it/s]"
     ]
    },
    {
     "name": "stdout",
     "output_type": "stream",
     "text": [
      "iteration : 18, gp: 0.27\n"
     ]
    },
    {
     "name": "stderr",
     "output_type": "stream",
     "text": [
      "D_loss: 3.991   G_loss: 2.650:  43%|█████████████████████▋                             | 23/54 [00:04<00:05,  5.21it/s]"
     ]
    },
    {
     "name": "stdout",
     "output_type": "stream",
     "text": [
      "iteration : 21, gp: 0.27\n"
     ]
    },
    {
     "name": "stderr",
     "output_type": "stream",
     "text": [
      "D_loss: 2.901   G_loss: 2.678:  48%|████████████████████████▌                          | 26/54 [00:05<00:05,  5.31it/s]"
     ]
    },
    {
     "name": "stdout",
     "output_type": "stream",
     "text": [
      "iteration : 24, gp: 0.26\n"
     ]
    },
    {
     "name": "stderr",
     "output_type": "stream",
     "text": [
      "D_loss: 3.371   G_loss: 2.689:  54%|███████████████████████████▍                       | 29/54 [00:05<00:04,  5.22it/s]"
     ]
    },
    {
     "name": "stdout",
     "output_type": "stream",
     "text": [
      "iteration : 27, gp: 0.28\n"
     ]
    },
    {
     "name": "stderr",
     "output_type": "stream",
     "text": [
      "D_loss: 3.118   G_loss: 2.709:  59%|██████████████████████████████▏                    | 32/54 [00:06<00:04,  5.27it/s]"
     ]
    },
    {
     "name": "stdout",
     "output_type": "stream",
     "text": [
      "iteration : 30, gp: 0.24\n"
     ]
    },
    {
     "name": "stderr",
     "output_type": "stream",
     "text": [
      "D_loss: 3.517   G_loss: 2.732:  65%|█████████████████████████████████                  | 35/54 [00:06<00:03,  5.02it/s]"
     ]
    },
    {
     "name": "stdout",
     "output_type": "stream",
     "text": [
      "iteration : 33, gp: 0.24\n"
     ]
    },
    {
     "name": "stderr",
     "output_type": "stream",
     "text": [
      "D_loss: 3.864   G_loss: 2.756:  70%|███████████████████████████████████▉               | 38/54 [00:07<00:03,  5.16it/s]"
     ]
    },
    {
     "name": "stdout",
     "output_type": "stream",
     "text": [
      "iteration : 36, gp: 0.31\n"
     ]
    },
    {
     "name": "stderr",
     "output_type": "stream",
     "text": [
      "D_loss: 1.774   G_loss: 2.710:  76%|██████████████████████████████████████▋            | 41/54 [00:07<00:02,  5.23it/s]"
     ]
    },
    {
     "name": "stdout",
     "output_type": "stream",
     "text": [
      "iteration : 39, gp: 0.17\n"
     ]
    },
    {
     "name": "stderr",
     "output_type": "stream",
     "text": [
      "D_loss: 5.001   G_loss: 2.770:  81%|█████████████████████████████████████████▌         | 44/54 [00:08<00:01,  5.36it/s]"
     ]
    },
    {
     "name": "stdout",
     "output_type": "stream",
     "text": [
      "iteration : 42, gp: 0.23\n"
     ]
    },
    {
     "name": "stderr",
     "output_type": "stream",
     "text": [
      "D_loss: 3.849   G_loss: 2.788:  87%|████████████████████████████████████████████▍      | 47/54 [00:09<00:01,  5.29it/s]"
     ]
    },
    {
     "name": "stdout",
     "output_type": "stream",
     "text": [
      "iteration : 45, gp: 0.27\n"
     ]
    },
    {
     "name": "stderr",
     "output_type": "stream",
     "text": [
      "D_loss: 4.021   G_loss: 2.803:  93%|███████████████████████████████████████████████▏   | 50/54 [00:09<00:00,  5.20it/s]"
     ]
    },
    {
     "name": "stdout",
     "output_type": "stream",
     "text": [
      "iteration : 48, gp: 0.25\n"
     ]
    },
    {
     "name": "stderr",
     "output_type": "stream",
     "text": [
      "D_loss: 3.172   G_loss: 2.849:  96%|█████████████████████████████████████████████████  | 52/54 [00:10<00:00,  5.17it/s]"
     ]
    },
    {
     "name": "stdout",
     "output_type": "stream",
     "text": [
      "iteration : 51, gp: 0.30\n"
     ]
    },
    {
     "name": "stderr",
     "output_type": "stream",
     "text": [
      "D_loss: 3.172   G_loss: 2.849: 100%|███████████████████████████████████████████████████| 54/54 [00:10<00:00,  5.19it/s]\n"
     ]
    },
    {
     "name": "stdout",
     "output_type": "stream",
     "text": [
      "epoch: 12/40\n"
     ]
    },
    {
     "name": "stderr",
     "output_type": "stream",
     "text": [
      "D_loss: 2.693   G_loss: 2.836:   0%|                                                            | 0/54 [00:00<?, ?it/s]"
     ]
    },
    {
     "name": "stdout",
     "output_type": "stream",
     "text": [
      "iteration : 0, gp: 0.22\n"
     ]
    },
    {
     "name": "stderr",
     "output_type": "stream",
     "text": [
      "D_loss: 4.025   G_loss: 2.844:   9%|████▊                                               | 5/54 [00:00<00:09,  5.20it/s]"
     ]
    },
    {
     "name": "stdout",
     "output_type": "stream",
     "text": [
      "iteration : 3, gp: 0.20\n"
     ]
    },
    {
     "name": "stderr",
     "output_type": "stream",
     "text": [
      "D_loss: 2.664   G_loss: 2.811:  15%|███████▋                                            | 8/54 [00:01<00:08,  5.26it/s]"
     ]
    },
    {
     "name": "stdout",
     "output_type": "stream",
     "text": [
      "iteration : 6, gp: 0.19\n"
     ]
    },
    {
     "name": "stderr",
     "output_type": "stream",
     "text": [
      "D_loss: 3.438   G_loss: 2.849:  19%|█████████▍                                         | 10/54 [00:01<00:08,  5.16it/s]"
     ]
    },
    {
     "name": "stdout",
     "output_type": "stream",
     "text": [
      "iteration : 9, gp: 0.22\n"
     ]
    },
    {
     "name": "stderr",
     "output_type": "stream",
     "text": [
      "D_loss: 3.105   G_loss: 2.886:  26%|█████████████▏                                     | 14/54 [00:02<00:07,  5.37it/s]"
     ]
    },
    {
     "name": "stdout",
     "output_type": "stream",
     "text": [
      "iteration : 12, gp: 0.26\n"
     ]
    },
    {
     "name": "stderr",
     "output_type": "stream",
     "text": [
      "D_loss: 4.221   G_loss: 2.886:  31%|████████████████                                   | 17/54 [00:03<00:06,  5.32it/s]"
     ]
    },
    {
     "name": "stdout",
     "output_type": "stream",
     "text": [
      "iteration : 15, gp: 0.20\n"
     ]
    },
    {
     "name": "stderr",
     "output_type": "stream",
     "text": [
      "D_loss: 3.934   G_loss: 2.920:  35%|█████████████████▉                                 | 19/54 [00:03<00:06,  5.31it/s]"
     ]
    },
    {
     "name": "stdout",
     "output_type": "stream",
     "text": [
      "iteration : 18, gp: 0.23\n"
     ]
    },
    {
     "name": "stderr",
     "output_type": "stream",
     "text": [
      "D_loss: 3.597   G_loss: 2.931:  43%|█████████████████████▋                             | 23/54 [00:04<00:05,  5.20it/s]"
     ]
    },
    {
     "name": "stdout",
     "output_type": "stream",
     "text": [
      "iteration : 21, gp: 0.24\n"
     ]
    },
    {
     "name": "stderr",
     "output_type": "stream",
     "text": [
      "D_loss: 2.905   G_loss: 2.947:  46%|███████████████████████▌                           | 25/54 [00:04<00:05,  5.18it/s]"
     ]
    },
    {
     "name": "stdout",
     "output_type": "stream",
     "text": [
      "iteration : 24, gp: 0.28\n"
     ]
    },
    {
     "name": "stderr",
     "output_type": "stream",
     "text": [
      "D_loss: 4.050   G_loss: 2.960:  54%|███████████████████████████▍                       | 29/54 [00:05<00:04,  5.34it/s]"
     ]
    },
    {
     "name": "stdout",
     "output_type": "stream",
     "text": [
      "iteration : 27, gp: 0.32\n"
     ]
    },
    {
     "name": "stderr",
     "output_type": "stream",
     "text": [
      "D_loss: 2.797   G_loss: 3.017:  59%|██████████████████████████████▏                    | 32/54 [00:06<00:04,  4.84it/s]"
     ]
    },
    {
     "name": "stdout",
     "output_type": "stream",
     "text": [
      "iteration : 30, gp: 0.25\n"
     ]
    },
    {
     "name": "stderr",
     "output_type": "stream",
     "text": [
      "D_loss: 3.137   G_loss: 3.000:  65%|█████████████████████████████████                  | 35/54 [00:06<00:03,  4.98it/s]"
     ]
    },
    {
     "name": "stdout",
     "output_type": "stream",
     "text": [
      "iteration : 33, gp: 0.20\n"
     ]
    },
    {
     "name": "stderr",
     "output_type": "stream",
     "text": [
      "D_loss: 3.773   G_loss: 2.985:  70%|███████████████████████████████████▉               | 38/54 [00:07<00:03,  5.04it/s]"
     ]
    },
    {
     "name": "stdout",
     "output_type": "stream",
     "text": [
      "iteration : 36, gp: 0.33\n"
     ]
    },
    {
     "name": "stderr",
     "output_type": "stream",
     "text": [
      "D_loss: 4.917   G_loss: 3.040:  76%|██████████████████████████████████████▋            | 41/54 [00:07<00:02,  5.19it/s]"
     ]
    },
    {
     "name": "stdout",
     "output_type": "stream",
     "text": [
      "iteration : 39, gp: 0.23\n"
     ]
    },
    {
     "name": "stderr",
     "output_type": "stream",
     "text": [
      "D_loss: 3.263   G_loss: 3.029:  81%|█████████████████████████████████████████▌         | 44/54 [00:08<00:01,  5.20it/s]"
     ]
    },
    {
     "name": "stdout",
     "output_type": "stream",
     "text": [
      "iteration : 42, gp: 0.24\n"
     ]
    },
    {
     "name": "stderr",
     "output_type": "stream",
     "text": [
      "D_loss: 3.093   G_loss: 3.044:  87%|████████████████████████████████████████████▍      | 47/54 [00:09<00:01,  5.21it/s]"
     ]
    },
    {
     "name": "stdout",
     "output_type": "stream",
     "text": [
      "iteration : 45, gp: 0.22\n"
     ]
    },
    {
     "name": "stderr",
     "output_type": "stream",
     "text": [
      "D_loss: 2.597   G_loss: 3.037:  93%|███████████████████████████████████████████████▏   | 50/54 [00:09<00:00,  5.22it/s]"
     ]
    },
    {
     "name": "stdout",
     "output_type": "stream",
     "text": [
      "iteration : 48, gp: 0.17\n"
     ]
    },
    {
     "name": "stderr",
     "output_type": "stream",
     "text": [
      "D_loss: 3.211   G_loss: 3.075:  98%|██████████████████████████████████████████████████ | 53/54 [00:10<00:00,  5.25it/s]"
     ]
    },
    {
     "name": "stdout",
     "output_type": "stream",
     "text": [
      "iteration : 51, gp: 0.24\n"
     ]
    },
    {
     "name": "stderr",
     "output_type": "stream",
     "text": [
      "D_loss: 3.211   G_loss: 3.075: 100%|███████████████████████████████████████████████████| 54/54 [00:10<00:00,  5.19it/s]\n"
     ]
    },
    {
     "name": "stdout",
     "output_type": "stream",
     "text": [
      "epoch: 13/40\n"
     ]
    },
    {
     "name": "stderr",
     "output_type": "stream",
     "text": [
      "D_loss: 3.388   G_loss: 3.099:   4%|█▉                                                  | 2/54 [00:00<00:09,  5.26it/s]"
     ]
    },
    {
     "name": "stdout",
     "output_type": "stream",
     "text": [
      "iteration : 0, gp: 0.14\n"
     ]
    },
    {
     "name": "stderr",
     "output_type": "stream",
     "text": [
      "D_loss: 4.196   G_loss: 3.147:   9%|████▊                                               | 5/54 [00:00<00:09,  5.41it/s]"
     ]
    },
    {
     "name": "stdout",
     "output_type": "stream",
     "text": [
      "iteration : 3, gp: 0.20\n"
     ]
    },
    {
     "name": "stderr",
     "output_type": "stream",
     "text": [
      "D_loss: 2.448   G_loss: 3.158:  15%|███████▋                                            | 8/54 [00:01<00:08,  5.35it/s]"
     ]
    },
    {
     "name": "stdout",
     "output_type": "stream",
     "text": [
      "iteration : 6, gp: 0.25\n"
     ]
    },
    {
     "name": "stderr",
     "output_type": "stream",
     "text": [
      "D_loss: 2.902   G_loss: 3.118:  20%|██████████▍                                        | 11/54 [00:02<00:08,  5.28it/s]"
     ]
    },
    {
     "name": "stdout",
     "output_type": "stream",
     "text": [
      "iteration : 9, gp: 0.16\n"
     ]
    },
    {
     "name": "stderr",
     "output_type": "stream",
     "text": [
      "D_loss: 4.412   G_loss: 3.143:  26%|█████████████▏                                     | 14/54 [00:02<00:07,  5.20it/s]"
     ]
    },
    {
     "name": "stdout",
     "output_type": "stream",
     "text": [
      "iteration : 12, gp: 0.21\n"
     ]
    },
    {
     "name": "stderr",
     "output_type": "stream",
     "text": [
      "D_loss: 3.270   G_loss: 3.216:  31%|████████████████                                   | 17/54 [00:03<00:07,  5.18it/s]"
     ]
    },
    {
     "name": "stdout",
     "output_type": "stream",
     "text": [
      "iteration : 15, gp: 0.26\n"
     ]
    },
    {
     "name": "stderr",
     "output_type": "stream",
     "text": [
      "D_loss: 1.799   G_loss: 3.188:  37%|██████████████████▉                                | 20/54 [00:03<00:06,  5.20it/s]"
     ]
    },
    {
     "name": "stdout",
     "output_type": "stream",
     "text": [
      "iteration : 18, gp: 0.25\n"
     ]
    },
    {
     "name": "stderr",
     "output_type": "stream",
     "text": [
      "D_loss: 2.246   G_loss: 3.121:  43%|█████████████████████▋                             | 23/54 [00:04<00:05,  5.36it/s]"
     ]
    },
    {
     "name": "stdout",
     "output_type": "stream",
     "text": [
      "iteration : 21, gp: 0.14\n"
     ]
    },
    {
     "name": "stderr",
     "output_type": "stream",
     "text": [
      "D_loss: 2.814   G_loss: 3.180:  48%|████████████████████████▌                          | 26/54 [00:04<00:05,  5.33it/s]"
     ]
    },
    {
     "name": "stdout",
     "output_type": "stream",
     "text": [
      "iteration : 24, gp: 0.13\n"
     ]
    },
    {
     "name": "stderr",
     "output_type": "stream",
     "text": [
      "D_loss: 2.467   G_loss: 3.155:  54%|███████████████████████████▍                       | 29/54 [00:05<00:04,  5.15it/s]"
     ]
    },
    {
     "name": "stdout",
     "output_type": "stream",
     "text": [
      "iteration : 27, gp: 0.16\n"
     ]
    },
    {
     "name": "stderr",
     "output_type": "stream",
     "text": [
      "D_loss: 2.848   G_loss: 3.190:  59%|██████████████████████████████▏                    | 32/54 [00:06<00:04,  5.21it/s]"
     ]
    },
    {
     "name": "stdout",
     "output_type": "stream",
     "text": [
      "iteration : 30, gp: 0.17\n"
     ]
    },
    {
     "name": "stderr",
     "output_type": "stream",
     "text": [
      "D_loss: 1.526   G_loss: 3.151:  65%|█████████████████████████████████                  | 35/54 [00:06<00:03,  5.18it/s]"
     ]
    },
    {
     "name": "stdout",
     "output_type": "stream",
     "text": [
      "iteration : 33, gp: 0.16\n"
     ]
    },
    {
     "name": "stderr",
     "output_type": "stream",
     "text": [
      "D_loss: 4.453   G_loss: 3.228:  70%|███████████████████████████████████▉               | 38/54 [00:07<00:03,  5.22it/s]"
     ]
    },
    {
     "name": "stdout",
     "output_type": "stream",
     "text": [
      "iteration : 36, gp: 0.20\n"
     ]
    },
    {
     "name": "stderr",
     "output_type": "stream",
     "text": [
      "D_loss: 4.621   G_loss: 3.254:  76%|██████████████████████████████████████▋            | 41/54 [00:07<00:02,  5.08it/s]"
     ]
    },
    {
     "name": "stdout",
     "output_type": "stream",
     "text": [
      "iteration : 39, gp: 0.17\n"
     ]
    },
    {
     "name": "stderr",
     "output_type": "stream",
     "text": [
      "D_loss: 3.390   G_loss: 3.286:  81%|█████████████████████████████████████████▌         | 44/54 [00:08<00:01,  5.18it/s]"
     ]
    },
    {
     "name": "stdout",
     "output_type": "stream",
     "text": [
      "iteration : 42, gp: 0.26\n"
     ]
    },
    {
     "name": "stderr",
     "output_type": "stream",
     "text": [
      "D_loss: 2.106   G_loss: 3.277:  87%|████████████████████████████████████████████▍      | 47/54 [00:09<00:01,  5.10it/s]"
     ]
    },
    {
     "name": "stdout",
     "output_type": "stream",
     "text": [
      "iteration : 45, gp: 0.19\n"
     ]
    },
    {
     "name": "stderr",
     "output_type": "stream",
     "text": [
      "D_loss: 2.951   G_loss: 3.305:  93%|███████████████████████████████████████████████▏   | 50/54 [00:09<00:00,  5.19it/s]"
     ]
    },
    {
     "name": "stdout",
     "output_type": "stream",
     "text": [
      "iteration : 48, gp: 0.14\n"
     ]
    },
    {
     "name": "stderr",
     "output_type": "stream",
     "text": [
      "D_loss: 3.536   G_loss: 3.318:  98%|██████████████████████████████████████████████████ | 53/54 [00:10<00:00,  4.81it/s]"
     ]
    },
    {
     "name": "stdout",
     "output_type": "stream",
     "text": [
      "iteration : 51, gp: 0.17\n"
     ]
    },
    {
     "name": "stderr",
     "output_type": "stream",
     "text": [
      "D_loss: 3.536   G_loss: 3.318: 100%|███████████████████████████████████████████████████| 54/54 [00:10<00:00,  5.16it/s]\n"
     ]
    },
    {
     "name": "stdout",
     "output_type": "stream",
     "text": [
      "epoch: 14/40\n"
     ]
    },
    {
     "name": "stderr",
     "output_type": "stream",
     "text": [
      "D_loss: 2.794   G_loss: 3.277:   4%|█▉                                                  | 2/54 [00:00<00:10,  4.99it/s]"
     ]
    },
    {
     "name": "stdout",
     "output_type": "stream",
     "text": [
      "iteration : 0, gp: 0.18\n"
     ]
    },
    {
     "name": "stderr",
     "output_type": "stream",
     "text": [
      "D_loss: 2.407   G_loss: 3.313:   9%|████▊                                               | 5/54 [00:00<00:09,  5.25it/s]"
     ]
    },
    {
     "name": "stdout",
     "output_type": "stream",
     "text": [
      "iteration : 3, gp: 0.11\n"
     ]
    },
    {
     "name": "stderr",
     "output_type": "stream",
     "text": [
      "D_loss: 2.790   G_loss: 3.311:  13%|██████▋                                             | 7/54 [00:01<00:08,  5.23it/s]"
     ]
    },
    {
     "name": "stdout",
     "output_type": "stream",
     "text": [
      "iteration : 6, gp: 0.14\n"
     ]
    },
    {
     "name": "stderr",
     "output_type": "stream",
     "text": [
      "D_loss: 2.821   G_loss: 3.344:  20%|██████████▍                                        | 11/54 [00:02<00:08,  5.14it/s]"
     ]
    },
    {
     "name": "stdout",
     "output_type": "stream",
     "text": [
      "iteration : 9, gp: 0.17\n"
     ]
    },
    {
     "name": "stderr",
     "output_type": "stream",
     "text": [
      "D_loss: 3.047   G_loss: 3.363:  26%|█████████████▏                                     | 14/54 [00:02<00:07,  5.24it/s]"
     ]
    },
    {
     "name": "stdout",
     "output_type": "stream",
     "text": [
      "iteration : 12, gp: 0.15\n"
     ]
    },
    {
     "name": "stderr",
     "output_type": "stream",
     "text": [
      "D_loss: 2.280   G_loss: 3.348:  31%|████████████████                                   | 17/54 [00:03<00:06,  5.37it/s]"
     ]
    },
    {
     "name": "stdout",
     "output_type": "stream",
     "text": [
      "iteration : 15, gp: 0.16\n"
     ]
    },
    {
     "name": "stderr",
     "output_type": "stream",
     "text": [
      "D_loss: 3.975   G_loss: 3.418:  37%|██████████████████▉                                | 20/54 [00:03<00:06,  5.25it/s]"
     ]
    },
    {
     "name": "stdout",
     "output_type": "stream",
     "text": [
      "iteration : 18, gp: 0.08\n"
     ]
    },
    {
     "name": "stderr",
     "output_type": "stream",
     "text": [
      "D_loss: 3.952   G_loss: 3.423:  41%|████████████████████▊                              | 22/54 [00:04<00:06,  5.15it/s]"
     ]
    },
    {
     "name": "stdout",
     "output_type": "stream",
     "text": [
      "iteration : 21, gp: 0.17\n"
     ]
    },
    {
     "name": "stderr",
     "output_type": "stream",
     "text": [
      "D_loss: 1.952   G_loss: 3.399:  48%|████████████████████████▌                          | 26/54 [00:04<00:05,  5.30it/s]"
     ]
    },
    {
     "name": "stdout",
     "output_type": "stream",
     "text": [
      "iteration : 24, gp: 0.13\n"
     ]
    },
    {
     "name": "stderr",
     "output_type": "stream",
     "text": [
      "D_loss: 2.523   G_loss: 3.375:  54%|███████████████████████████▍                       | 29/54 [00:05<00:04,  5.28it/s]"
     ]
    },
    {
     "name": "stdout",
     "output_type": "stream",
     "text": [
      "iteration : 27, gp: 0.13\n"
     ]
    },
    {
     "name": "stderr",
     "output_type": "stream",
     "text": [
      "D_loss: 2.208   G_loss: 3.416:  59%|██████████████████████████████▏                    | 32/54 [00:06<00:04,  5.10it/s]"
     ]
    },
    {
     "name": "stdout",
     "output_type": "stream",
     "text": [
      "iteration : 30, gp: 0.14\n"
     ]
    },
    {
     "name": "stderr",
     "output_type": "stream",
     "text": [
      "D_loss: 3.312   G_loss: 3.467:  63%|████████████████████████████████                   | 34/54 [00:06<00:03,  5.15it/s]"
     ]
    },
    {
     "name": "stdout",
     "output_type": "stream",
     "text": [
      "iteration : 33, gp: 0.10\n"
     ]
    },
    {
     "name": "stderr",
     "output_type": "stream",
     "text": [
      "D_loss: 3.301   G_loss: 3.468:  69%|██████████████████████████████████▉                | 37/54 [00:07<00:03,  5.24it/s]"
     ]
    },
    {
     "name": "stdout",
     "output_type": "stream",
     "text": [
      "iteration : 36, gp: 0.11\n"
     ]
    },
    {
     "name": "stderr",
     "output_type": "stream",
     "text": [
      "D_loss: 3.067   G_loss: 3.504:  76%|██████████████████████████████████████▋            | 41/54 [00:07<00:02,  4.85it/s]"
     ]
    },
    {
     "name": "stdout",
     "output_type": "stream",
     "text": [
      "iteration : 39, gp: 0.18\n"
     ]
    },
    {
     "name": "stderr",
     "output_type": "stream",
     "text": [
      "D_loss: 2.215   G_loss: 3.532:  81%|█████████████████████████████████████████▌         | 44/54 [00:08<00:01,  5.14it/s]"
     ]
    },
    {
     "name": "stdout",
     "output_type": "stream",
     "text": [
      "iteration : 42, gp: 0.13\n"
     ]
    },
    {
     "name": "stderr",
     "output_type": "stream",
     "text": [
      "D_loss: 2.515   G_loss: 3.530:  87%|████████████████████████████████████████████▍      | 47/54 [00:09<00:01,  5.19it/s]"
     ]
    },
    {
     "name": "stdout",
     "output_type": "stream",
     "text": [
      "iteration : 45, gp: 0.10\n"
     ]
    },
    {
     "name": "stderr",
     "output_type": "stream",
     "text": [
      "D_loss: 1.958   G_loss: 3.511:  93%|███████████████████████████████████████████████▏   | 50/54 [00:09<00:00,  5.25it/s]"
     ]
    },
    {
     "name": "stdout",
     "output_type": "stream",
     "text": [
      "iteration : 48, gp: 0.16\n"
     ]
    },
    {
     "name": "stderr",
     "output_type": "stream",
     "text": [
      "D_loss: 4.222   G_loss: 3.510:  98%|██████████████████████████████████████████████████ | 53/54 [00:10<00:00,  5.27it/s]"
     ]
    },
    {
     "name": "stdout",
     "output_type": "stream",
     "text": [
      "iteration : 51, gp: 0.15\n"
     ]
    },
    {
     "name": "stderr",
     "output_type": "stream",
     "text": [
      "D_loss: 4.222   G_loss: 3.510: 100%|███████████████████████████████████████████████████| 54/54 [00:10<00:00,  5.19it/s]\n"
     ]
    },
    {
     "name": "stdout",
     "output_type": "stream",
     "text": [
      "epoch: 15/40\n"
     ]
    },
    {
     "name": "stderr",
     "output_type": "stream",
     "text": [
      "D_loss: 2.421   G_loss: 3.551:   0%|                                                            | 0/54 [00:00<?, ?it/s]"
     ]
    },
    {
     "name": "stdout",
     "output_type": "stream",
     "text": [
      "iteration : 0, gp: 0.11\n"
     ]
    },
    {
     "name": "stderr",
     "output_type": "stream",
     "text": [
      "D_loss: 1.445   G_loss: 3.606:   7%|███▊                                                | 4/54 [00:00<00:09,  5.19it/s]"
     ]
    },
    {
     "name": "stdout",
     "output_type": "stream",
     "text": [
      "iteration : 3, gp: 0.16\n"
     ]
    },
    {
     "name": "stderr",
     "output_type": "stream",
     "text": [
      "D_loss: 2.242   G_loss: 3.518:  15%|███████▋                                            | 8/54 [00:01<00:08,  5.17it/s]"
     ]
    },
    {
     "name": "stdout",
     "output_type": "stream",
     "text": [
      "iteration : 6, gp: 0.07\n"
     ]
    },
    {
     "name": "stderr",
     "output_type": "stream",
     "text": [
      "D_loss: 2.877   G_loss: 3.585:  20%|██████████▍                                        | 11/54 [00:02<00:08,  4.99it/s]"
     ]
    },
    {
     "name": "stdout",
     "output_type": "stream",
     "text": [
      "iteration : 9, gp: 0.13\n"
     ]
    },
    {
     "name": "stderr",
     "output_type": "stream",
     "text": [
      "D_loss: 1.909   G_loss: 3.567:  26%|█████████████▏                                     | 14/54 [00:02<00:07,  5.22it/s]"
     ]
    },
    {
     "name": "stdout",
     "output_type": "stream",
     "text": [
      "iteration : 12, gp: 0.13\n"
     ]
    },
    {
     "name": "stderr",
     "output_type": "stream",
     "text": [
      "D_loss: 3.094   G_loss: 3.606:  31%|████████████████                                   | 17/54 [00:03<00:07,  5.19it/s]"
     ]
    },
    {
     "name": "stdout",
     "output_type": "stream",
     "text": [
      "iteration : 15, gp: 0.09\n"
     ]
    },
    {
     "name": "stderr",
     "output_type": "stream",
     "text": [
      "D_loss: 2.292   G_loss: 3.606:  35%|█████████████████▉                                 | 19/54 [00:03<00:06,  5.24it/s]"
     ]
    },
    {
     "name": "stdout",
     "output_type": "stream",
     "text": [
      "iteration : 18, gp: 0.12\n"
     ]
    },
    {
     "name": "stderr",
     "output_type": "stream",
     "text": [
      "D_loss: 2.440   G_loss: 3.628:  43%|█████████████████████▋                             | 23/54 [00:04<00:05,  5.28it/s]"
     ]
    },
    {
     "name": "stdout",
     "output_type": "stream",
     "text": [
      "iteration : 21, gp: 0.14\n"
     ]
    },
    {
     "name": "stderr",
     "output_type": "stream",
     "text": [
      "D_loss: 3.457   G_loss: 3.679:  48%|████████████████████████▌                          | 26/54 [00:05<00:05,  5.29it/s]"
     ]
    },
    {
     "name": "stdout",
     "output_type": "stream",
     "text": [
      "iteration : 24, gp: 0.19\n"
     ]
    },
    {
     "name": "stderr",
     "output_type": "stream",
     "text": [
      "D_loss: 3.381   G_loss: 3.660:  54%|███████████████████████████▍                       | 29/54 [00:05<00:04,  5.33it/s]"
     ]
    },
    {
     "name": "stdout",
     "output_type": "stream",
     "text": [
      "iteration : 27, gp: 0.17\n"
     ]
    },
    {
     "name": "stderr",
     "output_type": "stream",
     "text": [
      "D_loss: 3.687   G_loss: 3.770:  59%|██████████████████████████████▏                    | 32/54 [00:06<00:04,  5.29it/s]"
     ]
    },
    {
     "name": "stdout",
     "output_type": "stream",
     "text": [
      "iteration : 30, gp: 0.13\n"
     ]
    },
    {
     "name": "stderr",
     "output_type": "stream",
     "text": [
      "D_loss: 1.643   G_loss: 3.788:  65%|█████████████████████████████████                  | 35/54 [00:06<00:03,  5.30it/s]"
     ]
    },
    {
     "name": "stdout",
     "output_type": "stream",
     "text": [
      "iteration : 33, gp: 0.14\n"
     ]
    },
    {
     "name": "stderr",
     "output_type": "stream",
     "text": [
      "D_loss: 2.367   G_loss: 3.749:  69%|██████████████████████████████████▉                | 37/54 [00:07<00:03,  5.14it/s]"
     ]
    },
    {
     "name": "stdout",
     "output_type": "stream",
     "text": [
      "iteration : 36, gp: 0.11\n"
     ]
    },
    {
     "name": "stderr",
     "output_type": "stream",
     "text": [
      "D_loss: 2.198   G_loss: 3.739:  74%|█████████████████████████████████████▊             | 40/54 [00:07<00:02,  5.16it/s]"
     ]
    },
    {
     "name": "stdout",
     "output_type": "stream",
     "text": [
      "iteration : 39, gp: 0.09\n"
     ]
    },
    {
     "name": "stderr",
     "output_type": "stream",
     "text": [
      "D_loss: 2.857   G_loss: 3.787:  81%|█████████████████████████████████████████▌         | 44/54 [00:08<00:01,  5.16it/s]"
     ]
    },
    {
     "name": "stdout",
     "output_type": "stream",
     "text": [
      "iteration : 42, gp: 0.15\n"
     ]
    },
    {
     "name": "stderr",
     "output_type": "stream",
     "text": [
      "D_loss: 1.961   G_loss: 3.819:  87%|████████████████████████████████████████████▍      | 47/54 [00:09<00:01,  4.95it/s]"
     ]
    },
    {
     "name": "stdout",
     "output_type": "stream",
     "text": [
      "iteration : 45, gp: 0.11\n"
     ]
    },
    {
     "name": "stderr",
     "output_type": "stream",
     "text": [
      "D_loss: 2.545   G_loss: 3.780:  93%|███████████████████████████████████████████████▏   | 50/54 [00:09<00:00,  5.11it/s]"
     ]
    },
    {
     "name": "stdout",
     "output_type": "stream",
     "text": [
      "iteration : 48, gp: 0.11\n"
     ]
    },
    {
     "name": "stderr",
     "output_type": "stream",
     "text": [
      "D_loss: 2.679   G_loss: 3.812:  98%|██████████████████████████████████████████████████ | 53/54 [00:10<00:00,  5.26it/s]"
     ]
    },
    {
     "name": "stdout",
     "output_type": "stream",
     "text": [
      "iteration : 51, gp: 0.16\n"
     ]
    },
    {
     "name": "stderr",
     "output_type": "stream",
     "text": [
      "D_loss: 2.679   G_loss: 3.812: 100%|███████████████████████████████████████████████████| 54/54 [00:10<00:00,  5.18it/s]\n"
     ]
    },
    {
     "name": "stdout",
     "output_type": "stream",
     "text": [
      "Growing network to size: 16\n",
      "Output Resolution: 16 x 16\n",
      "epoch: 16/40\n"
     ]
    },
    {
     "name": "stderr",
     "output_type": "stream",
     "text": [
      "D_loss: 1.095   G_loss: 2.763:   2%|▉                                                   | 1/54 [00:00<00:15,  3.46it/s]"
     ]
    },
    {
     "name": "stdout",
     "output_type": "stream",
     "text": [
      "iteration : 0, gp: 3.64\n"
     ]
    },
    {
     "name": "stderr",
     "output_type": "stream",
     "text": [
      "D_loss: 0.854   G_loss: 0.679:   7%|███▊                                                | 4/54 [00:01<00:14,  3.55it/s]"
     ]
    },
    {
     "name": "stdout",
     "output_type": "stream",
     "text": [
      "iteration : 3, gp: 3.02\n"
     ]
    },
    {
     "name": "stderr",
     "output_type": "stream",
     "text": [
      "D_loss: 1.244   G_loss: 0.739:  13%|██████▋                                             | 7/54 [00:01<00:13,  3.56it/s]"
     ]
    },
    {
     "name": "stdout",
     "output_type": "stream",
     "text": [
      "iteration : 6, gp: 2.85\n"
     ]
    },
    {
     "name": "stderr",
     "output_type": "stream",
     "text": [
      "D_loss: 1.226   G_loss: 0.809:  19%|█████████▍                                         | 10/54 [00:02<00:12,  3.55it/s]"
     ]
    },
    {
     "name": "stdout",
     "output_type": "stream",
     "text": [
      "iteration : 9, gp: 2.22\n"
     ]
    },
    {
     "name": "stderr",
     "output_type": "stream",
     "text": [
      "D_loss: 3.020   G_loss: 0.887:  24%|████████████▎                                      | 13/54 [00:03<00:11,  3.58it/s]"
     ]
    },
    {
     "name": "stdout",
     "output_type": "stream",
     "text": [
      "iteration : 12, gp: 1.99\n"
     ]
    },
    {
     "name": "stderr",
     "output_type": "stream",
     "text": [
      "D_loss: 3.929   G_loss: 0.951:  30%|███████████████                                    | 16/54 [00:04<00:10,  3.59it/s]"
     ]
    },
    {
     "name": "stdout",
     "output_type": "stream",
     "text": [
      "iteration : 15, gp: 2.07\n"
     ]
    },
    {
     "name": "stderr",
     "output_type": "stream",
     "text": [
      "D_loss: 3.424   G_loss: 1.054:  35%|█████████████████▉                                 | 19/54 [00:05<00:09,  3.59it/s]"
     ]
    },
    {
     "name": "stdout",
     "output_type": "stream",
     "text": [
      "iteration : 18, gp: 1.61\n"
     ]
    },
    {
     "name": "stderr",
     "output_type": "stream",
     "text": [
      "D_loss: 5.124   G_loss: 1.114:  41%|████████████████████▊                              | 22/54 [00:06<00:08,  3.58it/s]"
     ]
    },
    {
     "name": "stdout",
     "output_type": "stream",
     "text": [
      "iteration : 21, gp: 1.53\n"
     ]
    },
    {
     "name": "stderr",
     "output_type": "stream",
     "text": [
      "D_loss: 3.506   G_loss: 1.158:  46%|███████████████████████▌                           | 25/54 [00:07<00:08,  3.45it/s]"
     ]
    },
    {
     "name": "stdout",
     "output_type": "stream",
     "text": [
      "iteration : 24, gp: 1.16\n"
     ]
    },
    {
     "name": "stderr",
     "output_type": "stream",
     "text": [
      "D_loss: 5.013   G_loss: 1.271:  52%|██████████████████████████▍                        | 28/54 [00:07<00:07,  3.56it/s]"
     ]
    },
    {
     "name": "stdout",
     "output_type": "stream",
     "text": [
      "iteration : 27, gp: 1.14\n"
     ]
    },
    {
     "name": "stderr",
     "output_type": "stream",
     "text": [
      "D_loss: 4.216   G_loss: 1.357:  57%|█████████████████████████████▎                     | 31/54 [00:08<00:06,  3.56it/s]"
     ]
    },
    {
     "name": "stdout",
     "output_type": "stream",
     "text": [
      "iteration : 30, gp: 1.01\n"
     ]
    },
    {
     "name": "stderr",
     "output_type": "stream",
     "text": [
      "D_loss: 4.870   G_loss: 1.473:  63%|████████████████████████████████                   | 34/54 [00:09<00:05,  3.55it/s]"
     ]
    },
    {
     "name": "stdout",
     "output_type": "stream",
     "text": [
      "iteration : 33, gp: 0.84\n"
     ]
    },
    {
     "name": "stderr",
     "output_type": "stream",
     "text": [
      "D_loss: 3.930   G_loss: 1.529:  69%|██████████████████████████████████▉                | 37/54 [00:10<00:04,  3.48it/s]"
     ]
    },
    {
     "name": "stdout",
     "output_type": "stream",
     "text": [
      "iteration : 36, gp: 0.65\n"
     ]
    },
    {
     "name": "stderr",
     "output_type": "stream",
     "text": [
      "D_loss: 5.941   G_loss: 1.619:  74%|█████████████████████████████████████▊             | 40/54 [00:11<00:03,  3.58it/s]"
     ]
    },
    {
     "name": "stdout",
     "output_type": "stream",
     "text": [
      "iteration : 39, gp: 0.53\n"
     ]
    },
    {
     "name": "stderr",
     "output_type": "stream",
     "text": [
      "D_loss: 5.688   G_loss: 1.680:  80%|████████████████████████████████████████▌          | 43/54 [00:12<00:03,  3.46it/s]"
     ]
    },
    {
     "name": "stdout",
     "output_type": "stream",
     "text": [
      "iteration : 42, gp: 0.60\n"
     ]
    },
    {
     "name": "stderr",
     "output_type": "stream",
     "text": [
      "D_loss: 4.959   G_loss: 1.816:  85%|███████████████████████████████████████████▍       | 46/54 [00:12<00:02,  3.56it/s]"
     ]
    },
    {
     "name": "stdout",
     "output_type": "stream",
     "text": [
      "iteration : 45, gp: 0.50\n"
     ]
    },
    {
     "name": "stderr",
     "output_type": "stream",
     "text": [
      "D_loss: 5.486   G_loss: 1.905:  91%|██████████████████████████████████████████████▎    | 49/54 [00:13<00:01,  3.58it/s]"
     ]
    },
    {
     "name": "stdout",
     "output_type": "stream",
     "text": [
      "iteration : 48, gp: 0.36\n"
     ]
    },
    {
     "name": "stderr",
     "output_type": "stream",
     "text": [
      "D_loss: 5.622   G_loss: 2.025:  96%|█████████████████████████████████████████████████  | 52/54 [00:14<00:00,  3.59it/s]"
     ]
    },
    {
     "name": "stdout",
     "output_type": "stream",
     "text": [
      "iteration : 51, gp: 0.33\n"
     ]
    },
    {
     "name": "stderr",
     "output_type": "stream",
     "text": [
      "D_loss: 5.622   G_loss: 2.025: 100%|███████████████████████████████████████████████████| 54/54 [00:15<00:00,  3.56it/s]\n"
     ]
    },
    {
     "name": "stdout",
     "output_type": "stream",
     "text": [
      "epoch: 17/40\n"
     ]
    },
    {
     "name": "stderr",
     "output_type": "stream",
     "text": [
      "D_loss: 6.732   G_loss: 2.132:   2%|▉                                                   | 1/54 [00:00<00:15,  3.47it/s]"
     ]
    },
    {
     "name": "stdout",
     "output_type": "stream",
     "text": [
      "iteration : 0, gp: 0.32\n"
     ]
    },
    {
     "name": "stderr",
     "output_type": "stream",
     "text": [
      "D_loss: 5.814   G_loss: 2.144:   7%|███▊                                                | 4/54 [00:01<00:13,  3.57it/s]"
     ]
    },
    {
     "name": "stdout",
     "output_type": "stream",
     "text": [
      "iteration : 3, gp: 0.40\n"
     ]
    },
    {
     "name": "stderr",
     "output_type": "stream",
     "text": [
      "D_loss: 6.301   G_loss: 2.324:  13%|██████▋                                             | 7/54 [00:01<00:13,  3.57it/s]"
     ]
    },
    {
     "name": "stdout",
     "output_type": "stream",
     "text": [
      "iteration : 6, gp: 0.47\n"
     ]
    },
    {
     "name": "stderr",
     "output_type": "stream",
     "text": [
      "D_loss: 7.027   G_loss: 2.410:  19%|█████████▍                                         | 10/54 [00:02<00:12,  3.58it/s]"
     ]
    },
    {
     "name": "stdout",
     "output_type": "stream",
     "text": [
      "iteration : 9, gp: 0.20\n"
     ]
    },
    {
     "name": "stderr",
     "output_type": "stream",
     "text": [
      "D_loss: 6.050   G_loss: 2.486:  24%|████████████▎                                      | 13/54 [00:03<00:11,  3.49it/s]"
     ]
    },
    {
     "name": "stdout",
     "output_type": "stream",
     "text": [
      "iteration : 12, gp: 0.10\n"
     ]
    },
    {
     "name": "stderr",
     "output_type": "stream",
     "text": [
      "D_loss: 5.402   G_loss: 2.572:  30%|███████████████                                    | 16/54 [00:04<00:10,  3.56it/s]"
     ]
    },
    {
     "name": "stdout",
     "output_type": "stream",
     "text": [
      "iteration : 15, gp: 0.11\n"
     ]
    },
    {
     "name": "stderr",
     "output_type": "stream",
     "text": [
      "D_loss: 6.997   G_loss: 2.684:  35%|█████████████████▉                                 | 19/54 [00:05<00:09,  3.57it/s]"
     ]
    },
    {
     "name": "stdout",
     "output_type": "stream",
     "text": [
      "iteration : 18, gp: 0.04\n"
     ]
    },
    {
     "name": "stderr",
     "output_type": "stream",
     "text": [
      "D_loss: 7.363   G_loss: 2.773:  41%|████████████████████▊                              | 22/54 [00:06<00:09,  3.54it/s]"
     ]
    },
    {
     "name": "stdout",
     "output_type": "stream",
     "text": [
      "iteration : 21, gp: 0.03\n"
     ]
    },
    {
     "name": "stderr",
     "output_type": "stream",
     "text": [
      "D_loss: 8.044   G_loss: 2.845:  46%|███████████████████████▌                           | 25/54 [00:07<00:08,  3.59it/s]"
     ]
    },
    {
     "name": "stdout",
     "output_type": "stream",
     "text": [
      "iteration : 24, gp: 0.05\n"
     ]
    },
    {
     "name": "stderr",
     "output_type": "stream",
     "text": [
      "D_loss: 5.299   G_loss: 2.959:  52%|██████████████████████████▍                        | 28/54 [00:07<00:07,  3.56it/s]"
     ]
    },
    {
     "name": "stdout",
     "output_type": "stream",
     "text": [
      "iteration : 27, gp: 0.01\n"
     ]
    },
    {
     "name": "stderr",
     "output_type": "stream",
     "text": [
      "D_loss: 8.046   G_loss: 3.116:  57%|█████████████████████████████▎                     | 31/54 [00:08<00:06,  3.59it/s]"
     ]
    },
    {
     "name": "stdout",
     "output_type": "stream",
     "text": [
      "iteration : 30, gp: 0.00\n"
     ]
    },
    {
     "name": "stderr",
     "output_type": "stream",
     "text": [
      "D_loss: 7.951   G_loss: 3.115:  63%|████████████████████████████████                   | 34/54 [00:09<00:05,  3.59it/s]"
     ]
    },
    {
     "name": "stdout",
     "output_type": "stream",
     "text": [
      "iteration : 33, gp: 0.02\n"
     ]
    },
    {
     "name": "stderr",
     "output_type": "stream",
     "text": [
      "D_loss: 8.663   G_loss: 3.211:  69%|██████████████████████████████████▉                | 37/54 [00:10<00:04,  3.58it/s]"
     ]
    },
    {
     "name": "stdout",
     "output_type": "stream",
     "text": [
      "iteration : 36, gp: 0.00\n"
     ]
    },
    {
     "name": "stderr",
     "output_type": "stream",
     "text": [
      "D_loss: 6.299   G_loss: 3.351:  74%|█████████████████████████████████████▊             | 40/54 [00:11<00:04,  3.37it/s]"
     ]
    },
    {
     "name": "stdout",
     "output_type": "stream",
     "text": [
      "iteration : 39, gp: 0.01\n"
     ]
    },
    {
     "name": "stderr",
     "output_type": "stream",
     "text": [
      "D_loss: 5.933   G_loss: 3.481:  80%|████████████████████████████████████████▌          | 43/54 [00:12<00:03,  3.51it/s]"
     ]
    },
    {
     "name": "stdout",
     "output_type": "stream",
     "text": [
      "iteration : 42, gp: 0.01\n"
     ]
    },
    {
     "name": "stderr",
     "output_type": "stream",
     "text": [
      "D_loss: 9.435   G_loss: 3.530:  85%|███████████████████████████████████████████▍       | 46/54 [00:12<00:02,  3.49it/s]"
     ]
    },
    {
     "name": "stdout",
     "output_type": "stream",
     "text": [
      "iteration : 45, gp: 0.01\n"
     ]
    },
    {
     "name": "stderr",
     "output_type": "stream",
     "text": [
      "D_loss: 7.750   G_loss: 3.612:  91%|██████████████████████████████████████████████▎    | 49/54 [00:13<00:01,  3.52it/s]"
     ]
    },
    {
     "name": "stdout",
     "output_type": "stream",
     "text": [
      "iteration : 48, gp: 0.03\n"
     ]
    },
    {
     "name": "stderr",
     "output_type": "stream",
     "text": [
      "D_loss: 10.202   G_loss: 3.717:  96%|████████████████████████████████████████████████▏ | 52/54 [00:14<00:00,  3.54it/s]"
     ]
    },
    {
     "name": "stdout",
     "output_type": "stream",
     "text": [
      "iteration : 51, gp: 0.05\n"
     ]
    },
    {
     "name": "stderr",
     "output_type": "stream",
     "text": [
      "D_loss: 10.202   G_loss: 3.717: 100%|██████████████████████████████████████████████████| 54/54 [00:15<00:00,  3.55it/s]\n"
     ]
    },
    {
     "name": "stdout",
     "output_type": "stream",
     "text": [
      "epoch: 18/40\n"
     ]
    },
    {
     "name": "stderr",
     "output_type": "stream",
     "text": [
      "D_loss: 9.035   G_loss: 3.813:   2%|▉                                                   | 1/54 [00:00<00:15,  3.46it/s]"
     ]
    },
    {
     "name": "stdout",
     "output_type": "stream",
     "text": [
      "iteration : 0, gp: 0.09\n"
     ]
    },
    {
     "name": "stderr",
     "output_type": "stream",
     "text": [
      "D_loss: 8.713   G_loss: 3.929:   7%|███▊                                                | 4/54 [00:01<00:14,  3.53it/s]"
     ]
    },
    {
     "name": "stdout",
     "output_type": "stream",
     "text": [
      "iteration : 3, gp: 0.07\n"
     ]
    },
    {
     "name": "stderr",
     "output_type": "stream",
     "text": [
      "D_loss: 5.426   G_loss: 4.025:  13%|██████▋                                             | 7/54 [00:02<00:13,  3.45it/s]"
     ]
    },
    {
     "name": "stdout",
     "output_type": "stream",
     "text": [
      "iteration : 6, gp: 0.04\n"
     ]
    },
    {
     "name": "stderr",
     "output_type": "stream",
     "text": [
      "D_loss: 8.827   G_loss: 3.989:  19%|█████████▍                                         | 10/54 [00:02<00:12,  3.46it/s]"
     ]
    },
    {
     "name": "stdout",
     "output_type": "stream",
     "text": [
      "iteration : 9, gp: 0.03\n"
     ]
    },
    {
     "name": "stderr",
     "output_type": "stream",
     "text": [
      "D_loss: 7.341   G_loss: 4.156:  24%|████████████▎                                      | 13/54 [00:03<00:11,  3.47it/s]"
     ]
    },
    {
     "name": "stdout",
     "output_type": "stream",
     "text": [
      "iteration : 12, gp: 0.18\n"
     ]
    },
    {
     "name": "stderr",
     "output_type": "stream",
     "text": [
      "D_loss: 6.193   G_loss: 4.256:  30%|███████████████                                    | 16/54 [00:04<00:10,  3.51it/s]"
     ]
    },
    {
     "name": "stdout",
     "output_type": "stream",
     "text": [
      "iteration : 15, gp: 0.13\n"
     ]
    },
    {
     "name": "stderr",
     "output_type": "stream",
     "text": [
      "D_loss: 7.759   G_loss: 4.280:  35%|█████████████████▉                                 | 19/54 [00:05<00:10,  3.35it/s]"
     ]
    },
    {
     "name": "stdout",
     "output_type": "stream",
     "text": [
      "iteration : 18, gp: 0.27\n"
     ]
    },
    {
     "name": "stderr",
     "output_type": "stream",
     "text": [
      "D_loss: 9.274   G_loss: 4.356:  41%|████████████████████▊                              | 22/54 [00:06<00:09,  3.49it/s]"
     ]
    },
    {
     "name": "stdout",
     "output_type": "stream",
     "text": [
      "iteration : 21, gp: 0.23\n"
     ]
    },
    {
     "name": "stderr",
     "output_type": "stream",
     "text": [
      "D_loss: 8.151   G_loss: 4.399:  46%|███████████████████████▌                           | 25/54 [00:07<00:08,  3.52it/s]"
     ]
    },
    {
     "name": "stdout",
     "output_type": "stream",
     "text": [
      "iteration : 24, gp: 0.08\n"
     ]
    },
    {
     "name": "stderr",
     "output_type": "stream",
     "text": [
      "D_loss: 7.714   G_loss: 4.438:  52%|██████████████████████████▍                        | 28/54 [00:08<00:07,  3.42it/s]"
     ]
    },
    {
     "name": "stdout",
     "output_type": "stream",
     "text": [
      "iteration : 27, gp: 0.28\n"
     ]
    },
    {
     "name": "stderr",
     "output_type": "stream",
     "text": [
      "D_loss: 8.543   G_loss: 4.591:  57%|█████████████████████████████▎                     | 31/54 [00:08<00:06,  3.52it/s]"
     ]
    },
    {
     "name": "stdout",
     "output_type": "stream",
     "text": [
      "iteration : 30, gp: 0.23\n"
     ]
    },
    {
     "name": "stderr",
     "output_type": "stream",
     "text": [
      "D_loss: 9.005   G_loss: 4.621:  63%|████████████████████████████████                   | 34/54 [00:09<00:05,  3.55it/s]"
     ]
    },
    {
     "name": "stdout",
     "output_type": "stream",
     "text": [
      "iteration : 33, gp: 0.29\n"
     ]
    },
    {
     "name": "stderr",
     "output_type": "stream",
     "text": [
      "D_loss: 10.946   G_loss: 4.704:  69%|██████████████████████████████████▎               | 37/54 [00:10<00:04,  3.49it/s]"
     ]
    },
    {
     "name": "stdout",
     "output_type": "stream",
     "text": [
      "iteration : 36, gp: 0.31\n"
     ]
    },
    {
     "name": "stderr",
     "output_type": "stream",
     "text": [
      "D_loss: 8.600   G_loss: 4.715:  74%|█████████████████████████████████████▊             | 40/54 [00:11<00:03,  3.53it/s]"
     ]
    },
    {
     "name": "stdout",
     "output_type": "stream",
     "text": [
      "iteration : 39, gp: 0.42\n"
     ]
    },
    {
     "name": "stderr",
     "output_type": "stream",
     "text": [
      "D_loss: 8.220   G_loss: 4.846:  80%|████████████████████████████████████████▌          | 43/54 [00:12<00:03,  3.48it/s]"
     ]
    },
    {
     "name": "stdout",
     "output_type": "stream",
     "text": [
      "iteration : 42, gp: 0.53\n"
     ]
    },
    {
     "name": "stderr",
     "output_type": "stream",
     "text": [
      "D_loss: 8.429   G_loss: 4.877:  85%|███████████████████████████████████████████▍       | 46/54 [00:13<00:02,  3.48it/s]"
     ]
    },
    {
     "name": "stdout",
     "output_type": "stream",
     "text": [
      "iteration : 45, gp: 0.35\n"
     ]
    },
    {
     "name": "stderr",
     "output_type": "stream",
     "text": [
      "D_loss: 9.071   G_loss: 4.948:  91%|██████████████████████████████████████████████▎    | 49/54 [00:14<00:01,  3.38it/s]"
     ]
    },
    {
     "name": "stdout",
     "output_type": "stream",
     "text": [
      "iteration : 48, gp: 0.73\n"
     ]
    },
    {
     "name": "stderr",
     "output_type": "stream",
     "text": [
      "D_loss: 5.355   G_loss: 4.893:  96%|█████████████████████████████████████████████████  | 52/54 [00:15<00:00,  3.37it/s]"
     ]
    },
    {
     "name": "stdout",
     "output_type": "stream",
     "text": [
      "iteration : 51, gp: 0.63\n"
     ]
    },
    {
     "name": "stderr",
     "output_type": "stream",
     "text": [
      "D_loss: 5.355   G_loss: 4.893: 100%|███████████████████████████████████████████████████| 54/54 [00:15<00:00,  3.48it/s]\n"
     ]
    },
    {
     "name": "stdout",
     "output_type": "stream",
     "text": [
      "epoch: 19/40\n"
     ]
    },
    {
     "name": "stderr",
     "output_type": "stream",
     "text": [
      "D_loss: 7.253   G_loss: 4.939:   2%|▉                                                   | 1/54 [00:00<00:16,  3.28it/s]"
     ]
    },
    {
     "name": "stdout",
     "output_type": "stream",
     "text": [
      "iteration : 0, gp: 0.45\n"
     ]
    },
    {
     "name": "stderr",
     "output_type": "stream",
     "text": [
      "D_loss: 6.976   G_loss: 4.961:   7%|███▊                                                | 4/54 [00:01<00:14,  3.38it/s]"
     ]
    },
    {
     "name": "stdout",
     "output_type": "stream",
     "text": [
      "iteration : 3, gp: 0.67\n"
     ]
    },
    {
     "name": "stderr",
     "output_type": "stream",
     "text": [
      "D_loss: 7.962   G_loss: 5.046:  13%|██████▋                                             | 7/54 [00:02<00:14,  3.34it/s]"
     ]
    },
    {
     "name": "stdout",
     "output_type": "stream",
     "text": [
      "iteration : 6, gp: 0.87\n"
     ]
    },
    {
     "name": "stderr",
     "output_type": "stream",
     "text": [
      "D_loss: 7.914   G_loss: 5.037:  19%|█████████▍                                         | 10/54 [00:02<00:12,  3.53it/s]"
     ]
    },
    {
     "name": "stdout",
     "output_type": "stream",
     "text": [
      "iteration : 9, gp: 0.62\n"
     ]
    },
    {
     "name": "stderr",
     "output_type": "stream",
     "text": [
      "D_loss: 11.056   G_loss: 5.226:  24%|████████████                                      | 13/54 [00:03<00:11,  3.52it/s]"
     ]
    },
    {
     "name": "stdout",
     "output_type": "stream",
     "text": [
      "iteration : 12, gp: 0.57\n"
     ]
    },
    {
     "name": "stderr",
     "output_type": "stream",
     "text": [
      "D_loss: 7.585   G_loss: 5.266:  30%|███████████████                                    | 16/54 [00:04<00:10,  3.48it/s]"
     ]
    },
    {
     "name": "stdout",
     "output_type": "stream",
     "text": [
      "iteration : 15, gp: 0.60\n"
     ]
    },
    {
     "name": "stderr",
     "output_type": "stream",
     "text": [
      "D_loss: 8.464   G_loss: 5.247:  35%|█████████████████▉                                 | 19/54 [00:05<00:09,  3.52it/s]"
     ]
    },
    {
     "name": "stdout",
     "output_type": "stream",
     "text": [
      "iteration : 18, gp: 1.10\n"
     ]
    },
    {
     "name": "stderr",
     "output_type": "stream",
     "text": [
      "D_loss: 9.538   G_loss: 5.310:  41%|████████████████████▊                              | 22/54 [00:06<00:09,  3.51it/s]"
     ]
    },
    {
     "name": "stdout",
     "output_type": "stream",
     "text": [
      "iteration : 21, gp: 0.89\n"
     ]
    },
    {
     "name": "stderr",
     "output_type": "stream",
     "text": [
      "D_loss: 6.329   G_loss: 5.293:  46%|███████████████████████▌                           | 25/54 [00:07<00:08,  3.36it/s]"
     ]
    },
    {
     "name": "stdout",
     "output_type": "stream",
     "text": [
      "iteration : 24, gp: 0.41\n"
     ]
    },
    {
     "name": "stderr",
     "output_type": "stream",
     "text": [
      "D_loss: 8.567   G_loss: 5.363:  52%|██████████████████████████▍                        | 28/54 [00:08<00:07,  3.43it/s]"
     ]
    },
    {
     "name": "stdout",
     "output_type": "stream",
     "text": [
      "iteration : 27, gp: 1.05\n"
     ]
    },
    {
     "name": "stderr",
     "output_type": "stream",
     "text": [
      "D_loss: 6.135   G_loss: 5.406:  57%|█████████████████████████████▎                     | 31/54 [00:08<00:06,  3.45it/s]"
     ]
    },
    {
     "name": "stdout",
     "output_type": "stream",
     "text": [
      "iteration : 30, gp: 1.17\n"
     ]
    },
    {
     "name": "stderr",
     "output_type": "stream",
     "text": [
      "D_loss: 7.881   G_loss: 5.341:  63%|████████████████████████████████                   | 34/54 [00:09<00:05,  3.57it/s]"
     ]
    },
    {
     "name": "stdout",
     "output_type": "stream",
     "text": [
      "iteration : 33, gp: 0.97\n"
     ]
    },
    {
     "name": "stderr",
     "output_type": "stream",
     "text": [
      "D_loss: 7.904   G_loss: 5.493:  69%|██████████████████████████████████▉                | 37/54 [00:10<00:04,  3.58it/s]"
     ]
    },
    {
     "name": "stdout",
     "output_type": "stream",
     "text": [
      "iteration : 36, gp: 1.06\n"
     ]
    },
    {
     "name": "stderr",
     "output_type": "stream",
     "text": [
      "D_loss: 7.274   G_loss: 5.529:  74%|█████████████████████████████████████▊             | 40/54 [00:11<00:03,  3.62it/s]"
     ]
    },
    {
     "name": "stdout",
     "output_type": "stream",
     "text": [
      "iteration : 39, gp: 0.39\n"
     ]
    },
    {
     "name": "stderr",
     "output_type": "stream",
     "text": [
      "D_loss: 7.882   G_loss: 5.478:  80%|████████████████████████████████████████▌          | 43/54 [00:12<00:03,  3.56it/s]"
     ]
    },
    {
     "name": "stdout",
     "output_type": "stream",
     "text": [
      "iteration : 42, gp: 0.70\n"
     ]
    },
    {
     "name": "stderr",
     "output_type": "stream",
     "text": [
      "D_loss: 8.085   G_loss: 5.499:  85%|███████████████████████████████████████████▍       | 46/54 [00:13<00:02,  3.57it/s]"
     ]
    },
    {
     "name": "stdout",
     "output_type": "stream",
     "text": [
      "iteration : 45, gp: 1.07\n"
     ]
    },
    {
     "name": "stderr",
     "output_type": "stream",
     "text": [
      "D_loss: 10.828   G_loss: 5.588:  91%|█████████████████████████████████████████████▎    | 49/54 [00:13<00:01,  3.59it/s]"
     ]
    },
    {
     "name": "stdout",
     "output_type": "stream",
     "text": [
      "iteration : 48, gp: 1.14\n"
     ]
    },
    {
     "name": "stderr",
     "output_type": "stream",
     "text": [
      "D_loss: 8.812   G_loss: 5.644:  96%|█████████████████████████████████████████████████  | 52/54 [00:14<00:00,  3.61it/s]"
     ]
    },
    {
     "name": "stdout",
     "output_type": "stream",
     "text": [
      "iteration : 51, gp: 1.03\n"
     ]
    },
    {
     "name": "stderr",
     "output_type": "stream",
     "text": [
      "D_loss: 8.812   G_loss: 5.644: 100%|███████████████████████████████████████████████████| 54/54 [00:15<00:00,  3.52it/s]\n"
     ]
    },
    {
     "name": "stdout",
     "output_type": "stream",
     "text": [
      "epoch: 20/40\n"
     ]
    },
    {
     "name": "stderr",
     "output_type": "stream",
     "text": [
      "D_loss: 7.674   G_loss: 5.721:   2%|▉                                                   | 1/54 [00:00<00:15,  3.38it/s]"
     ]
    },
    {
     "name": "stdout",
     "output_type": "stream",
     "text": [
      "iteration : 0, gp: 1.24\n"
     ]
    },
    {
     "name": "stderr",
     "output_type": "stream",
     "text": [
      "D_loss: 7.948   G_loss: 5.707:   7%|███▊                                                | 4/54 [00:01<00:14,  3.50it/s]"
     ]
    },
    {
     "name": "stdout",
     "output_type": "stream",
     "text": [
      "iteration : 3, gp: 1.14\n"
     ]
    },
    {
     "name": "stderr",
     "output_type": "stream",
     "text": [
      "D_loss: 8.366   G_loss: 5.755:  13%|██████▋                                             | 7/54 [00:02<00:14,  3.29it/s]"
     ]
    },
    {
     "name": "stdout",
     "output_type": "stream",
     "text": [
      "iteration : 6, gp: 0.98\n"
     ]
    },
    {
     "name": "stderr",
     "output_type": "stream",
     "text": [
      "D_loss: 8.206   G_loss: 5.807:  19%|█████████▍                                         | 10/54 [00:02<00:12,  3.49it/s]"
     ]
    },
    {
     "name": "stdout",
     "output_type": "stream",
     "text": [
      "iteration : 9, gp: 1.22\n"
     ]
    },
    {
     "name": "stderr",
     "output_type": "stream",
     "text": [
      "D_loss: 8.977   G_loss: 5.848:  24%|████████████▎                                      | 13/54 [00:03<00:11,  3.61it/s]"
     ]
    },
    {
     "name": "stdout",
     "output_type": "stream",
     "text": [
      "iteration : 12, gp: 0.94\n"
     ]
    },
    {
     "name": "stderr",
     "output_type": "stream",
     "text": [
      "D_loss: 7.978   G_loss: 5.922:  30%|███████████████                                    | 16/54 [00:04<00:10,  3.57it/s]"
     ]
    },
    {
     "name": "stdout",
     "output_type": "stream",
     "text": [
      "iteration : 15, gp: 1.13\n"
     ]
    },
    {
     "name": "stderr",
     "output_type": "stream",
     "text": [
      "D_loss: 8.684   G_loss: 5.967:  35%|█████████████████▉                                 | 19/54 [00:05<00:09,  3.55it/s]"
     ]
    },
    {
     "name": "stdout",
     "output_type": "stream",
     "text": [
      "iteration : 18, gp: 1.07\n"
     ]
    },
    {
     "name": "stderr",
     "output_type": "stream",
     "text": [
      "D_loss: 6.563   G_loss: 5.915:  41%|████████████████████▊                              | 22/54 [00:06<00:08,  3.58it/s]"
     ]
    },
    {
     "name": "stdout",
     "output_type": "stream",
     "text": [
      "iteration : 21, gp: 0.60\n"
     ]
    },
    {
     "name": "stderr",
     "output_type": "stream",
     "text": [
      "D_loss: 7.200   G_loss: 6.022:  46%|███████████████████████▌                           | 25/54 [00:07<00:08,  3.60it/s]"
     ]
    },
    {
     "name": "stdout",
     "output_type": "stream",
     "text": [
      "iteration : 24, gp: 1.14\n"
     ]
    },
    {
     "name": "stderr",
     "output_type": "stream",
     "text": [
      "D_loss: 5.433   G_loss: 6.084:  52%|██████████████████████████▍                        | 28/54 [00:07<00:07,  3.57it/s]"
     ]
    },
    {
     "name": "stdout",
     "output_type": "stream",
     "text": [
      "iteration : 27, gp: 0.97\n"
     ]
    },
    {
     "name": "stderr",
     "output_type": "stream",
     "text": [
      "D_loss: 9.332   G_loss: 5.986:  57%|█████████████████████████████▎                     | 31/54 [00:08<00:06,  3.54it/s]"
     ]
    },
    {
     "name": "stdout",
     "output_type": "stream",
     "text": [
      "iteration : 30, gp: 1.50\n"
     ]
    },
    {
     "name": "stderr",
     "output_type": "stream",
     "text": [
      "D_loss: 6.353   G_loss: 6.040:  63%|████████████████████████████████                   | 34/54 [00:09<00:05,  3.59it/s]"
     ]
    },
    {
     "name": "stdout",
     "output_type": "stream",
     "text": [
      "iteration : 33, gp: 0.85\n"
     ]
    },
    {
     "name": "stderr",
     "output_type": "stream",
     "text": [
      "D_loss: 8.179   G_loss: 6.104:  69%|██████████████████████████████████▉                | 37/54 [00:10<00:04,  3.61it/s]"
     ]
    },
    {
     "name": "stdout",
     "output_type": "stream",
     "text": [
      "iteration : 36, gp: 1.30\n"
     ]
    },
    {
     "name": "stderr",
     "output_type": "stream",
     "text": [
      "D_loss: 6.436   G_loss: 6.134:  74%|█████████████████████████████████████▊             | 40/54 [00:11<00:03,  3.56it/s]"
     ]
    },
    {
     "name": "stdout",
     "output_type": "stream",
     "text": [
      "iteration : 39, gp: 0.98\n"
     ]
    },
    {
     "name": "stderr",
     "output_type": "stream",
     "text": [
      "D_loss: 7.560   G_loss: 6.162:  80%|████████████████████████████████████████▌          | 43/54 [00:12<00:03,  3.57it/s]"
     ]
    },
    {
     "name": "stdout",
     "output_type": "stream",
     "text": [
      "iteration : 42, gp: 1.60\n"
     ]
    },
    {
     "name": "stderr",
     "output_type": "stream",
     "text": [
      "D_loss: 7.194   G_loss: 6.175:  85%|███████████████████████████████████████████▍       | 46/54 [00:12<00:02,  3.57it/s]"
     ]
    },
    {
     "name": "stdout",
     "output_type": "stream",
     "text": [
      "iteration : 45, gp: 1.51\n"
     ]
    },
    {
     "name": "stderr",
     "output_type": "stream",
     "text": [
      "D_loss: 7.547   G_loss: 6.209:  91%|██████████████████████████████████████████████▎    | 49/54 [00:13<00:01,  3.52it/s]"
     ]
    },
    {
     "name": "stdout",
     "output_type": "stream",
     "text": [
      "iteration : 48, gp: 0.95\n"
     ]
    },
    {
     "name": "stderr",
     "output_type": "stream",
     "text": [
      "D_loss: 5.602   G_loss: 6.308:  96%|█████████████████████████████████████████████████  | 52/54 [00:14<00:00,  3.48it/s]"
     ]
    },
    {
     "name": "stdout",
     "output_type": "stream",
     "text": [
      "iteration : 51, gp: 1.66\n"
     ]
    },
    {
     "name": "stderr",
     "output_type": "stream",
     "text": [
      "D_loss: 5.602   G_loss: 6.308: 100%|███████████████████████████████████████████████████| 54/54 [00:15<00:00,  3.55it/s]\n"
     ]
    },
    {
     "name": "stdout",
     "output_type": "stream",
     "text": [
      "epoch: 21/40\n"
     ]
    },
    {
     "name": "stderr",
     "output_type": "stream",
     "text": [
      "D_loss: 7.036   G_loss: 6.295:   2%|▉                                                   | 1/54 [00:00<00:15,  3.41it/s]"
     ]
    },
    {
     "name": "stdout",
     "output_type": "stream",
     "text": [
      "iteration : 0, gp: 1.36\n"
     ]
    },
    {
     "name": "stderr",
     "output_type": "stream",
     "text": [
      "D_loss: 7.195   G_loss: 6.302:   7%|███▊                                                | 4/54 [00:01<00:15,  3.32it/s]"
     ]
    },
    {
     "name": "stdout",
     "output_type": "stream",
     "text": [
      "iteration : 3, gp: 1.46\n"
     ]
    },
    {
     "name": "stderr",
     "output_type": "stream",
     "text": [
      "D_loss: 6.198   G_loss: 6.309:  13%|██████▋                                             | 7/54 [00:02<00:13,  3.44it/s]"
     ]
    },
    {
     "name": "stdout",
     "output_type": "stream",
     "text": [
      "iteration : 6, gp: 1.02\n"
     ]
    },
    {
     "name": "stderr",
     "output_type": "stream",
     "text": [
      "D_loss: 8.393   G_loss: 6.372:  19%|█████████▍                                         | 10/54 [00:02<00:12,  3.57it/s]"
     ]
    },
    {
     "name": "stdout",
     "output_type": "stream",
     "text": [
      "iteration : 9, gp: 1.28\n"
     ]
    },
    {
     "name": "stderr",
     "output_type": "stream",
     "text": [
      "D_loss: 7.603   G_loss: 6.422:  24%|████████████▎                                      | 13/54 [00:03<00:11,  3.59it/s]"
     ]
    },
    {
     "name": "stdout",
     "output_type": "stream",
     "text": [
      "iteration : 12, gp: 0.90\n"
     ]
    },
    {
     "name": "stderr",
     "output_type": "stream",
     "text": [
      "D_loss: 6.852   G_loss: 6.436:  30%|███████████████                                    | 16/54 [00:04<00:10,  3.54it/s]"
     ]
    },
    {
     "name": "stdout",
     "output_type": "stream",
     "text": [
      "iteration : 15, gp: 1.18\n"
     ]
    },
    {
     "name": "stderr",
     "output_type": "stream",
     "text": [
      "D_loss: 4.752   G_loss: 6.551:  35%|█████████████████▉                                 | 19/54 [00:05<00:09,  3.57it/s]"
     ]
    },
    {
     "name": "stdout",
     "output_type": "stream",
     "text": [
      "iteration : 18, gp: 0.99\n"
     ]
    },
    {
     "name": "stderr",
     "output_type": "stream",
     "text": [
      "D_loss: 5.501   G_loss: 6.377:  41%|████████████████████▊                              | 22/54 [00:06<00:08,  3.57it/s]"
     ]
    },
    {
     "name": "stdout",
     "output_type": "stream",
     "text": [
      "iteration : 21, gp: 1.49\n"
     ]
    },
    {
     "name": "stderr",
     "output_type": "stream",
     "text": [
      "D_loss: 5.245   G_loss: 6.361:  46%|███████████████████████▌                           | 25/54 [00:07<00:08,  3.50it/s]"
     ]
    },
    {
     "name": "stdout",
     "output_type": "stream",
     "text": [
      "iteration : 24, gp: 1.29\n"
     ]
    },
    {
     "name": "stderr",
     "output_type": "stream",
     "text": [
      "D_loss: 5.194   G_loss: 6.436:  52%|██████████████████████████▍                        | 28/54 [00:08<00:07,  3.51it/s]"
     ]
    },
    {
     "name": "stdout",
     "output_type": "stream",
     "text": [
      "iteration : 27, gp: 1.34\n"
     ]
    },
    {
     "name": "stderr",
     "output_type": "stream",
     "text": [
      "D_loss: 6.197   G_loss: 6.468:  57%|█████████████████████████████▎                     | 31/54 [00:08<00:06,  3.54it/s]"
     ]
    },
    {
     "name": "stdout",
     "output_type": "stream",
     "text": [
      "iteration : 30, gp: 0.92\n"
     ]
    },
    {
     "name": "stderr",
     "output_type": "stream",
     "text": [
      "D_loss: 6.142   G_loss: 6.481:  63%|████████████████████████████████                   | 34/54 [00:09<00:05,  3.57it/s]"
     ]
    },
    {
     "name": "stdout",
     "output_type": "stream",
     "text": [
      "iteration : 33, gp: 1.00\n"
     ]
    },
    {
     "name": "stderr",
     "output_type": "stream",
     "text": [
      "D_loss: 6.583   G_loss: 6.545:  69%|██████████████████████████████████▉                | 37/54 [00:10<00:04,  3.56it/s]"
     ]
    },
    {
     "name": "stdout",
     "output_type": "stream",
     "text": [
      "iteration : 36, gp: 0.83\n"
     ]
    },
    {
     "name": "stderr",
     "output_type": "stream",
     "text": [
      "D_loss: 7.345   G_loss: 6.673:  74%|█████████████████████████████████████▊             | 40/54 [00:11<00:03,  3.54it/s]"
     ]
    },
    {
     "name": "stdout",
     "output_type": "stream",
     "text": [
      "iteration : 39, gp: 1.06\n"
     ]
    },
    {
     "name": "stderr",
     "output_type": "stream",
     "text": [
      "D_loss: 5.968   G_loss: 6.653:  80%|████████████████████████████████████████▌          | 43/54 [00:12<00:03,  3.58it/s]"
     ]
    },
    {
     "name": "stdout",
     "output_type": "stream",
     "text": [
      "iteration : 42, gp: 0.96\n"
     ]
    },
    {
     "name": "stderr",
     "output_type": "stream",
     "text": [
      "D_loss: 5.116   G_loss: 6.744:  85%|███████████████████████████████████████████▍       | 46/54 [00:13<00:02,  3.55it/s]"
     ]
    },
    {
     "name": "stdout",
     "output_type": "stream",
     "text": [
      "iteration : 45, gp: 0.93\n"
     ]
    },
    {
     "name": "stderr",
     "output_type": "stream",
     "text": [
      "D_loss: 5.992   G_loss: 6.717:  91%|██████████████████████████████████████████████▎    | 49/54 [00:13<00:01,  3.57it/s]"
     ]
    },
    {
     "name": "stdout",
     "output_type": "stream",
     "text": [
      "iteration : 48, gp: 1.09\n"
     ]
    },
    {
     "name": "stderr",
     "output_type": "stream",
     "text": [
      "D_loss: 5.816   G_loss: 6.762:  96%|█████████████████████████████████████████████████  | 52/54 [00:14<00:00,  3.61it/s]"
     ]
    },
    {
     "name": "stdout",
     "output_type": "stream",
     "text": [
      "iteration : 51, gp: 0.77\n"
     ]
    },
    {
     "name": "stderr",
     "output_type": "stream",
     "text": [
      "D_loss: 5.816   G_loss: 6.762: 100%|███████████████████████████████████████████████████| 54/54 [00:15<00:00,  3.54it/s]\n"
     ]
    },
    {
     "name": "stdout",
     "output_type": "stream",
     "text": [
      "epoch: 22/40\n"
     ]
    },
    {
     "name": "stderr",
     "output_type": "stream",
     "text": [
      "D_loss: 5.972   G_loss: 6.850:   2%|▉                                                   | 1/54 [00:00<00:15,  3.44it/s]"
     ]
    },
    {
     "name": "stdout",
     "output_type": "stream",
     "text": [
      "iteration : 0, gp: 0.69\n"
     ]
    },
    {
     "name": "stderr",
     "output_type": "stream",
     "text": [
      "D_loss: 4.084   G_loss: 6.750:   7%|███▊                                                | 4/54 [00:01<00:14,  3.49it/s]"
     ]
    },
    {
     "name": "stdout",
     "output_type": "stream",
     "text": [
      "iteration : 3, gp: 0.77\n"
     ]
    },
    {
     "name": "stderr",
     "output_type": "stream",
     "text": [
      "D_loss: 4.049   G_loss: 6.848:  13%|██████▋                                             | 7/54 [00:02<00:13,  3.47it/s]"
     ]
    },
    {
     "name": "stdout",
     "output_type": "stream",
     "text": [
      "iteration : 6, gp: 0.76\n"
     ]
    },
    {
     "name": "stderr",
     "output_type": "stream",
     "text": [
      "D_loss: 4.912   G_loss: 6.805:  19%|█████████▍                                         | 10/54 [00:02<00:12,  3.51it/s]"
     ]
    },
    {
     "name": "stdout",
     "output_type": "stream",
     "text": [
      "iteration : 9, gp: 1.15\n"
     ]
    },
    {
     "name": "stderr",
     "output_type": "stream",
     "text": [
      "D_loss: 4.885   G_loss: 6.862:  24%|████████████▎                                      | 13/54 [00:03<00:11,  3.55it/s]"
     ]
    },
    {
     "name": "stdout",
     "output_type": "stream",
     "text": [
      "iteration : 12, gp: 0.94\n"
     ]
    },
    {
     "name": "stderr",
     "output_type": "stream",
     "text": [
      "D_loss: 5.052   G_loss: 6.774:  30%|███████████████                                    | 16/54 [00:04<00:10,  3.59it/s]"
     ]
    },
    {
     "name": "stdout",
     "output_type": "stream",
     "text": [
      "iteration : 15, gp: 0.85\n"
     ]
    },
    {
     "name": "stderr",
     "output_type": "stream",
     "text": [
      "D_loss: 8.730   G_loss: 6.874:  35%|█████████████████▉                                 | 19/54 [00:05<00:09,  3.54it/s]"
     ]
    },
    {
     "name": "stdout",
     "output_type": "stream",
     "text": [
      "iteration : 18, gp: 0.70\n"
     ]
    },
    {
     "name": "stderr",
     "output_type": "stream",
     "text": [
      "D_loss: 4.768   G_loss: 6.973:  41%|████████████████████▊                              | 22/54 [00:06<00:09,  3.55it/s]"
     ]
    },
    {
     "name": "stdout",
     "output_type": "stream",
     "text": [
      "iteration : 21, gp: 0.76\n"
     ]
    },
    {
     "name": "stderr",
     "output_type": "stream",
     "text": [
      "D_loss: 7.275   G_loss: 7.024:  46%|███████████████████████▌                           | 25/54 [00:07<00:08,  3.54it/s]"
     ]
    },
    {
     "name": "stdout",
     "output_type": "stream",
     "text": [
      "iteration : 24, gp: 0.91\n"
     ]
    },
    {
     "name": "stderr",
     "output_type": "stream",
     "text": [
      "D_loss: 4.486   G_loss: 7.137:  52%|██████████████████████████▍                        | 28/54 [00:07<00:07,  3.57it/s]"
     ]
    },
    {
     "name": "stdout",
     "output_type": "stream",
     "text": [
      "iteration : 27, gp: 0.66\n"
     ]
    },
    {
     "name": "stderr",
     "output_type": "stream",
     "text": [
      "D_loss: 4.621   G_loss: 7.135:  57%|█████████████████████████████▎                     | 31/54 [00:08<00:06,  3.56it/s]"
     ]
    },
    {
     "name": "stdout",
     "output_type": "stream",
     "text": [
      "iteration : 30, gp: 0.81\n"
     ]
    },
    {
     "name": "stderr",
     "output_type": "stream",
     "text": [
      "D_loss: 4.304   G_loss: 7.169:  63%|████████████████████████████████                   | 34/54 [00:09<00:05,  3.60it/s]"
     ]
    },
    {
     "name": "stdout",
     "output_type": "stream",
     "text": [
      "iteration : 33, gp: 0.77\n"
     ]
    },
    {
     "name": "stderr",
     "output_type": "stream",
     "text": [
      "D_loss: 4.325   G_loss: 7.070:  69%|██████████████████████████████████▉                | 37/54 [00:10<00:04,  3.56it/s]"
     ]
    },
    {
     "name": "stdout",
     "output_type": "stream",
     "text": [
      "iteration : 36, gp: 0.72\n"
     ]
    },
    {
     "name": "stderr",
     "output_type": "stream",
     "text": [
      "D_loss: 3.336   G_loss: 7.046:  74%|█████████████████████████████████████▊             | 40/54 [00:11<00:03,  3.55it/s]"
     ]
    },
    {
     "name": "stdout",
     "output_type": "stream",
     "text": [
      "iteration : 39, gp: 0.51\n"
     ]
    },
    {
     "name": "stderr",
     "output_type": "stream",
     "text": [
      "D_loss: 4.271   G_loss: 7.049:  80%|████████████████████████████████████████▌          | 43/54 [00:12<00:03,  3.40it/s]"
     ]
    },
    {
     "name": "stdout",
     "output_type": "stream",
     "text": [
      "iteration : 42, gp: 0.72\n"
     ]
    },
    {
     "name": "stderr",
     "output_type": "stream",
     "text": [
      "D_loss: 4.956   G_loss: 7.159:  85%|███████████████████████████████████████████▍       | 46/54 [00:13<00:02,  3.49it/s]"
     ]
    },
    {
     "name": "stdout",
     "output_type": "stream",
     "text": [
      "iteration : 45, gp: 0.54\n"
     ]
    },
    {
     "name": "stderr",
     "output_type": "stream",
     "text": [
      "D_loss: 6.107   G_loss: 7.178:  91%|██████████████████████████████████████████████▎    | 49/54 [00:13<00:01,  3.50it/s]"
     ]
    },
    {
     "name": "stdout",
     "output_type": "stream",
     "text": [
      "iteration : 48, gp: 0.77\n"
     ]
    },
    {
     "name": "stderr",
     "output_type": "stream",
     "text": [
      "D_loss: 3.655   G_loss: 7.244:  96%|█████████████████████████████████████████████████  | 52/54 [00:14<00:00,  3.55it/s]"
     ]
    },
    {
     "name": "stdout",
     "output_type": "stream",
     "text": [
      "iteration : 51, gp: 0.61\n"
     ]
    },
    {
     "name": "stderr",
     "output_type": "stream",
     "text": [
      "D_loss: 3.655   G_loss: 7.244: 100%|███████████████████████████████████████████████████| 54/54 [00:15<00:00,  3.54it/s]\n"
     ]
    },
    {
     "name": "stdout",
     "output_type": "stream",
     "text": [
      "epoch: 23/40\n"
     ]
    },
    {
     "name": "stderr",
     "output_type": "stream",
     "text": [
      "D_loss: 4.337   G_loss: 7.230:   2%|▉                                                   | 1/54 [00:00<00:15,  3.44it/s]"
     ]
    },
    {
     "name": "stdout",
     "output_type": "stream",
     "text": [
      "iteration : 0, gp: 0.61\n"
     ]
    },
    {
     "name": "stderr",
     "output_type": "stream",
     "text": [
      "D_loss: 4.459   G_loss: 7.198:   7%|███▊                                                | 4/54 [00:01<00:14,  3.54it/s]"
     ]
    },
    {
     "name": "stdout",
     "output_type": "stream",
     "text": [
      "iteration : 3, gp: 0.69\n"
     ]
    },
    {
     "name": "stderr",
     "output_type": "stream",
     "text": [
      "D_loss: 8.880   G_loss: 7.375:  13%|██████▋                                             | 7/54 [00:01<00:13,  3.52it/s]"
     ]
    },
    {
     "name": "stdout",
     "output_type": "stream",
     "text": [
      "iteration : 6, gp: 0.78\n"
     ]
    },
    {
     "name": "stderr",
     "output_type": "stream",
     "text": [
      "D_loss: 3.137   G_loss: 7.439:  19%|█████████▍                                         | 10/54 [00:02<00:12,  3.50it/s]"
     ]
    },
    {
     "name": "stdout",
     "output_type": "stream",
     "text": [
      "iteration : 9, gp: 0.84\n"
     ]
    },
    {
     "name": "stderr",
     "output_type": "stream",
     "text": [
      "D_loss: 3.550   G_loss: 7.466:  24%|████████████▎                                      | 13/54 [00:03<00:11,  3.49it/s]"
     ]
    },
    {
     "name": "stdout",
     "output_type": "stream",
     "text": [
      "iteration : 12, gp: 0.60\n"
     ]
    },
    {
     "name": "stderr",
     "output_type": "stream",
     "text": [
      "D_loss: 4.858   G_loss: 7.319:  30%|███████████████                                    | 16/54 [00:04<00:10,  3.53it/s]"
     ]
    },
    {
     "name": "stdout",
     "output_type": "stream",
     "text": [
      "iteration : 15, gp: 0.68\n"
     ]
    },
    {
     "name": "stderr",
     "output_type": "stream",
     "text": [
      "D_loss: 5.010   G_loss: 7.470:  35%|█████████████████▉                                 | 19/54 [00:05<00:09,  3.50it/s]"
     ]
    },
    {
     "name": "stdout",
     "output_type": "stream",
     "text": [
      "iteration : 18, gp: 0.44\n"
     ]
    },
    {
     "name": "stderr",
     "output_type": "stream",
     "text": [
      "D_loss: 2.607   G_loss: 7.478:  41%|████████████████████▊                              | 22/54 [00:06<00:08,  3.57it/s]"
     ]
    },
    {
     "name": "stdout",
     "output_type": "stream",
     "text": [
      "iteration : 21, gp: 0.36\n"
     ]
    },
    {
     "name": "stderr",
     "output_type": "stream",
     "text": [
      "D_loss: 3.752   G_loss: 7.454:  46%|███████████████████████▌                           | 25/54 [00:07<00:07,  3.63it/s]"
     ]
    },
    {
     "name": "stdout",
     "output_type": "stream",
     "text": [
      "iteration : 24, gp: 0.47\n"
     ]
    },
    {
     "name": "stderr",
     "output_type": "stream",
     "text": [
      "D_loss: 3.891   G_loss: 7.476:  52%|██████████████████████████▍                        | 28/54 [00:07<00:07,  3.60it/s]"
     ]
    },
    {
     "name": "stdout",
     "output_type": "stream",
     "text": [
      "iteration : 27, gp: 0.28\n"
     ]
    },
    {
     "name": "stderr",
     "output_type": "stream",
     "text": [
      "D_loss: 1.201   G_loss: 7.516:  57%|█████████████████████████████▎                     | 31/54 [00:08<00:06,  3.58it/s]"
     ]
    },
    {
     "name": "stdout",
     "output_type": "stream",
     "text": [
      "iteration : 30, gp: 0.27\n"
     ]
    },
    {
     "name": "stderr",
     "output_type": "stream",
     "text": [
      "D_loss: 3.761   G_loss: 7.506:  63%|████████████████████████████████                   | 34/54 [00:09<00:05,  3.55it/s]"
     ]
    },
    {
     "name": "stdout",
     "output_type": "stream",
     "text": [
      "iteration : 33, gp: 0.47\n"
     ]
    },
    {
     "name": "stderr",
     "output_type": "stream",
     "text": [
      "D_loss: 3.059   G_loss: 7.497:  69%|██████████████████████████████████▉                | 37/54 [00:10<00:04,  3.56it/s]"
     ]
    },
    {
     "name": "stdout",
     "output_type": "stream",
     "text": [
      "iteration : 36, gp: 0.36\n"
     ]
    },
    {
     "name": "stderr",
     "output_type": "stream",
     "text": [
      "D_loss: 3.632   G_loss: 7.522:  74%|█████████████████████████████████████▊             | 40/54 [00:11<00:04,  3.47it/s]"
     ]
    },
    {
     "name": "stdout",
     "output_type": "stream",
     "text": [
      "iteration : 39, gp: 0.29\n"
     ]
    },
    {
     "name": "stderr",
     "output_type": "stream",
     "text": [
      "D_loss: 3.101   G_loss: 7.578:  80%|████████████████████████████████████████▌          | 43/54 [00:12<00:03,  3.55it/s]"
     ]
    },
    {
     "name": "stdout",
     "output_type": "stream",
     "text": [
      "iteration : 42, gp: 0.52\n"
     ]
    },
    {
     "name": "stderr",
     "output_type": "stream",
     "text": [
      "D_loss: 3.783   G_loss: 7.481:  85%|███████████████████████████████████████████▍       | 46/54 [00:13<00:02,  3.60it/s]"
     ]
    },
    {
     "name": "stdout",
     "output_type": "stream",
     "text": [
      "iteration : 45, gp: 0.47\n"
     ]
    },
    {
     "name": "stderr",
     "output_type": "stream",
     "text": [
      "D_loss: 5.131   G_loss: 7.623:  91%|██████████████████████████████████████████████▎    | 49/54 [00:13<00:01,  3.54it/s]"
     ]
    },
    {
     "name": "stdout",
     "output_type": "stream",
     "text": [
      "iteration : 48, gp: 0.40\n"
     ]
    },
    {
     "name": "stderr",
     "output_type": "stream",
     "text": [
      "D_loss: 1.851   G_loss: 7.547:  96%|█████████████████████████████████████████████████  | 52/54 [00:14<00:00,  3.57it/s]"
     ]
    },
    {
     "name": "stdout",
     "output_type": "stream",
     "text": [
      "iteration : 51, gp: 0.19\n"
     ]
    },
    {
     "name": "stderr",
     "output_type": "stream",
     "text": [
      "D_loss: 1.851   G_loss: 7.547: 100%|███████████████████████████████████████████████████| 54/54 [00:15<00:00,  3.55it/s]\n"
     ]
    },
    {
     "name": "stdout",
     "output_type": "stream",
     "text": [
      "epoch: 24/40\n"
     ]
    },
    {
     "name": "stderr",
     "output_type": "stream",
     "text": [
      "D_loss: 4.869   G_loss: 7.560:   2%|▉                                                   | 1/54 [00:00<00:14,  3.55it/s]"
     ]
    },
    {
     "name": "stdout",
     "output_type": "stream",
     "text": [
      "iteration : 0, gp: 0.37\n"
     ]
    },
    {
     "name": "stderr",
     "output_type": "stream",
     "text": [
      "D_loss: 2.700   G_loss: 7.580:   7%|███▊                                                | 4/54 [00:01<00:13,  3.57it/s]"
     ]
    },
    {
     "name": "stdout",
     "output_type": "stream",
     "text": [
      "iteration : 3, gp: 0.33\n"
     ]
    },
    {
     "name": "stderr",
     "output_type": "stream",
     "text": [
      "D_loss: 2.371   G_loss: 7.603:  13%|██████▋                                             | 7/54 [00:01<00:13,  3.58it/s]"
     ]
    },
    {
     "name": "stdout",
     "output_type": "stream",
     "text": [
      "iteration : 6, gp: 0.34\n"
     ]
    },
    {
     "name": "stderr",
     "output_type": "stream",
     "text": [
      "D_loss: 5.570   G_loss: 7.729:  19%|█████████▍                                         | 10/54 [00:02<00:12,  3.56it/s]"
     ]
    },
    {
     "name": "stdout",
     "output_type": "stream",
     "text": [
      "iteration : 9, gp: 0.32\n"
     ]
    },
    {
     "name": "stderr",
     "output_type": "stream",
     "text": [
      "D_loss: 2.573   G_loss: 7.718:  24%|████████████▎                                      | 13/54 [00:03<00:11,  3.52it/s]"
     ]
    },
    {
     "name": "stdout",
     "output_type": "stream",
     "text": [
      "iteration : 12, gp: 0.33\n"
     ]
    },
    {
     "name": "stderr",
     "output_type": "stream",
     "text": [
      "D_loss: 2.560   G_loss: 7.765:  30%|███████████████                                    | 16/54 [00:04<00:10,  3.57it/s]"
     ]
    },
    {
     "name": "stdout",
     "output_type": "stream",
     "text": [
      "iteration : 15, gp: 0.26\n"
     ]
    },
    {
     "name": "stderr",
     "output_type": "stream",
     "text": [
      "D_loss: 2.521   G_loss: 7.762:  35%|█████████████████▉                                 | 19/54 [00:05<00:09,  3.58it/s]"
     ]
    },
    {
     "name": "stdout",
     "output_type": "stream",
     "text": [
      "iteration : 18, gp: 0.37\n"
     ]
    },
    {
     "name": "stderr",
     "output_type": "stream",
     "text": [
      "D_loss: 3.281   G_loss: 7.710:  41%|████████████████████▊                              | 22/54 [00:06<00:09,  3.54it/s]"
     ]
    },
    {
     "name": "stdout",
     "output_type": "stream",
     "text": [
      "iteration : 21, gp: 0.27\n"
     ]
    },
    {
     "name": "stderr",
     "output_type": "stream",
     "text": [
      "D_loss: 4.538   G_loss: 7.844:  46%|███████████████████████▌                           | 25/54 [00:07<00:08,  3.54it/s]"
     ]
    },
    {
     "name": "stdout",
     "output_type": "stream",
     "text": [
      "iteration : 24, gp: 0.28\n"
     ]
    },
    {
     "name": "stderr",
     "output_type": "stream",
     "text": [
      "D_loss: 2.040   G_loss: 7.875:  52%|██████████████████████████▍                        | 28/54 [00:07<00:07,  3.51it/s]"
     ]
    },
    {
     "name": "stdout",
     "output_type": "stream",
     "text": [
      "iteration : 27, gp: 0.31\n"
     ]
    },
    {
     "name": "stderr",
     "output_type": "stream",
     "text": [
      "D_loss: 1.941   G_loss: 7.858:  57%|█████████████████████████████▎                     | 31/54 [00:08<00:06,  3.47it/s]"
     ]
    },
    {
     "name": "stdout",
     "output_type": "stream",
     "text": [
      "iteration : 30, gp: 0.18\n"
     ]
    },
    {
     "name": "stderr",
     "output_type": "stream",
     "text": [
      "D_loss: 2.771   G_loss: 7.839:  63%|████████████████████████████████                   | 34/54 [00:09<00:05,  3.59it/s]"
     ]
    },
    {
     "name": "stdout",
     "output_type": "stream",
     "text": [
      "iteration : 33, gp: 0.18\n"
     ]
    },
    {
     "name": "stderr",
     "output_type": "stream",
     "text": [
      "D_loss: 2.210   G_loss: 7.855:  69%|██████████████████████████████████▉                | 37/54 [00:10<00:04,  3.60it/s]"
     ]
    },
    {
     "name": "stdout",
     "output_type": "stream",
     "text": [
      "iteration : 36, gp: 0.19\n"
     ]
    },
    {
     "name": "stderr",
     "output_type": "stream",
     "text": [
      "D_loss: 4.623   G_loss: 7.971:  74%|█████████████████████████████████████▊             | 40/54 [00:11<00:03,  3.55it/s]"
     ]
    },
    {
     "name": "stdout",
     "output_type": "stream",
     "text": [
      "iteration : 39, gp: 0.28\n"
     ]
    },
    {
     "name": "stderr",
     "output_type": "stream",
     "text": [
      "D_loss: 2.749   G_loss: 7.876:  80%|████████████████████████████████████████▌          | 43/54 [00:12<00:03,  3.49it/s]"
     ]
    },
    {
     "name": "stdout",
     "output_type": "stream",
     "text": [
      "iteration : 42, gp: 0.17\n"
     ]
    },
    {
     "name": "stderr",
     "output_type": "stream",
     "text": [
      "D_loss: 1.527   G_loss: 7.914:  85%|███████████████████████████████████████████▍       | 46/54 [00:12<00:02,  3.51it/s]"
     ]
    },
    {
     "name": "stdout",
     "output_type": "stream",
     "text": [
      "iteration : 45, gp: 0.12\n"
     ]
    },
    {
     "name": "stderr",
     "output_type": "stream",
     "text": [
      "D_loss: 2.684   G_loss: 7.971:  91%|██████████████████████████████████████████████▎    | 49/54 [00:13<00:01,  3.55it/s]"
     ]
    },
    {
     "name": "stdout",
     "output_type": "stream",
     "text": [
      "iteration : 48, gp: 0.14\n"
     ]
    },
    {
     "name": "stderr",
     "output_type": "stream",
     "text": [
      "D_loss: 2.510   G_loss: 7.925:  96%|█████████████████████████████████████████████████  | 52/54 [00:14<00:00,  3.50it/s]"
     ]
    },
    {
     "name": "stdout",
     "output_type": "stream",
     "text": [
      "iteration : 51, gp: 0.28\n"
     ]
    },
    {
     "name": "stderr",
     "output_type": "stream",
     "text": [
      "D_loss: 2.510   G_loss: 7.925: 100%|███████████████████████████████████████████████████| 54/54 [00:15<00:00,  3.55it/s]\n"
     ]
    },
    {
     "name": "stdout",
     "output_type": "stream",
     "text": [
      "epoch: 25/40\n"
     ]
    },
    {
     "name": "stderr",
     "output_type": "stream",
     "text": [
      "D_loss: 2.720   G_loss: 7.964:   2%|▉                                                   | 1/54 [00:00<00:19,  2.78it/s]"
     ]
    },
    {
     "name": "stdout",
     "output_type": "stream",
     "text": [
      "iteration : 0, gp: 0.17\n"
     ]
    },
    {
     "name": "stderr",
     "output_type": "stream",
     "text": [
      "D_loss: 3.878   G_loss: 7.971:   7%|███▊                                                | 4/54 [00:01<00:14,  3.46it/s]"
     ]
    },
    {
     "name": "stdout",
     "output_type": "stream",
     "text": [
      "iteration : 3, gp: 0.24\n"
     ]
    },
    {
     "name": "stderr",
     "output_type": "stream",
     "text": [
      "D_loss: 3.686   G_loss: 8.170:  13%|██████▋                                             | 7/54 [00:02<00:13,  3.55it/s]"
     ]
    },
    {
     "name": "stdout",
     "output_type": "stream",
     "text": [
      "iteration : 6, gp: 0.18\n"
     ]
    },
    {
     "name": "stderr",
     "output_type": "stream",
     "text": [
      "D_loss: 3.697   G_loss: 8.153:  19%|█████████▍                                         | 10/54 [00:02<00:12,  3.57it/s]"
     ]
    },
    {
     "name": "stdout",
     "output_type": "stream",
     "text": [
      "iteration : 9, gp: 0.19\n"
     ]
    },
    {
     "name": "stderr",
     "output_type": "stream",
     "text": [
      "D_loss: 1.225   G_loss: 8.290:  24%|████████████▎                                      | 13/54 [00:03<00:11,  3.56it/s]"
     ]
    },
    {
     "name": "stdout",
     "output_type": "stream",
     "text": [
      "iteration : 12, gp: 0.13\n"
     ]
    },
    {
     "name": "stderr",
     "output_type": "stream",
     "text": [
      "D_loss: 1.823   G_loss: 8.238:  30%|███████████████                                    | 16/54 [00:04<00:10,  3.54it/s]"
     ]
    },
    {
     "name": "stdout",
     "output_type": "stream",
     "text": [
      "iteration : 15, gp: 0.11\n"
     ]
    },
    {
     "name": "stderr",
     "output_type": "stream",
     "text": [
      "D_loss: 2.531   G_loss: 8.257:  35%|█████████████████▉                                 | 19/54 [00:05<00:10,  3.48it/s]"
     ]
    },
    {
     "name": "stdout",
     "output_type": "stream",
     "text": [
      "iteration : 18, gp: 0.13\n"
     ]
    },
    {
     "name": "stderr",
     "output_type": "stream",
     "text": [
      "D_loss: 2.582   G_loss: 8.216:  41%|████████████████████▊                              | 22/54 [00:06<00:09,  3.47it/s]"
     ]
    },
    {
     "name": "stdout",
     "output_type": "stream",
     "text": [
      "iteration : 21, gp: 0.11\n"
     ]
    },
    {
     "name": "stderr",
     "output_type": "stream",
     "text": [
      "D_loss: 2.628   G_loss: 8.154:  46%|███████████████████████▌                           | 25/54 [00:07<00:08,  3.54it/s]"
     ]
    },
    {
     "name": "stdout",
     "output_type": "stream",
     "text": [
      "iteration : 24, gp: 0.11\n"
     ]
    },
    {
     "name": "stderr",
     "output_type": "stream",
     "text": [
      "D_loss: 2.862   G_loss: 8.193:  52%|██████████████████████████▍                        | 28/54 [00:07<00:07,  3.57it/s]"
     ]
    },
    {
     "name": "stdout",
     "output_type": "stream",
     "text": [
      "iteration : 27, gp: 0.14\n"
     ]
    },
    {
     "name": "stderr",
     "output_type": "stream",
     "text": [
      "D_loss: 1.357   G_loss: 8.216:  57%|█████████████████████████████▎                     | 31/54 [00:08<00:06,  3.54it/s]"
     ]
    },
    {
     "name": "stdout",
     "output_type": "stream",
     "text": [
      "iteration : 30, gp: 0.09\n"
     ]
    },
    {
     "name": "stderr",
     "output_type": "stream",
     "text": [
      "D_loss: 2.110   G_loss: 8.241:  63%|████████████████████████████████                   | 34/54 [00:09<00:05,  3.50it/s]"
     ]
    },
    {
     "name": "stdout",
     "output_type": "stream",
     "text": [
      "iteration : 33, gp: 0.09\n"
     ]
    },
    {
     "name": "stderr",
     "output_type": "stream",
     "text": [
      "D_loss: 0.447   G_loss: 8.203:  69%|██████████████████████████████████▉                | 37/54 [00:10<00:04,  3.53it/s]"
     ]
    },
    {
     "name": "stdout",
     "output_type": "stream",
     "text": [
      "iteration : 36, gp: 0.04\n"
     ]
    },
    {
     "name": "stderr",
     "output_type": "stream",
     "text": [
      "D_loss: 3.368   G_loss: 8.257:  74%|█████████████████████████████████████▊             | 40/54 [00:11<00:03,  3.59it/s]"
     ]
    },
    {
     "name": "stdout",
     "output_type": "stream",
     "text": [
      "iteration : 39, gp: 0.07\n"
     ]
    },
    {
     "name": "stderr",
     "output_type": "stream",
     "text": [
      "D_loss: 1.368   G_loss: 8.229:  80%|████████████████████████████████████████▌          | 43/54 [00:12<00:03,  3.56it/s]"
     ]
    },
    {
     "name": "stdout",
     "output_type": "stream",
     "text": [
      "iteration : 42, gp: 0.11\n"
     ]
    },
    {
     "name": "stderr",
     "output_type": "stream",
     "text": [
      "D_loss: 2.449   G_loss: 8.300:  85%|███████████████████████████████████████████▍       | 46/54 [00:13<00:02,  3.54it/s]"
     ]
    },
    {
     "name": "stdout",
     "output_type": "stream",
     "text": [
      "iteration : 45, gp: 0.08\n"
     ]
    },
    {
     "name": "stderr",
     "output_type": "stream",
     "text": [
      "D_loss: 0.938   G_loss: 8.265:  91%|██████████████████████████████████████████████▎    | 49/54 [00:13<00:01,  3.57it/s]"
     ]
    },
    {
     "name": "stdout",
     "output_type": "stream",
     "text": [
      "iteration : 48, gp: 0.13\n"
     ]
    },
    {
     "name": "stderr",
     "output_type": "stream",
     "text": [
      "D_loss: 2.898   G_loss: 8.421:  96%|█████████████████████████████████████████████████  | 52/54 [00:14<00:00,  3.57it/s]"
     ]
    },
    {
     "name": "stdout",
     "output_type": "stream",
     "text": [
      "iteration : 51, gp: 0.08\n"
     ]
    },
    {
     "name": "stderr",
     "output_type": "stream",
     "text": [
      "D_loss: 2.898   G_loss: 8.421: 100%|███████████████████████████████████████████████████| 54/54 [00:15<00:00,  3.54it/s]\n"
     ]
    },
    {
     "name": "stdout",
     "output_type": "stream",
     "text": [
      "Growing network to size: 32\n",
      "Output Resolution: 32 x 32\n",
      "epoch: 26/40\n"
     ]
    },
    {
     "name": "stderr",
     "output_type": "stream",
     "text": [
      "D_loss: 1.412   G_loss: 5.890:   2%|▉                                                   | 1/54 [00:00<00:28,  1.88it/s]"
     ]
    },
    {
     "name": "stdout",
     "output_type": "stream",
     "text": [
      "iteration : 0, gp: 5.17\n"
     ]
    },
    {
     "name": "stderr",
     "output_type": "stream",
     "text": [
      "D_loss: 1.550   G_loss: 0.915:   7%|███▊                                                | 4/54 [00:02<00:26,  1.89it/s]"
     ]
    },
    {
     "name": "stdout",
     "output_type": "stream",
     "text": [
      "iteration : 3, gp: 5.10\n"
     ]
    },
    {
     "name": "stderr",
     "output_type": "stream",
     "text": [
      "D_loss: 0.735   G_loss: 0.974:  13%|██████▋                                             | 7/54 [00:03<00:24,  1.90it/s]"
     ]
    },
    {
     "name": "stdout",
     "output_type": "stream",
     "text": [
      "iteration : 6, gp: 4.47\n"
     ]
    },
    {
     "name": "stderr",
     "output_type": "stream",
     "text": [
      "D_loss: 3.006   G_loss: 1.054:  19%|█████████▍                                         | 10/54 [00:05<00:22,  1.92it/s]"
     ]
    },
    {
     "name": "stdout",
     "output_type": "stream",
     "text": [
      "iteration : 9, gp: 4.39\n"
     ]
    },
    {
     "name": "stderr",
     "output_type": "stream",
     "text": [
      "D_loss: 2.682   G_loss: 1.122:  24%|████████████▎                                      | 13/54 [00:06<00:21,  1.87it/s]"
     ]
    },
    {
     "name": "stdout",
     "output_type": "stream",
     "text": [
      "iteration : 12, gp: 3.95\n"
     ]
    },
    {
     "name": "stderr",
     "output_type": "stream",
     "text": [
      "D_loss: 3.263   G_loss: 1.211:  30%|███████████████                                    | 16/54 [00:08<00:19,  1.91it/s]"
     ]
    },
    {
     "name": "stdout",
     "output_type": "stream",
     "text": [
      "iteration : 15, gp: 3.90\n"
     ]
    },
    {
     "name": "stderr",
     "output_type": "stream",
     "text": [
      "D_loss: 3.055   G_loss: 1.267:  35%|█████████████████▉                                 | 19/54 [00:10<00:18,  1.91it/s]"
     ]
    },
    {
     "name": "stdout",
     "output_type": "stream",
     "text": [
      "iteration : 18, gp: 3.45\n"
     ]
    },
    {
     "name": "stderr",
     "output_type": "stream",
     "text": [
      "D_loss: 4.073   G_loss: 1.400:  41%|████████████████████▊                              | 22/54 [00:11<00:16,  1.92it/s]"
     ]
    },
    {
     "name": "stdout",
     "output_type": "stream",
     "text": [
      "iteration : 21, gp: 3.70\n"
     ]
    },
    {
     "name": "stderr",
     "output_type": "stream",
     "text": [
      "D_loss: 5.404   G_loss: 1.460:  46%|███████████████████████▌                           | 25/54 [00:13<00:15,  1.92it/s]"
     ]
    },
    {
     "name": "stdout",
     "output_type": "stream",
     "text": [
      "iteration : 24, gp: 3.07\n"
     ]
    },
    {
     "name": "stderr",
     "output_type": "stream",
     "text": [
      "D_loss: 3.808   G_loss: 1.592:  52%|██████████████████████████▍                        | 28/54 [00:14<00:13,  1.93it/s]"
     ]
    },
    {
     "name": "stdout",
     "output_type": "stream",
     "text": [
      "iteration : 27, gp: 3.10\n"
     ]
    },
    {
     "name": "stderr",
     "output_type": "stream",
     "text": [
      "D_loss: 3.728   G_loss: 1.676:  57%|█████████████████████████████▎                     | 31/54 [00:16<00:11,  1.92it/s]"
     ]
    },
    {
     "name": "stdout",
     "output_type": "stream",
     "text": [
      "iteration : 30, gp: 2.82\n"
     ]
    },
    {
     "name": "stderr",
     "output_type": "stream",
     "text": [
      "D_loss: 6.028   G_loss: 1.765:  63%|████████████████████████████████                   | 34/54 [00:17<00:10,  1.91it/s]"
     ]
    },
    {
     "name": "stdout",
     "output_type": "stream",
     "text": [
      "iteration : 33, gp: 2.90\n"
     ]
    },
    {
     "name": "stderr",
     "output_type": "stream",
     "text": [
      "D_loss: 7.584   G_loss: 1.887:  69%|██████████████████████████████████▉                | 37/54 [00:19<00:08,  1.92it/s]"
     ]
    },
    {
     "name": "stdout",
     "output_type": "stream",
     "text": [
      "iteration : 36, gp: 2.59\n"
     ]
    },
    {
     "name": "stderr",
     "output_type": "stream",
     "text": [
      "D_loss: 7.494   G_loss: 1.990:  74%|█████████████████████████████████████▊             | 40/54 [00:20<00:07,  1.91it/s]"
     ]
    },
    {
     "name": "stdout",
     "output_type": "stream",
     "text": [
      "iteration : 39, gp: 2.31\n"
     ]
    },
    {
     "name": "stderr",
     "output_type": "stream",
     "text": [
      "D_loss: 9.140   G_loss: 2.125:  80%|████████████████████████████████████████▌          | 43/54 [00:22<00:05,  1.92it/s]"
     ]
    },
    {
     "name": "stdout",
     "output_type": "stream",
     "text": [
      "iteration : 42, gp: 2.26\n"
     ]
    },
    {
     "name": "stderr",
     "output_type": "stream",
     "text": [
      "D_loss: 7.903   G_loss: 2.232:  85%|███████████████████████████████████████████▍       | 46/54 [00:24<00:04,  1.92it/s]"
     ]
    },
    {
     "name": "stdout",
     "output_type": "stream",
     "text": [
      "iteration : 45, gp: 1.95\n"
     ]
    },
    {
     "name": "stderr",
     "output_type": "stream",
     "text": [
      "D_loss: 7.268   G_loss: 2.316:  91%|██████████████████████████████████████████████▎    | 49/54 [00:25<00:02,  1.86it/s]"
     ]
    },
    {
     "name": "stdout",
     "output_type": "stream",
     "text": [
      "iteration : 48, gp: 2.01\n"
     ]
    },
    {
     "name": "stderr",
     "output_type": "stream",
     "text": [
      "D_loss: 5.182   G_loss: 2.480:  96%|█████████████████████████████████████████████████  | 52/54 [00:27<00:01,  1.91it/s]"
     ]
    },
    {
     "name": "stdout",
     "output_type": "stream",
     "text": [
      "iteration : 51, gp: 1.77\n"
     ]
    },
    {
     "name": "stderr",
     "output_type": "stream",
     "text": [
      "D_loss: 5.182   G_loss: 2.480: 100%|███████████████████████████████████████████████████| 54/54 [00:28<00:00,  1.92it/s]\n"
     ]
    },
    {
     "name": "stdout",
     "output_type": "stream",
     "text": [
      "epoch: 27/40\n"
     ]
    },
    {
     "name": "stderr",
     "output_type": "stream",
     "text": [
      "D_loss: 9.366   G_loss: 2.548:   2%|▉                                                   | 1/54 [00:00<00:28,  1.87it/s]"
     ]
    },
    {
     "name": "stdout",
     "output_type": "stream",
     "text": [
      "iteration : 0, gp: 1.42\n"
     ]
    },
    {
     "name": "stderr",
     "output_type": "stream",
     "text": [
      "D_loss: 10.908   G_loss: 2.689:   7%|███▊                                               | 4/54 [00:02<00:26,  1.90it/s]"
     ]
    },
    {
     "name": "stdout",
     "output_type": "stream",
     "text": [
      "iteration : 3, gp: 1.44\n"
     ]
    },
    {
     "name": "stderr",
     "output_type": "stream",
     "text": [
      "D_loss: 10.600   G_loss: 2.813:  13%|██████▌                                            | 7/54 [00:03<00:24,  1.91it/s]"
     ]
    },
    {
     "name": "stdout",
     "output_type": "stream",
     "text": [
      "iteration : 6, gp: 1.68\n"
     ]
    },
    {
     "name": "stderr",
     "output_type": "stream",
     "text": [
      "D_loss: 10.221   G_loss: 2.934:  19%|█████████▎                                        | 10/54 [00:05<00:23,  1.89it/s]"
     ]
    },
    {
     "name": "stdout",
     "output_type": "stream",
     "text": [
      "iteration : 9, gp: 1.10\n"
     ]
    },
    {
     "name": "stderr",
     "output_type": "stream",
     "text": [
      "D_loss: 10.902   G_loss: 3.041:  24%|████████████                                      | 13/54 [00:06<00:21,  1.90it/s]"
     ]
    },
    {
     "name": "stdout",
     "output_type": "stream",
     "text": [
      "iteration : 12, gp: 1.21\n"
     ]
    },
    {
     "name": "stderr",
     "output_type": "stream",
     "text": [
      "D_loss: 9.008   G_loss: 3.166:  30%|███████████████                                    | 16/54 [00:08<00:20,  1.89it/s]"
     ]
    },
    {
     "name": "stdout",
     "output_type": "stream",
     "text": [
      "iteration : 15, gp: 0.87\n"
     ]
    },
    {
     "name": "stderr",
     "output_type": "stream",
     "text": [
      "D_loss: 12.073   G_loss: 3.278:  35%|█████████████████▌                                | 19/54 [00:09<00:18,  1.91it/s]"
     ]
    },
    {
     "name": "stdout",
     "output_type": "stream",
     "text": [
      "iteration : 18, gp: 0.90\n"
     ]
    },
    {
     "name": "stderr",
     "output_type": "stream",
     "text": [
      "D_loss: 13.054   G_loss: 3.470:  41%|████████████████████▎                             | 22/54 [00:11<00:16,  1.90it/s]"
     ]
    },
    {
     "name": "stdout",
     "output_type": "stream",
     "text": [
      "iteration : 21, gp: 0.58\n"
     ]
    },
    {
     "name": "stderr",
     "output_type": "stream",
     "text": [
      "D_loss: 9.396   G_loss: 3.580:  46%|███████████████████████▌                           | 25/54 [00:13<00:15,  1.91it/s]"
     ]
    },
    {
     "name": "stdout",
     "output_type": "stream",
     "text": [
      "iteration : 24, gp: 1.00\n"
     ]
    },
    {
     "name": "stderr",
     "output_type": "stream",
     "text": [
      "D_loss: 12.679   G_loss: 3.659:  52%|█████████████████████████▉                        | 28/54 [00:14<00:13,  1.92it/s]"
     ]
    },
    {
     "name": "stdout",
     "output_type": "stream",
     "text": [
      "iteration : 27, gp: 0.61\n"
     ]
    },
    {
     "name": "stderr",
     "output_type": "stream",
     "text": [
      "D_loss: 14.123   G_loss: 3.742:  57%|████████████████████████████▋                     | 31/54 [00:16<00:11,  1.93it/s]"
     ]
    },
    {
     "name": "stdout",
     "output_type": "stream",
     "text": [
      "iteration : 30, gp: 0.79\n"
     ]
    },
    {
     "name": "stderr",
     "output_type": "stream",
     "text": [
      "D_loss: 15.768   G_loss: 3.914:  63%|███████████████████████████████▍                  | 34/54 [00:17<00:10,  1.93it/s]"
     ]
    },
    {
     "name": "stdout",
     "output_type": "stream",
     "text": [
      "iteration : 33, gp: 0.60\n"
     ]
    },
    {
     "name": "stderr",
     "output_type": "stream",
     "text": [
      "D_loss: 15.880   G_loss: 4.015:  69%|██████████████████████████████████▎               | 37/54 [00:19<00:08,  1.92it/s]"
     ]
    },
    {
     "name": "stdout",
     "output_type": "stream",
     "text": [
      "iteration : 36, gp: 0.22\n"
     ]
    },
    {
     "name": "stderr",
     "output_type": "stream",
     "text": [
      "D_loss: 10.608   G_loss: 4.163:  74%|█████████████████████████████████████             | 40/54 [00:20<00:07,  1.91it/s]"
     ]
    },
    {
     "name": "stdout",
     "output_type": "stream",
     "text": [
      "iteration : 39, gp: 0.92\n"
     ]
    },
    {
     "name": "stderr",
     "output_type": "stream",
     "text": [
      "D_loss: 15.622   G_loss: 4.290:  80%|███████████████████████████████████████▊          | 43/54 [00:22<00:05,  1.90it/s]"
     ]
    },
    {
     "name": "stdout",
     "output_type": "stream",
     "text": [
      "iteration : 42, gp: 0.52\n"
     ]
    },
    {
     "name": "stderr",
     "output_type": "stream",
     "text": [
      "D_loss: 14.739   G_loss: 4.442:  85%|██████████████████████████████████████████▌       | 46/54 [00:24<00:04,  1.90it/s]"
     ]
    },
    {
     "name": "stdout",
     "output_type": "stream",
     "text": [
      "iteration : 45, gp: 0.38\n"
     ]
    },
    {
     "name": "stderr",
     "output_type": "stream",
     "text": [
      "D_loss: 13.116   G_loss: 4.577:  91%|█████████████████████████████████████████████▎    | 49/54 [00:25<00:02,  1.88it/s]"
     ]
    },
    {
     "name": "stdout",
     "output_type": "stream",
     "text": [
      "iteration : 48, gp: 0.06\n"
     ]
    },
    {
     "name": "stderr",
     "output_type": "stream",
     "text": [
      "D_loss: 19.288   G_loss: 4.643:  96%|████████████████████████████████████████████████▏ | 52/54 [00:27<00:01,  1.90it/s]"
     ]
    },
    {
     "name": "stdout",
     "output_type": "stream",
     "text": [
      "iteration : 51, gp: 0.06\n"
     ]
    },
    {
     "name": "stderr",
     "output_type": "stream",
     "text": [
      "D_loss: 19.288   G_loss: 4.643: 100%|██████████████████████████████████████████████████| 54/54 [00:28<00:00,  1.91it/s]\n"
     ]
    },
    {
     "name": "stdout",
     "output_type": "stream",
     "text": [
      "epoch: 28/40\n"
     ]
    },
    {
     "name": "stderr",
     "output_type": "stream",
     "text": [
      "D_loss: 18.602   G_loss: 4.842:   2%|▉                                                  | 1/54 [00:00<00:27,  1.90it/s]"
     ]
    },
    {
     "name": "stdout",
     "output_type": "stream",
     "text": [
      "iteration : 0, gp: 0.26\n"
     ]
    },
    {
     "name": "stderr",
     "output_type": "stream",
     "text": [
      "D_loss: 13.101   G_loss: 4.917:   7%|███▊                                               | 4/54 [00:02<00:26,  1.90it/s]"
     ]
    },
    {
     "name": "stdout",
     "output_type": "stream",
     "text": [
      "iteration : 3, gp: 0.30\n"
     ]
    },
    {
     "name": "stderr",
     "output_type": "stream",
     "text": [
      "D_loss: 20.674   G_loss: 4.998:  13%|██████▌                                            | 7/54 [00:03<00:24,  1.90it/s]"
     ]
    },
    {
     "name": "stdout",
     "output_type": "stream",
     "text": [
      "iteration : 6, gp: 0.05\n"
     ]
    },
    {
     "name": "stderr",
     "output_type": "stream",
     "text": [
      "D_loss: 11.620   G_loss: 5.195:  19%|█████████▎                                        | 10/54 [00:05<00:23,  1.90it/s]"
     ]
    },
    {
     "name": "stdout",
     "output_type": "stream",
     "text": [
      "iteration : 9, gp: 0.17\n"
     ]
    },
    {
     "name": "stderr",
     "output_type": "stream",
     "text": [
      "D_loss: 18.584   G_loss: 5.261:  24%|████████████                                      | 13/54 [00:06<00:21,  1.91it/s]"
     ]
    },
    {
     "name": "stdout",
     "output_type": "stream",
     "text": [
      "iteration : 12, gp: 0.06\n"
     ]
    },
    {
     "name": "stderr",
     "output_type": "stream",
     "text": [
      "D_loss: 18.910   G_loss: 5.286:  30%|██████████████▊                                   | 16/54 [00:08<00:19,  1.91it/s]"
     ]
    },
    {
     "name": "stdout",
     "output_type": "stream",
     "text": [
      "iteration : 15, gp: 0.10\n"
     ]
    },
    {
     "name": "stderr",
     "output_type": "stream",
     "text": [
      "D_loss: 20.509   G_loss: 5.425:  35%|█████████████████▌                                | 19/54 [00:09<00:18,  1.92it/s]"
     ]
    },
    {
     "name": "stdout",
     "output_type": "stream",
     "text": [
      "iteration : 18, gp: 0.27\n"
     ]
    },
    {
     "name": "stderr",
     "output_type": "stream",
     "text": [
      "D_loss: 21.283   G_loss: 5.533:  41%|████████████████████▎                             | 22/54 [00:11<00:16,  1.92it/s]"
     ]
    },
    {
     "name": "stdout",
     "output_type": "stream",
     "text": [
      "iteration : 21, gp: 0.15\n"
     ]
    },
    {
     "name": "stderr",
     "output_type": "stream",
     "text": [
      "D_loss: 19.730   G_loss: 5.624:  46%|███████████████████████▏                          | 25/54 [00:13<00:15,  1.91it/s]"
     ]
    },
    {
     "name": "stdout",
     "output_type": "stream",
     "text": [
      "iteration : 24, gp: 0.30\n"
     ]
    },
    {
     "name": "stderr",
     "output_type": "stream",
     "text": [
      "D_loss: 18.484   G_loss: 5.708:  52%|█████████████████████████▉                        | 28/54 [00:14<00:13,  1.93it/s]"
     ]
    },
    {
     "name": "stdout",
     "output_type": "stream",
     "text": [
      "iteration : 27, gp: 0.24\n"
     ]
    },
    {
     "name": "stderr",
     "output_type": "stream",
     "text": [
      "D_loss: 19.741   G_loss: 5.797:  57%|████████████████████████████▋                     | 31/54 [00:16<00:11,  1.92it/s]"
     ]
    },
    {
     "name": "stdout",
     "output_type": "stream",
     "text": [
      "iteration : 30, gp: 0.18\n"
     ]
    },
    {
     "name": "stderr",
     "output_type": "stream",
     "text": [
      "D_loss: 24.249   G_loss: 5.894:  63%|███████████████████████████████▍                  | 34/54 [00:17<00:10,  1.92it/s]"
     ]
    },
    {
     "name": "stdout",
     "output_type": "stream",
     "text": [
      "iteration : 33, gp: 0.43\n"
     ]
    },
    {
     "name": "stderr",
     "output_type": "stream",
     "text": [
      "D_loss: 18.355   G_loss: 5.915:  69%|██████████████████████████████████▎               | 37/54 [00:19<00:09,  1.84it/s]"
     ]
    },
    {
     "name": "stdout",
     "output_type": "stream",
     "text": [
      "iteration : 36, gp: 0.25\n"
     ]
    },
    {
     "name": "stderr",
     "output_type": "stream",
     "text": [
      "D_loss: 17.447   G_loss: 6.025:  74%|█████████████████████████████████████             | 40/54 [00:20<00:07,  1.91it/s]"
     ]
    },
    {
     "name": "stdout",
     "output_type": "stream",
     "text": [
      "iteration : 39, gp: 0.86\n"
     ]
    },
    {
     "name": "stderr",
     "output_type": "stream",
     "text": [
      "D_loss: 20.500   G_loss: 6.086:  80%|███████████████████████████████████████▊          | 43/54 [00:22<00:05,  1.92it/s]"
     ]
    },
    {
     "name": "stdout",
     "output_type": "stream",
     "text": [
      "iteration : 42, gp: 0.70\n"
     ]
    },
    {
     "name": "stderr",
     "output_type": "stream",
     "text": [
      "D_loss: 19.247   G_loss: 6.148:  85%|██████████████████████████████████████████▌       | 46/54 [00:24<00:04,  1.91it/s]"
     ]
    },
    {
     "name": "stdout",
     "output_type": "stream",
     "text": [
      "iteration : 45, gp: 0.74\n"
     ]
    },
    {
     "name": "stderr",
     "output_type": "stream",
     "text": [
      "D_loss: 21.648   G_loss: 6.243:  91%|█████████████████████████████████████████████▎    | 49/54 [00:25<00:02,  1.89it/s]"
     ]
    },
    {
     "name": "stdout",
     "output_type": "stream",
     "text": [
      "iteration : 48, gp: 0.62\n"
     ]
    },
    {
     "name": "stderr",
     "output_type": "stream",
     "text": [
      "D_loss: 22.272   G_loss: 6.216:  96%|████████████████████████████████████████████████▏ | 52/54 [00:27<00:01,  1.92it/s]"
     ]
    },
    {
     "name": "stdout",
     "output_type": "stream",
     "text": [
      "iteration : 51, gp: 1.18\n"
     ]
    },
    {
     "name": "stderr",
     "output_type": "stream",
     "text": [
      "D_loss: 22.272   G_loss: 6.216: 100%|██████████████████████████████████████████████████| 54/54 [00:28<00:00,  1.92it/s]\n"
     ]
    },
    {
     "name": "stdout",
     "output_type": "stream",
     "text": [
      "epoch: 29/40\n"
     ]
    },
    {
     "name": "stderr",
     "output_type": "stream",
     "text": [
      "D_loss: 30.022   G_loss: 6.270:   2%|▉                                                  | 1/54 [00:00<00:27,  1.90it/s]"
     ]
    },
    {
     "name": "stdout",
     "output_type": "stream",
     "text": [
      "iteration : 0, gp: 0.92\n"
     ]
    },
    {
     "name": "stderr",
     "output_type": "stream",
     "text": [
      "D_loss: 22.549   G_loss: 6.343:   7%|███▊                                               | 4/54 [00:02<00:26,  1.90it/s]"
     ]
    },
    {
     "name": "stdout",
     "output_type": "stream",
     "text": [
      "iteration : 3, gp: 1.48\n"
     ]
    },
    {
     "name": "stderr",
     "output_type": "stream",
     "text": [
      "D_loss: 23.925   G_loss: 6.440:  13%|██████▌                                            | 7/54 [00:03<00:24,  1.91it/s]"
     ]
    },
    {
     "name": "stdout",
     "output_type": "stream",
     "text": [
      "iteration : 6, gp: 1.08\n"
     ]
    },
    {
     "name": "stderr",
     "output_type": "stream",
     "text": [
      "D_loss: 30.531   G_loss: 6.530:  19%|█████████▎                                        | 10/54 [00:05<00:22,  1.91it/s]"
     ]
    },
    {
     "name": "stdout",
     "output_type": "stream",
     "text": [
      "iteration : 9, gp: 1.72\n"
     ]
    },
    {
     "name": "stderr",
     "output_type": "stream",
     "text": [
      "D_loss: 22.550   G_loss: 6.524:  24%|████████████                                      | 13/54 [00:06<00:21,  1.89it/s]"
     ]
    },
    {
     "name": "stdout",
     "output_type": "stream",
     "text": [
      "iteration : 12, gp: 0.49\n"
     ]
    },
    {
     "name": "stderr",
     "output_type": "stream",
     "text": [
      "D_loss: 30.771   G_loss: 6.686:  30%|██████████████▊                                   | 16/54 [00:08<00:19,  1.91it/s]"
     ]
    },
    {
     "name": "stdout",
     "output_type": "stream",
     "text": [
      "iteration : 15, gp: 1.94\n"
     ]
    },
    {
     "name": "stderr",
     "output_type": "stream",
     "text": [
      "D_loss: 21.157   G_loss: 6.719:  35%|█████████████████▌                                | 19/54 [00:09<00:18,  1.90it/s]"
     ]
    },
    {
     "name": "stdout",
     "output_type": "stream",
     "text": [
      "iteration : 18, gp: 1.92\n"
     ]
    },
    {
     "name": "stderr",
     "output_type": "stream",
     "text": [
      "D_loss: 24.020   G_loss: 6.792:  41%|████████████████████▎                             | 22/54 [00:11<00:16,  1.89it/s]"
     ]
    },
    {
     "name": "stdout",
     "output_type": "stream",
     "text": [
      "iteration : 21, gp: 2.33\n"
     ]
    },
    {
     "name": "stderr",
     "output_type": "stream",
     "text": [
      "D_loss: 20.005   G_loss: 6.795:  46%|███████████████████████▏                          | 25/54 [00:13<00:15,  1.91it/s]"
     ]
    },
    {
     "name": "stdout",
     "output_type": "stream",
     "text": [
      "iteration : 24, gp: 1.26\n"
     ]
    },
    {
     "name": "stderr",
     "output_type": "stream",
     "text": [
      "D_loss: 26.686   G_loss: 6.868:  52%|█████████████████████████▉                        | 28/54 [00:14<00:13,  1.90it/s]"
     ]
    },
    {
     "name": "stdout",
     "output_type": "stream",
     "text": [
      "iteration : 27, gp: 2.12\n"
     ]
    },
    {
     "name": "stderr",
     "output_type": "stream",
     "text": [
      "D_loss: 16.411   G_loss: 6.912:  57%|████████████████████████████▋                     | 31/54 [00:16<00:12,  1.89it/s]"
     ]
    },
    {
     "name": "stdout",
     "output_type": "stream",
     "text": [
      "iteration : 30, gp: 2.82\n"
     ]
    },
    {
     "name": "stderr",
     "output_type": "stream",
     "text": [
      "D_loss: 30.394   G_loss: 6.857:  63%|███████████████████████████████▍                  | 34/54 [00:17<00:10,  1.89it/s]"
     ]
    },
    {
     "name": "stdout",
     "output_type": "stream",
     "text": [
      "iteration : 33, gp: 2.68\n"
     ]
    },
    {
     "name": "stderr",
     "output_type": "stream",
     "text": [
      "D_loss: 24.524   G_loss: 7.018:  69%|██████████████████████████████████▎               | 37/54 [00:19<00:09,  1.89it/s]"
     ]
    },
    {
     "name": "stdout",
     "output_type": "stream",
     "text": [
      "iteration : 36, gp: 3.62\n"
     ]
    },
    {
     "name": "stderr",
     "output_type": "stream",
     "text": [
      "D_loss: 30.585   G_loss: 7.106:  74%|█████████████████████████████████████             | 40/54 [00:21<00:07,  1.90it/s]"
     ]
    },
    {
     "name": "stdout",
     "output_type": "stream",
     "text": [
      "iteration : 39, gp: 2.93\n"
     ]
    },
    {
     "name": "stderr",
     "output_type": "stream",
     "text": [
      "D_loss: 29.596   G_loss: 7.131:  80%|███████████████████████████████████████▊          | 43/54 [00:22<00:05,  1.91it/s]"
     ]
    },
    {
     "name": "stdout",
     "output_type": "stream",
     "text": [
      "iteration : 42, gp: 3.14\n"
     ]
    },
    {
     "name": "stderr",
     "output_type": "stream",
     "text": [
      "D_loss: 22.159   G_loss: 7.146:  85%|██████████████████████████████████████████▌       | 46/54 [00:24<00:04,  1.93it/s]"
     ]
    },
    {
     "name": "stdout",
     "output_type": "stream",
     "text": [
      "iteration : 45, gp: 1.38\n"
     ]
    },
    {
     "name": "stderr",
     "output_type": "stream",
     "text": [
      "D_loss: 24.060   G_loss: 7.291:  91%|█████████████████████████████████████████████▎    | 49/54 [00:25<00:02,  1.93it/s]"
     ]
    },
    {
     "name": "stdout",
     "output_type": "stream",
     "text": [
      "iteration : 48, gp: 3.74\n"
     ]
    },
    {
     "name": "stderr",
     "output_type": "stream",
     "text": [
      "D_loss: 22.984   G_loss: 7.368:  96%|████████████████████████████████████████████████▏ | 52/54 [00:27<00:01,  1.85it/s]"
     ]
    },
    {
     "name": "stdout",
     "output_type": "stream",
     "text": [
      "iteration : 51, gp: 3.22\n"
     ]
    },
    {
     "name": "stderr",
     "output_type": "stream",
     "text": [
      "D_loss: 22.984   G_loss: 7.368: 100%|██████████████████████████████████████████████████| 54/54 [00:28<00:00,  1.91it/s]\n"
     ]
    },
    {
     "name": "stdout",
     "output_type": "stream",
     "text": [
      "epoch: 30/40\n"
     ]
    },
    {
     "name": "stderr",
     "output_type": "stream",
     "text": [
      "D_loss: 20.221   G_loss: 7.393:   2%|▉                                                  | 1/54 [00:00<00:27,  1.89it/s]"
     ]
    },
    {
     "name": "stdout",
     "output_type": "stream",
     "text": [
      "iteration : 0, gp: 4.80\n"
     ]
    },
    {
     "name": "stderr",
     "output_type": "stream",
     "text": [
      "D_loss: 28.819   G_loss: 7.490:   7%|███▊                                               | 4/54 [00:02<00:26,  1.92it/s]"
     ]
    },
    {
     "name": "stdout",
     "output_type": "stream",
     "text": [
      "iteration : 3, gp: 6.01\n"
     ]
    },
    {
     "name": "stderr",
     "output_type": "stream",
     "text": [
      "D_loss: 32.781   G_loss: 7.578:  13%|██████▌                                            | 7/54 [00:03<00:24,  1.92it/s]"
     ]
    },
    {
     "name": "stdout",
     "output_type": "stream",
     "text": [
      "iteration : 6, gp: 4.45\n"
     ]
    },
    {
     "name": "stderr",
     "output_type": "stream",
     "text": [
      "D_loss: 30.724   G_loss: 7.753:  19%|█████████▎                                        | 10/54 [00:05<00:23,  1.90it/s]"
     ]
    },
    {
     "name": "stdout",
     "output_type": "stream",
     "text": [
      "iteration : 9, gp: 2.53\n"
     ]
    },
    {
     "name": "stderr",
     "output_type": "stream",
     "text": [
      "D_loss: 29.806   G_loss: 7.825:  24%|████████████                                      | 13/54 [00:06<00:21,  1.91it/s]"
     ]
    },
    {
     "name": "stdout",
     "output_type": "stream",
     "text": [
      "iteration : 12, gp: 2.82\n"
     ]
    },
    {
     "name": "stderr",
     "output_type": "stream",
     "text": [
      "D_loss: 29.604   G_loss: 8.020:  30%|██████████████▊                                   | 16/54 [00:08<00:19,  1.91it/s]"
     ]
    },
    {
     "name": "stdout",
     "output_type": "stream",
     "text": [
      "iteration : 15, gp: 6.09\n"
     ]
    },
    {
     "name": "stderr",
     "output_type": "stream",
     "text": [
      "D_loss: 22.221   G_loss: 8.041:  35%|█████████████████▌                                | 19/54 [00:09<00:18,  1.91it/s]"
     ]
    },
    {
     "name": "stdout",
     "output_type": "stream",
     "text": [
      "iteration : 18, gp: 6.19\n"
     ]
    },
    {
     "name": "stderr",
     "output_type": "stream",
     "text": [
      "D_loss: 29.906   G_loss: 8.214:  41%|████████████████████▎                             | 22/54 [00:11<00:16,  1.91it/s]"
     ]
    },
    {
     "name": "stdout",
     "output_type": "stream",
     "text": [
      "iteration : 21, gp: 6.94\n"
     ]
    },
    {
     "name": "stderr",
     "output_type": "stream",
     "text": [
      "D_loss: 30.244   G_loss: 8.340:  46%|███████████████████████▏                          | 25/54 [00:13<00:15,  1.91it/s]"
     ]
    },
    {
     "name": "stdout",
     "output_type": "stream",
     "text": [
      "iteration : 24, gp: 4.25\n"
     ]
    },
    {
     "name": "stderr",
     "output_type": "stream",
     "text": [
      "D_loss: 22.298   G_loss: 8.385:  52%|█████████████████████████▉                        | 28/54 [00:14<00:13,  1.90it/s]"
     ]
    },
    {
     "name": "stdout",
     "output_type": "stream",
     "text": [
      "iteration : 27, gp: 4.86\n"
     ]
    },
    {
     "name": "stderr",
     "output_type": "stream",
     "text": [
      "D_loss: 20.394   G_loss: 8.505:  57%|████████████████████████████▋                     | 31/54 [00:16<00:12,  1.91it/s]"
     ]
    },
    {
     "name": "stdout",
     "output_type": "stream",
     "text": [
      "iteration : 30, gp: 8.23\n"
     ]
    },
    {
     "name": "stderr",
     "output_type": "stream",
     "text": [
      "D_loss: 20.996   G_loss: 8.508:  63%|███████████████████████████████▍                  | 34/54 [00:17<00:10,  1.90it/s]"
     ]
    },
    {
     "name": "stdout",
     "output_type": "stream",
     "text": [
      "iteration : 33, gp: 6.69\n"
     ]
    },
    {
     "name": "stderr",
     "output_type": "stream",
     "text": [
      "D_loss: 34.228   G_loss: 8.709:  69%|██████████████████████████████████▎               | 37/54 [00:19<00:08,  1.93it/s]"
     ]
    },
    {
     "name": "stdout",
     "output_type": "stream",
     "text": [
      "iteration : 36, gp: 6.59\n"
     ]
    },
    {
     "name": "stderr",
     "output_type": "stream",
     "text": [
      "D_loss: 25.976   G_loss: 8.806:  74%|█████████████████████████████████████             | 40/54 [00:20<00:07,  1.90it/s]"
     ]
    },
    {
     "name": "stdout",
     "output_type": "stream",
     "text": [
      "iteration : 39, gp: 7.09\n"
     ]
    },
    {
     "name": "stderr",
     "output_type": "stream",
     "text": [
      "D_loss: 18.722   G_loss: 8.991:  80%|███████████████████████████████████████▊          | 43/54 [00:22<00:05,  1.91it/s]"
     ]
    },
    {
     "name": "stdout",
     "output_type": "stream",
     "text": [
      "iteration : 42, gp: 5.86\n"
     ]
    },
    {
     "name": "stderr",
     "output_type": "stream",
     "text": [
      "D_loss: 25.914   G_loss: 9.068:  85%|██████████████████████████████████████████▌       | 46/54 [00:24<00:04,  1.90it/s]"
     ]
    },
    {
     "name": "stdout",
     "output_type": "stream",
     "text": [
      "iteration : 45, gp: 6.90\n"
     ]
    },
    {
     "name": "stderr",
     "output_type": "stream",
     "text": [
      "D_loss: 20.085   G_loss: 9.181:  91%|█████████████████████████████████████████████▎    | 49/54 [00:25<00:02,  1.85it/s]"
     ]
    },
    {
     "name": "stdout",
     "output_type": "stream",
     "text": [
      "iteration : 48, gp: 7.06\n"
     ]
    },
    {
     "name": "stderr",
     "output_type": "stream",
     "text": [
      "D_loss: 32.799   G_loss: 9.195:  96%|████████████████████████████████████████████████▏ | 52/54 [00:27<00:01,  1.88it/s]"
     ]
    },
    {
     "name": "stdout",
     "output_type": "stream",
     "text": [
      "iteration : 51, gp: 7.74\n"
     ]
    },
    {
     "name": "stderr",
     "output_type": "stream",
     "text": [
      "D_loss: 32.799   G_loss: 9.195: 100%|██████████████████████████████████████████████████| 54/54 [00:28<00:00,  1.91it/s]\n"
     ]
    },
    {
     "name": "stdout",
     "output_type": "stream",
     "text": [
      "epoch: 31/40\n"
     ]
    },
    {
     "name": "stderr",
     "output_type": "stream",
     "text": [
      "D_loss: 24.556   G_loss: 9.354:   2%|▉                                                  | 1/54 [00:00<00:27,  1.91it/s]"
     ]
    },
    {
     "name": "stdout",
     "output_type": "stream",
     "text": [
      "iteration : 0, gp: 5.72\n"
     ]
    },
    {
     "name": "stderr",
     "output_type": "stream",
     "text": [
      "D_loss: 33.248   G_loss: 9.491:   7%|███▊                                               | 4/54 [00:02<00:26,  1.92it/s]"
     ]
    },
    {
     "name": "stdout",
     "output_type": "stream",
     "text": [
      "iteration : 3, gp: 6.94\n"
     ]
    },
    {
     "name": "stderr",
     "output_type": "stream",
     "text": [
      "D_loss: 20.751   G_loss: 9.662:  13%|██████▌                                            | 7/54 [00:03<00:25,  1.87it/s]"
     ]
    },
    {
     "name": "stdout",
     "output_type": "stream",
     "text": [
      "iteration : 6, gp: 5.09\n"
     ]
    },
    {
     "name": "stderr",
     "output_type": "stream",
     "text": [
      "D_loss: 17.215   G_loss: 9.740:  19%|█████████▎                                        | 10/54 [00:05<00:23,  1.88it/s]"
     ]
    },
    {
     "name": "stdout",
     "output_type": "stream",
     "text": [
      "iteration : 9, gp: 8.81\n"
     ]
    },
    {
     "name": "stderr",
     "output_type": "stream",
     "text": [
      "D_loss: 26.135   G_loss: 9.996:  24%|████████████                                      | 13/54 [00:06<00:21,  1.90it/s]"
     ]
    },
    {
     "name": "stdout",
     "output_type": "stream",
     "text": [
      "iteration : 12, gp: 6.62\n"
     ]
    },
    {
     "name": "stderr",
     "output_type": "stream",
     "text": [
      "D_loss: 19.623   G_loss: 10.074:  30%|██████████████▌                                  | 16/54 [00:08<00:20,  1.88it/s]"
     ]
    },
    {
     "name": "stdout",
     "output_type": "stream",
     "text": [
      "iteration : 15, gp: 6.06\n"
     ]
    },
    {
     "name": "stderr",
     "output_type": "stream",
     "text": [
      "D_loss: 29.549   G_loss: 10.273:  35%|█████████████████▏                               | 19/54 [00:10<00:18,  1.91it/s]"
     ]
    },
    {
     "name": "stdout",
     "output_type": "stream",
     "text": [
      "iteration : 18, gp: 9.75\n"
     ]
    },
    {
     "name": "stderr",
     "output_type": "stream",
     "text": [
      "D_loss: 20.991   G_loss: 10.317:  41%|███████████████████▉                             | 22/54 [00:11<00:16,  1.91it/s]"
     ]
    },
    {
     "name": "stdout",
     "output_type": "stream",
     "text": [
      "iteration : 21, gp: 5.80\n"
     ]
    },
    {
     "name": "stderr",
     "output_type": "stream",
     "text": [
      "D_loss: 29.915   G_loss: 10.726:  46%|██████████████████████▋                          | 25/54 [00:13<00:15,  1.91it/s]"
     ]
    },
    {
     "name": "stdout",
     "output_type": "stream",
     "text": [
      "iteration : 24, gp: 8.14\n"
     ]
    },
    {
     "name": "stderr",
     "output_type": "stream",
     "text": [
      "D_loss: 27.824   G_loss: 10.707:  52%|█████████████████████████▍                       | 28/54 [00:14<00:13,  1.91it/s]"
     ]
    },
    {
     "name": "stdout",
     "output_type": "stream",
     "text": [
      "iteration : 27, gp: 9.25\n"
     ]
    },
    {
     "name": "stderr",
     "output_type": "stream",
     "text": [
      "D_loss: 24.891   G_loss: 10.809:  57%|████████████████████████████▏                    | 31/54 [00:16<00:12,  1.91it/s]"
     ]
    },
    {
     "name": "stdout",
     "output_type": "stream",
     "text": [
      "iteration : 30, gp: 9.34\n"
     ]
    },
    {
     "name": "stderr",
     "output_type": "stream",
     "text": [
      "D_loss: 11.064   G_loss: 11.040:  63%|██████████████████████████████▊                  | 34/54 [00:17<00:10,  1.90it/s]"
     ]
    },
    {
     "name": "stdout",
     "output_type": "stream",
     "text": [
      "iteration : 33, gp: 8.66\n"
     ]
    },
    {
     "name": "stderr",
     "output_type": "stream",
     "text": [
      "D_loss: 21.435   G_loss: 11.116:  69%|█████████████████████████████████▌               | 37/54 [00:19<00:09,  1.88it/s]"
     ]
    },
    {
     "name": "stdout",
     "output_type": "stream",
     "text": [
      "iteration : 36, gp: 7.88\n"
     ]
    },
    {
     "name": "stderr",
     "output_type": "stream",
     "text": [
      "D_loss: 30.381   G_loss: 11.181:  74%|████████████████████████████████████▎            | 40/54 [00:21<00:07,  1.91it/s]"
     ]
    },
    {
     "name": "stdout",
     "output_type": "stream",
     "text": [
      "iteration : 39, gp: 7.86\n"
     ]
    },
    {
     "name": "stderr",
     "output_type": "stream",
     "text": [
      "D_loss: 19.097   G_loss: 11.268:  80%|███████████████████████████████████████          | 43/54 [00:22<00:05,  1.93it/s]"
     ]
    },
    {
     "name": "stdout",
     "output_type": "stream",
     "text": [
      "iteration : 42, gp: 8.60\n"
     ]
    },
    {
     "name": "stderr",
     "output_type": "stream",
     "text": [
      "D_loss: 23.013   G_loss: 11.388:  85%|█████████████████████████████████████████▋       | 46/54 [00:24<00:04,  1.92it/s]"
     ]
    },
    {
     "name": "stdout",
     "output_type": "stream",
     "text": [
      "iteration : 45, gp: 8.10\n"
     ]
    },
    {
     "name": "stderr",
     "output_type": "stream",
     "text": [
      "D_loss: 27.562   G_loss: 11.515:  91%|████████████████████████████████████████████▍    | 49/54 [00:25<00:02,  1.92it/s]"
     ]
    },
    {
     "name": "stdout",
     "output_type": "stream",
     "text": [
      "iteration : 48, gp: 6.88\n"
     ]
    },
    {
     "name": "stderr",
     "output_type": "stream",
     "text": [
      "D_loss: 14.510   G_loss: 11.627:  96%|███████████████████████████████████████████████▏ | 52/54 [00:27<00:01,  1.90it/s]"
     ]
    },
    {
     "name": "stdout",
     "output_type": "stream",
     "text": [
      "iteration : 51, gp: 8.88\n"
     ]
    },
    {
     "name": "stderr",
     "output_type": "stream",
     "text": [
      "D_loss: 14.510   G_loss: 11.627: 100%|█████████████████████████████████████████████████| 54/54 [00:28<00:00,  1.91it/s]\n"
     ]
    },
    {
     "name": "stdout",
     "output_type": "stream",
     "text": [
      "epoch: 32/40\n"
     ]
    },
    {
     "name": "stderr",
     "output_type": "stream",
     "text": [
      "D_loss: 24.908   G_loss: 11.752:   2%|▉                                                 | 1/54 [00:00<00:27,  1.91it/s]"
     ]
    },
    {
     "name": "stdout",
     "output_type": "stream",
     "text": [
      "iteration : 0, gp: 7.44\n"
     ]
    },
    {
     "name": "stderr",
     "output_type": "stream",
     "text": [
      "D_loss: 15.327   G_loss: 11.699:   7%|███▋                                              | 4/54 [00:02<00:26,  1.90it/s]"
     ]
    },
    {
     "name": "stdout",
     "output_type": "stream",
     "text": [
      "iteration : 3, gp: 8.70\n"
     ]
    },
    {
     "name": "stderr",
     "output_type": "stream",
     "text": [
      "D_loss: 23.393   G_loss: 11.819:  13%|██████▍                                           | 7/54 [00:03<00:24,  1.90it/s]"
     ]
    },
    {
     "name": "stdout",
     "output_type": "stream",
     "text": [
      "iteration : 6, gp: 7.28\n"
     ]
    },
    {
     "name": "stderr",
     "output_type": "stream",
     "text": [
      "D_loss: 15.295   G_loss: 11.896:  19%|█████████                                        | 10/54 [00:05<00:23,  1.91it/s]"
     ]
    },
    {
     "name": "stdout",
     "output_type": "stream",
     "text": [
      "iteration : 9, gp: 8.83\n"
     ]
    },
    {
     "name": "stderr",
     "output_type": "stream",
     "text": [
      "D_loss: 21.139   G_loss: 12.089:  24%|███████████▊                                     | 13/54 [00:06<00:21,  1.92it/s]"
     ]
    },
    {
     "name": "stdout",
     "output_type": "stream",
     "text": [
      "iteration : 12, gp: 9.27\n"
     ]
    },
    {
     "name": "stderr",
     "output_type": "stream",
     "text": [
      "D_loss: 24.768   G_loss: 12.142:  30%|██████████████▌                                  | 16/54 [00:08<00:19,  1.92it/s]"
     ]
    },
    {
     "name": "stdout",
     "output_type": "stream",
     "text": [
      "iteration : 15, gp: 7.89\n"
     ]
    },
    {
     "name": "stderr",
     "output_type": "stream",
     "text": [
      "D_loss: 18.165   G_loss: 12.315:  35%|█████████████████▏                               | 19/54 [00:09<00:18,  1.93it/s]"
     ]
    },
    {
     "name": "stdout",
     "output_type": "stream",
     "text": [
      "iteration : 18, gp: 8.39\n"
     ]
    },
    {
     "name": "stderr",
     "output_type": "stream",
     "text": [
      "D_loss: 18.886   G_loss: 12.552:  41%|███████████████████▉                             | 22/54 [00:11<00:16,  1.91it/s]"
     ]
    },
    {
     "name": "stdout",
     "output_type": "stream",
     "text": [
      "iteration : 21, gp: 9.02\n"
     ]
    },
    {
     "name": "stderr",
     "output_type": "stream",
     "text": [
      "D_loss: 15.920   G_loss: 12.350:  46%|██████████████████████▋                          | 25/54 [00:13<00:15,  1.91it/s]"
     ]
    },
    {
     "name": "stdout",
     "output_type": "stream",
     "text": [
      "iteration : 24, gp: 8.32\n"
     ]
    },
    {
     "name": "stderr",
     "output_type": "stream",
     "text": [
      "D_loss: 13.639   G_loss: 12.440:  52%|█████████████████████████▍                       | 28/54 [00:14<00:13,  1.91it/s]"
     ]
    },
    {
     "name": "stdout",
     "output_type": "stream",
     "text": [
      "iteration : 27, gp: 7.26\n"
     ]
    },
    {
     "name": "stderr",
     "output_type": "stream",
     "text": [
      "D_loss: 17.818   G_loss: 12.669:  57%|████████████████████████████▏                    | 31/54 [00:16<00:12,  1.83it/s]"
     ]
    },
    {
     "name": "stdout",
     "output_type": "stream",
     "text": [
      "iteration : 30, gp: 7.16\n"
     ]
    },
    {
     "name": "stderr",
     "output_type": "stream",
     "text": [
      "D_loss: 15.840   G_loss: 12.803:  63%|██████████████████████████████▊                  | 34/54 [00:17<00:10,  1.86it/s]"
     ]
    },
    {
     "name": "stdout",
     "output_type": "stream",
     "text": [
      "iteration : 33, gp: 6.98\n"
     ]
    },
    {
     "name": "stderr",
     "output_type": "stream",
     "text": [
      "D_loss: 21.796   G_loss: 12.825:  69%|█████████████████████████████████▌               | 37/54 [00:19<00:08,  1.91it/s]"
     ]
    },
    {
     "name": "stdout",
     "output_type": "stream",
     "text": [
      "iteration : 36, gp: 6.92\n"
     ]
    },
    {
     "name": "stderr",
     "output_type": "stream",
     "text": [
      "D_loss: 11.809   G_loss: 12.928:  74%|████████████████████████████████████▎            | 40/54 [00:21<00:07,  1.89it/s]"
     ]
    },
    {
     "name": "stdout",
     "output_type": "stream",
     "text": [
      "iteration : 39, gp: 6.18\n"
     ]
    },
    {
     "name": "stderr",
     "output_type": "stream",
     "text": [
      "D_loss: 26.724   G_loss: 13.092:  80%|███████████████████████████████████████          | 43/54 [00:22<00:05,  1.91it/s]"
     ]
    },
    {
     "name": "stdout",
     "output_type": "stream",
     "text": [
      "iteration : 42, gp: 7.57\n"
     ]
    },
    {
     "name": "stderr",
     "output_type": "stream",
     "text": [
      "D_loss: 21.326   G_loss: 13.273:  85%|█████████████████████████████████████████▋       | 46/54 [00:24<00:04,  1.91it/s]"
     ]
    },
    {
     "name": "stdout",
     "output_type": "stream",
     "text": [
      "iteration : 45, gp: 7.68\n"
     ]
    },
    {
     "name": "stderr",
     "output_type": "stream",
     "text": [
      "D_loss: 22.080   G_loss: 13.410:  91%|████████████████████████████████████████████▍    | 49/54 [00:25<00:02,  1.93it/s]"
     ]
    },
    {
     "name": "stdout",
     "output_type": "stream",
     "text": [
      "iteration : 48, gp: 6.93\n"
     ]
    },
    {
     "name": "stderr",
     "output_type": "stream",
     "text": [
      "D_loss: 21.380   G_loss: 13.669:  96%|███████████████████████████████████████████████▏ | 52/54 [00:27<00:01,  1.91it/s]"
     ]
    },
    {
     "name": "stdout",
     "output_type": "stream",
     "text": [
      "iteration : 51, gp: 7.82\n"
     ]
    },
    {
     "name": "stderr",
     "output_type": "stream",
     "text": [
      "D_loss: 21.380   G_loss: 13.669: 100%|█████████████████████████████████████████████████| 54/54 [00:28<00:00,  1.91it/s]\n"
     ]
    },
    {
     "name": "stdout",
     "output_type": "stream",
     "text": [
      "epoch: 33/40\n"
     ]
    },
    {
     "name": "stderr",
     "output_type": "stream",
     "text": [
      "D_loss: 9.101   G_loss: 13.543:   2%|▉                                                  | 1/54 [00:00<00:28,  1.89it/s]"
     ]
    },
    {
     "name": "stdout",
     "output_type": "stream",
     "text": [
      "iteration : 0, gp: 6.46\n"
     ]
    },
    {
     "name": "stderr",
     "output_type": "stream",
     "text": [
      "D_loss: 13.913   G_loss: 13.678:   7%|███▋                                              | 4/54 [00:02<00:26,  1.87it/s]"
     ]
    },
    {
     "name": "stdout",
     "output_type": "stream",
     "text": [
      "iteration : 3, gp: 7.16\n"
     ]
    },
    {
     "name": "stderr",
     "output_type": "stream",
     "text": [
      "D_loss: 11.884   G_loss: 13.568:  13%|██████▍                                           | 7/54 [00:03<00:24,  1.90it/s]"
     ]
    },
    {
     "name": "stdout",
     "output_type": "stream",
     "text": [
      "iteration : 6, gp: 4.69\n"
     ]
    },
    {
     "name": "stderr",
     "output_type": "stream",
     "text": [
      "D_loss: 14.728   G_loss: 13.630:  19%|█████████                                        | 10/54 [00:05<00:23,  1.91it/s]"
     ]
    },
    {
     "name": "stdout",
     "output_type": "stream",
     "text": [
      "iteration : 9, gp: 6.01\n"
     ]
    },
    {
     "name": "stderr",
     "output_type": "stream",
     "text": [
      "D_loss: 16.912   G_loss: 13.776:  24%|███████████▊                                     | 13/54 [00:06<00:21,  1.89it/s]"
     ]
    },
    {
     "name": "stdout",
     "output_type": "stream",
     "text": [
      "iteration : 12, gp: 6.08\n"
     ]
    },
    {
     "name": "stderr",
     "output_type": "stream",
     "text": [
      "D_loss: 15.298   G_loss: 13.769:  30%|██████████████▌                                  | 16/54 [00:08<00:19,  1.90it/s]"
     ]
    },
    {
     "name": "stdout",
     "output_type": "stream",
     "text": [
      "iteration : 15, gp: 6.33\n"
     ]
    },
    {
     "name": "stderr",
     "output_type": "stream",
     "text": [
      "D_loss: 18.485   G_loss: 13.857:  35%|█████████████████▏                               | 19/54 [00:10<00:18,  1.92it/s]"
     ]
    },
    {
     "name": "stdout",
     "output_type": "stream",
     "text": [
      "iteration : 18, gp: 5.14\n"
     ]
    },
    {
     "name": "stderr",
     "output_type": "stream",
     "text": [
      "D_loss: 22.776   G_loss: 14.054:  41%|███████████████████▉                             | 22/54 [00:11<00:16,  1.91it/s]"
     ]
    },
    {
     "name": "stdout",
     "output_type": "stream",
     "text": [
      "iteration : 21, gp: 6.22\n"
     ]
    },
    {
     "name": "stderr",
     "output_type": "stream",
     "text": [
      "D_loss: 15.328   G_loss: 14.022:  46%|██████████████████████▋                          | 25/54 [00:13<00:15,  1.91it/s]"
     ]
    },
    {
     "name": "stdout",
     "output_type": "stream",
     "text": [
      "iteration : 24, gp: 7.79\n"
     ]
    },
    {
     "name": "stderr",
     "output_type": "stream",
     "text": [
      "D_loss: 13.196   G_loss: 14.034:  52%|█████████████████████████▍                       | 28/54 [00:14<00:13,  1.91it/s]"
     ]
    },
    {
     "name": "stdout",
     "output_type": "stream",
     "text": [
      "iteration : 27, gp: 7.16\n"
     ]
    },
    {
     "name": "stderr",
     "output_type": "stream",
     "text": [
      "D_loss: 14.595   G_loss: 14.182:  57%|████████████████████████████▏                    | 31/54 [00:16<00:12,  1.92it/s]"
     ]
    },
    {
     "name": "stdout",
     "output_type": "stream",
     "text": [
      "iteration : 30, gp: 6.47\n"
     ]
    },
    {
     "name": "stderr",
     "output_type": "stream",
     "text": [
      "D_loss: 15.473   G_loss: 14.195:  63%|██████████████████████████████▊                  | 34/54 [00:17<00:10,  1.92it/s]"
     ]
    },
    {
     "name": "stdout",
     "output_type": "stream",
     "text": [
      "iteration : 33, gp: 5.73\n"
     ]
    },
    {
     "name": "stderr",
     "output_type": "stream",
     "text": [
      "D_loss: 12.530   G_loss: 14.249:  69%|█████████████████████████████████▌               | 37/54 [00:19<00:08,  1.91it/s]"
     ]
    },
    {
     "name": "stdout",
     "output_type": "stream",
     "text": [
      "iteration : 36, gp: 5.66\n"
     ]
    },
    {
     "name": "stderr",
     "output_type": "stream",
     "text": [
      "D_loss: 12.071   G_loss: 14.366:  74%|████████████████████████████████████▎            | 40/54 [00:20<00:07,  1.92it/s]"
     ]
    },
    {
     "name": "stdout",
     "output_type": "stream",
     "text": [
      "iteration : 39, gp: 5.00\n"
     ]
    },
    {
     "name": "stderr",
     "output_type": "stream",
     "text": [
      "D_loss: 16.838   G_loss: 14.519:  80%|███████████████████████████████████████          | 43/54 [00:22<00:05,  1.93it/s]"
     ]
    },
    {
     "name": "stdout",
     "output_type": "stream",
     "text": [
      "iteration : 42, gp: 7.07\n"
     ]
    },
    {
     "name": "stderr",
     "output_type": "stream",
     "text": [
      "D_loss: 16.688   G_loss: 14.498:  85%|█████████████████████████████████████████▋       | 46/54 [00:24<00:04,  1.93it/s]"
     ]
    },
    {
     "name": "stdout",
     "output_type": "stream",
     "text": [
      "iteration : 45, gp: 5.41\n"
     ]
    },
    {
     "name": "stderr",
     "output_type": "stream",
     "text": [
      "D_loss: 11.752   G_loss: 14.559:  91%|████████████████████████████████████████████▍    | 49/54 [00:25<00:02,  1.92it/s]"
     ]
    },
    {
     "name": "stdout",
     "output_type": "stream",
     "text": [
      "iteration : 48, gp: 6.22\n"
     ]
    },
    {
     "name": "stderr",
     "output_type": "stream",
     "text": [
      "D_loss: 12.036   G_loss: 14.640:  96%|███████████████████████████████████████████████▏ | 52/54 [00:27<00:01,  1.89it/s]"
     ]
    },
    {
     "name": "stdout",
     "output_type": "stream",
     "text": [
      "iteration : 51, gp: 4.09\n"
     ]
    },
    {
     "name": "stderr",
     "output_type": "stream",
     "text": [
      "D_loss: 12.036   G_loss: 14.640: 100%|█████████████████████████████████████████████████| 54/54 [00:28<00:00,  1.92it/s]\n"
     ]
    },
    {
     "name": "stdout",
     "output_type": "stream",
     "text": [
      "epoch: 34/40\n"
     ]
    },
    {
     "name": "stderr",
     "output_type": "stream",
     "text": [
      "D_loss: 14.013   G_loss: 14.619:   2%|▉                                                 | 1/54 [00:00<00:30,  1.72it/s]"
     ]
    },
    {
     "name": "stdout",
     "output_type": "stream",
     "text": [
      "iteration : 0, gp: 5.11\n"
     ]
    },
    {
     "name": "stderr",
     "output_type": "stream",
     "text": [
      "D_loss: 20.528   G_loss: 14.883:   7%|███▋                                              | 4/54 [00:02<00:26,  1.88it/s]"
     ]
    },
    {
     "name": "stdout",
     "output_type": "stream",
     "text": [
      "iteration : 3, gp: 4.80\n"
     ]
    },
    {
     "name": "stderr",
     "output_type": "stream",
     "text": [
      "D_loss: 14.566   G_loss: 15.104:  13%|██████▍                                           | 7/54 [00:03<00:24,  1.90it/s]"
     ]
    },
    {
     "name": "stdout",
     "output_type": "stream",
     "text": [
      "iteration : 6, gp: 5.44\n"
     ]
    },
    {
     "name": "stderr",
     "output_type": "stream",
     "text": [
      "D_loss: 3.943   G_loss: 14.946:  19%|█████████▎                                        | 10/54 [00:05<00:22,  1.91it/s]"
     ]
    },
    {
     "name": "stdout",
     "output_type": "stream",
     "text": [
      "iteration : 9, gp: 4.71\n"
     ]
    },
    {
     "name": "stderr",
     "output_type": "stream",
     "text": [
      "D_loss: 16.036   G_loss: 15.112:  24%|███████████▊                                     | 13/54 [00:06<00:21,  1.92it/s]"
     ]
    },
    {
     "name": "stdout",
     "output_type": "stream",
     "text": [
      "iteration : 12, gp: 5.14\n"
     ]
    },
    {
     "name": "stderr",
     "output_type": "stream",
     "text": [
      "D_loss: 10.024   G_loss: 15.001:  30%|██████████████▌                                  | 16/54 [00:08<00:19,  1.94it/s]"
     ]
    },
    {
     "name": "stdout",
     "output_type": "stream",
     "text": [
      "iteration : 15, gp: 5.82\n"
     ]
    },
    {
     "name": "stderr",
     "output_type": "stream",
     "text": [
      "D_loss: 9.385   G_loss: 15.233:  35%|█████████████████▌                                | 19/54 [00:09<00:18,  1.92it/s]"
     ]
    },
    {
     "name": "stdout",
     "output_type": "stream",
     "text": [
      "iteration : 18, gp: 5.12\n"
     ]
    },
    {
     "name": "stderr",
     "output_type": "stream",
     "text": [
      "D_loss: 8.210   G_loss: 15.110:  41%|████████████████████▎                             | 22/54 [00:11<00:16,  1.90it/s]"
     ]
    },
    {
     "name": "stdout",
     "output_type": "stream",
     "text": [
      "iteration : 21, gp: 3.69\n"
     ]
    },
    {
     "name": "stderr",
     "output_type": "stream",
     "text": [
      "D_loss: 7.207   G_loss: 15.190:  46%|███████████████████████▏                          | 25/54 [00:13<00:15,  1.90it/s]"
     ]
    },
    {
     "name": "stdout",
     "output_type": "stream",
     "text": [
      "iteration : 24, gp: 4.41\n"
     ]
    },
    {
     "name": "stderr",
     "output_type": "stream",
     "text": [
      "D_loss: 7.840   G_loss: 15.125:  52%|█████████████████████████▉                        | 28/54 [00:14<00:13,  1.90it/s]"
     ]
    },
    {
     "name": "stdout",
     "output_type": "stream",
     "text": [
      "iteration : 27, gp: 4.76\n"
     ]
    },
    {
     "name": "stderr",
     "output_type": "stream",
     "text": [
      "D_loss: 13.453   G_loss: 15.360:  57%|████████████████████████████▏                    | 31/54 [00:16<00:12,  1.91it/s]"
     ]
    },
    {
     "name": "stdout",
     "output_type": "stream",
     "text": [
      "iteration : 30, gp: 4.32\n"
     ]
    },
    {
     "name": "stderr",
     "output_type": "stream",
     "text": [
      "D_loss: 11.049   G_loss: 15.417:  63%|██████████████████████████████▊                  | 34/54 [00:17<00:10,  1.91it/s]"
     ]
    },
    {
     "name": "stdout",
     "output_type": "stream",
     "text": [
      "iteration : 33, gp: 4.24\n"
     ]
    },
    {
     "name": "stderr",
     "output_type": "stream",
     "text": [
      "D_loss: 8.867   G_loss: 15.439:  69%|██████████████████████████████████▎               | 37/54 [00:19<00:08,  1.92it/s]"
     ]
    },
    {
     "name": "stdout",
     "output_type": "stream",
     "text": [
      "iteration : 36, gp: 3.41\n"
     ]
    },
    {
     "name": "stderr",
     "output_type": "stream",
     "text": [
      "D_loss: 17.659   G_loss: 15.725:  74%|████████████████████████████████████▎            | 40/54 [00:20<00:07,  1.92it/s]"
     ]
    },
    {
     "name": "stdout",
     "output_type": "stream",
     "text": [
      "iteration : 39, gp: 3.93\n"
     ]
    },
    {
     "name": "stderr",
     "output_type": "stream",
     "text": [
      "D_loss: 13.836   G_loss: 15.956:  80%|███████████████████████████████████████          | 43/54 [00:22<00:05,  1.92it/s]"
     ]
    },
    {
     "name": "stdout",
     "output_type": "stream",
     "text": [
      "iteration : 42, gp: 3.22\n"
     ]
    },
    {
     "name": "stderr",
     "output_type": "stream",
     "text": [
      "D_loss: 9.679   G_loss: 16.054:  85%|██████████████████████████████████████████▌       | 46/54 [00:24<00:04,  1.90it/s]"
     ]
    },
    {
     "name": "stdout",
     "output_type": "stream",
     "text": [
      "iteration : 45, gp: 3.25\n"
     ]
    },
    {
     "name": "stderr",
     "output_type": "stream",
     "text": [
      "D_loss: 6.456   G_loss: 16.086:  91%|█████████████████████████████████████████████▎    | 49/54 [00:25<00:02,  1.90it/s]"
     ]
    },
    {
     "name": "stdout",
     "output_type": "stream",
     "text": [
      "iteration : 48, gp: 2.51\n"
     ]
    },
    {
     "name": "stderr",
     "output_type": "stream",
     "text": [
      "D_loss: 11.526   G_loss: 16.191:  96%|███████████████████████████████████████████████▏ | 52/54 [00:27<00:01,  1.92it/s]"
     ]
    },
    {
     "name": "stdout",
     "output_type": "stream",
     "text": [
      "iteration : 51, gp: 2.99\n"
     ]
    },
    {
     "name": "stderr",
     "output_type": "stream",
     "text": [
      "D_loss: 11.526   G_loss: 16.191: 100%|█████████████████████████████████████████████████| 54/54 [00:28<00:00,  1.92it/s]\n"
     ]
    },
    {
     "name": "stdout",
     "output_type": "stream",
     "text": [
      "epoch: 35/40\n"
     ]
    },
    {
     "name": "stderr",
     "output_type": "stream",
     "text": [
      "D_loss: 13.292   G_loss: 16.487:   2%|▉                                                 | 1/54 [00:00<00:27,  1.92it/s]"
     ]
    },
    {
     "name": "stdout",
     "output_type": "stream",
     "text": [
      "iteration : 0, gp: 3.61\n"
     ]
    },
    {
     "name": "stderr",
     "output_type": "stream",
     "text": [
      "D_loss: 4.480   G_loss: 16.547:   7%|███▊                                               | 4/54 [00:02<00:26,  1.91it/s]"
     ]
    },
    {
     "name": "stdout",
     "output_type": "stream",
     "text": [
      "iteration : 3, gp: 3.47\n"
     ]
    },
    {
     "name": "stderr",
     "output_type": "stream",
     "text": [
      "D_loss: 7.659   G_loss: 16.545:  13%|██████▌                                            | 7/54 [00:03<00:25,  1.86it/s]"
     ]
    },
    {
     "name": "stdout",
     "output_type": "stream",
     "text": [
      "iteration : 6, gp: 2.85\n"
     ]
    },
    {
     "name": "stderr",
     "output_type": "stream",
     "text": [
      "D_loss: 7.286   G_loss: 16.706:  19%|█████████▎                                        | 10/54 [00:05<00:23,  1.89it/s]"
     ]
    },
    {
     "name": "stdout",
     "output_type": "stream",
     "text": [
      "iteration : 9, gp: 1.71\n"
     ]
    },
    {
     "name": "stderr",
     "output_type": "stream",
     "text": [
      "D_loss: 9.913   G_loss: 16.751:  24%|████████████                                      | 13/54 [00:06<00:21,  1.90it/s]"
     ]
    },
    {
     "name": "stdout",
     "output_type": "stream",
     "text": [
      "iteration : 12, gp: 2.78\n"
     ]
    },
    {
     "name": "stderr",
     "output_type": "stream",
     "text": [
      "D_loss: 17.009   G_loss: 16.980:  30%|██████████████▌                                  | 16/54 [00:08<00:20,  1.84it/s]"
     ]
    },
    {
     "name": "stdout",
     "output_type": "stream",
     "text": [
      "iteration : 15, gp: 3.01\n"
     ]
    },
    {
     "name": "stderr",
     "output_type": "stream",
     "text": [
      "D_loss: 12.437   G_loss: 17.272:  35%|█████████████████▏                               | 19/54 [00:10<00:18,  1.89it/s]"
     ]
    },
    {
     "name": "stdout",
     "output_type": "stream",
     "text": [
      "iteration : 18, gp: 3.12\n"
     ]
    },
    {
     "name": "stderr",
     "output_type": "stream",
     "text": [
      "D_loss: 5.591   G_loss: 17.296:  41%|████████████████████▎                             | 22/54 [00:11<00:16,  1.90it/s]"
     ]
    },
    {
     "name": "stdout",
     "output_type": "stream",
     "text": [
      "iteration : 21, gp: 2.32\n"
     ]
    },
    {
     "name": "stderr",
     "output_type": "stream",
     "text": [
      "D_loss: 7.067   G_loss: 17.239:  46%|███████████████████████▏                          | 25/54 [00:13<00:15,  1.90it/s]"
     ]
    },
    {
     "name": "stdout",
     "output_type": "stream",
     "text": [
      "iteration : 24, gp: 2.85\n"
     ]
    },
    {
     "name": "stderr",
     "output_type": "stream",
     "text": [
      "D_loss: 4.486   G_loss: 17.327:  52%|█████████████████████████▉                        | 28/54 [00:14<00:13,  1.92it/s]"
     ]
    },
    {
     "name": "stdout",
     "output_type": "stream",
     "text": [
      "iteration : 27, gp: 2.81\n"
     ]
    },
    {
     "name": "stderr",
     "output_type": "stream",
     "text": [
      "D_loss: 3.786   G_loss: 17.196:  57%|████████████████████████████▋                     | 31/54 [00:16<00:11,  1.93it/s]"
     ]
    },
    {
     "name": "stdout",
     "output_type": "stream",
     "text": [
      "iteration : 30, gp: 2.10\n"
     ]
    },
    {
     "name": "stderr",
     "output_type": "stream",
     "text": [
      "D_loss: 9.586   G_loss: 17.342:  63%|███████████████████████████████▍                  | 34/54 [00:17<00:10,  1.92it/s]"
     ]
    },
    {
     "name": "stdout",
     "output_type": "stream",
     "text": [
      "iteration : 33, gp: 1.94\n"
     ]
    },
    {
     "name": "stderr",
     "output_type": "stream",
     "text": [
      "D_loss: 12.420   G_loss: 17.710:  69%|█████████████████████████████████▌               | 37/54 [00:19<00:08,  1.92it/s]"
     ]
    },
    {
     "name": "stdout",
     "output_type": "stream",
     "text": [
      "iteration : 36, gp: 1.95\n"
     ]
    },
    {
     "name": "stderr",
     "output_type": "stream",
     "text": [
      "D_loss: 9.414   G_loss: 17.735:  74%|█████████████████████████████████████             | 40/54 [00:21<00:07,  1.91it/s]"
     ]
    },
    {
     "name": "stdout",
     "output_type": "stream",
     "text": [
      "iteration : 39, gp: 2.36\n"
     ]
    },
    {
     "name": "stderr",
     "output_type": "stream",
     "text": [
      "D_loss: 9.073   G_loss: 17.923:  80%|███████████████████████████████████████▊          | 43/54 [00:22<00:05,  1.91it/s]"
     ]
    },
    {
     "name": "stdout",
     "output_type": "stream",
     "text": [
      "iteration : 42, gp: 1.64\n"
     ]
    },
    {
     "name": "stderr",
     "output_type": "stream",
     "text": [
      "D_loss: 4.782   G_loss: 18.053:  85%|██████████████████████████████████████████▌       | 46/54 [00:24<00:04,  1.93it/s]"
     ]
    },
    {
     "name": "stdout",
     "output_type": "stream",
     "text": [
      "iteration : 45, gp: 2.58\n"
     ]
    },
    {
     "name": "stderr",
     "output_type": "stream",
     "text": [
      "D_loss: 5.563   G_loss: 17.937:  91%|█████████████████████████████████████████████▎    | 49/54 [00:25<00:02,  1.92it/s]"
     ]
    },
    {
     "name": "stdout",
     "output_type": "stream",
     "text": [
      "iteration : 48, gp: 1.74\n"
     ]
    },
    {
     "name": "stderr",
     "output_type": "stream",
     "text": [
      "D_loss: 5.068   G_loss: 18.134:  96%|████████████████████████████████████████████████▏ | 52/54 [00:27<00:01,  1.90it/s]"
     ]
    },
    {
     "name": "stdout",
     "output_type": "stream",
     "text": [
      "iteration : 51, gp: 1.35\n"
     ]
    },
    {
     "name": "stderr",
     "output_type": "stream",
     "text": [
      "D_loss: 5.068   G_loss: 18.134: 100%|██████████████████████████████████████████████████| 54/54 [00:28<00:00,  1.91it/s]\n"
     ]
    },
    {
     "name": "stdout",
     "output_type": "stream",
     "text": [
      "Growing network to size: 64\n",
      "Output Resolution: 64 x 64\n",
      "epoch: 36/40\n"
     ]
    },
    {
     "name": "stderr",
     "output_type": "stream",
     "text": [
      "D_loss: 7.367   G_loss: 13.366:   2%|▉                                                  | 1/54 [00:02<01:58,  2.23s/it]"
     ]
    },
    {
     "name": "stdout",
     "output_type": "stream",
     "text": [
      "iteration : 0, gp: 3.44\n"
     ]
    },
    {
     "name": "stderr",
     "output_type": "stream",
     "text": [
      "D_loss: 10.361   G_loss: 4.014:   7%|███▊                                               | 4/54 [00:06<01:15,  1.51s/it]"
     ]
    },
    {
     "name": "stdout",
     "output_type": "stream",
     "text": [
      "iteration : 3, gp: 3.28\n"
     ]
    },
    {
     "name": "stderr",
     "output_type": "stream",
     "text": [
      "D_loss: 14.924   G_loss: 4.360:  13%|██████▌                                            | 7/54 [00:10<01:06,  1.42s/it]"
     ]
    },
    {
     "name": "stdout",
     "output_type": "stream",
     "text": [
      "iteration : 6, gp: 3.01\n"
     ]
    },
    {
     "name": "stderr",
     "output_type": "stream",
     "text": [
      "D_loss: 15.951   G_loss: 4.726:  19%|█████████▎                                        | 10/54 [00:14<01:01,  1.41s/it]"
     ]
    },
    {
     "name": "stdout",
     "output_type": "stream",
     "text": [
      "iteration : 9, gp: 2.65\n"
     ]
    },
    {
     "name": "stderr",
     "output_type": "stream",
     "text": [
      "D_loss: 19.014   G_loss: 5.089:  24%|████████████                                      | 13/54 [00:18<00:57,  1.40s/it]"
     ]
    },
    {
     "name": "stdout",
     "output_type": "stream",
     "text": [
      "iteration : 12, gp: 2.43\n"
     ]
    },
    {
     "name": "stderr",
     "output_type": "stream",
     "text": [
      "D_loss: 7.850   G_loss: 5.389:  30%|███████████████                                    | 16/54 [00:23<00:53,  1.40s/it]"
     ]
    },
    {
     "name": "stdout",
     "output_type": "stream",
     "text": [
      "iteration : 15, gp: 2.28\n"
     ]
    },
    {
     "name": "stderr",
     "output_type": "stream",
     "text": [
      "D_loss: 14.927   G_loss: 5.707:  35%|█████████████████▌                                | 19/54 [00:27<00:48,  1.39s/it]"
     ]
    },
    {
     "name": "stdout",
     "output_type": "stream",
     "text": [
      "iteration : 18, gp: 1.96\n"
     ]
    },
    {
     "name": "stderr",
     "output_type": "stream",
     "text": [
      "D_loss: 18.061   G_loss: 6.127:  41%|████████████████████▎                             | 22/54 [00:31<00:44,  1.40s/it]"
     ]
    },
    {
     "name": "stdout",
     "output_type": "stream",
     "text": [
      "iteration : 21, gp: 1.93\n"
     ]
    },
    {
     "name": "stderr",
     "output_type": "stream",
     "text": [
      "D_loss: 21.638   G_loss: 6.483:  46%|███████████████████████▏                          | 25/54 [00:35<00:40,  1.39s/it]"
     ]
    },
    {
     "name": "stdout",
     "output_type": "stream",
     "text": [
      "iteration : 24, gp: 1.65\n"
     ]
    },
    {
     "name": "stderr",
     "output_type": "stream",
     "text": [
      "D_loss: 15.844   G_loss: 6.813:  52%|█████████████████████████▉                        | 28/54 [00:39<00:36,  1.39s/it]"
     ]
    },
    {
     "name": "stdout",
     "output_type": "stream",
     "text": [
      "iteration : 27, gp: 1.46\n"
     ]
    },
    {
     "name": "stderr",
     "output_type": "stream",
     "text": [
      "D_loss: 21.788   G_loss: 7.147:  57%|████████████████████████████▋                     | 31/54 [00:44<00:31,  1.39s/it]"
     ]
    },
    {
     "name": "stdout",
     "output_type": "stream",
     "text": [
      "iteration : 30, gp: 1.32\n"
     ]
    },
    {
     "name": "stderr",
     "output_type": "stream",
     "text": [
      "D_loss: 19.648   G_loss: 7.540:  63%|███████████████████████████████▍                  | 34/54 [00:48<00:27,  1.39s/it]"
     ]
    },
    {
     "name": "stdout",
     "output_type": "stream",
     "text": [
      "iteration : 33, gp: 1.18\n"
     ]
    },
    {
     "name": "stderr",
     "output_type": "stream",
     "text": [
      "D_loss: 22.541   G_loss: 7.943:  69%|██████████████████████████████████▎               | 37/54 [00:52<00:23,  1.40s/it]"
     ]
    },
    {
     "name": "stdout",
     "output_type": "stream",
     "text": [
      "iteration : 36, gp: 0.95\n"
     ]
    },
    {
     "name": "stderr",
     "output_type": "stream",
     "text": [
      "D_loss: 23.579   G_loss: 8.302:  74%|█████████████████████████████████████             | 40/54 [00:56<00:19,  1.39s/it]"
     ]
    },
    {
     "name": "stdout",
     "output_type": "stream",
     "text": [
      "iteration : 39, gp: 0.78\n"
     ]
    },
    {
     "name": "stderr",
     "output_type": "stream",
     "text": [
      "D_loss: 19.405   G_loss: 8.659:  80%|███████████████████████████████████████▊          | 43/54 [01:00<00:15,  1.39s/it]"
     ]
    },
    {
     "name": "stdout",
     "output_type": "stream",
     "text": [
      "iteration : 42, gp: 0.71\n"
     ]
    },
    {
     "name": "stderr",
     "output_type": "stream",
     "text": [
      "D_loss: 23.674   G_loss: 8.985:  85%|██████████████████████████████████████████▌       | 46/54 [01:04<00:11,  1.39s/it]"
     ]
    },
    {
     "name": "stdout",
     "output_type": "stream",
     "text": [
      "iteration : 45, gp: 0.71\n"
     ]
    },
    {
     "name": "stderr",
     "output_type": "stream",
     "text": [
      "D_loss: 26.075   G_loss: 9.400:  91%|█████████████████████████████████████████████▎    | 49/54 [01:09<00:06,  1.39s/it]"
     ]
    },
    {
     "name": "stdout",
     "output_type": "stream",
     "text": [
      "iteration : 48, gp: 0.67\n"
     ]
    },
    {
     "name": "stderr",
     "output_type": "stream",
     "text": [
      "D_loss: 26.186   G_loss: 9.766:  96%|████████████████████████████████████████████████▏ | 52/54 [01:13<00:02,  1.40s/it]"
     ]
    },
    {
     "name": "stdout",
     "output_type": "stream",
     "text": [
      "iteration : 51, gp: 0.43\n"
     ]
    },
    {
     "name": "stderr",
     "output_type": "stream",
     "text": [
      "D_loss: 26.186   G_loss: 9.766: 100%|██████████████████████████████████████████████████| 54/54 [01:15<00:00,  1.40s/it]\n"
     ]
    },
    {
     "name": "stdout",
     "output_type": "stream",
     "text": [
      "epoch: 37/40\n"
     ]
    },
    {
     "name": "stderr",
     "output_type": "stream",
     "text": [
      "D_loss: 21.747   G_loss: 10.084:   2%|▉                                                 | 1/54 [00:01<01:15,  1.42s/it]"
     ]
    },
    {
     "name": "stdout",
     "output_type": "stream",
     "text": [
      "iteration : 0, gp: 0.71\n"
     ]
    },
    {
     "name": "stderr",
     "output_type": "stream",
     "text": [
      "D_loss: 22.977   G_loss: 10.427:   7%|███▋                                              | 4/54 [00:05<01:10,  1.40s/it]"
     ]
    },
    {
     "name": "stdout",
     "output_type": "stream",
     "text": [
      "iteration : 3, gp: 0.18\n"
     ]
    },
    {
     "name": "stderr",
     "output_type": "stream",
     "text": [
      "D_loss: 31.349   G_loss: 10.765:  13%|██████▍                                           | 7/54 [00:09<01:06,  1.42s/it]"
     ]
    },
    {
     "name": "stdout",
     "output_type": "stream",
     "text": [
      "iteration : 6, gp: 0.25\n"
     ]
    },
    {
     "name": "stderr",
     "output_type": "stream",
     "text": [
      "D_loss: 31.544   G_loss: 11.123:  19%|█████████                                        | 10/54 [00:14<01:01,  1.40s/it]"
     ]
    },
    {
     "name": "stdout",
     "output_type": "stream",
     "text": [
      "iteration : 9, gp: 0.27\n"
     ]
    },
    {
     "name": "stderr",
     "output_type": "stream",
     "text": [
      "D_loss: 25.437   G_loss: 11.443:  24%|███████████▊                                     | 13/54 [00:18<00:57,  1.40s/it]"
     ]
    },
    {
     "name": "stdout",
     "output_type": "stream",
     "text": [
      "iteration : 12, gp: 0.13\n"
     ]
    },
    {
     "name": "stderr",
     "output_type": "stream",
     "text": [
      "D_loss: 28.678   G_loss: 11.906:  30%|██████████████▌                                  | 16/54 [00:22<00:53,  1.41s/it]"
     ]
    },
    {
     "name": "stdout",
     "output_type": "stream",
     "text": [
      "iteration : 15, gp: 0.22\n"
     ]
    },
    {
     "name": "stderr",
     "output_type": "stream",
     "text": [
      "D_loss: 36.491   G_loss: 12.334:  35%|█████████████████▏                               | 19/54 [00:26<00:48,  1.40s/it]"
     ]
    },
    {
     "name": "stdout",
     "output_type": "stream",
     "text": [
      "iteration : 18, gp: 0.15\n"
     ]
    },
    {
     "name": "stderr",
     "output_type": "stream",
     "text": [
      "D_loss: 40.610   G_loss: 12.783:  41%|███████████████████▉                             | 22/54 [00:30<00:44,  1.39s/it]"
     ]
    },
    {
     "name": "stdout",
     "output_type": "stream",
     "text": [
      "iteration : 21, gp: 0.02\n"
     ]
    },
    {
     "name": "stderr",
     "output_type": "stream",
     "text": [
      "D_loss: 30.267   G_loss: 13.140:  46%|██████████████████████▋                          | 25/54 [00:35<00:40,  1.40s/it]"
     ]
    },
    {
     "name": "stdout",
     "output_type": "stream",
     "text": [
      "iteration : 24, gp: 0.04\n"
     ]
    },
    {
     "name": "stderr",
     "output_type": "stream",
     "text": [
      "D_loss: 29.452   G_loss: 13.665:  52%|█████████████████████████▍                       | 28/54 [00:39<00:36,  1.40s/it]"
     ]
    },
    {
     "name": "stdout",
     "output_type": "stream",
     "text": [
      "iteration : 27, gp: 0.04\n"
     ]
    },
    {
     "name": "stderr",
     "output_type": "stream",
     "text": [
      "D_loss: 43.422   G_loss: 14.165:  57%|████████████████████████████▏                    | 31/54 [00:43<00:32,  1.39s/it]"
     ]
    },
    {
     "name": "stdout",
     "output_type": "stream",
     "text": [
      "iteration : 30, gp: 0.13\n"
     ]
    },
    {
     "name": "stderr",
     "output_type": "stream",
     "text": [
      "D_loss: 32.562   G_loss: 14.688:  63%|██████████████████████████████▊                  | 34/54 [00:47<00:27,  1.39s/it]"
     ]
    },
    {
     "name": "stdout",
     "output_type": "stream",
     "text": [
      "iteration : 33, gp: 0.19\n"
     ]
    },
    {
     "name": "stderr",
     "output_type": "stream",
     "text": [
      "D_loss: 30.133   G_loss: 15.289:  69%|█████████████████████████████████▌               | 37/54 [00:51<00:23,  1.39s/it]"
     ]
    },
    {
     "name": "stdout",
     "output_type": "stream",
     "text": [
      "iteration : 36, gp: 0.21\n"
     ]
    },
    {
     "name": "stderr",
     "output_type": "stream",
     "text": [
      "D_loss: 34.380   G_loss: 15.798:  74%|████████████████████████████████████▎            | 40/54 [00:55<00:19,  1.39s/it]"
     ]
    },
    {
     "name": "stdout",
     "output_type": "stream",
     "text": [
      "iteration : 39, gp: 0.50\n"
     ]
    },
    {
     "name": "stderr",
     "output_type": "stream",
     "text": [
      "D_loss: 38.834   G_loss: 16.483:  80%|███████████████████████████████████████          | 43/54 [01:00<00:15,  1.39s/it]"
     ]
    },
    {
     "name": "stdout",
     "output_type": "stream",
     "text": [
      "iteration : 42, gp: 0.38\n"
     ]
    },
    {
     "name": "stderr",
     "output_type": "stream",
     "text": [
      "D_loss: 32.872   G_loss: 16.919:  85%|█████████████████████████████████████████▋       | 46/54 [01:04<00:11,  1.40s/it]"
     ]
    },
    {
     "name": "stdout",
     "output_type": "stream",
     "text": [
      "iteration : 45, gp: 0.63\n"
     ]
    },
    {
     "name": "stderr",
     "output_type": "stream",
     "text": [
      "D_loss: 38.553   G_loss: 17.722:  91%|████████████████████████████████████████████▍    | 49/54 [01:08<00:06,  1.39s/it]"
     ]
    },
    {
     "name": "stdout",
     "output_type": "stream",
     "text": [
      "iteration : 48, gp: 0.80\n"
     ]
    },
    {
     "name": "stderr",
     "output_type": "stream",
     "text": [
      "D_loss: 44.694   G_loss: 18.318:  96%|███████████████████████████████████████████████▏ | 52/54 [01:12<00:02,  1.39s/it]"
     ]
    },
    {
     "name": "stdout",
     "output_type": "stream",
     "text": [
      "iteration : 51, gp: 0.74\n"
     ]
    },
    {
     "name": "stderr",
     "output_type": "stream",
     "text": [
      "D_loss: 44.694   G_loss: 18.318: 100%|█████████████████████████████████████████████████| 54/54 [01:15<00:00,  1.39s/it]\n"
     ]
    },
    {
     "name": "stdout",
     "output_type": "stream",
     "text": [
      "epoch: 38/40\n"
     ]
    },
    {
     "name": "stderr",
     "output_type": "stream",
     "text": [
      "D_loss: 31.241   G_loss: 18.917:   2%|▉                                                 | 1/54 [00:01<01:13,  1.40s/it]"
     ]
    },
    {
     "name": "stdout",
     "output_type": "stream",
     "text": [
      "iteration : 0, gp: 0.56\n"
     ]
    },
    {
     "name": "stderr",
     "output_type": "stream",
     "text": [
      "D_loss: 44.193   G_loss: 19.561:   7%|███▋                                              | 4/54 [00:05<01:09,  1.40s/it]"
     ]
    },
    {
     "name": "stdout",
     "output_type": "stream",
     "text": [
      "iteration : 3, gp: 1.48\n"
     ]
    },
    {
     "name": "stderr",
     "output_type": "stream",
     "text": [
      "D_loss: 43.130   G_loss: 20.120:  13%|██████▍                                           | 7/54 [00:09<01:05,  1.40s/it]"
     ]
    },
    {
     "name": "stdout",
     "output_type": "stream",
     "text": [
      "iteration : 6, gp: 1.55\n"
     ]
    },
    {
     "name": "stderr",
     "output_type": "stream",
     "text": [
      "D_loss: 39.689   G_loss: 20.808:  19%|█████████                                        | 10/54 [00:13<01:01,  1.40s/it]"
     ]
    },
    {
     "name": "stdout",
     "output_type": "stream",
     "text": [
      "iteration : 9, gp: 1.53\n"
     ]
    },
    {
     "name": "stderr",
     "output_type": "stream",
     "text": [
      "D_loss: 39.897   G_loss: 21.531:  24%|███████████▊                                     | 13/54 [00:18<00:57,  1.40s/it]"
     ]
    },
    {
     "name": "stdout",
     "output_type": "stream",
     "text": [
      "iteration : 12, gp: 1.11\n"
     ]
    },
    {
     "name": "stderr",
     "output_type": "stream",
     "text": [
      "D_loss: 48.322   G_loss: 22.234:  30%|██████████████▌                                  | 16/54 [00:22<00:52,  1.39s/it]"
     ]
    },
    {
     "name": "stdout",
     "output_type": "stream",
     "text": [
      "iteration : 15, gp: 1.88\n"
     ]
    },
    {
     "name": "stderr",
     "output_type": "stream",
     "text": [
      "D_loss: 40.112   G_loss: 22.945:  35%|█████████████████▏                               | 19/54 [00:26<00:48,  1.40s/it]"
     ]
    },
    {
     "name": "stdout",
     "output_type": "stream",
     "text": [
      "iteration : 18, gp: 1.30\n"
     ]
    },
    {
     "name": "stderr",
     "output_type": "stream",
     "text": [
      "D_loss: 36.409   G_loss: 23.639:  41%|███████████████████▉                             | 22/54 [00:30<00:44,  1.40s/it]"
     ]
    },
    {
     "name": "stdout",
     "output_type": "stream",
     "text": [
      "iteration : 21, gp: 2.21\n"
     ]
    },
    {
     "name": "stderr",
     "output_type": "stream",
     "text": [
      "D_loss: 35.060   G_loss: 24.152:  46%|██████████████████████▋                          | 25/54 [00:34<00:40,  1.39s/it]"
     ]
    },
    {
     "name": "stdout",
     "output_type": "stream",
     "text": [
      "iteration : 24, gp: 1.58\n"
     ]
    },
    {
     "name": "stderr",
     "output_type": "stream",
     "text": [
      "D_loss: 34.532   G_loss: 24.653:  52%|█████████████████████████▍                       | 28/54 [00:39<00:36,  1.41s/it]"
     ]
    },
    {
     "name": "stdout",
     "output_type": "stream",
     "text": [
      "iteration : 27, gp: 3.43\n"
     ]
    },
    {
     "name": "stderr",
     "output_type": "stream",
     "text": [
      "D_loss: 33.554   G_loss: 25.144:  57%|████████████████████████████▏                    | 31/54 [00:43<00:32,  1.39s/it]"
     ]
    },
    {
     "name": "stdout",
     "output_type": "stream",
     "text": [
      "iteration : 30, gp: 2.74\n"
     ]
    },
    {
     "name": "stderr",
     "output_type": "stream",
     "text": [
      "D_loss: 39.709   G_loss: 26.032:  63%|██████████████████████████████▊                  | 34/54 [00:47<00:27,  1.39s/it]"
     ]
    },
    {
     "name": "stdout",
     "output_type": "stream",
     "text": [
      "iteration : 33, gp: 4.15\n"
     ]
    },
    {
     "name": "stderr",
     "output_type": "stream",
     "text": [
      "D_loss: 34.303   G_loss: 26.578:  69%|█████████████████████████████████▌               | 37/54 [00:51<00:23,  1.39s/it]"
     ]
    },
    {
     "name": "stdout",
     "output_type": "stream",
     "text": [
      "iteration : 36, gp: 4.25\n"
     ]
    },
    {
     "name": "stderr",
     "output_type": "stream",
     "text": [
      "D_loss: 33.842   G_loss: 27.180:  74%|████████████████████████████████████▎            | 40/54 [00:55<00:19,  1.40s/it]"
     ]
    },
    {
     "name": "stdout",
     "output_type": "stream",
     "text": [
      "iteration : 39, gp: 3.52\n"
     ]
    },
    {
     "name": "stderr",
     "output_type": "stream",
     "text": [
      "D_loss: 39.918   G_loss: 27.939:  80%|███████████████████████████████████████          | 43/54 [01:00<00:15,  1.40s/it]"
     ]
    },
    {
     "name": "stdout",
     "output_type": "stream",
     "text": [
      "iteration : 42, gp: 3.93\n"
     ]
    },
    {
     "name": "stderr",
     "output_type": "stream",
     "text": [
      "D_loss: 39.918   G_loss: 27.939:  83%|████████████████████████████████████████▊        | 45/54 [01:02<00:12,  1.40s/it]"
     ]
    }
   ],
   "source": [
    "### - Train Loop - ###\n",
    "size = 2**(Gen.depth+1)\n",
    "print(\"Output Resolution: %d x %d\" % (size, size))\n",
    "for epoch in range(1+resume, epochs+1):\n",
    "    Gen.train()\n",
    "    D_epoch_loss = 0.0\n",
    "    G_epoch_loss = 0.0\n",
    "    if epoch-1 in schedule[0]:\n",
    "\n",
    "        if (2 **(Gen.depth +1) < out_res):\n",
    "            c = schedule[0].index(epoch-1)\n",
    "            batch_size = schedule[1][c]\n",
    "            growing = schedule[2][0]\n",
    "            print(\"Growing network to size: \" + str(2**(Gen.depth+2)))\n",
    "            data_loader = DataLoader(dataset, **params)\n",
    "            tot_iter_num = tot_iter_num = (len(dataset)/batch_size)\n",
    "            Gen.inc_depth(growing*tot_iter_num)\n",
    "            Disc.inc_depth(growing*tot_iter_num)\n",
    "            size = 2**(Gen.depth+1)\n",
    "            print(\"Output Resolution: %d x %d\" % (size, size))\n",
    "\n",
    "\t\n",
    "    print(\"epoch: %i/%i\" % (int(epoch), int(epochs)))\n",
    "    databar = tqdm(data_loader)\n",
    "    for i, samples in enumerate(databar):\n",
    "        ##  update D\n",
    "        if size != out_res: #Basically need to, A Reshape, B prepare the data for the networks\n",
    "            samples = F.interpolate(samples, size=(size,size)).to(device)\n",
    "        else:\n",
    "            samples = samples.to(device)\n",
    "        Disc.zero_grad()\n",
    "        noise = T.randn(samples.size(0), latent_size, 1, 1, device=device)\n",
    "        fake = Gen(noise)\n",
    "        #out_grid = make_grid(fake, normalize=True, nrow=4, scale_each=True, padding=int(0.5*(2**Gen.depth))).permute(1,2,0)\n",
    "        #plt.imshow(out_grid.cpu())\n",
    "        fake_out = Disc(fake.detach())\n",
    "        real_out = Disc(samples)\n",
    "        ## Gradient Penalty\n",
    "        \n",
    "        eps = T.rand(samples.size(0), 1, 1, 1, device=device)\n",
    "        eps = eps.expand_as(Gen(noise))\n",
    "        x_hat = eps * samples + (1 - eps) * fake.detach()\n",
    "        x_hat.requires_grad = True\n",
    "        px_hat = Disc(x_hat)\n",
    "        grad = T.autograd.grad(\n",
    "                                    outputs = px_hat.sum(),\n",
    "                                    inputs = x_hat, \n",
    "                                    create_graph=True\n",
    "                                    )[0]\n",
    "        grad_norm = grad.view(samples.size(0), -1).norm(2, dim=1)\n",
    "        gradient_penalty = lambd * ((grad_norm  - 1)**2).mean()\n",
    "        ###########\n",
    "\n",
    "        D_loss = fake_out.mean() - real_out.mean() + gradient_penalty\n",
    "        D_loss.backward()\n",
    "        D_optimizer.step()\n",
    "\n",
    "        ##\tupdate G\n",
    "\n",
    "        Gen.zero_grad()\n",
    "        fake_out = Disc(fake)\n",
    "\n",
    "        G_loss = - fake_out.mean()\n",
    "        G_loss.backward()\n",
    "        G_optimizer.step()\n",
    "\n",
    "        ##############\n",
    "        D_running_loss += abs(D_loss.item())\n",
    "        G_running_loss += abs(G_loss.item())\n",
    "        iter_num += 1\n",
    "        if i % 3== 0:\n",
    "            D_running_loss /= iter_num\n",
    "            G_running_loss /= iter_num\n",
    "            print('iteration : %d, gp: %.2f' % (i, gradient_penalty))\n",
    "            databar.set_description('D_loss: %.3f   G_loss: %.3f' % (D_running_loss ,G_running_loss))\n",
    "            iter_num = 0\n",
    "            D_running_loss = 0.0\n",
    "            G_running_loss = 0.0\n",
    "\n",
    "\n",
    "    D_epoch_losses.append(D_epoch_loss/tot_iter_num)\n",
    "    G_epoch_losses.append(G_epoch_loss/tot_iter_num)\n",
    "\n",
    "\n",
    "    check_point = {'G_net' : Gen.state_dict(), \n",
    "                   'G_optimizer' : G_optimizer.state_dict(),\n",
    "                   'D_net' : Disc.state_dict(),\n",
    "                   'D_optimizer' : D_optimizer.state_dict(),\n",
    "                   'D_epoch_losses' : D_epoch_losses,\n",
    "                   'G_epoch_losses' : G_epoch_losses,\n",
    "                   'fixed_noise': fixed_noise,\n",
    "                   'depth': Gen.depth,\n",
    "                   'alpha':Gen.alpha\n",
    "                   }\n",
    "    with T.no_grad():\n",
    "        Gen.eval()\n",
    "        T.save(check_point, check_point_dir + 'check_point_epoch_%d.pth' % (epoch))\n",
    "        T.save(Gen.state_dict(), weight_dir + 'G_weight_epoch_%d.pth' %(epoch))\n",
    "        out_imgs = Gen(fixed_noise).to(device)\n",
    "        out_grid = make_grid(out_imgs, normalize=True, nrow=4, scale_each=True, padding=int(0.5*(2**Gen.depth))).permute(1,2,0)\n",
    "        plt.imshow(out_grid.cpu())\n",
    "        plt.savefig(output_dir + 'size_%i_epoch_%d' %(size ,epoch))"
   ]
  },
  {
   "cell_type": "code",
   "execution_count": null,
   "id": "d02407ee-e17b-438e-80a6-32a0a18126d6",
   "metadata": {},
   "outputs": [],
   "source": []
  },
  {
   "cell_type": "code",
   "execution_count": null,
   "id": "cd26dfe1-028f-43d6-8ec6-950001e1f936",
   "metadata": {},
   "outputs": [],
   "source": []
  },
  {
   "cell_type": "code",
   "execution_count": null,
   "id": "745cf4b9-62a9-46db-a619-6909f01f2a03",
   "metadata": {},
   "outputs": [],
   "source": []
  }
 ],
 "metadata": {
  "kernelspec": {
   "display_name": "Python 3 (ipykernel)",
   "language": "python",
   "name": "python3"
  },
  "language_info": {
   "codemirror_mode": {
    "name": "ipython",
    "version": 3
   },
   "file_extension": ".py",
   "mimetype": "text/x-python",
   "name": "python",
   "nbconvert_exporter": "python",
   "pygments_lexer": "ipython3",
   "version": "3.9.7"
  }
 },
 "nbformat": 4,
 "nbformat_minor": 5
}
