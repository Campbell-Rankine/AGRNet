{
 "cells": [
  {
   "cell_type": "markdown",
   "id": "d215e447-f153-4454-9e74-0a6ed59bb15c",
   "metadata": {},
   "source": [
    " # Train file \n",
    " ---\n",
    " For the model we will start by showing that we can purely train on depths 1 and 2 as those are the first instances containing every possible block"
   ]
  },
  {
   "cell_type": "markdown",
   "id": "9a3f27e1-e8ec-4db0-b2a2-d7ffc4b8b776",
   "metadata": {},
   "source": [
    "## Shift in the overall goal of this project:\n",
    "---\n",
    "Originally this project started with the goal to combine two networks together to create stereoscopic images based on surrealist art. However, this process, while definitely possible through sets of linear translations and object degmentation, is impractical for real runtime arguments. So here in the notebooks we provide a proof of concept for the network, however we will be turning this into a script for the Blender and Maxwell tools for 3-D modelling\n",
    "\n",
    "Blender: Construct a 3D set of objects in a constrained 3-D domain\n",
    "Maxwell: Render these objects\n",
    "\n",
    "For now we will focus on a proof of concept ProGAN, and from there we repurpose this gan for our script."
   ]
  },
  {
   "cell_type": "code",
   "execution_count": 1,
   "id": "d77657c6-ca7b-4210-89a3-022f21ed9609",
   "metadata": {},
   "outputs": [
    {
     "name": "stdout",
     "output_type": "stream",
     "text": [
      "Random Seed:  999\n"
     ]
    },
    {
     "name": "stderr",
     "output_type": "stream",
     "text": [
      "C:\\Users\\campb\\anaconda3\\lib\\site-packages\\torchvision\\io\\image.py:11: UserWarning: Failed to load image Python extension: Could not find module 'C:\\Users\\campb\\anaconda3\\Lib\\site-packages\\torchvision\\image.pyd' (or one of its dependencies). Try using the full path with constructor syntax.\n",
      "  warn(f\"Failed to load image Python extension: {e}\")\n"
     ]
    }
   ],
   "source": [
    "### - imports - ###\n",
    "from PIL import Image\n",
    "import numpy as np\n",
    "import glob\n",
    "import cv2 as cv\n",
    "import os\n",
    "import random\n",
    "import argparse\n",
    "### - other data augmentation imports - ### (if needed)\n",
    "### - Imports - ###\n",
    "import math\n",
    "import numpy as np\n",
    "import sklearn as sk #general imports, initial data preprocessing/OS stuff\n",
    "import pandas as pd\n",
    "import matplotlib.pyplot as plt\n",
    "import cv2 as cv\n",
    "import os\n",
    "import torch as T\n",
    "import torch.nn as nn\n",
    "import torch.optim as optim #Neural network imports, multiply data etc\n",
    "from torchvision.transforms import ToTensor\n",
    "import torchvision.models as models\n",
    "import torchvision\n",
    "import torch.nn.functional as F #Neural Network used in Comp4660 at ANU\n",
    "\n",
    "from torch.autograd import Variable\n",
    "from torch.optim.lr_scheduler import _LRScheduler\n",
    "\n",
    "from sklearn.preprocessing import MinMaxScaler #normalize data\n",
    "from sklearn.metrics import confusion_matrix #analysis\n",
    "from torchvision import transforms\n",
    "from torchvision.utils import make_grid, save_image\n",
    "import matplotlib.pyplot as plt\n",
    "import torch.optim as optim\n",
    "from torch.utils.data import DataLoader,Dataset\n",
    "\n",
    "from torchvision.datasets import ImageFolder\n",
    "from NetworkMain import D, G\n",
    "from tqdm import tqdm"
   ]
  },
  {
   "cell_type": "code",
   "execution_count": 2,
   "id": "c7179e90-3137-4cf6-9c6b-8e93fe29d356",
   "metadata": {},
   "outputs": [],
   "source": [
    "#This code will be added later when the file is converted to a python file\n",
    "\"\"\"parser = argparse.ArgumentParser()\n",
    "parser.add_argument('--root', type=str, default='./', help='directory contrains the data and outputs')\n",
    "parser.add_argument('--epochs', type=int, default=40, help='training epoch number')\n",
    "parser.add_argument('--out_res', type=int, default=128, help='The resolution of final output image')\n",
    "parser.add_argument('--resume', type=int, default=0, help='continues from epoch number')\n",
    "parser.add_argument('--cuda', action='store_true', help='Using GPU to train')\n",
    "\n",
    "\n",
    "opt = parser.parse_args()\"\"\"\n",
    "\n",
    "root = '/Users/campb/Documents/PersonalProjects/AGRNet/'\n",
    "data_dir = root + 'Dataset/'\n",
    "check_point_dir = root + 'check_points/'\n",
    "output_dir = root + 'output/'\n",
    "weight_dir = root+ 'weight/'\n",
    "if not os.path.exists(check_point_dir):\n",
    "\tos.makedirs(check_point_dir)\n",
    "if not os.path.exists(output_dir):\n",
    "\tos.makedirs(output_dir)\n",
    "if not os.path.exists(weight_dir):\n",
    "\tos.makedirs(weight_dir)"
   ]
  },
  {
   "cell_type": "code",
   "execution_count": 3,
   "id": "c3f28971-e8b5-431e-93b8-d7e0dbbc57e2",
   "metadata": {},
   "outputs": [],
   "source": [
    "### - Global Variables - ###\n",
    "DFP = '/Users/campb/Documents/PersonalProjects/AGRNet/Dataset/Sample-'\n",
    "\n",
    "img_folder = '/Users/campb/Documents/PersonalProjects/AGRNet/Dataset/'\n",
    "\n",
    "NS = '/Sample-'\n",
    "\n",
    "image_format = 'RGB'\n",
    "\n",
    "schedule = [[5, 15, 25 ,35, 40],[6, 5, 5, 5, 4],[5, 5, 5, 1, 1]] #Epochs for each cycle num of epochs\n",
    "\n",
    "batch_size = schedule[1][0]\n",
    "\n",
    "growing = schedule[2][0]\n",
    "\n",
    "epochs = 40\n",
    "\n",
    "latent_size = 512\n",
    "\n",
    "out_res = 1024\n",
    "\n",
    "lr = 1e-5\n",
    "\n",
    "lambd = 10"
   ]
  },
  {
   "cell_type": "code",
   "execution_count": 4,
   "id": "2b0cca62-5f79-4e2b-88a4-cbe713331853",
   "metadata": {},
   "outputs": [
    {
     "name": "stdout",
     "output_type": "stream",
     "text": [
      "cuda:0\n"
     ]
    }
   ],
   "source": [
    "device = T.device('cuda:0' if (T.cuda.is_available())  else 'cpu')\n",
    "\n",
    "transform = transforms.Compose([\n",
    "            transforms.Resize(out_res),\n",
    "            transforms.CenterCrop(out_res),\n",
    "            transforms.ToTensor(),\n",
    "            transforms.Normalize((0.5, 0.5, 0.5), (0.5, 0.5, 0.5))\n",
    "            ])\n",
    "print(device)"
   ]
  },
  {
   "cell_type": "code",
   "execution_count": 5,
   "id": "ab319914-ad8f-4e7d-8277-2c86846b1ba9",
   "metadata": {},
   "outputs": [],
   "source": [
    "#Create networks\n",
    "Disc = None\n",
    "Gen = None\n",
    "Disc = D(latent_size, out_res).to(device)\n",
    "Gen = G(latent_size, out_res).to(device)"
   ]
  },
  {
   "cell_type": "code",
   "execution_count": 6,
   "id": "43b42f5d-48e8-4639-9185-8fd1359519ea",
   "metadata": {},
   "outputs": [],
   "source": [
    "#Noise for discriminator\n",
    "fixed_noise = T.randn(16, latent_size, 1, 1).to(device)\n",
    "#initialize optimizers\n",
    "D_optimizer = optim.Adam(Disc.parameters(), lr=lr, betas=(0, 0.99))\n",
    "G_optimizer = optim.Adam(Gen.parameters(), lr=lr, betas=(0, 0.99))\n",
    "#Metric variables\n",
    "D_running_loss = 0.0\n",
    "G_running_loss = 0.0\n",
    "iter_num = 0\n",
    "\n",
    "D_epoch_losses = []\n",
    "G_epoch_losses = []"
   ]
  },
  {
   "cell_type": "code",
   "execution_count": 7,
   "id": "31937179-b410-4458-a030-578806d24dc8",
   "metadata": {},
   "outputs": [],
   "source": [
    "#Load with ImageFolder wrapper\n",
    "class ImageDataset(Dataset):\n",
    "    def __init__(self,img_folder,names, transform):\n",
    "        self.transform = transform\n",
    "        self.image_names = names #Predetermined dataset\n",
    "        self.img_folder=img_folder\n",
    "        \n",
    "    def __len__(self):\n",
    "        return len(self.image_names)\n",
    "    \n",
    "    def __getitem__(self,index):\n",
    "        image=Image.open(self.img_folder+self.image_names[index]).convert(\"RGB\")\n",
    "        image=self.transform(image)\n",
    "        return image\n",
    "\n",
    "assert(os.path.exists(DFP + str(1) + \".jpg\"))\n",
    "rawimgf = sorted(glob.glob(DFP + '*.jpg', recursive = True))\n",
    "### - image names - ###\n",
    "imnames = [i.split('/')[-1].split(\"t\")[-1][1:] for i in rawimgf]\n",
    "\n",
    "### - Global data loader Vars - ###\n",
    "norms = (0.5,0.5,0.5), (0.5,0.5,0.5)\n",
    "train_transform = transforms.Compose([\n",
    "                transforms.ToTensor(),\n",
    "                transforms.Resize((out_res, out_res))])\n",
    "# Parameters\n",
    "params = {'batch_size': schedule[1][0],\n",
    "          'shuffle': True,\n",
    "         'num_workers': 0}"
   ]
  },
  {
   "cell_type": "code",
   "execution_count": 8,
   "id": "374fa1ea-fc48-4646-83ff-53d980ec488a",
   "metadata": {},
   "outputs": [
    {
     "data": {
      "text/plain": [
       "\"\\nexcept:\\n    print('Fully Grown\\n')\\n    c = -1\\n    batch_size = schedule[1][c]\\n    growing = schedule[2][c]\\n\\n    dataset = ImageDataset(img_folder,imnames, train_transform)\\n    data_loader = DataLoader(dataset, **params)\\n\\n    tot_iter_num = (len(dataset)/batch_size)\\n    print(schedule[0][c], resume)\\n\\n    if Gen.alpha < 1:\\n        Gen.fade_iters = (1-Gen.alpha)/(opt.epochs-opt.resume)/(2*tot_iter_num)\\n        Ddisc.fade_iters = (1-Disc.alpha)/(opt.epochs-opt.resume)/(2*tot_iter_num)\""
      ]
     },
     "execution_count": 8,
     "metadata": {},
     "output_type": "execute_result"
    }
   ],
   "source": [
    "#Control variable\n",
    "resume = 0\n",
    "if resume != 0:\n",
    "    check_point = T.load(check_point_dir+'check_point_epoch_%i.pth' % resume)\n",
    "    fixed_noise = check_point['fixed_noise']\n",
    "    G_net.load_state_dict(check_point['G_net'])\n",
    "    D_net.load_state_dict(check_point['D_net'])\n",
    "    G_optimizer.load_state_dict(check_point['G_optimizer'])\n",
    "    D_optimizer.load_state_dict(check_point['D_optimizer'])\n",
    "    G_epoch_losses = check_point['G_epoch_losses']\n",
    "    D_epoch_losses = check_point['D_epoch_losses']\n",
    "    G_net.depth = check_point['depth']\n",
    "    D_net.depth = check_point['depth']\n",
    "    G_net.alpha = check_point['alpha']\n",
    "    D_net.alpha = check_point['alpha']\n",
    "\n",
    "\n",
    "\n",
    "c = next(x[0] for x in enumerate(schedule[0]) if x[1]>resume)-1\n",
    "batch_size = schedule[1][c]\n",
    "growing = schedule[2][c]\n",
    "dataset = ImageDataset(img_folder, imnames, train_transform)\n",
    "# dataset = datasets.CelebA(data_dir, split='all', transform=transform)\n",
    "data_loader = DataLoader(dataset, **params)\n",
    "\n",
    "tot_iter_num = (len(dataset)/batch_size)\n",
    "Gen.fade_iters = (1-Gen.alpha)/(schedule[0][c+1]-resume)/(2*tot_iter_num)\n",
    "Disc.fade_iters = (1-Disc.alpha)/(schedule[0][c+1]-resume)/(2*tot_iter_num)\n",
    "\n",
    "\"\"\"\n",
    "except:\n",
    "    print('Fully Grown\\n')\n",
    "    c = -1\n",
    "    batch_size = schedule[1][c]\n",
    "    growing = schedule[2][c]\n",
    "\n",
    "    dataset = ImageDataset(img_folder,imnames, train_transform)\n",
    "    data_loader = DataLoader(dataset, **params)\n",
    "\n",
    "    tot_iter_num = (len(dataset)/batch_size)\n",
    "    print(schedule[0][c], resume)\n",
    "\n",
    "    if Gen.alpha < 1:\n",
    "        Gen.fade_iters = (1-Gen.alpha)/(opt.epochs-opt.resume)/(2*tot_iter_num)\n",
    "        Ddisc.fade_iters = (1-Disc.alpha)/(opt.epochs-opt.resume)/(2*tot_iter_num)\"\"\"\n"
   ]
  },
  {
   "cell_type": "code",
   "execution_count": 9,
   "id": "f11a8ab5-7099-4387-aa96-99c383b799f7",
   "metadata": {},
   "outputs": [
    {
     "name": "stdout",
     "output_type": "stream",
     "text": [
      "Output Resolution: 4 x 4\n",
      "epoch: 1/40\n"
     ]
    },
    {
     "name": "stderr",
     "output_type": "stream",
     "text": [
      "  0%|                                                                                           | 0/27 [00:00<?, ?it/s]"
     ]
    },
    {
     "name": "stdout",
     "output_type": "stream",
     "text": [
      "torch.Size([6, 3, 1024, 1024])\n"
     ]
    },
    {
     "name": "stderr",
     "output_type": "stream",
     "text": [
      "D_loss: 2.517   G_loss: 0.014:   4%|█▉                                                  | 1/27 [00:02<01:06,  2.57s/it]"
     ]
    },
    {
     "name": "stdout",
     "output_type": "stream",
     "text": [
      "tensor(0.0141, device='cuda:0', grad_fn=<NegBackward0>)\n",
      "2.517120599746704 0.014149274677038193\n",
      "2.517120599746704 0.014149274677038193\n",
      "iteration : 0, gp: 2.76\n",
      "torch.Size([6, 3, 1024, 1024])\n"
     ]
    },
    {
     "name": "stderr",
     "output_type": "stream",
     "text": [
      "D_loss: 2.517   G_loss: 0.014:   7%|███▊                                                | 2/27 [00:02<00:29,  1.17s/it]"
     ]
    },
    {
     "name": "stdout",
     "output_type": "stream",
     "text": [
      "tensor(0.0032, device='cuda:0', grad_fn=<NegBackward0>)\n",
      "2.397303819656372 0.00320412777364254\n",
      "2.397303819656372 0.00320412777364254\n",
      "torch.Size([6, 3, 1024, 1024])\n",
      "tensor(-0.0043, device='cuda:0', grad_fn=<NegBackward0>)\n",
      "2.590686559677124 -0.0042752898298203945\n"
     ]
    },
    {
     "name": "stderr",
     "output_type": "stream",
     "text": [
      "D_loss: 2.517   G_loss: 0.014:  11%|█████▊                                              | 3/27 [00:02<00:17,  1.40it/s]"
     ]
    },
    {
     "name": "stdout",
     "output_type": "stream",
     "text": [
      "4.987990379333496 0.0074794176034629345\n",
      "torch.Size([6, 3, 1024, 1024])\n",
      "tensor(0.0004, device='cuda:0', grad_fn=<NegBackward0>)\n",
      "2.0745949745178223 0.0004158372466918081\n"
     ]
    },
    {
     "name": "stderr",
     "output_type": "stream",
     "text": [
      "D_loss: 2.354   G_loss: 0.003:  15%|███████▋                                            | 4/27 [00:03<00:11,  1.98it/s]"
     ]
    },
    {
     "name": "stdout",
     "output_type": "stream",
     "text": [
      "7.062585353851318 0.007895254850154743\n",
      "iteration : 3, gp: 2.47\n",
      "torch.Size([6, 3, 1024, 1024])\n",
      "tensor(0.0108, device='cuda:0', grad_fn=<NegBackward0>)\n",
      "2.221562385559082 0.01082349568605423\n"
     ]
    },
    {
     "name": "stderr",
     "output_type": "stream",
     "text": [
      "D_loss: 2.354   G_loss: 0.003:  22%|███████████▌                                        | 6/27 [00:03<00:06,  3.18it/s]"
     ]
    },
    {
     "name": "stdout",
     "output_type": "stream",
     "text": [
      "2.221562385559082 0.01082349568605423\n",
      "torch.Size([6, 3, 1024, 1024])\n",
      "tensor(0.0073, device='cuda:0', grad_fn=<NegBackward0>)\n",
      "2.25536847114563 0.0073342821560800076\n",
      "4.476930856704712 0.018157777842134237\n"
     ]
    },
    {
     "name": "stderr",
     "output_type": "stream",
     "text": [
      "D_loss: 2.155   G_loss: 0.008:  26%|█████████████▍                                      | 7/27 [00:03<00:05,  3.70it/s]"
     ]
    },
    {
     "name": "stdout",
     "output_type": "stream",
     "text": [
      "torch.Size([6, 3, 1024, 1024])\n",
      "tensor(0.0059, device='cuda:0', grad_fn=<NegBackward0>)\n",
      "1.9869530200958252 0.005885185208171606\n",
      "6.463883876800537 0.024042963050305843\n",
      "iteration : 6, gp: 2.30\n",
      "torch.Size([6, 3, 1024, 1024])\n"
     ]
    },
    {
     "name": "stderr",
     "output_type": "stream",
     "text": [
      "D_loss: 2.155   G_loss: 0.008:  30%|███████████████▍                                    | 8/27 [00:03<00:04,  4.19it/s]"
     ]
    },
    {
     "name": "stdout",
     "output_type": "stream",
     "text": [
      "tensor(0.0129, device='cuda:0', grad_fn=<NegBackward0>)\n",
      "2.2073190212249756 0.012888836674392223\n",
      "2.2073190212249756 0.012888836674392223\n"
     ]
    },
    {
     "name": "stderr",
     "output_type": "stream",
     "text": [
      "D_loss: 2.155   G_loss: 0.008:  33%|█████████████████▎                                  | 9/27 [00:04<00:05,  3.43it/s]"
     ]
    },
    {
     "name": "stdout",
     "output_type": "stream",
     "text": [
      "torch.Size([6, 3, 1024, 1024])\n",
      "tensor(0.0034, device='cuda:0', grad_fn=<NegBackward0>)\n",
      "2.1216187477111816 0.0034011187963187695\n",
      "4.328937768936157 0.016289955470710993\n",
      "torch.Size([6, 3, 1024, 1024])\n"
     ]
    },
    {
     "name": "stderr",
     "output_type": "stream",
     "text": [
      "D_loss: 2.010   G_loss: 0.011:  37%|██████████████████▉                                | 10/27 [00:04<00:04,  3.90it/s]"
     ]
    },
    {
     "name": "stdout",
     "output_type": "stream",
     "text": [
      "tensor(0.0174, device='cuda:0', grad_fn=<NegBackward0>)\n",
      "1.7009754180908203 0.017415151000022888\n",
      "6.0299131870269775 0.03370510647073388\n",
      "iteration : 9, gp: 2.15\n",
      "torch.Size([6, 3, 1024, 1024])\n",
      "tensor(0.0069, device='cuda:0', grad_fn=<NegBackward0>)\n"
     ]
    },
    {
     "name": "stderr",
     "output_type": "stream",
     "text": [
      "D_loss: 2.010   G_loss: 0.011:  41%|████████████████████▊                              | 11/27 [00:04<00:03,  4.24it/s]"
     ]
    },
    {
     "name": "stdout",
     "output_type": "stream",
     "text": [
      "1.8452491760253906 0.006874982267618179\n",
      "1.8452491760253906 0.006874982267618179\n",
      "torch.Size([6, 3, 1024, 1024])\n",
      "tensor(0.0002, device='cuda:0', grad_fn=<NegBackward0>)\n",
      "1.8058335781097412 0.0002208004443673417\n"
     ]
    },
    {
     "name": "stderr",
     "output_type": "stream",
     "text": [
      "D_loss: 1.701   G_loss: 0.008:  48%|████████████████████████▌                          | 13/27 [00:04<00:02,  4.82it/s]"
     ]
    },
    {
     "name": "stdout",
     "output_type": "stream",
     "text": [
      "3.651082754135132 0.007095782711985521\n",
      "torch.Size([6, 3, 1024, 1024])\n",
      "tensor(0.0154, device='cuda:0', grad_fn=<NegBackward0>)\n",
      "1.453214406967163 0.015425330959260464\n",
      "5.104297161102295 0.022521113671245985\n",
      "iteration : 12, gp: 1.95\n"
     ]
    },
    {
     "name": "stderr",
     "output_type": "stream",
     "text": [
      "D_loss: 1.701   G_loss: 0.008:  52%|██████████████████████████▍                        | 14/27 [00:05<00:02,  4.98it/s]"
     ]
    },
    {
     "name": "stdout",
     "output_type": "stream",
     "text": [
      "torch.Size([6, 3, 1024, 1024])\n",
      "tensor(-0.0022, device='cuda:0', grad_fn=<NegBackward0>)\n",
      "1.972428321838379 -0.002249613404273987\n",
      "1.972428321838379 0.002249613404273987\n",
      "torch.Size([6, 3, 1024, 1024])\n"
     ]
    },
    {
     "name": "stderr",
     "output_type": "stream",
     "text": [
      "D_loss: 1.701   G_loss: 0.008:  56%|████████████████████████████▎                      | 15/27 [00:05<00:02,  5.16it/s]"
     ]
    },
    {
     "name": "stdout",
     "output_type": "stream",
     "text": [
      "tensor(-0.0086, device='cuda:0', grad_fn=<NegBackward0>)\n",
      "1.7103134393692017 -0.008631275035440922\n",
      "3.6827417612075806 0.010880888439714909\n"
     ]
    },
    {
     "name": "stderr",
     "output_type": "stream",
     "text": [
      "D_loss: 1.805   G_loss: 0.006:  59%|██████████████████████████████▏                    | 16/27 [00:05<00:02,  3.88it/s]"
     ]
    },
    {
     "name": "stdout",
     "output_type": "stream",
     "text": [
      "torch.Size([6, 3, 1024, 1024])\n",
      "tensor(-0.0074, device='cuda:0', grad_fn=<NegBackward0>)\n",
      "1.7330912351608276 -0.007416766136884689\n",
      "5.415832996368408 0.018297654576599598\n",
      "iteration : 15, gp: 2.06\n",
      "torch.Size([6, 3, 1024, 1024])\n"
     ]
    },
    {
     "name": "stderr",
     "output_type": "stream",
     "text": [
      "D_loss: 1.805   G_loss: 0.006:  63%|████████████████████████████████                   | 17/27 [00:05<00:02,  4.32it/s]"
     ]
    },
    {
     "name": "stdout",
     "output_type": "stream",
     "text": [
      "tensor(0.0184, device='cuda:0', grad_fn=<NegBackward0>)\n",
      "1.4843090772628784 0.0183804202824831\n",
      "1.4843090772628784 0.0183804202824831\n",
      "torch.Size([6, 3, 1024, 1024])\n",
      "tensor(0.0018, device='cuda:0', grad_fn=<NegBackward0>)\n",
      "1.4106744527816772 0.0017607714980840683\n"
     ]
    },
    {
     "name": "stderr",
     "output_type": "stream",
     "text": [
      "D_loss: 1.805   G_loss: 0.006:  67%|██████████████████████████████████                 | 18/27 [00:06<00:01,  4.65it/s]"
     ]
    },
    {
     "name": "stdout",
     "output_type": "stream",
     "text": [
      "2.8949835300445557 0.02014119178056717\n",
      "torch.Size([6, 3, 1024, 1024])\n",
      "tensor(-0.0031, device='cuda:0', grad_fn=<NegBackward0>)\n",
      "1.502502679824829 -0.0031376963015645742\n"
     ]
    },
    {
     "name": "stderr",
     "output_type": "stream",
     "text": [
      "D_loss: 1.466   G_loss: 0.008:  74%|█████████████████████████████████████▊             | 20/27 [00:06<00:01,  5.14it/s]"
     ]
    },
    {
     "name": "stdout",
     "output_type": "stream",
     "text": [
      "4.397486209869385 0.023278888082131743\n",
      "iteration : 18, gp: 1.90\n",
      "torch.Size([6, 3, 1024, 1024])\n",
      "tensor(0.0006, device='cuda:0', grad_fn=<NegBackward0>)\n",
      "1.4024752378463745 0.0005862405523657799\n",
      "1.4024752378463745 0.0005862405523657799\n"
     ]
    },
    {
     "name": "stderr",
     "output_type": "stream",
     "text": [
      "D_loss: 1.466   G_loss: 0.008:  78%|███████████████████████████████████████▋           | 21/27 [00:06<00:01,  5.29it/s]"
     ]
    },
    {
     "name": "stdout",
     "output_type": "stream",
     "text": [
      "torch.Size([6, 3, 1024, 1024])\n",
      "tensor(-0.0158, device='cuda:0', grad_fn=<NegBackward0>)\n",
      "1.498886227607727 -0.015826212242245674\n",
      "2.9013614654541016 0.016412452794611454\n"
     ]
    },
    {
     "name": "stderr",
     "output_type": "stream",
     "text": [
      "D_loss: 1.474   G_loss: 0.008:  81%|█████████████████████████████████████████▌         | 22/27 [00:06<00:00,  5.10it/s]"
     ]
    },
    {
     "name": "stdout",
     "output_type": "stream",
     "text": [
      "torch.Size([6, 3, 1024, 1024])\n",
      "tensor(0.0083, device='cuda:0', grad_fn=<NegBackward0>)\n",
      "1.5215345621109009 0.008286409080028534\n",
      "4.422896027565002 0.024698861874639988\n",
      "iteration : 21, gp: 2.05\n",
      "torch.Size([6, 3, 1024, 1024])\n"
     ]
    },
    {
     "name": "stderr",
     "output_type": "stream",
     "text": [
      "D_loss: 1.474   G_loss: 0.008:  85%|███████████████████████████████████████████▍       | 23/27 [00:07<00:00,  5.09it/s]"
     ]
    },
    {
     "name": "stdout",
     "output_type": "stream",
     "text": [
      "tensor(0.0098, device='cuda:0', grad_fn=<NegBackward0>)\n",
      "1.3057650327682495 0.009794316254556179\n",
      "1.3057650327682495 0.009794316254556179\n",
      "torch.Size([6, 3, 1024, 1024])\n",
      "tensor(0.0055, device='cuda:0', grad_fn=<NegBackward0>)\n"
     ]
    },
    {
     "name": "stderr",
     "output_type": "stream",
     "text": [
      "D_loss: 1.474   G_loss: 0.008:  89%|█████████████████████████████████████████████▎     | 24/27 [00:07<00:00,  5.16it/s]"
     ]
    },
    {
     "name": "stdout",
     "output_type": "stream",
     "text": [
      "1.2005424499511719 0.005488575901836157\n",
      "2.5063074827194214 0.015282892156392336\n"
     ]
    },
    {
     "name": "stderr",
     "output_type": "stream",
     "text": [
      "D_loss: 1.171   G_loss: 0.008:  93%|███████████████████████████████████████████████▏   | 25/27 [00:07<00:00,  3.19it/s]"
     ]
    },
    {
     "name": "stdout",
     "output_type": "stream",
     "text": [
      "torch.Size([6, 3, 1024, 1024])\n",
      "tensor(0.0089, device='cuda:0', grad_fn=<NegBackward0>)\n",
      "1.007169246673584 0.008860989473760128\n",
      "3.5134767293930054 0.024143881630152464\n",
      "iteration : 24, gp: 1.53\n",
      "torch.Size([6, 3, 1024, 1024])\n"
     ]
    },
    {
     "name": "stderr",
     "output_type": "stream",
     "text": [
      "D_loss: 1.171   G_loss: 0.008:  96%|█████████████████████████████████████████████████  | 26/27 [00:07<00:00,  3.67it/s]"
     ]
    },
    {
     "name": "stdout",
     "output_type": "stream",
     "text": [
      "tensor(-0.0058, device='cuda:0', grad_fn=<NegBackward0>)\n",
      "1.0007572174072266 -0.005777986720204353\n",
      "1.0007572174072266 0.005777986720204353\n",
      "torch.Size([5, 3, 1024, 1024])\n",
      "tensor(0.0192, device='cuda:0', grad_fn=<NegBackward0>)\n",
      "1.1527493000030518 0.019166618585586548\n"
     ]
    },
    {
     "name": "stderr",
     "output_type": "stream",
     "text": [
      "D_loss: 1.171   G_loss: 0.008: 100%|███████████████████████████████████████████████████| 27/27 [00:08<00:00,  3.31it/s]\n"
     ]
    },
    {
     "name": "stdout",
     "output_type": "stream",
     "text": [
      "2.1535065174102783 0.0249446053057909\n",
      "epoch: 2/40\n"
     ]
    },
    {
     "name": "stderr",
     "output_type": "stream",
     "text": [
      "  0%|                                                                                           | 0/27 [00:00<?, ?it/s]"
     ]
    },
    {
     "name": "stdout",
     "output_type": "stream",
     "text": [
      "torch.Size([6, 3, 1024, 1024])\n",
      "tensor(-0.0157, device='cuda:0', grad_fn=<NegBackward0>)\n"
     ]
    },
    {
     "name": "stderr",
     "output_type": "stream",
     "text": [
      "D_loss: 0.983   G_loss: 0.014:   4%|█▉                                                  | 1/27 [00:00<00:05,  5.03it/s]"
     ]
    },
    {
     "name": "stdout",
     "output_type": "stream",
     "text": [
      "0.7942667007446289 -0.015694307163357735\n",
      "2.9477732181549072 0.040638912469148636\n",
      "iteration : 0, gp: 1.29\n",
      "torch.Size([6, 3, 1024, 1024])\n",
      "tensor(-0.0021, device='cuda:0', grad_fn=<NegBackward0>)\n",
      "0.9406530261039734 -0.0021468920167535543\n"
     ]
    },
    {
     "name": "stderr",
     "output_type": "stream",
     "text": [
      "D_loss: 0.983   G_loss: 0.014:   7%|███▊                                                | 2/27 [00:00<00:04,  5.29it/s]"
     ]
    },
    {
     "name": "stdout",
     "output_type": "stream",
     "text": [
      "0.9406530261039734 0.0021468920167535543\n",
      "torch.Size([6, 3, 1024, 1024])\n",
      "tensor(-0.0086, device='cuda:0', grad_fn=<NegBackward0>)\n"
     ]
    },
    {
     "name": "stderr",
     "output_type": "stream",
     "text": [
      "D_loss: 0.983   G_loss: 0.014:  11%|█████▊                                              | 3/27 [00:00<00:04,  5.34it/s]"
     ]
    },
    {
     "name": "stdout",
     "output_type": "stream",
     "text": [
      "0.47459614276885986 -0.008594905026257038\n",
      "1.4152491688728333 0.010741797043010592\n"
     ]
    },
    {
     "name": "stderr",
     "output_type": "stream",
     "text": [
      "D_loss: 0.798   G_loss: 0.004:  15%|███████▋                                            | 4/27 [00:00<00:06,  3.74it/s]"
     ]
    },
    {
     "name": "stdout",
     "output_type": "stream",
     "text": [
      "torch.Size([6, 3, 1024, 1024])\n",
      "tensor(-0.0005, device='cuda:0', grad_fn=<NegBackward0>)\n",
      "0.9787142276763916 -0.0005318938638083637\n",
      "2.393963396549225 0.011273690906818956\n",
      "iteration : 3, gp: 1.49\n",
      "torch.Size([6, 3, 1024, 1024])\n"
     ]
    },
    {
     "name": "stderr",
     "output_type": "stream",
     "text": [
      "D_loss: 0.798   G_loss: 0.004:  19%|█████████▋                                          | 5/27 [00:01<00:05,  4.23it/s]"
     ]
    },
    {
     "name": "stdout",
     "output_type": "stream",
     "text": [
      "tensor(0.0139, device='cuda:0', grad_fn=<NegBackward0>)\n",
      "0.9116165041923523 0.013889022171497345\n",
      "0.9116165041923523 0.013889022171497345\n",
      "torch.Size([6, 3, 1024, 1024])\n",
      "tensor(0.0071, device='cuda:0', grad_fn=<NegBackward0>)\n"
     ]
    },
    {
     "name": "stderr",
     "output_type": "stream",
     "text": [
      "D_loss: 0.798   G_loss: 0.004:  22%|███████████▌                                        | 6/27 [00:01<00:04,  4.52it/s]"
     ]
    },
    {
     "name": "stdout",
     "output_type": "stream",
     "text": [
      "0.6750528812408447 0.007054920308291912\n",
      "1.586669385433197 0.020943942479789257\n",
      "torch.Size([6, 3, 1024, 1024])\n",
      "tensor(-0.0143, device='cuda:0', grad_fn=<NegBackward0>)\n",
      "0.6858922839164734 -0.014331369660794735\n"
     ]
    },
    {
     "name": "stderr",
     "output_type": "stream",
     "text": [
      "D_loss: 0.758   G_loss: 0.012:  26%|█████████████▍                                      | 7/27 [00:01<00:04,  4.77it/s]"
     ]
    },
    {
     "name": "stdout",
     "output_type": "stream",
     "text": [
      "2.2725616693496704 0.03527531214058399\n",
      "iteration : 6, gp: 1.45\n",
      "torch.Size([6, 3, 1024, 1024])\n",
      "tensor(-0.0166, device='cuda:0', grad_fn=<NegBackward0>)\n",
      "0.45686012506484985 -0.01660393737256527\n"
     ]
    },
    {
     "name": "stderr",
     "output_type": "stream",
     "text": [
      "D_loss: 0.758   G_loss: 0.012:  33%|█████████████████▎                                  | 9/27 [00:01<00:03,  5.21it/s]"
     ]
    },
    {
     "name": "stdout",
     "output_type": "stream",
     "text": [
      "0.45686012506484985 0.01660393737256527\n",
      "torch.Size([6, 3, 1024, 1024])\n",
      "tensor(-0.0211, device='cuda:0', grad_fn=<NegBackward0>)\n",
      "0.3694012761116028 -0.02111893892288208\n",
      "0.8262614011764526 0.03772287629544735\n"
     ]
    },
    {
     "name": "stderr",
     "output_type": "stream",
     "text": [
      "D_loss: 0.463   G_loss: 0.016:  37%|██████████████████▉                                | 10/27 [00:02<00:03,  5.35it/s]"
     ]
    },
    {
     "name": "stdout",
     "output_type": "stream",
     "text": [
      "torch.Size([6, 3, 1024, 1024])\n",
      "tensor(-0.0100, device='cuda:0', grad_fn=<NegBackward0>)\n",
      "0.5631599426269531 -0.010049054399132729\n",
      "1.3894213438034058 0.04777193069458008\n",
      "iteration : 9, gp: 1.33\n"
     ]
    },
    {
     "name": "stderr",
     "output_type": "stream",
     "text": [
      "D_loss: 0.463   G_loss: 0.016:  41%|████████████████████▊                              | 11/27 [00:02<00:04,  3.47it/s]"
     ]
    },
    {
     "name": "stdout",
     "output_type": "stream",
     "text": [
      "torch.Size([6, 3, 1024, 1024])\n",
      "tensor(0.0018, device='cuda:0', grad_fn=<NegBackward0>)\n",
      "0.7912785410881042 0.001828555716201663\n",
      "0.7912785410881042 0.001828555716201663\n",
      "torch.Size([6, 3, 1024, 1024])"
     ]
    },
    {
     "name": "stderr",
     "output_type": "stream",
     "text": [
      "D_loss: 0.463   G_loss: 0.016:  44%|██████████████████████▋                            | 12/27 [00:02<00:03,  3.88it/s]"
     ]
    },
    {
     "name": "stdout",
     "output_type": "stream",
     "text": [
      "\n",
      "tensor(0.0061, device='cuda:0', grad_fn=<NegBackward0>)\n",
      "0.5404071807861328 0.006062644533813\n",
      "1.331685721874237 0.007891200250014663\n",
      "torch.Size([6, 3, 1024, 1024])\n"
     ]
    },
    {
     "name": "stderr",
     "output_type": "stream",
     "text": [
      "D_loss: 0.543   G_loss: 0.005:  48%|████████████████████████▌                          | 13/27 [00:02<00:03,  4.26it/s]"
     ]
    },
    {
     "name": "stdout",
     "output_type": "stream",
     "text": [
      "tensor(-0.0059, device='cuda:0', grad_fn=<NegBackward0>)\n",
      "0.29751700162887573 -0.0058983187191188335\n",
      "1.6292027235031128 0.013789518969133496\n",
      "iteration : 12, gp: 0.99\n",
      "torch.Size([6, 3, 1024, 1024])\n",
      "tensor(-0.0129, device='cuda:0', grad_fn=<NegBackward0>)\n",
      "0.7332534790039062 -0.012857767753303051\n"
     ]
    },
    {
     "name": "stderr",
     "output_type": "stream",
     "text": [
      "D_loss: 0.543   G_loss: 0.005:  56%|████████████████████████████▎                      | 15/27 [00:03<00:02,  4.92it/s]"
     ]
    },
    {
     "name": "stdout",
     "output_type": "stream",
     "text": [
      "0.7332534790039062 0.012857767753303051\n",
      "torch.Size([6, 3, 1024, 1024])\n",
      "tensor(-0.0115, device='cuda:0', grad_fn=<NegBackward0>)\n",
      "0.6447030901908875 -0.01153117697685957\n",
      "1.3779565691947937 0.02438894473016262\n"
     ]
    },
    {
     "name": "stderr",
     "output_type": "stream",
     "text": [
      "D_loss: 0.494   G_loss: 0.018:  59%|██████████████████████████████▏                    | 16/27 [00:03<00:02,  5.11it/s]"
     ]
    },
    {
     "name": "stdout",
     "output_type": "stream",
     "text": [
      "torch.Size([6, 3, 1024, 1024])\n",
      "tensor(-0.0309, device='cuda:0', grad_fn=<NegBackward0>)\n",
      "-0.10419875383377075 -0.030895134434103966\n",
      "1.4821553230285645 0.055284079164266586\n",
      "iteration : 15, gp: 0.78\n"
     ]
    },
    {
     "name": "stderr",
     "output_type": "stream",
     "text": [
      "D_loss: 0.494   G_loss: 0.018:  63%|████████████████████████████████                   | 17/27 [00:03<00:02,  4.07it/s]"
     ]
    },
    {
     "name": "stdout",
     "output_type": "stream",
     "text": [
      "torch.Size([6, 3, 1024, 1024])\n",
      "tensor(-0.0288, device='cuda:0', grad_fn=<NegBackward0>)\n",
      "0.09776628017425537 -0.028760530054569244\n",
      "0.09776628017425537 0.028760530054569244\n",
      "torch.Size([6, 3, 1024, 1024])\n"
     ]
    },
    {
     "name": "stderr",
     "output_type": "stream",
     "text": [
      "D_loss: 0.494   G_loss: 0.018:  67%|██████████████████████████████████                 | 18/27 [00:04<00:02,  4.37it/s]"
     ]
    },
    {
     "name": "stdout",
     "output_type": "stream",
     "text": [
      "tensor(-0.0207, device='cuda:0', grad_fn=<NegBackward0>)\n",
      "0.5012036561965942 -0.02066016010940075\n",
      "0.5989699363708496 0.049420690163969994\n",
      "torch.Size([6, 3, 1024, 1024])\n",
      "tensor(-0.0064, device='cuda:0', grad_fn=<NegBackward0>)\n"
     ]
    },
    {
     "name": "stderr",
     "output_type": "stream",
     "text": [
      "D_loss: 0.278   G_loss: 0.019:  74%|█████████████████████████████████████▊             | 20/27 [00:04<00:01,  4.98it/s]"
     ]
    },
    {
     "name": "stdout",
     "output_type": "stream",
     "text": [
      "0.23495137691497803 -0.006392030976712704\n",
      "0.8339213132858276 0.0558127211406827\n",
      "iteration : 18, gp: 1.03\n",
      "torch.Size([6, 3, 1024, 1024])\n",
      "tensor(-0.0094, device='cuda:0', grad_fn=<NegBackward0>)\n",
      "0.5936465263366699 -0.00943625159561634\n",
      "0.5936465263366699 0.00943625159561634\n"
     ]
    },
    {
     "name": "stderr",
     "output_type": "stream",
     "text": [
      "D_loss: 0.278   G_loss: 0.019:  78%|███████████████████████████████████████▋           | 21/27 [00:04<00:01,  5.11it/s]"
     ]
    },
    {
     "name": "stdout",
     "output_type": "stream",
     "text": [
      "torch.Size([6, 3, 1024, 1024])\n",
      "tensor(0.0058, device='cuda:0', grad_fn=<NegBackward0>)\n",
      "0.32591092586517334 0.0058432770892977715\n",
      "0.9195574522018433 0.015279528684914112\n",
      "torch.Size([6, 3, 1024, 1024])\n"
     ]
    },
    {
     "name": "stderr",
     "output_type": "stream",
     "text": [
      "D_loss: 0.307   G_loss: 0.006:  81%|█████████████████████████████████████████▌         | 22/27 [00:04<00:00,  5.23it/s]"
     ]
    },
    {
     "name": "stdout",
     "output_type": "stream",
     "text": [
      "tensor(-0.0036, device='cuda:0', grad_fn=<NegBackward0>)\n",
      "-0.0004870295524597168 -0.0035938385408371687\n",
      "0.920044481754303 0.01887336722575128\n",
      "iteration : 21, gp: 0.63\n",
      "torch.Size([6, 3, 1024, 1024])\n",
      "tensor(-0.0192, device='cuda:0', grad_fn=<NegBackward0>)\n",
      "0.06001859903335571 -0.019226137548685074\n"
     ]
    },
    {
     "name": "stderr",
     "output_type": "stream",
     "text": [
      "D_loss: 0.307   G_loss: 0.006:  89%|█████████████████████████████████████████████▎     | 24/27 [00:05<00:00,  5.52it/s]"
     ]
    },
    {
     "name": "stdout",
     "output_type": "stream",
     "text": [
      "0.06001859903335571 0.019226137548685074\n",
      "torch.Size([6, 3, 1024, 1024])\n",
      "tensor(-0.0306, device='cuda:0', grad_fn=<NegBackward0>)\n",
      "0.13484948873519897 -0.030609391629695892\n",
      "0.1948680877685547 0.049835529178380966\n"
     ]
    },
    {
     "name": "stderr",
     "output_type": "stream",
     "text": [
      "D_loss: 0.094   G_loss: 0.019:  93%|███████████████████████████████████████████████▏   | 25/27 [00:05<00:00,  5.27it/s]"
     ]
    },
    {
     "name": "stdout",
     "output_type": "stream",
     "text": [
      "torch.Size([6, 3, 1024, 1024])\n",
      "tensor(-0.0076, device='cuda:0', grad_fn=<NegBackward0>)\n",
      "-0.0877847671508789 -0.007639299146831036\n",
      "0.2826528549194336 0.057474828325212\n",
      "iteration : 24, gp: 0.64\n",
      "torch.Size([6, 3, 1024, 1024])\n"
     ]
    },
    {
     "name": "stderr",
     "output_type": "stream",
     "text": [
      "D_loss: 0.094   G_loss: 0.019:  96%|█████████████████████████████████████████████████  | 26/27 [00:05<00:00,  5.32it/s]"
     ]
    },
    {
     "name": "stdout",
     "output_type": "stream",
     "text": [
      "tensor(-0.0254, device='cuda:0', grad_fn=<NegBackward0>)\n",
      "-0.20363277196884155 -0.02536802366375923\n",
      "0.20363277196884155 0.02536802366375923\n",
      "torch.Size([5, 3, 1024, 1024])\n",
      "tensor(-0.0372, device='cuda:0', grad_fn=<NegBackward0>)\n"
     ]
    },
    {
     "name": "stderr",
     "output_type": "stream",
     "text": [
      "D_loss: 0.094   G_loss: 0.019: 100%|███████████████████████████████████████████████████| 27/27 [00:05<00:00,  4.79it/s]"
     ]
    },
    {
     "name": "stdout",
     "output_type": "stream",
     "text": [
      "-0.2607399821281433 -0.03722069039940834\n",
      "0.46437275409698486 0.06258871406316757\n"
     ]
    },
    {
     "name": "stderr",
     "output_type": "stream",
     "text": [
      "\n"
     ]
    },
    {
     "name": "stdout",
     "output_type": "stream",
     "text": [
      "epoch: 3/40\n"
     ]
    },
    {
     "name": "stderr",
     "output_type": "stream",
     "text": [
      "D_loss: 0.164   G_loss: 0.027:   4%|█▉                                                  | 1/27 [00:00<00:04,  5.81it/s]"
     ]
    },
    {
     "name": "stdout",
     "output_type": "stream",
     "text": [
      "torch.Size([6, 3, 1024, 1024])\n",
      "tensor(-0.0175, device='cuda:0', grad_fn=<NegBackward0>)\n",
      "0.02651149034500122 -0.017496909946203232\n",
      "0.4908842444419861 0.0800856240093708\n",
      "iteration : 0, gp: 0.62\n",
      "torch.Size([6, 3, 1024, 1024])\n"
     ]
    },
    {
     "name": "stderr",
     "output_type": "stream",
     "text": [
      "D_loss: 0.164   G_loss: 0.027:   7%|███▊                                                | 2/27 [00:00<00:04,  5.85it/s]"
     ]
    },
    {
     "name": "stdout",
     "output_type": "stream",
     "text": [
      "tensor(-0.0041, device='cuda:0', grad_fn=<NegBackward0>)\n",
      "-0.24529272317886353 -0.004149945452809334\n",
      "0.24529272317886353 0.004149945452809334\n",
      "torch.Size([6, 3, 1024, 1024])\n",
      "tensor(-0.0371, device='cuda:0', grad_fn=<NegBackward0>)\n"
     ]
    },
    {
     "name": "stderr",
     "output_type": "stream",
     "text": [
      "D_loss: 0.164   G_loss: 0.027:  11%|█████▊                                              | 3/27 [00:00<00:04,  5.53it/s]"
     ]
    },
    {
     "name": "stdout",
     "output_type": "stream",
     "text": [
      "-0.3427291512489319 -0.03712830692529678\n",
      "0.5880218744277954 0.04127825237810612\n",
      "torch.Size([6, 3, 1024, 1024])\n",
      "tensor(-0.0233, device='cuda:0', grad_fn=<NegBackward0>)\n",
      "-0.38722264766693115 -0.023266371339559555\n"
     ]
    },
    {
     "name": "stderr",
     "output_type": "stream",
     "text": [
      "D_loss: 0.325   G_loss: 0.022:  15%|███████▋                                            | 4/27 [00:00<00:04,  5.65it/s]"
     ]
    },
    {
     "name": "stdout",
     "output_type": "stream",
     "text": [
      "0.9752445220947266 0.06454462371766567\n",
      "iteration : 3, gp: 0.60\n"
     ]
    },
    {
     "name": "stderr",
     "output_type": "stream",
     "text": [
      "D_loss: 0.325   G_loss: 0.022:  19%|█████████▋                                          | 5/27 [00:01<00:06,  3.30it/s]"
     ]
    },
    {
     "name": "stdout",
     "output_type": "stream",
     "text": [
      "torch.Size([6, 3, 1024, 1024])\n",
      "tensor(-0.0159, device='cuda:0', grad_fn=<NegBackward0>)\n",
      "-0.1468697190284729 -0.0158645398914814\n",
      "0.1468697190284729 0.0158645398914814\n",
      "torch.Size([6, 3, 1024, 1024])\n"
     ]
    },
    {
     "name": "stderr",
     "output_type": "stream",
     "text": [
      "D_loss: 0.325   G_loss: 0.022:  22%|███████████▌                                        | 6/27 [00:01<00:05,  3.85it/s]"
     ]
    },
    {
     "name": "stdout",
     "output_type": "stream",
     "text": [
      "tensor(-0.0075, device='cuda:0', grad_fn=<NegBackward0>)\n",
      "-0.4960694909095764 -0.007453670725226402\n",
      "0.6429392099380493 0.023318210616707802\n"
     ]
    },
    {
     "name": "stderr",
     "output_type": "stream",
     "text": [
      "D_loss: 0.458   G_loss: 0.012:  26%|█████████████▍                                      | 7/27 [00:01<00:05,  3.40it/s]"
     ]
    },
    {
     "name": "stdout",
     "output_type": "stream",
     "text": [
      "torch.Size([6, 3, 1024, 1024])\n",
      "tensor(-0.0123, device='cuda:0', grad_fn=<NegBackward0>)\n",
      "-0.7321799993515015 -0.0123384278267622\n",
      "1.3751192092895508 0.03565663844347\n",
      "iteration : 6, gp: 0.55\n",
      "torch.Size([6, 3, 1024, 1024])\n"
     ]
    },
    {
     "name": "stderr",
     "output_type": "stream",
     "text": [
      "D_loss: 0.458   G_loss: 0.012:  30%|███████████████▍                                    | 8/27 [00:01<00:04,  3.84it/s]"
     ]
    },
    {
     "name": "stdout",
     "output_type": "stream",
     "text": [
      "tensor(-0.0313, device='cuda:0', grad_fn=<NegBackward0>)\n",
      "-0.6102369427680969 -0.03128586709499359\n",
      "0.6102369427680969 0.03128586709499359\n",
      "torch.Size([6, 3, 1024, 1024])\n",
      "tensor(-0.0288, device='cuda:0', grad_fn=<NegBackward0>)\n"
     ]
    },
    {
     "name": "stderr",
     "output_type": "stream",
     "text": [
      "D_loss: 0.458   G_loss: 0.012:  33%|█████████████████▎                                  | 9/27 [00:02<00:04,  4.18it/s]"
     ]
    },
    {
     "name": "stdout",
     "output_type": "stream",
     "text": [
      "-0.7423413395881653 -0.028818853199481964\n",
      "1.3525782823562622 0.060104720294475555\n",
      "torch.Size([6, 3, 1024, 1024])\n",
      "tensor(-0.0138, device='cuda:0', grad_fn=<NegBackward0>)\n",
      "-0.3709830045700073 -0.01376914232969284\n"
     ]
    },
    {
     "name": "stderr",
     "output_type": "stream",
     "text": [
      "D_loss: 0.575   G_loss: 0.025:  37%|██████████████████▉                                | 10/27 [00:02<00:03,  4.55it/s]"
     ]
    },
    {
     "name": "stdout",
     "output_type": "stream",
     "text": [
      "1.7235612869262695 0.0738738626241684\n",
      "iteration : 9, gp: 0.48\n",
      "torch.Size([6, 3, 1024, 1024])\n",
      "tensor(-0.0293, device='cuda:0', grad_fn=<NegBackward0>)\n",
      "-0.1079704761505127"
     ]
    },
    {
     "name": "stderr",
     "output_type": "stream",
     "text": [
      "D_loss: 0.575   G_loss: 0.025:  44%|██████████████████████▋                            | 12/27 [00:02<00:02,  5.03it/s]"
     ]
    },
    {
     "name": "stdout",
     "output_type": "stream",
     "text": [
      " -0.029284395277500153\n",
      "0.1079704761505127 0.029284395277500153\n",
      "torch.Size([6, 3, 1024, 1024])\n",
      "tensor(-0.0078, device='cuda:0', grad_fn=<NegBackward0>)\n",
      "-0.47756433486938477 -0.007791813462972641\n",
      "0.5855348110198975 0.037076208740472794\n"
     ]
    },
    {
     "name": "stderr",
     "output_type": "stream",
     "text": [
      "D_loss: 0.250   G_loss: 0.024:  48%|████████████████████████▌                          | 13/27 [00:02<00:02,  5.25it/s]"
     ]
    },
    {
     "name": "stdout",
     "output_type": "stream",
     "text": [
      "torch.Size([6, 3, 1024, 1024])\n",
      "tensor(-0.0336, device='cuda:0', grad_fn=<NegBackward0>)\n",
      "-0.16370755434036255 -0.033589377999305725\n",
      "0.74924236536026 0.07066558673977852\n",
      "iteration : 12, gp: 0.62\n",
      "torch.Size([6, 3, 1024, 1024])\n"
     ]
    },
    {
     "name": "stderr",
     "output_type": "stream",
     "text": [
      "D_loss: 0.250   G_loss: 0.024:  52%|██████████████████████████▍                        | 14/27 [00:03<00:02,  5.43it/s]"
     ]
    },
    {
     "name": "stdout",
     "output_type": "stream",
     "text": [
      "tensor(-0.0204, device='cuda:0', grad_fn=<NegBackward0>)\n",
      "-0.6490954160690308 -0.020400527864694595\n",
      "0.6490954160690308 0.020400527864694595\n",
      "torch.Size([6, 3, 1024, 1024])\n",
      "tensor(-0.0575, device='cuda:0', grad_fn=<NegBackward0>)\n",
      "-0.6734372973442078 -0.05752237141132355\n"
     ]
    },
    {
     "name": "stderr",
     "output_type": "stream",
     "text": [
      "D_loss: 0.250   G_loss: 0.024:  56%|████████████████████████████▎                      | 15/27 [00:03<00:02,  5.59it/s]"
     ]
    },
    {
     "name": "stdout",
     "output_type": "stream",
     "text": [
      "1.3225327134132385 0.07792289927601814\n",
      "torch.Size([6, 3, 1024, 1024])\n",
      "tensor(-0.0417, device='cuda:0', grad_fn=<NegBackward0>)\n",
      "-0.3032245635986328 -0.04170674830675125\n"
     ]
    },
    {
     "name": "stderr",
     "output_type": "stream",
     "text": [
      "D_loss: 0.542   G_loss: 0.040:  59%|██████████████████████████████▏                    | 16/27 [00:03<00:01,  5.57it/s]"
     ]
    },
    {
     "name": "stdout",
     "output_type": "stream",
     "text": [
      "1.6257572770118713 0.1196296475827694\n",
      "iteration : 15, gp: 0.44\n"
     ]
    },
    {
     "name": "stderr",
     "output_type": "stream",
     "text": [
      "D_loss: 0.542   G_loss: 0.040:  63%|████████████████████████████████                   | 17/27 [00:03<00:02,  4.14it/s]"
     ]
    },
    {
     "name": "stdout",
     "output_type": "stream",
     "text": [
      "torch.Size([6, 3, 1024, 1024])\n",
      "tensor(-0.0309, device='cuda:0', grad_fn=<NegBackward0>)\n",
      "-1.0286853313446045 -0.030889956280589104\n",
      "1.0286853313446045 0.030889956280589104\n"
     ]
    },
    {
     "name": "stderr",
     "output_type": "stream",
     "text": [
      "D_loss: 0.542   G_loss: 0.040:  67%|██████████████████████████████████                 | 18/27 [00:03<00:02,  4.30it/s]"
     ]
    },
    {
     "name": "stdout",
     "output_type": "stream",
     "text": [
      "torch.Size([6, 3, 1024, 1024])\n",
      "tensor(-0.0322, device='cuda:0', grad_fn=<NegBackward0>)\n",
      "-0.3083707392215729 -0.03219446912407875\n",
      "1.3370560705661774 0.06308442540466785\n",
      "torch.Size([6, 3, 1024, 1024])\n"
     ]
    },
    {
     "name": "stderr",
     "output_type": "stream",
     "text": [
      "D_loss: 0.606   G_loss: 0.028:  70%|███████████████████████████████████▉               | 19/27 [00:04<00:01,  4.61it/s]"
     ]
    },
    {
     "name": "stdout",
     "output_type": "stream",
     "text": [
      "tensor(-0.0198, device='cuda:0', grad_fn=<NegBackward0>)\n",
      "-0.4812157154083252 -0.019796375185251236\n",
      "1.8182717859745026 0.08288080058991909\n",
      "iteration : 18, gp: 0.54\n",
      "torch.Size([6, 3, 1024, 1024])\n",
      "tensor(-0.0362, device='cuda:0', grad_fn=<NegBackward0>)\n"
     ]
    },
    {
     "name": "stderr",
     "output_type": "stream",
     "text": [
      "D_loss: 0.606   G_loss: 0.028:  78%|███████████████████████████████████████▋           | 21/27 [00:04<00:01,  5.08it/s]"
     ]
    },
    {
     "name": "stdout",
     "output_type": "stream",
     "text": [
      "-1.0290210247039795 -0.03620237484574318\n",
      "1.0290210247039795 0.03620237484574318\n",
      "torch.Size([6, 3, 1024, 1024])\n",
      "tensor(-0.0276, device='cuda:0', grad_fn=<NegBackward0>)\n",
      "-0.327836275100708 -0.02756187878549099\n",
      "1.3568572998046875 0.06376425363123417\n"
     ]
    },
    {
     "name": "stderr",
     "output_type": "stream",
     "text": [
      "D_loss: 0.782   G_loss: 0.034:  81%|█████████████████████████████████████████▌         | 22/27 [00:04<00:00,  5.11it/s]"
     ]
    },
    {
     "name": "stdout",
     "output_type": "stream",
     "text": [
      "torch.Size([6, 3, 1024, 1024])\n",
      "tensor(-0.0381, device='cuda:0', grad_fn=<NegBackward0>)\n",
      "-0.9884240627288818 -0.03809394687414169\n",
      "2.3452813625335693 0.10185820050537586\n",
      "iteration : 21, gp: 0.30\n",
      "torch.Size([6, 3, 1024, 1024])\n"
     ]
    },
    {
     "name": "stderr",
     "output_type": "stream",
     "text": [
      "D_loss: 0.782   G_loss: 0.034:  85%|███████████████████████████████████████████▍       | 23/27 [00:04<00:00,  5.25it/s]"
     ]
    },
    {
     "name": "stdout",
     "output_type": "stream",
     "text": [
      "tensor(-0.0280, device='cuda:0', grad_fn=<NegBackward0>)\n",
      "-0.8729021549224854 -0.02802242338657379\n",
      "0.8729021549224854 0.02802242338657379\n",
      "torch.Size([6, 3, 1024, 1024])\n",
      "tensor(-0.0410, device='cuda:0', grad_fn=<NegBackward0>)\n",
      "-0.8470416069030762 -0.04101109504699707\n"
     ]
    },
    {
     "name": "stderr",
     "output_type": "stream",
     "text": [
      "D_loss: 0.807   G_loss: 0.035:  93%|███████████████████████████████████████████████▏   | 25/27 [00:05<00:00,  5.43it/s]"
     ]
    },
    {
     "name": "stdout",
     "output_type": "stream",
     "text": [
      "1.7199437618255615 0.06903351843357086\n",
      "torch.Size([6, 3, 1024, 1024])\n",
      "tensor(-0.0367, device='cuda:0', grad_fn=<NegBackward0>)\n",
      "-0.7005056738853455 -0.03665071725845337\n",
      "2.420449435710907 0.10568423569202423\n",
      "iteration : 24, gp: 0.48\n"
     ]
    },
    {
     "name": "stderr",
     "output_type": "stream",
     "text": [
      "D_loss: 0.807   G_loss: 0.035:  96%|█████████████████████████████████████████████████  | 26/27 [00:05<00:00,  5.64it/s]"
     ]
    },
    {
     "name": "stdout",
     "output_type": "stream",
     "text": [
      "torch.Size([6, 3, 1024, 1024])\n",
      "tensor(-0.0441, device='cuda:0', grad_fn=<NegBackward0>)\n",
      "-0.9697874188423157 -0.04409092664718628\n",
      "0.9697874188423157 0.04409092664718628\n",
      "torch.Size([5, 3, 1024, 1024])\n"
     ]
    },
    {
     "name": "stderr",
     "output_type": "stream",
     "text": [
      "D_loss: 0.807   G_loss: 0.035: 100%|███████████████████████████████████████████████████| 27/27 [00:05<00:00,  4.84it/s]"
     ]
    },
    {
     "name": "stdout",
     "output_type": "stream",
     "text": [
      "tensor(-0.0812, device='cuda:0', grad_fn=<NegBackward0>)\n",
      "-0.9027512669563293 -0.08123379945755005\n",
      "1.872538685798645 0.12532472610473633\n"
     ]
    },
    {
     "name": "stderr",
     "output_type": "stream",
     "text": [
      "\n"
     ]
    },
    {
     "name": "stdout",
     "output_type": "stream",
     "text": [
      "epoch: 4/40\n"
     ]
    },
    {
     "name": "stderr",
     "output_type": "stream",
     "text": [
      "  0%|                                                                                           | 0/27 [00:00<?, ?it/s]"
     ]
    },
    {
     "name": "stdout",
     "output_type": "stream",
     "text": [
      "torch.Size([6, 3, 1024, 1024])\n",
      "tensor(-0.0258, device='cuda:0', grad_fn=<NegBackward0>)\n",
      "-0.8954769372940063 -0.025804486125707626\n"
     ]
    },
    {
     "name": "stderr",
     "output_type": "stream",
     "text": [
      "D_loss: 0.923   G_loss: 0.050:   4%|█▉                                                  | 1/27 [00:00<00:04,  5.32it/s]"
     ]
    },
    {
     "name": "stdout",
     "output_type": "stream",
     "text": [
      "2.7680156230926514 0.15112921223044395\n",
      "iteration : 0, gp: 0.23\n",
      "torch.Size([6, 3, 1024, 1024])\n",
      "tensor(-0.0697, device='cuda:0', grad_fn=<NegBackward0>)\n",
      "-0.8879451751708984 -0.06969670951366425\n"
     ]
    },
    {
     "name": "stderr",
     "output_type": "stream",
     "text": [
      "D_loss: 0.923   G_loss: 0.050:   7%|███▊                                                | 2/27 [00:00<00:04,  5.46it/s]"
     ]
    },
    {
     "name": "stdout",
     "output_type": "stream",
     "text": [
      "0.8879451751708984 0.06969670951366425\n",
      "torch.Size([6, 3, 1024, 1024])\n",
      "tensor(-0.0193, device='cuda:0', grad_fn=<NegBackward0>)\n",
      "-1.1497352123260498 -0.01934688724577427\n"
     ]
    },
    {
     "name": "stderr",
     "output_type": "stream",
     "text": [
      "D_loss: 0.923   G_loss: 0.050:  11%|█████▊                                              | 3/27 [00:00<00:04,  5.63it/s]"
     ]
    },
    {
     "name": "stdout",
     "output_type": "stream",
     "text": [
      "2.0376803874969482 0.08904359675943851\n",
      "torch.Size([6, 3, 1024, 1024])\n",
      "tensor(-0.0403, device='cuda:0', grad_fn=<NegBackward0>)\n"
     ]
    },
    {
     "name": "stderr",
     "output_type": "stream",
     "text": [
      "D_loss: 1.132   G_loss: 0.043:  15%|███████▋                                            | 4/27 [00:00<00:04,  5.19it/s]"
     ]
    },
    {
     "name": "stdout",
     "output_type": "stream",
     "text": [
      "-1.3575412034988403 -0.040317684412002563\n",
      "3.3952215909957886 0.12936128117144108\n",
      "iteration : 3, gp: 0.17\n",
      "torch.Size([6, 3, 1024, 1024])\n"
     ]
    },
    {
     "name": "stderr",
     "output_type": "stream",
     "text": [
      "D_loss: 1.132   G_loss: 0.043:  19%|█████████▋                                          | 5/27 [00:00<00:04,  5.41it/s]"
     ]
    },
    {
     "name": "stdout",
     "output_type": "stream",
     "text": [
      "tensor(-0.0523, device='cuda:0', grad_fn=<NegBackward0>)\n",
      "-1.064640760421753 -0.052321016788482666\n",
      "1.064640760421753 0.052321016788482666\n",
      "torch.Size([6, 3, 1024, 1024])\n",
      "tensor(-0.0277, device='cuda:0', grad_fn=<NegBackward0>)\n"
     ]
    },
    {
     "name": "stderr",
     "output_type": "stream",
     "text": [
      "D_loss: 1.132   G_loss: 0.043:  22%|███████████▌                                        | 6/27 [00:01<00:03,  5.48it/s]"
     ]
    },
    {
     "name": "stdout",
     "output_type": "stream",
     "text": [
      "-1.2885063886642456 -0.02766539715230465\n",
      "2.3531471490859985 0.07998641394078732\n",
      "torch.Size([6, 3, 1024, 1024])\n"
     ]
    },
    {
     "name": "stderr",
     "output_type": "stream",
     "text": [
      "D_loss: 1.188   G_loss: 0.048:  26%|█████████████▍                                      | 7/27 [00:01<00:03,  5.61it/s]"
     ]
    },
    {
     "name": "stdout",
     "output_type": "stream",
     "text": [
      "tensor(-0.0639, device='cuda:0', grad_fn=<NegBackward0>)\n",
      "-1.2121249437332153 -0.06392262876033783\n",
      "3.565272092819214 0.14390904270112514\n",
      "iteration : 6, gp: 0.20\n"
     ]
    },
    {
     "name": "stderr",
     "output_type": "stream",
     "text": [
      "D_loss: 1.188   G_loss: 0.048:  30%|███████████████▍                                    | 8/27 [00:01<00:04,  4.03it/s]"
     ]
    },
    {
     "name": "stdout",
     "output_type": "stream",
     "text": [
      "torch.Size([6, 3, 1024, 1024])\n",
      "tensor(-0.0306, device='cuda:0', grad_fn=<NegBackward0>)\n",
      "-1.4414620399475098 -0.030620485544204712\n",
      "1.4414620399475098 0.030620485544204712\n",
      "torch.Size([6, 3, 1024, 1024])\n"
     ]
    },
    {
     "name": "stderr",
     "output_type": "stream",
     "text": [
      "D_loss: 1.188   G_loss: 0.048:  33%|█████████████████▎                                  | 9/27 [00:01<00:04,  4.44it/s]"
     ]
    },
    {
     "name": "stdout",
     "output_type": "stream",
     "text": [
      "tensor(-0.0384, device='cuda:0', grad_fn=<NegBackward0>)\n",
      "-0.918484091758728 -0.038438715040683746\n",
      "2.359946131706238 0.06905920058488846\n",
      "torch.Size([6, 3, 1024, 1024])\n",
      "tensor(-0.0541, device='cuda:0', grad_fn=<NegBackward0>)\n",
      "-1.2503083944320679 -0.05405833572149277\n"
     ]
    },
    {
     "name": "stderr",
     "output_type": "stream",
     "text": [
      "D_loss: 1.203   G_loss: 0.041:  41%|████████████████████▊                              | 11/27 [00:02<00:03,  5.10it/s]"
     ]
    },
    {
     "name": "stdout",
     "output_type": "stream",
     "text": [
      "3.6102545261383057 0.12311753630638123\n",
      "iteration : 9, gp: 0.10\n",
      "torch.Size([6, 3, 1024, 1024])\n",
      "tensor(-0.0602, device='cuda:0', grad_fn=<NegBackward0>)\n",
      "-1.4425166845321655 -0.06024759262800217\n",
      "1.4425166845321655 0.06024759262800217\n"
     ]
    },
    {
     "name": "stderr",
     "output_type": "stream",
     "text": [
      "D_loss: 1.203   G_loss: 0.041:  44%|██████████████████████▋                            | 12/27 [00:02<00:02,  5.24it/s]"
     ]
    },
    {
     "name": "stdout",
     "output_type": "stream",
     "text": [
      "torch.Size([6, 3, 1024, 1024])\n",
      "tensor(-0.0650, device='cuda:0', grad_fn=<NegBackward0>)\n",
      "-1.3850271701812744 -0.06504425406455994\n",
      "2.82754385471344 0.1252918466925621\n",
      "torch.Size([6, 3, 1024, 1024])\n"
     ]
    },
    {
     "name": "stderr",
     "output_type": "stream",
     "text": [
      "D_loss: 1.348   G_loss: 0.078:  48%|████████████████████████▌                          | 13/27 [00:02<00:02,  5.37it/s]"
     ]
    },
    {
     "name": "stdout",
     "output_type": "stream",
     "text": [
      "tensor(-0.1084, device='cuda:0', grad_fn=<NegBackward0>)\n",
      "-1.2170664072036743 -0.10835979878902435\n",
      "4.044610261917114 0.23365164548158646\n",
      "iteration : 12, gp: 0.20\n"
     ]
    },
    {
     "name": "stderr",
     "output_type": "stream",
     "text": [
      "D_loss: 1.348   G_loss: 0.078:  52%|██████████████████████████▍                        | 14/27 [00:03<00:03,  3.44it/s]"
     ]
    },
    {
     "name": "stdout",
     "output_type": "stream",
     "text": [
      "torch.Size([6, 3, 1024, 1024])\n",
      "tensor(-0.0840, device='cuda:0', grad_fn=<NegBackward0>)\n",
      "-1.0878257751464844 -0.08403582870960236\n",
      "1.0878257751464844 0.08403582870960236\n"
     ]
    },
    {
     "name": "stderr",
     "output_type": "stream",
     "text": [
      "D_loss: 1.348   G_loss: 0.078:  56%|████████████████████████████▎                      | 15/27 [00:03<00:03,  3.67it/s]"
     ]
    },
    {
     "name": "stdout",
     "output_type": "stream",
     "text": [
      "torch.Size([6, 3, 1024, 1024])\n",
      "tensor(-0.0722, device='cuda:0', grad_fn=<NegBackward0>)\n",
      "-1.0647413730621338 -0.0721992775797844\n",
      "2.152567148208618 0.15623510628938675\n",
      "torch.Size([6, 3, 1024, 1024])\n"
     ]
    },
    {
     "name": "stderr",
     "output_type": "stream",
     "text": [
      "D_loss: 1.076   G_loss: 0.066:  59%|██████████████████████████████▏                    | 16/27 [00:03<00:02,  4.07it/s]"
     ]
    },
    {
     "name": "stdout",
     "output_type": "stream",
     "text": [
      "tensor(-0.0419, device='cuda:0', grad_fn=<NegBackward0>)\n",
      "-1.0743318796157837 -0.04187559336423874\n",
      "3.226899027824402 0.1981106996536255\n",
      "iteration : 15, gp: 0.18\n",
      "torch.Size([6, 3, 1024, 1024])\n",
      "tensor(-0.0771, device='cuda:0', grad_fn=<NegBackward0>)\n",
      "-1.1504875421524048 -0.07713121175765991\n"
     ]
    },
    {
     "name": "stderr",
     "output_type": "stream",
     "text": [
      "D_loss: 1.076   G_loss: 0.066:  67%|██████████████████████████████████                 | 18/27 [00:03<00:01,  4.69it/s]"
     ]
    },
    {
     "name": "stdout",
     "output_type": "stream",
     "text": [
      "1.1504875421524048 0.07713121175765991\n",
      "torch.Size([6, 3, 1024, 1024])\n",
      "tensor(-0.0548, device='cuda:0', grad_fn=<NegBackward0>)\n",
      "-1.3118342161178589 -0.0548127219080925\n",
      "2.4623217582702637 0.1319439336657524\n"
     ]
    },
    {
     "name": "stderr",
     "output_type": "stream",
     "text": [
      "D_loss: 1.156   G_loss: 0.074:  70%|███████████████████████████████████▉               | 19/27 [00:04<00:01,  4.91it/s]"
     ]
    },
    {
     "name": "stdout",
     "output_type": "stream",
     "text": [
      "torch.Size([6, 3, 1024, 1024])\n",
      "tensor(-0.0894, device='cuda:0', grad_fn=<NegBackward0>)\n",
      "-1.0061675310134888 -0.089361272752285\n",
      "3.4684892892837524 0.22130520641803741\n",
      "iteration : 18, gp: 0.21\n",
      "torch.Size([6, 3, 1024, 1024])\n"
     ]
    },
    {
     "name": "stderr",
     "output_type": "stream",
     "text": [
      "D_loss: 1.156   G_loss: 0.074:  74%|█████████████████████████████████████▊             | 20/27 [00:04<00:01,  5.01it/s]"
     ]
    },
    {
     "name": "stdout",
     "output_type": "stream",
     "text": [
      "tensor(-0.0658, device='cuda:0', grad_fn=<NegBackward0>)\n",
      "-1.2173864841461182 -0.06576568633317947\n",
      "1.2173864841461182 0.06576568633317947\n",
      "torch.Size([6, 3, 1024, 1024])\n",
      "tensor(-0.0832, device='cuda:0', grad_fn=<NegBackward0>)\n"
     ]
    },
    {
     "name": "stderr",
     "output_type": "stream",
     "text": [
      "D_loss: 1.156   G_loss: 0.074:  78%|███████████████████████████████████████▋           | 21/27 [00:04<00:01,  5.08it/s]"
     ]
    },
    {
     "name": "stdout",
     "output_type": "stream",
     "text": [
      "-1.3252652883529663 -0.08321737498044968\n",
      "2.5426517724990845 0.14898306131362915\n",
      "torch.Size([6, 3, 1024, 1024])\n",
      "tensor(-0.0683, device='cuda:0', grad_fn=<NegBackward0>)\n"
     ]
    },
    {
     "name": "stderr",
     "output_type": "stream",
     "text": [
      "D_loss: 1.259   G_loss: 0.072:  85%|███████████████████████████████████████████▍       | 23/27 [00:04<00:00,  5.23it/s]"
     ]
    },
    {
     "name": "stdout",
     "output_type": "stream",
     "text": [
      "-1.2347233295440674 -0.06832359731197357\n",
      "3.777375102043152 0.21730665862560272\n",
      "iteration : 21, gp: 0.03\n",
      "torch.Size([6, 3, 1024, 1024])\n",
      "tensor(-0.0803, device='cuda:0', grad_fn=<NegBackward0>)\n",
      "-1.782508373260498 -0.08027058094739914\n",
      "1.782508373260498 0.08027058094739914\n"
     ]
    },
    {
     "name": "stderr",
     "output_type": "stream",
     "text": [
      "D_loss: 1.259   G_loss: 0.072:  89%|█████████████████████████████████████████████▎     | 24/27 [00:05<00:00,  3.98it/s]"
     ]
    },
    {
     "name": "stdout",
     "output_type": "stream",
     "text": [
      "torch.Size([6, 3, 1024, 1024])\n",
      "tensor(-0.0722, device='cuda:0', grad_fn=<NegBackward0>)\n",
      "-1.256859540939331 -0.07220879942178726\n",
      "3.039367914199829 0.1524793803691864\n",
      "torch.Size([6, 3, 1024, 1024])\n"
     ]
    },
    {
     "name": "stderr",
     "output_type": "stream",
     "text": [
      "D_loss: 1.395   G_loss: 0.072:  93%|███████████████████████████████████████████████▏   | 25/27 [00:05<00:00,  4.39it/s]"
     ]
    },
    {
     "name": "stdout",
     "output_type": "stream",
     "text": [
      "tensor(-0.0637, device='cuda:0', grad_fn=<NegBackward0>)\n",
      "-1.146657943725586 -0.06373940408229828\n",
      "4.186025857925415 0.21621878445148468\n",
      "iteration : 24, gp: 0.03\n",
      "torch.Size([6, 3, 1024, 1024])\n",
      "tensor(-0.0606, device='cuda:0', grad_fn=<NegBackward0>)\n"
     ]
    },
    {
     "name": "stderr",
     "output_type": "stream",
     "text": [
      "D_loss: 1.395   G_loss: 0.072: 100%|███████████████████████████████████████████████████| 27/27 [00:05<00:00,  4.74it/s]\n"
     ]
    },
    {
     "name": "stdout",
     "output_type": "stream",
     "text": [
      "-1.8419785499572754 -0.06064377352595329\n",
      "1.8419785499572754 0.06064377352595329\n",
      "torch.Size([5, 3, 1024, 1024])\n",
      "tensor(-0.0917, device='cuda:0', grad_fn=<NegBackward0>)\n",
      "-1.473251223564148 -0.09170735627412796\n",
      "3.3152297735214233 0.15235112980008125\n",
      "epoch: 5/40\n"
     ]
    },
    {
     "name": "stderr",
     "output_type": "stream",
     "text": [
      "  0%|                                                                                           | 0/27 [00:00<?, ?it/s]"
     ]
    },
    {
     "name": "stdout",
     "output_type": "stream",
     "text": [
      "torch.Size([6, 3, 1024, 1024])\n"
     ]
    },
    {
     "name": "stderr",
     "output_type": "stream",
     "text": [
      "D_loss: 1.547   G_loss: 0.085:   4%|█▉                                                  | 1/27 [00:00<00:10,  2.58it/s]"
     ]
    },
    {
     "name": "stdout",
     "output_type": "stream",
     "text": [
      "tensor(-0.1018, device='cuda:0', grad_fn=<NegBackward0>)\n",
      "-1.3264713287353516 -0.10180070996284485\n",
      "4.641701102256775 0.2541518397629261\n",
      "iteration : 0, gp: 0.08\n"
     ]
    },
    {
     "name": "stderr",
     "output_type": "stream",
     "text": [
      "D_loss: 1.547   G_loss: 0.085:   7%|███▊                                                | 2/27 [00:00<00:08,  2.95it/s]"
     ]
    },
    {
     "name": "stdout",
     "output_type": "stream",
     "text": [
      "torch.Size([6, 3, 1024, 1024])\n",
      "tensor(-0.0455, device='cuda:0', grad_fn=<NegBackward0>)\n",
      "-1.3029742240905762 -0.04551006108522415\n",
      "1.3029742240905762 0.04551006108522415\n"
     ]
    },
    {
     "name": "stderr",
     "output_type": "stream",
     "text": [
      "D_loss: 1.547   G_loss: 0.085:  11%|█████▊                                              | 3/27 [00:00<00:07,  3.39it/s]"
     ]
    },
    {
     "name": "stdout",
     "output_type": "stream",
     "text": [
      "torch.Size([6, 3, 1024, 1024])\n",
      "tensor(-0.1044, device='cuda:0', grad_fn=<NegBackward0>)\n",
      "-1.496852159500122 -0.10442139953374863\n",
      "2.7998263835906982 0.14993146061897278\n",
      "torch.Size([6, 3, 1024, 1024])\n"
     ]
    },
    {
     "name": "stderr",
     "output_type": "stream",
     "text": [
      "D_loss: 1.376   G_loss: 0.088:  15%|███████▋                                            | 4/27 [00:01<00:05,  4.00it/s]"
     ]
    },
    {
     "name": "stdout",
     "output_type": "stream",
     "text": [
      "tensor(-0.1137, device='cuda:0', grad_fn=<NegBackward0>)\n",
      "-1.3269197940826416 -0.11374905705451965\n",
      "4.12674617767334 0.26368051767349243\n",
      "iteration : 3, gp: 0.15\n"
     ]
    },
    {
     "name": "stderr",
     "output_type": "stream",
     "text": [
      "D_loss: 1.376   G_loss: 0.088:  19%|█████████▋                                          | 5/27 [00:01<00:06,  3.33it/s]"
     ]
    },
    {
     "name": "stdout",
     "output_type": "stream",
     "text": [
      "torch.Size([6, 3, 1024, 1024])\n",
      "tensor(-0.1010, device='cuda:0', grad_fn=<NegBackward0>)\n",
      "-1.3399043083190918 -0.10097336769104004\n",
      "1.3399043083190918 0.10097336769104004\n",
      "torch.Size([6, 3, 1024, 1024])\n"
     ]
    },
    {
     "name": "stderr",
     "output_type": "stream",
     "text": [
      "D_loss: 1.376   G_loss: 0.088:  22%|███████████▌                                        | 6/27 [00:01<00:05,  3.87it/s]"
     ]
    },
    {
     "name": "stdout",
     "output_type": "stream",
     "text": [
      "tensor(-0.0840, device='cuda:0', grad_fn=<NegBackward0>)\n",
      "-2.0517828464508057 -0.08395769447088242\n",
      "3.3916871547698975 0.18493106216192245\n",
      "torch.Size([6, 3, 1024, 1024])\n",
      "tensor(-0.1089, device='cuda:0', grad_fn=<NegBackward0>)\n"
     ]
    },
    {
     "name": "stderr",
     "output_type": "stream",
     "text": [
      "D_loss: 1.697   G_loss: 0.098:  26%|█████████████▍                                      | 7/27 [00:01<00:04,  4.23it/s]"
     ]
    },
    {
     "name": "stdout",
     "output_type": "stream",
     "text": [
      "-1.6989902257919312 -0.10887273401021957\n",
      "5.090677380561829 0.29380379617214203\n",
      "iteration : 6, gp: 0.21\n",
      "torch.Size([6, 3, 1024, 1024])\n",
      "tensor(-0.0933, device='cuda:0', grad_fn=<NegBackward0>)\n",
      "-0.9268351793289185 -0.09330256283283234\n"
     ]
    },
    {
     "name": "stderr",
     "output_type": "stream",
     "text": [
      "D_loss: 1.697   G_loss: 0.098:  30%|███████████████▍                                    | 8/27 [00:02<00:04,  4.60it/s]"
     ]
    },
    {
     "name": "stdout",
     "output_type": "stream",
     "text": [
      "0.9268351793289185 0.09330256283283234\n"
     ]
    },
    {
     "name": "stderr",
     "output_type": "stream",
     "text": [
      "D_loss: 1.697   G_loss: 0.098:  33%|█████████████████▎                                  | 9/27 [00:02<00:04,  3.83it/s]"
     ]
    },
    {
     "name": "stdout",
     "output_type": "stream",
     "text": [
      "torch.Size([6, 3, 1024, 1024])\n",
      "tensor(-0.0926, device='cuda:0', grad_fn=<NegBackward0>)\n",
      "-1.9007779359817505 -0.09259479492902756\n",
      "2.827613115310669 0.1858973577618599\n",
      "torch.Size([6, 3, 1024, 1024])\n"
     ]
    },
    {
     "name": "stderr",
     "output_type": "stream",
     "text": [
      "D_loss: 1.338   G_loss: 0.096:  37%|██████████████████▉                                | 10/27 [00:02<00:04,  4.16it/s]"
     ]
    },
    {
     "name": "stdout",
     "output_type": "stream",
     "text": [
      "tensor(-0.1036, device='cuda:0', grad_fn=<NegBackward0>)\n",
      "-1.1865489482879639 -0.103561632335186\n",
      "4.014162063598633 0.2894589900970459\n",
      "iteration : 9, gp: 0.13\n"
     ]
    },
    {
     "name": "stderr",
     "output_type": "stream",
     "text": [
      "D_loss: 1.338   G_loss: 0.096:  41%|████████████████████▊                              | 11/27 [00:03<00:05,  2.87it/s]"
     ]
    },
    {
     "name": "stdout",
     "output_type": "stream",
     "text": [
      "torch.Size([6, 3, 1024, 1024])\n",
      "tensor(-0.0888, device='cuda:0', grad_fn=<NegBackward0>)\n",
      "-1.4679242372512817 -0.08877421915531158\n",
      "1.4679242372512817 0.08877421915531158\n",
      "torch.Size([6, 3, 1024, 1024])\n"
     ]
    },
    {
     "name": "stderr",
     "output_type": "stream",
     "text": [
      "D_loss: 1.338   G_loss: 0.096:  44%|██████████████████████▋                            | 12/27 [00:03<00:04,  3.35it/s]"
     ]
    },
    {
     "name": "stdout",
     "output_type": "stream",
     "text": [
      "tensor(-0.1054, device='cuda:0', grad_fn=<NegBackward0>)\n",
      "-1.5529632568359375 -0.10536898672580719\n",
      "3.0208874940872192 0.19414320588111877\n",
      "torch.Size([6, 3, 1024, 1024])\n",
      "tensor(-0.1602, device='cuda:0', grad_fn=<NegBackward0>)\n",
      "-1.8848485946655273 -0.1602039635181427\n"
     ]
    },
    {
     "name": "stderr",
     "output_type": "stream",
     "text": [
      "D_loss: 1.635   G_loss: 0.118:  48%|████████████████████████▌                          | 13/27 [00:03<00:03,  3.79it/s]"
     ]
    },
    {
     "name": "stdout",
     "output_type": "stream",
     "text": [
      "4.905736088752747 0.3543471693992615\n",
      "iteration : 12, gp: 0.01\n",
      "torch.Size([6, 3, 1024, 1024])\n",
      "tensor(-0.1266, device='cuda:0', grad_fn=<NegBackward0>)\n",
      "-2.0144691467285156 -0.1266307234764099\n"
     ]
    },
    {
     "name": "stderr",
     "output_type": "stream",
     "text": [
      "D_loss: 1.635   G_loss: 0.118:  52%|██████████████████████████▍                        | 14/27 [00:03<00:03,  4.17it/s]"
     ]
    },
    {
     "name": "stdout",
     "output_type": "stream",
     "text": [
      "2.0144691467285156 0.1266307234764099\n",
      "torch.Size([6, 3, 1024, 1024])\n",
      "tensor(-0.1144, device='cuda:0', grad_fn=<NegBackward0>)\n",
      "-1.665942907333374 -0.11443985998630524\n"
     ]
    },
    {
     "name": "stderr",
     "output_type": "stream",
     "text": [
      "D_loss: 1.635   G_loss: 0.118:  56%|████████████████████████████▎                      | 15/27 [00:03<00:02,  4.51it/s]"
     ]
    },
    {
     "name": "stdout",
     "output_type": "stream",
     "text": [
      "3.6804120540618896 0.24107058346271515\n",
      "torch.Size([6, 3, 1024, 1024])\n",
      "tensor(-0.1152, device='cuda:0', grad_fn=<NegBackward0>)\n",
      "-1.688489317893982 -0.1151890978217125\n"
     ]
    },
    {
     "name": "stderr",
     "output_type": "stream",
     "text": [
      "D_loss: 1.790   G_loss: 0.119:  59%|██████████████████████████████▏                    | 16/27 [00:04<00:02,  4.68it/s]"
     ]
    },
    {
     "name": "stdout",
     "output_type": "stream",
     "text": [
      "5.368901371955872 0.35625968128442764\n",
      "iteration : 15, gp: 0.01\n",
      "torch.Size([6, 3, 1024, 1024])\n",
      "tensor(-0.1389, device='cuda:0', grad_fn=<NegBackward0>)\n",
      "-1.935836911201477 -0.13885848224163055\n"
     ]
    },
    {
     "name": "stderr",
     "output_type": "stream",
     "text": [
      "D_loss: 1.790   G_loss: 0.119:  63%|████████████████████████████████                   | 17/27 [00:04<00:02,  4.83it/s]"
     ]
    },
    {
     "name": "stdout",
     "output_type": "stream",
     "text": [
      "1.935836911201477 0.13885848224163055\n",
      "torch.Size([6, 3, 1024, 1024])\n",
      "tensor(-0.1111, device='cuda:0', grad_fn=<NegBackward0>)\n",
      "-1.702176809310913 -0.1110701784491539\n"
     ]
    },
    {
     "name": "stderr",
     "output_type": "stream",
     "text": [
      "D_loss: 1.790   G_loss: 0.119:  67%|██████████████████████████████████                 | 18/27 [00:04<00:01,  4.92it/s]"
     ]
    },
    {
     "name": "stdout",
     "output_type": "stream",
     "text": [
      "3.63801372051239 0.24992866069078445\n",
      "torch.Size([6, 3, 1024, 1024])\n",
      "tensor(-0.1097, device='cuda:0', grad_fn=<NegBackward0>)\n",
      "-2.027752161026001 -0.10967403650283813\n"
     ]
    },
    {
     "name": "stderr",
     "output_type": "stream",
     "text": [
      "D_loss: 1.889   G_loss: 0.120:  74%|█████████████████████████████████████▊             | 20/27 [00:04<00:01,  5.09it/s]"
     ]
    },
    {
     "name": "stdout",
     "output_type": "stream",
     "text": [
      "5.665765881538391 0.3596026971936226\n",
      "iteration : 18, gp: 0.02\n",
      "torch.Size([6, 3, 1024, 1024])\n",
      "tensor(-0.1387, device='cuda:0', grad_fn=<NegBackward0>)\n",
      "-1.3422296047210693 -0.13869115710258484\n",
      "1.3422296047210693 0.13869115710258484\n"
     ]
    },
    {
     "name": "stderr",
     "output_type": "stream",
     "text": [
      "D_loss: 1.889   G_loss: 0.120:  78%|███████████████████████████████████████▋           | 21/27 [00:05<00:01,  5.16it/s]"
     ]
    },
    {
     "name": "stdout",
     "output_type": "stream",
     "text": [
      "torch.Size([6, 3, 1024, 1024])\n",
      "tensor(-0.1223, device='cuda:0', grad_fn=<NegBackward0>)\n",
      "-1.975158452987671 -0.1222807988524437\n",
      "3.3173880577087402 0.26097195595502853\n",
      "torch.Size([6, 3, 1024, 1024])\n"
     ]
    },
    {
     "name": "stderr",
     "output_type": "stream",
     "text": [
      "D_loss: 1.743   G_loss: 0.112:  81%|█████████████████████████████████████████▌         | 22/27 [00:05<00:00,  5.30it/s]"
     ]
    },
    {
     "name": "stdout",
     "output_type": "stream",
     "text": [
      "tensor(-0.0762, device='cuda:0', grad_fn=<NegBackward0>)\n",
      "-1.9104019403457642 -0.07619179785251617\n",
      "5.227789998054504 0.3371637538075447\n",
      "iteration : 21, gp: 0.01\n",
      "torch.Size([6, 3, 1024, 1024])\n",
      "tensor(-0.1285, device='cuda:0', grad_fn=<NegBackward0>)\n"
     ]
    },
    {
     "name": "stderr",
     "output_type": "stream",
     "text": [
      "D_loss: 1.743   G_loss: 0.112:  89%|█████████████████████████████████████████████▎     | 24/27 [00:05<00:00,  5.46it/s]"
     ]
    },
    {
     "name": "stdout",
     "output_type": "stream",
     "text": [
      "-1.5780794620513916 -0.12848882377147675\n",
      "1.5780794620513916 0.12848882377147675\n",
      "torch.Size([6, 3, 1024, 1024])\n",
      "tensor(-0.1297, device='cuda:0', grad_fn=<NegBackward0>)\n",
      "-1.5361084938049316 -0.12967678904533386\n",
      "3.1141879558563232 0.2581656128168106\n"
     ]
    },
    {
     "name": "stderr",
     "output_type": "stream",
     "text": [
      "D_loss: 1.731   G_loss: 0.121:  93%|███████████████████████████████████████████████▏   | 25/27 [00:05<00:00,  5.44it/s]"
     ]
    },
    {
     "name": "stdout",
     "output_type": "stream",
     "text": [
      "torch.Size([6, 3, 1024, 1024])\n",
      "tensor(-0.1046, device='cuda:0', grad_fn=<NegBackward0>)\n",
      "-2.078054189682007 -0.10464662313461304\n",
      "5.19224214553833 0.36281223595142365\n",
      "iteration : 24, gp: 0.02\n",
      "torch.Size([6, 3, 1024, 1024])\n"
     ]
    },
    {
     "name": "stderr",
     "output_type": "stream",
     "text": [
      "D_loss: 1.731   G_loss: 0.121:  96%|█████████████████████████████████████████████████  | 26/27 [00:05<00:00,  5.40it/s]"
     ]
    },
    {
     "name": "stdout",
     "output_type": "stream",
     "text": [
      "tensor(-0.1500, device='cuda:0', grad_fn=<NegBackward0>)\n",
      "-1.9523249864578247 -0.14996542036533356\n",
      "1.9523249864578247 0.14996542036533356\n",
      "torch.Size([5, 3, 1024, 1024])\n",
      "tensor(-0.1191, device='cuda:0', grad_fn=<NegBackward0>)\n",
      "-1.820766806602478 -0.11912160366773605\n"
     ]
    },
    {
     "name": "stderr",
     "output_type": "stream",
     "text": [
      "D_loss: 1.731   G_loss: 0.121: 100%|███████████████████████████████████████████████████| 27/27 [00:06<00:00,  4.38it/s]"
     ]
    },
    {
     "name": "stdout",
     "output_type": "stream",
     "text": [
      "3.7730917930603027 0.2690870240330696\n"
     ]
    },
    {
     "name": "stderr",
     "output_type": "stream",
     "text": [
      "\n"
     ]
    },
    {
     "ename": "AttributeError",
     "evalue": "'G' object has no attribute 'growing_net'",
     "output_type": "error",
     "traceback": [
      "\u001b[1;31m---------------------------------------------------------------------------\u001b[0m",
      "\u001b[1;31mAttributeError\u001b[0m                            Traceback (most recent call last)",
      "\u001b[1;32m~\\AppData\\Local\\Temp/ipykernel_11456/837971383.py\u001b[0m in \u001b[0;36m<module>\u001b[1;34m\u001b[0m\n\u001b[0;32m     14\u001b[0m             \u001b[0mdata_loader\u001b[0m \u001b[1;33m=\u001b[0m \u001b[0mDataLoader\u001b[0m\u001b[1;33m(\u001b[0m\u001b[0mdataset\u001b[0m\u001b[1;33m,\u001b[0m \u001b[1;33m**\u001b[0m\u001b[0mparams\u001b[0m\u001b[1;33m)\u001b[0m\u001b[1;33m\u001b[0m\u001b[1;33m\u001b[0m\u001b[0m\n\u001b[0;32m     15\u001b[0m             \u001b[0mtot_iter_num\u001b[0m \u001b[1;33m=\u001b[0m \u001b[0mtot_iter_num\u001b[0m \u001b[1;33m=\u001b[0m \u001b[1;33m(\u001b[0m\u001b[0mlen\u001b[0m\u001b[1;33m(\u001b[0m\u001b[0mdataset\u001b[0m\u001b[1;33m)\u001b[0m\u001b[1;33m/\u001b[0m\u001b[0mbatch_size\u001b[0m\u001b[1;33m)\u001b[0m\u001b[1;33m\u001b[0m\u001b[1;33m\u001b[0m\u001b[0m\n\u001b[1;32m---> 16\u001b[1;33m             \u001b[0mGen\u001b[0m\u001b[1;33m.\u001b[0m\u001b[0mgrowing_net\u001b[0m\u001b[1;33m(\u001b[0m\u001b[0mgrowing\u001b[0m\u001b[1;33m*\u001b[0m\u001b[0mtot_iter_num\u001b[0m\u001b[1;33m)\u001b[0m\u001b[1;33m\u001b[0m\u001b[1;33m\u001b[0m\u001b[0m\n\u001b[0m\u001b[0;32m     17\u001b[0m             \u001b[0mDisc\u001b[0m\u001b[1;33m.\u001b[0m\u001b[0mgrowing_net\u001b[0m\u001b[1;33m(\u001b[0m\u001b[0mgrowing\u001b[0m\u001b[1;33m*\u001b[0m\u001b[0mtot_iter_num\u001b[0m\u001b[1;33m)\u001b[0m\u001b[1;33m\u001b[0m\u001b[1;33m\u001b[0m\u001b[0m\n\u001b[0;32m     18\u001b[0m             \u001b[0msize\u001b[0m \u001b[1;33m=\u001b[0m \u001b[1;36m2\u001b[0m\u001b[1;33m**\u001b[0m\u001b[1;33m(\u001b[0m\u001b[0mGen\u001b[0m\u001b[1;33m.\u001b[0m\u001b[0mdepth\u001b[0m\u001b[1;33m+\u001b[0m\u001b[1;36m1\u001b[0m\u001b[1;33m)\u001b[0m\u001b[1;33m\u001b[0m\u001b[1;33m\u001b[0m\u001b[0m\n",
      "\u001b[1;32m~\\anaconda3\\lib\\site-packages\\torch\\nn\\modules\\module.py\u001b[0m in \u001b[0;36m__getattr__\u001b[1;34m(self, name)\u001b[0m\n\u001b[0;32m   1175\u001b[0m             \u001b[1;32mif\u001b[0m \u001b[0mname\u001b[0m \u001b[1;32min\u001b[0m \u001b[0mmodules\u001b[0m\u001b[1;33m:\u001b[0m\u001b[1;33m\u001b[0m\u001b[1;33m\u001b[0m\u001b[0m\n\u001b[0;32m   1176\u001b[0m                 \u001b[1;32mreturn\u001b[0m \u001b[0mmodules\u001b[0m\u001b[1;33m[\u001b[0m\u001b[0mname\u001b[0m\u001b[1;33m]\u001b[0m\u001b[1;33m\u001b[0m\u001b[1;33m\u001b[0m\u001b[0m\n\u001b[1;32m-> 1177\u001b[1;33m         raise AttributeError(\"'{}' object has no attribute '{}'\".format(\n\u001b[0m\u001b[0;32m   1178\u001b[0m             type(self).__name__, name))\n\u001b[0;32m   1179\u001b[0m \u001b[1;33m\u001b[0m\u001b[0m\n",
      "\u001b[1;31mAttributeError\u001b[0m: 'G' object has no attribute 'growing_net'"
     ]
    },
    {
     "data": {
      "image/png": "[encoded data removed]",
      "text/plain": [
       "<Figure size 432x288 with 1 Axes>"
      ]
     },
     "metadata": {
      "needs_background": "light"
     },
     "output_type": "display_data"
    }
   ],
   "source": [
    "### - Train Loop - ###\n",
    "size = 2**(Gen.depth+1)\n",
    "print(\"Output Resolution: %d x %d\" % (size, size))\n",
    "for epoch in range(1+resume, epochs+1):\n",
    "    Gen.train()\n",
    "    D_epoch_loss = 0.0\n",
    "    G_epoch_loss = 0.0\n",
    "    if epoch-1 in schedule[0]:\n",
    "\n",
    "        if (2 **(Gen.depth +1) < out_res):\n",
    "            c = schedule[0].index(epoch-1)\n",
    "            batch_size = schedule[1][c]\n",
    "            growing = schedule[2][0]\n",
    "            data_loader = DataLoader(dataset, **params)\n",
    "            tot_iter_num = tot_iter_num = (len(dataset)/batch_size)\n",
    "            Gen.growing_net(growing*tot_iter_num)\n",
    "            Disc.growing_net(growing*tot_iter_num)\n",
    "            size = 2**(Gen.depth+1)\n",
    "            print(\"Output Resolution: %d x %d\" % (size, size))\n",
    "\n",
    "\t\n",
    "    print(\"epoch: %i/%i\" % (int(epoch), int(epochs)))\n",
    "    databar = tqdm(data_loader)\n",
    "    for i, samples in enumerate(databar):\n",
    "        print(samples.shape)\n",
    "        ##  update D\n",
    "        if size != out_res: #Basically need to, A Reshape, B prepare the data for the networks\n",
    "            samples = F.interpolate(samples, size=(size,size)).to(device)\n",
    "        else:\n",
    "            samples = samples.to(device)\n",
    "        Disc.zero_grad()\n",
    "        noise = T.randn(samples.size(0), latent_size, 1, 1, device=device)\n",
    "        fake = Gen(noise)\n",
    "        #out_grid = make_grid(fake, normalize=True, nrow=4, scale_each=True, padding=int(0.5*(2**Gen.depth))).permute(1,2,0)\n",
    "        #plt.imshow(out_grid.cpu())\n",
    "        fake_out = Disc(fake.detach())\n",
    "        real_out = Disc(samples)\n",
    "        ## Gradient Penalty\n",
    "        \n",
    "        eps = T.rand(samples.size(0), 1, 1, 1, device=device)\n",
    "        eps = eps.expand_as(Gen(noise))\n",
    "        x_hat = eps * samples + (1 - eps) * fake.detach()\n",
    "        x_hat.requires_grad = True\n",
    "        px_hat = Disc(x_hat)\n",
    "        grad = T.autograd.grad(\n",
    "                                    outputs = px_hat.sum(),\n",
    "                                    inputs = x_hat, \n",
    "                                    create_graph=True\n",
    "                                    )[0]\n",
    "        grad_norm = grad.view(samples.size(0), -1).norm(2, dim=1)\n",
    "        gradient_penalty = lambd * ((grad_norm  - 1)**2).mean()\n",
    "        ###########\n",
    "\n",
    "        D_loss = fake_out.mean() - real_out.mean() + gradient_penalty\n",
    "        D_loss.backward()\n",
    "        D_optimizer.step()\n",
    "\n",
    "        ##\tupdate G\n",
    "\n",
    "        Gen.zero_grad()\n",
    "        fake_out = Disc(fake)\n",
    "\n",
    "        G_loss = - fake_out.mean()\n",
    "        print(G_loss)\n",
    "        G_loss.backward()\n",
    "        G_optimizer.step()\n",
    "\n",
    "        ##############\n",
    "        print(D_loss.item(), G_loss.item())\n",
    "        D_running_loss += abs(D_loss.item())\n",
    "        G_running_loss += abs(G_loss.item())\n",
    "        print(D_running_loss,G_running_loss)\n",
    "        iter_num += 1\n",
    "        if i % 3== 0:\n",
    "            D_running_loss /= iter_num\n",
    "            G_running_loss /= iter_num\n",
    "            print('iteration : %d, gp: %.2f' % (i, gradient_penalty))\n",
    "            databar.set_description('D_loss: %.3f   G_loss: %.3f' % (D_running_loss ,G_running_loss))\n",
    "            iter_num = 0\n",
    "            D_running_loss = 0.0\n",
    "            G_running_loss = 0.0\n",
    "\n",
    "\n",
    "    D_epoch_losses.append(D_epoch_loss/tot_iter_num)\n",
    "    G_epoch_losses.append(G_epoch_loss/tot_iter_num)\n",
    "\n",
    "\n",
    "    check_point = {'G_net' : Gen.state_dict(), \n",
    "                   'G_optimizer' : G_optimizer.state_dict(),\n",
    "                   'D_net' : Disc.state_dict(),\n",
    "                   'D_optimizer' : D_optimizer.state_dict(),\n",
    "                   'D_epoch_losses' : D_epoch_losses,\n",
    "                   'G_epoch_losses' : G_epoch_losses,\n",
    "                   'fixed_noise': fixed_noise,\n",
    "                   'depth': Gen.depth,\n",
    "                   'alpha':Gen.alpha\n",
    "                   }\n",
    "    with T.no_grad():\n",
    "        Gen.eval()\n",
    "        T.save(check_point, check_point_dir + 'check_point_epoch_%d.pth' % (epoch))\n",
    "        T.save(Gen.state_dict(), weight_dir + 'G_weight_epoch_%d.pth' %(epoch))\n",
    "        out_imgs = Gen(fixed_noise).to(device)\n",
    "        out_grid = make_grid(out_imgs, normalize=True, nrow=4, scale_each=True, padding=int(0.5*(2**Gen.depth))).permute(1,2,0)\n",
    "        plt.imshow(out_grid.cpu())\n",
    "        plt.savefig(output_dir + 'size_%i_epoch_%d' %(size ,epoch))"
   ]
  },
  {
   "cell_type": "code",
   "execution_count": null,
   "id": "d02407ee-e17b-438e-80a6-32a0a18126d6",
   "metadata": {},
   "outputs": [],
   "source": []
  },
  {
   "cell_type": "code",
   "execution_count": null,
   "id": "cd26dfe1-028f-43d6-8ec6-950001e1f936",
   "metadata": {},
   "outputs": [],
   "source": []
  },
  {
   "cell_type": "code",
   "execution_count": null,
   "id": "745cf4b9-62a9-46db-a619-6909f01f2a03",
   "metadata": {},
   "outputs": [],
   "source": []
  }
 ],
 "metadata": {
  "kernelspec": {
   "display_name": "Python 3 (ipykernel)",
   "language": "python",
   "name": "python3"
  },
  "language_info": {
   "codemirror_mode": {
    "name": "ipython",
    "version": 3
   },
   "file_extension": ".py",
   "mimetype": "text/x-python",
   "name": "python",
   "nbconvert_exporter": "python",
   "pygments_lexer": "ipython3",
   "version": "3.9.7"
  }
 },
 "nbformat": 4,
 "nbformat_minor": 5
}
